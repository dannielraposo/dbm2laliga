{
 "cells": [
  {
   "cell_type": "markdown",
   "metadata": {},
   "source": [
    "# 0. Importing libraries"
   ]
  },
  {
   "cell_type": "code",
   "execution_count": 1,
   "metadata": {},
   "outputs": [],
   "source": [
    "import pandas as pd\n",
    "import numpy as np\n",
    "import matplotlib.pyplot as plt\n",
    "import plotly.express as px\n",
    "import seaborn as sns \n",
    "from sklearn.cluster import KMeans"
   ]
  },
  {
   "cell_type": "markdown",
   "metadata": {},
   "source": [
    "# 1. K-mean Clustering"
   ]
  },
  {
   "cell_type": "markdown",
   "metadata": {},
   "source": [
    "We have obtained the stats for all the players of La Liga in the season of 2018-19 in order to cluster them based on performance. We will use the K-mean algorithm in order to do so."
   ]
  },
  {
   "cell_type": "markdown",
   "metadata": {},
   "source": [
    "### 1.1 All Players Visualization"
   ]
  },
  {
   "cell_type": "markdown",
   "metadata": {},
   "source": [
    "Let's first visualize some statistics to understand and interpret the data:"
   ]
  },
  {
   "cell_type": "code",
   "execution_count": 2,
   "metadata": {},
   "outputs": [
    {
     "data": {
      "application/vnd.plotly.v1+json": {
       "config": {
        "plotlyServerURL": "https://plot.ly"
       },
       "data": [
        {
         "hovertemplate": "Assists=%{x}<br>goals_scored=%{y}<extra></extra>",
         "legendgroup": "",
         "marker": {
          "color": "#636efa",
          "symbol": "circle"
         },
         "mode": "markers",
         "name": "",
         "orientation": "v",
         "showlegend": false,
         "type": "scatter",
         "x": [
          0,
          0,
          1,
          0,
          0,
          0,
          0,
          0,
          2,
          0,
          0,
          0,
          2,
          0,
          5,
          2,
          0,
          0,
          2,
          4,
          0,
          3,
          0,
          0,
          0,
          0,
          4,
          4,
          0,
          0,
          0,
          0,
          1,
          2,
          1,
          2,
          0,
          2,
          0,
          0,
          0,
          0,
          0,
          4,
          4,
          1,
          1,
          0,
          0,
          0,
          0,
          0,
          0,
          0,
          9,
          0,
          2,
          3,
          2,
          1,
          1,
          0,
          0,
          0,
          0,
          1,
          1,
          0,
          6,
          1,
          0,
          0,
          0,
          0,
          0,
          3,
          1,
          0,
          0,
          0,
          0,
          0,
          1,
          0,
          2,
          1,
          0,
          0,
          3,
          5,
          0,
          0,
          0,
          0,
          0,
          0,
          2,
          2,
          2,
          0,
          0,
          0,
          0,
          0,
          1,
          1,
          1,
          10,
          0,
          0,
          0,
          1,
          2,
          0,
          1,
          0,
          0,
          0,
          0,
          0,
          0,
          2,
          0,
          0,
          8,
          7,
          1,
          0,
          0,
          0,
          5,
          1,
          2,
          1,
          0,
          0,
          7,
          6,
          13,
          5,
          2,
          0,
          0,
          0,
          0,
          0,
          3,
          1,
          0,
          1,
          0,
          3,
          2,
          0,
          0,
          4,
          0,
          0,
          2,
          0,
          2,
          0,
          0,
          6,
          3,
          5,
          0,
          0,
          0,
          1,
          0,
          0,
          1,
          2,
          1,
          0,
          0,
          1,
          0,
          0,
          0,
          0,
          4,
          2,
          3,
          0,
          0,
          1,
          4,
          1,
          0,
          0,
          2,
          0,
          0,
          0,
          0,
          0,
          0,
          2,
          0,
          0,
          0,
          1,
          1,
          0,
          1,
          2,
          0,
          4,
          5,
          5,
          1,
          5,
          9,
          0,
          0,
          2,
          1,
          0,
          1,
          0,
          0,
          0,
          0,
          0,
          0,
          0,
          1,
          3,
          0,
          0,
          0,
          1,
          0,
          0,
          0,
          4,
          0,
          2,
          2,
          2,
          0,
          1,
          0,
          0,
          0,
          3,
          1,
          0,
          0,
          0,
          0,
          0,
          0,
          1,
          0,
          1,
          0,
          3,
          2,
          0,
          0,
          0,
          0,
          1,
          0,
          0,
          0,
          0,
          1,
          1,
          0,
          2,
          0,
          0,
          0,
          0,
          4,
          1,
          6,
          0,
          1,
          0,
          0,
          0,
          0,
          2,
          4,
          0,
          0,
          0,
          3,
          0,
          0,
          0,
          0,
          0,
          0,
          1,
          3,
          0,
          3,
          0,
          7,
          2,
          5,
          6,
          1,
          0,
          0,
          0,
          1,
          0,
          1,
          2,
          0,
          0,
          0,
          0,
          0,
          0,
          2,
          2,
          5,
          0,
          0,
          2,
          1,
          0,
          0,
          3,
          1,
          2,
          0,
          0,
          1,
          0,
          0,
          0,
          1,
          1,
          0,
          0,
          0,
          4,
          1,
          0,
          0,
          0,
          0,
          2,
          6,
          5,
          0,
          4,
          4,
          1,
          0,
          0,
          0,
          0,
          0,
          0,
          1,
          0,
          0,
          0,
          0,
          0,
          0,
          2,
          0,
          1,
          0,
          1,
          2,
          2,
          2,
          0,
          0,
          4,
          6,
          0,
          0,
          0,
          4,
          1,
          2,
          0,
          0,
          0,
          0,
          0,
          6,
          3,
          3,
          0,
          0,
          0,
          0,
          2,
          0,
          0,
          0,
          0,
          2,
          0,
          0,
          1,
          0,
          0,
          0,
          1,
          1,
          3,
          2,
          0,
          0,
          3,
          0,
          0,
          0,
          0,
          0,
          2,
          2,
          3,
          5,
          0,
          0,
          0,
          0,
          0,
          1,
          0,
          0,
          1,
          2,
          2,
          1,
          0,
          1,
          2,
          5,
          0,
          0,
          0,
          4,
          0,
          1,
          4,
          0,
          1,
          0,
          0,
          0,
          0,
          0,
          0,
          3,
          0,
          0,
          0,
          0,
          0,
          7,
          3,
          1,
          0,
          1,
          2,
          0,
          2,
          0,
          0,
          3,
          2,
          1,
          0,
          0,
          0,
          0,
          0,
          1,
          0,
          1,
          0,
          0,
          1,
          0,
          2,
          4,
          0,
          0,
          5,
          13,
          0,
          4,
          1,
          0,
          9,
          0,
          2,
          3,
          0,
          0,
          0,
          1,
          0,
          1,
          0,
          0,
          0,
          0,
          1,
          3,
          6,
          7,
          2,
          0,
          1,
          3,
          0,
          1,
          6,
          1,
          5,
          1,
          0,
          0,
          0,
          0,
          2,
          2,
          1,
          0,
          0,
          0,
          0,
          3,
          1,
          3,
          1,
          0,
          3,
          0,
          10,
          0,
          1,
          2,
          0,
          0,
          1,
          1,
          1,
          0,
          0,
          0,
          0,
          0,
          0,
          0,
          0,
          0,
          0
         ],
         "xaxis": "x",
         "y": [
          0,
          0,
          0,
          0,
          0,
          0,
          0,
          2,
          0,
          0,
          1,
          0,
          0,
          1,
          0,
          0,
          1,
          3,
          0,
          9,
          0,
          0,
          2,
          1,
          13,
          7,
          2,
          2,
          0,
          0,
          4,
          2,
          1,
          0,
          0,
          0,
          1,
          0,
          0,
          0,
          0,
          3,
          3,
          5,
          8,
          3,
          0,
          0,
          1,
          0,
          0,
          1,
          0,
          15,
          2,
          3,
          3,
          1,
          6,
          0,
          0,
          0,
          0,
          0,
          1,
          0,
          0,
          3,
          1,
          0,
          0,
          0,
          1,
          0,
          4,
          1,
          0,
          4,
          0,
          0,
          0,
          1,
          0,
          6,
          0,
          0,
          1,
          4,
          10,
          0,
          0,
          0,
          0,
          0,
          0,
          0,
          2,
          2,
          2,
          0,
          0,
          2,
          2,
          2,
          0,
          1,
          5,
          0,
          0,
          0,
          3,
          2,
          9,
          1,
          5,
          0,
          0,
          0,
          0,
          0,
          1,
          4,
          0,
          2,
          2,
          0,
          0,
          0,
          0,
          0,
          0,
          3,
          0,
          5,
          0,
          0,
          2,
          3,
          21,
          36,
          8,
          1,
          0,
          0,
          0,
          0,
          0,
          1,
          0,
          3,
          0,
          0,
          0,
          3,
          0,
          0,
          1,
          0,
          1,
          0,
          0,
          2,
          1,
          0,
          0,
          0,
          14,
          8,
          14,
          1,
          1,
          0,
          1,
          1,
          0,
          2,
          1,
          0,
          0,
          0,
          0,
          0,
          0,
          0,
          1,
          1,
          0,
          0,
          2,
          0,
          0,
          0,
          19,
          9,
          0,
          2,
          0,
          4,
          0,
          0,
          2,
          2,
          2,
          0,
          2,
          1,
          2,
          0,
          0,
          0,
          0,
          3,
          12,
          4,
          0,
          2,
          4,
          0,
          0,
          3,
          1,
          13,
          1,
          0,
          0,
          2,
          0,
          0,
          1,
          0,
          2,
          1,
          0,
          0,
          0,
          0,
          0,
          1,
          0,
          3,
          2,
          3,
          2,
          1,
          1,
          2,
          0,
          0,
          0,
          2,
          6,
          3,
          0,
          0,
          0,
          0,
          0,
          0,
          1,
          0,
          1,
          0,
          1,
          1,
          0,
          0,
          0,
          3,
          0,
          1,
          1,
          1,
          2,
          4,
          3,
          0,
          0,
          0,
          1,
          0,
          14,
          5,
          0,
          0,
          0,
          1,
          0,
          0,
          0,
          0,
          1,
          0,
          3,
          0,
          0,
          0,
          1,
          2,
          0,
          1,
          0,
          0,
          0,
          3,
          0,
          6,
          1,
          13,
          20,
          2,
          0,
          0,
          0,
          0,
          1,
          1,
          3,
          0,
          0,
          3,
          1,
          0,
          0,
          4,
          0,
          1,
          0,
          1,
          3,
          0,
          0,
          17,
          2,
          1,
          1,
          0,
          3,
          2,
          1,
          0,
          0,
          0,
          0,
          1,
          1,
          1,
          0,
          3,
          1,
          0,
          0,
          0,
          7,
          4,
          0,
          6,
          0,
          9,
          0,
          0,
          0,
          0,
          0,
          0,
          0,
          0,
          0,
          3,
          6,
          2,
          0,
          0,
          0,
          1,
          1,
          6,
          2,
          0,
          2,
          0,
          0,
          0,
          0,
          0,
          3,
          3,
          0,
          0,
          1,
          1,
          3,
          3,
          0,
          0,
          0,
          3,
          21,
          8,
          1,
          2,
          0,
          0,
          1,
          1,
          1,
          1,
          0,
          1,
          0,
          0,
          0,
          0,
          0,
          1,
          0,
          3,
          1,
          0,
          2,
          1,
          0,
          0,
          1,
          0,
          0,
          5,
          14,
          1,
          11,
          1,
          0,
          0,
          0,
          0,
          0,
          0,
          1,
          1,
          1,
          1,
          0,
          4,
          0,
          1,
          1,
          3,
          2,
          1,
          0,
          4,
          0,
          3,
          7,
          3,
          14,
          0,
          0,
          0,
          3,
          5,
          0,
          4,
          0,
          0,
          0,
          1,
          0,
          0,
          0,
          2,
          1,
          2,
          0,
          4,
          0,
          0,
          2,
          0,
          0,
          3,
          10,
          5,
          3,
          1,
          0,
          0,
          0,
          0,
          0,
          1,
          0,
          0,
          0,
          0,
          2,
          0,
          2,
          3,
          0,
          0,
          1,
          12,
          0,
          3,
          1,
          0,
          1,
          18,
          9,
          6,
          2,
          0,
          0,
          0,
          0,
          2,
          0,
          0,
          1,
          2,
          0,
          1,
          5,
          3,
          9,
          2,
          0,
          0,
          2,
          0,
          6,
          0,
          1,
          2,
          7,
          0,
          0,
          0,
          0,
          1,
          1,
          3,
          0,
          1,
          0,
          1,
          0,
          0,
          0,
          0,
          2,
          3,
          0,
          3,
          0,
          4,
          0,
          0,
          5,
          0,
          0,
          0,
          8,
          6,
          10,
          1
         ],
         "yaxis": "y"
        }
       ],
       "layout": {
        "legend": {
         "tracegroupgap": 0
        },
        "template": {
         "data": {
          "bar": [
           {
            "error_x": {
             "color": "#2a3f5f"
            },
            "error_y": {
             "color": "#2a3f5f"
            },
            "marker": {
             "line": {
              "color": "#E5ECF6",
              "width": 0.5
             },
             "pattern": {
              "fillmode": "overlay",
              "size": 10,
              "solidity": 0.2
             }
            },
            "type": "bar"
           }
          ],
          "barpolar": [
           {
            "marker": {
             "line": {
              "color": "#E5ECF6",
              "width": 0.5
             },
             "pattern": {
              "fillmode": "overlay",
              "size": 10,
              "solidity": 0.2
             }
            },
            "type": "barpolar"
           }
          ],
          "carpet": [
           {
            "aaxis": {
             "endlinecolor": "#2a3f5f",
             "gridcolor": "white",
             "linecolor": "white",
             "minorgridcolor": "white",
             "startlinecolor": "#2a3f5f"
            },
            "baxis": {
             "endlinecolor": "#2a3f5f",
             "gridcolor": "white",
             "linecolor": "white",
             "minorgridcolor": "white",
             "startlinecolor": "#2a3f5f"
            },
            "type": "carpet"
           }
          ],
          "choropleth": [
           {
            "colorbar": {
             "outlinewidth": 0,
             "ticks": ""
            },
            "type": "choropleth"
           }
          ],
          "contour": [
           {
            "colorbar": {
             "outlinewidth": 0,
             "ticks": ""
            },
            "colorscale": [
             [
              0,
              "#0d0887"
             ],
             [
              0.1111111111111111,
              "#46039f"
             ],
             [
              0.2222222222222222,
              "#7201a8"
             ],
             [
              0.3333333333333333,
              "#9c179e"
             ],
             [
              0.4444444444444444,
              "#bd3786"
             ],
             [
              0.5555555555555556,
              "#d8576b"
             ],
             [
              0.6666666666666666,
              "#ed7953"
             ],
             [
              0.7777777777777778,
              "#fb9f3a"
             ],
             [
              0.8888888888888888,
              "#fdca26"
             ],
             [
              1,
              "#f0f921"
             ]
            ],
            "type": "contour"
           }
          ],
          "contourcarpet": [
           {
            "colorbar": {
             "outlinewidth": 0,
             "ticks": ""
            },
            "type": "contourcarpet"
           }
          ],
          "heatmap": [
           {
            "colorbar": {
             "outlinewidth": 0,
             "ticks": ""
            },
            "colorscale": [
             [
              0,
              "#0d0887"
             ],
             [
              0.1111111111111111,
              "#46039f"
             ],
             [
              0.2222222222222222,
              "#7201a8"
             ],
             [
              0.3333333333333333,
              "#9c179e"
             ],
             [
              0.4444444444444444,
              "#bd3786"
             ],
             [
              0.5555555555555556,
              "#d8576b"
             ],
             [
              0.6666666666666666,
              "#ed7953"
             ],
             [
              0.7777777777777778,
              "#fb9f3a"
             ],
             [
              0.8888888888888888,
              "#fdca26"
             ],
             [
              1,
              "#f0f921"
             ]
            ],
            "type": "heatmap"
           }
          ],
          "heatmapgl": [
           {
            "colorbar": {
             "outlinewidth": 0,
             "ticks": ""
            },
            "colorscale": [
             [
              0,
              "#0d0887"
             ],
             [
              0.1111111111111111,
              "#46039f"
             ],
             [
              0.2222222222222222,
              "#7201a8"
             ],
             [
              0.3333333333333333,
              "#9c179e"
             ],
             [
              0.4444444444444444,
              "#bd3786"
             ],
             [
              0.5555555555555556,
              "#d8576b"
             ],
             [
              0.6666666666666666,
              "#ed7953"
             ],
             [
              0.7777777777777778,
              "#fb9f3a"
             ],
             [
              0.8888888888888888,
              "#fdca26"
             ],
             [
              1,
              "#f0f921"
             ]
            ],
            "type": "heatmapgl"
           }
          ],
          "histogram": [
           {
            "marker": {
             "pattern": {
              "fillmode": "overlay",
              "size": 10,
              "solidity": 0.2
             }
            },
            "type": "histogram"
           }
          ],
          "histogram2d": [
           {
            "colorbar": {
             "outlinewidth": 0,
             "ticks": ""
            },
            "colorscale": [
             [
              0,
              "#0d0887"
             ],
             [
              0.1111111111111111,
              "#46039f"
             ],
             [
              0.2222222222222222,
              "#7201a8"
             ],
             [
              0.3333333333333333,
              "#9c179e"
             ],
             [
              0.4444444444444444,
              "#bd3786"
             ],
             [
              0.5555555555555556,
              "#d8576b"
             ],
             [
              0.6666666666666666,
              "#ed7953"
             ],
             [
              0.7777777777777778,
              "#fb9f3a"
             ],
             [
              0.8888888888888888,
              "#fdca26"
             ],
             [
              1,
              "#f0f921"
             ]
            ],
            "type": "histogram2d"
           }
          ],
          "histogram2dcontour": [
           {
            "colorbar": {
             "outlinewidth": 0,
             "ticks": ""
            },
            "colorscale": [
             [
              0,
              "#0d0887"
             ],
             [
              0.1111111111111111,
              "#46039f"
             ],
             [
              0.2222222222222222,
              "#7201a8"
             ],
             [
              0.3333333333333333,
              "#9c179e"
             ],
             [
              0.4444444444444444,
              "#bd3786"
             ],
             [
              0.5555555555555556,
              "#d8576b"
             ],
             [
              0.6666666666666666,
              "#ed7953"
             ],
             [
              0.7777777777777778,
              "#fb9f3a"
             ],
             [
              0.8888888888888888,
              "#fdca26"
             ],
             [
              1,
              "#f0f921"
             ]
            ],
            "type": "histogram2dcontour"
           }
          ],
          "mesh3d": [
           {
            "colorbar": {
             "outlinewidth": 0,
             "ticks": ""
            },
            "type": "mesh3d"
           }
          ],
          "parcoords": [
           {
            "line": {
             "colorbar": {
              "outlinewidth": 0,
              "ticks": ""
             }
            },
            "type": "parcoords"
           }
          ],
          "pie": [
           {
            "automargin": true,
            "type": "pie"
           }
          ],
          "scatter": [
           {
            "fillpattern": {
             "fillmode": "overlay",
             "size": 10,
             "solidity": 0.2
            },
            "type": "scatter"
           }
          ],
          "scatter3d": [
           {
            "line": {
             "colorbar": {
              "outlinewidth": 0,
              "ticks": ""
             }
            },
            "marker": {
             "colorbar": {
              "outlinewidth": 0,
              "ticks": ""
             }
            },
            "type": "scatter3d"
           }
          ],
          "scattercarpet": [
           {
            "marker": {
             "colorbar": {
              "outlinewidth": 0,
              "ticks": ""
             }
            },
            "type": "scattercarpet"
           }
          ],
          "scattergeo": [
           {
            "marker": {
             "colorbar": {
              "outlinewidth": 0,
              "ticks": ""
             }
            },
            "type": "scattergeo"
           }
          ],
          "scattergl": [
           {
            "marker": {
             "colorbar": {
              "outlinewidth": 0,
              "ticks": ""
             }
            },
            "type": "scattergl"
           }
          ],
          "scattermapbox": [
           {
            "marker": {
             "colorbar": {
              "outlinewidth": 0,
              "ticks": ""
             }
            },
            "type": "scattermapbox"
           }
          ],
          "scatterpolar": [
           {
            "marker": {
             "colorbar": {
              "outlinewidth": 0,
              "ticks": ""
             }
            },
            "type": "scatterpolar"
           }
          ],
          "scatterpolargl": [
           {
            "marker": {
             "colorbar": {
              "outlinewidth": 0,
              "ticks": ""
             }
            },
            "type": "scatterpolargl"
           }
          ],
          "scatterternary": [
           {
            "marker": {
             "colorbar": {
              "outlinewidth": 0,
              "ticks": ""
             }
            },
            "type": "scatterternary"
           }
          ],
          "surface": [
           {
            "colorbar": {
             "outlinewidth": 0,
             "ticks": ""
            },
            "colorscale": [
             [
              0,
              "#0d0887"
             ],
             [
              0.1111111111111111,
              "#46039f"
             ],
             [
              0.2222222222222222,
              "#7201a8"
             ],
             [
              0.3333333333333333,
              "#9c179e"
             ],
             [
              0.4444444444444444,
              "#bd3786"
             ],
             [
              0.5555555555555556,
              "#d8576b"
             ],
             [
              0.6666666666666666,
              "#ed7953"
             ],
             [
              0.7777777777777778,
              "#fb9f3a"
             ],
             [
              0.8888888888888888,
              "#fdca26"
             ],
             [
              1,
              "#f0f921"
             ]
            ],
            "type": "surface"
           }
          ],
          "table": [
           {
            "cells": {
             "fill": {
              "color": "#EBF0F8"
             },
             "line": {
              "color": "white"
             }
            },
            "header": {
             "fill": {
              "color": "#C8D4E3"
             },
             "line": {
              "color": "white"
             }
            },
            "type": "table"
           }
          ]
         },
         "layout": {
          "annotationdefaults": {
           "arrowcolor": "#2a3f5f",
           "arrowhead": 0,
           "arrowwidth": 1
          },
          "autotypenumbers": "strict",
          "coloraxis": {
           "colorbar": {
            "outlinewidth": 0,
            "ticks": ""
           }
          },
          "colorscale": {
           "diverging": [
            [
             0,
             "#8e0152"
            ],
            [
             0.1,
             "#c51b7d"
            ],
            [
             0.2,
             "#de77ae"
            ],
            [
             0.3,
             "#f1b6da"
            ],
            [
             0.4,
             "#fde0ef"
            ],
            [
             0.5,
             "#f7f7f7"
            ],
            [
             0.6,
             "#e6f5d0"
            ],
            [
             0.7,
             "#b8e186"
            ],
            [
             0.8,
             "#7fbc41"
            ],
            [
             0.9,
             "#4d9221"
            ],
            [
             1,
             "#276419"
            ]
           ],
           "sequential": [
            [
             0,
             "#0d0887"
            ],
            [
             0.1111111111111111,
             "#46039f"
            ],
            [
             0.2222222222222222,
             "#7201a8"
            ],
            [
             0.3333333333333333,
             "#9c179e"
            ],
            [
             0.4444444444444444,
             "#bd3786"
            ],
            [
             0.5555555555555556,
             "#d8576b"
            ],
            [
             0.6666666666666666,
             "#ed7953"
            ],
            [
             0.7777777777777778,
             "#fb9f3a"
            ],
            [
             0.8888888888888888,
             "#fdca26"
            ],
            [
             1,
             "#f0f921"
            ]
           ],
           "sequentialminus": [
            [
             0,
             "#0d0887"
            ],
            [
             0.1111111111111111,
             "#46039f"
            ],
            [
             0.2222222222222222,
             "#7201a8"
            ],
            [
             0.3333333333333333,
             "#9c179e"
            ],
            [
             0.4444444444444444,
             "#bd3786"
            ],
            [
             0.5555555555555556,
             "#d8576b"
            ],
            [
             0.6666666666666666,
             "#ed7953"
            ],
            [
             0.7777777777777778,
             "#fb9f3a"
            ],
            [
             0.8888888888888888,
             "#fdca26"
            ],
            [
             1,
             "#f0f921"
            ]
           ]
          },
          "colorway": [
           "#636efa",
           "#EF553B",
           "#00cc96",
           "#ab63fa",
           "#FFA15A",
           "#19d3f3",
           "#FF6692",
           "#B6E880",
           "#FF97FF",
           "#FECB52"
          ],
          "font": {
           "color": "#2a3f5f"
          },
          "geo": {
           "bgcolor": "white",
           "lakecolor": "white",
           "landcolor": "#E5ECF6",
           "showlakes": true,
           "showland": true,
           "subunitcolor": "white"
          },
          "hoverlabel": {
           "align": "left"
          },
          "hovermode": "closest",
          "mapbox": {
           "style": "light"
          },
          "paper_bgcolor": "white",
          "plot_bgcolor": "#E5ECF6",
          "polar": {
           "angularaxis": {
            "gridcolor": "white",
            "linecolor": "white",
            "ticks": ""
           },
           "bgcolor": "#E5ECF6",
           "radialaxis": {
            "gridcolor": "white",
            "linecolor": "white",
            "ticks": ""
           }
          },
          "scene": {
           "xaxis": {
            "backgroundcolor": "#E5ECF6",
            "gridcolor": "white",
            "gridwidth": 2,
            "linecolor": "white",
            "showbackground": true,
            "ticks": "",
            "zerolinecolor": "white"
           },
           "yaxis": {
            "backgroundcolor": "#E5ECF6",
            "gridcolor": "white",
            "gridwidth": 2,
            "linecolor": "white",
            "showbackground": true,
            "ticks": "",
            "zerolinecolor": "white"
           },
           "zaxis": {
            "backgroundcolor": "#E5ECF6",
            "gridcolor": "white",
            "gridwidth": 2,
            "linecolor": "white",
            "showbackground": true,
            "ticks": "",
            "zerolinecolor": "white"
           }
          },
          "shapedefaults": {
           "line": {
            "color": "#2a3f5f"
           }
          },
          "ternary": {
           "aaxis": {
            "gridcolor": "white",
            "linecolor": "white",
            "ticks": ""
           },
           "baxis": {
            "gridcolor": "white",
            "linecolor": "white",
            "ticks": ""
           },
           "bgcolor": "#E5ECF6",
           "caxis": {
            "gridcolor": "white",
            "linecolor": "white",
            "ticks": ""
           }
          },
          "title": {
           "x": 0.05
          },
          "xaxis": {
           "automargin": true,
           "gridcolor": "white",
           "linecolor": "white",
           "ticks": "",
           "title": {
            "standoff": 15
           },
           "zerolinecolor": "white",
           "zerolinewidth": 2
          },
          "yaxis": {
           "automargin": true,
           "gridcolor": "white",
           "linecolor": "white",
           "ticks": "",
           "title": {
            "standoff": 15
           },
           "zerolinecolor": "white",
           "zerolinewidth": 2
          }
         }
        },
        "title": {
         "text": "Goals Vs Assists"
        },
        "xaxis": {
         "anchor": "y",
         "domain": [
          0,
          1
         ],
         "title": {
          "text": "Assists"
         }
        },
        "yaxis": {
         "anchor": "x",
         "domain": [
          0,
          1
         ],
         "title": {
          "text": "goals_scored"
         }
        }
       }
      }
     },
     "metadata": {},
     "output_type": "display_data"
    }
   ],
   "source": [
    "#We read the goals table\n",
    "goals = pd.read_csv('datacsv/goal.csv')\n",
    "player_sts = pd.read_csv('datacsv/player_stats.csv')\n",
    "player_sts[\"goals_scored\"] = 0\n",
    "for goal_index, goal_row in goals.iterrows():\n",
    "    pindex = player_sts.loc[player_sts['player_name'] == goal_row.player_name].index\n",
    "    player_sts.at[pindex[0],'goals_scored'] +=1\n",
    "\n",
    "fig = px.scatter(player_sts,x=\"Assists\",y=\"goals_scored\",title=\"Goals Vs Assists\")\n",
    "fig.show()"
   ]
  },
  {
   "cell_type": "markdown",
   "metadata": {},
   "source": [
    "Let's put some names to this distribution of players and also visualize the goals and assists distribution:"
   ]
  },
  {
   "cell_type": "code",
   "execution_count": 3,
   "metadata": {},
   "outputs": [
    {
     "data": {
      "application/vnd.plotly.v1+json": {
       "config": {
        "plotlyServerURL": "https://plot.ly"
       },
       "data": [
        {
         "hovertemplate": "player_name=%{text}<br>Assists=%{x}<br>goals_scored=%{y}<extra></extra>",
         "legendgroup": "A. Remiro",
         "marker": {
          "color": "#636efa",
          "symbol": "circle"
         },
         "mode": "markers+text",
         "name": "A. Remiro",
         "orientation": "v",
         "showlegend": true,
         "text": [
          "A. Remiro"
         ],
         "textposition": "top center",
         "type": "scatter",
         "x": [
          0
         ],
         "xaxis": "x",
         "y": [
          0
         ],
         "yaxis": "y"
        },
        {
         "hovertemplate": "player_name=%{text}<br>Assists=%{x}<br>goals_scored=%{y}<extra></extra>",
         "legendgroup": "Iago Herrerín",
         "marker": {
          "color": "#EF553B",
          "symbol": "circle"
         },
         "mode": "markers+text",
         "name": "Iago Herrerín",
         "orientation": "v",
         "showlegend": true,
         "text": [
          "Iago Herrerín"
         ],
         "textposition": "top center",
         "type": "scatter",
         "x": [
          0
         ],
         "xaxis": "x",
         "y": [
          0
         ],
         "yaxis": "y"
        },
        {
         "hovertemplate": "player_name=%{text}<br>Assists=%{x}<br>goals_scored=%{y}<extra></extra>",
         "legendgroup": "Unai Simón",
         "marker": {
          "color": "#00cc96",
          "symbol": "circle"
         },
         "mode": "markers+text",
         "name": "Unai Simón",
         "orientation": "v",
         "showlegend": true,
         "text": [
          "Unai Simón"
         ],
         "textposition": "top center",
         "type": "scatter",
         "x": [
          1
         ],
         "xaxis": "x",
         "y": [
          0
         ],
         "yaxis": "y"
        },
        {
         "hovertemplate": "player_name=%{text}<br>Assists=%{x}<br>goals_scored=%{y}<extra></extra>",
         "legendgroup": "Unai Nuñez",
         "marker": {
          "color": "#ab63fa",
          "symbol": "circle"
         },
         "mode": "markers+text",
         "name": "Unai Nuñez",
         "orientation": "v",
         "showlegend": true,
         "text": [
          "Unai Nuñez"
         ],
         "textposition": "top center",
         "type": "scatter",
         "x": [
          0
         ],
         "xaxis": "x",
         "y": [
          0
         ],
         "yaxis": "y"
        },
        {
         "hovertemplate": "player_name=%{text}<br>Assists=%{x}<br>goals_scored=%{y}<extra></extra>",
         "legendgroup": "Iñigo Martínez",
         "marker": {
          "color": "#FFA15A",
          "symbol": "circle"
         },
         "mode": "markers+text",
         "name": "Iñigo Martínez",
         "orientation": "v",
         "showlegend": true,
         "text": [
          "Iñigo Martínez"
         ],
         "textposition": "top center",
         "type": "scatter",
         "x": [
          0
         ],
         "xaxis": "x",
         "y": [
          0
         ],
         "yaxis": "y"
        },
        {
         "hovertemplate": "player_name=%{text}<br>Assists=%{x}<br>goals_scored=%{y}<extra></extra>",
         "legendgroup": "Yeray Álvarez",
         "marker": {
          "color": "#19d3f3",
          "symbol": "circle"
         },
         "mode": "markers+text",
         "name": "Yeray Álvarez",
         "orientation": "v",
         "showlegend": true,
         "text": [
          "Yeray Álvarez"
         ],
         "textposition": "top center",
         "type": "scatter",
         "x": [
          0
         ],
         "xaxis": "x",
         "y": [
          0
         ],
         "yaxis": "y"
        },
        {
         "hovertemplate": "player_name=%{text}<br>Assists=%{x}<br>goals_scored=%{y}<extra></extra>",
         "legendgroup": "Mikel San José",
         "marker": {
          "color": "#FF6692",
          "symbol": "circle"
         },
         "mode": "markers+text",
         "name": "Mikel San José",
         "orientation": "v",
         "showlegend": true,
         "text": [
          "Mikel San José"
         ],
         "textposition": "top center",
         "type": "scatter",
         "x": [
          0
         ],
         "xaxis": "x",
         "y": [
          0
         ],
         "yaxis": "y"
        },
        {
         "hovertemplate": "player_name=%{text}<br>Assists=%{x}<br>goals_scored=%{y}<extra></extra>",
         "legendgroup": "Yuri Berchiche",
         "marker": {
          "color": "#B6E880",
          "symbol": "circle"
         },
         "mode": "markers+text",
         "name": "Yuri Berchiche",
         "orientation": "v",
         "showlegend": true,
         "text": [
          "Yuri Berchiche"
         ],
         "textposition": "top center",
         "type": "scatter",
         "x": [
          0
         ],
         "xaxis": "x",
         "y": [
          2
         ],
         "yaxis": "y"
        },
        {
         "hovertemplate": "player_name=%{text}<br>Assists=%{x}<br>goals_scored=%{y}<extra></extra>",
         "legendgroup": "Iñigo Lekue",
         "marker": {
          "color": "#FF97FF",
          "symbol": "circle"
         },
         "mode": "markers+text",
         "name": "Iñigo Lekue",
         "orientation": "v",
         "showlegend": true,
         "text": [
          "Iñigo Lekue"
         ],
         "textposition": "top center",
         "type": "scatter",
         "x": [
          2
         ],
         "xaxis": "x",
         "y": [
          0
         ],
         "yaxis": "y"
        },
        {
         "hovertemplate": "player_name=%{text}<br>Assists=%{x}<br>goals_scored=%{y}<extra></extra>",
         "legendgroup": "Mikel Balenziaga",
         "marker": {
          "color": "#FECB52",
          "symbol": "circle"
         },
         "mode": "markers+text",
         "name": "Mikel Balenziaga",
         "orientation": "v",
         "showlegend": true,
         "text": [
          "Mikel Balenziaga"
         ],
         "textposition": "top center",
         "type": "scatter",
         "x": [
          0
         ],
         "xaxis": "x",
         "y": [
          0
         ],
         "yaxis": "y"
        },
        {
         "hovertemplate": "player_name=%{text}<br>Assists=%{x}<br>goals_scored=%{y}<extra></extra>",
         "legendgroup": "Beñat Etxebarria",
         "marker": {
          "color": "#636efa",
          "symbol": "circle"
         },
         "mode": "markers+text",
         "name": "Beñat Etxebarria",
         "orientation": "v",
         "showlegend": true,
         "text": [
          "Beñat Etxebarria"
         ],
         "textposition": "top center",
         "type": "scatter",
         "x": [
          0
         ],
         "xaxis": "x",
         "y": [
          1
         ],
         "yaxis": "y"
        },
        {
         "hovertemplate": "player_name=%{text}<br>Assists=%{x}<br>goals_scored=%{y}<extra></extra>",
         "legendgroup": "Ander Iturraspe",
         "marker": {
          "color": "#EF553B",
          "symbol": "circle"
         },
         "mode": "markers+text",
         "name": "Ander Iturraspe",
         "orientation": "v",
         "showlegend": true,
         "text": [
          "Ander Iturraspe"
         ],
         "textposition": "top center",
         "type": "scatter",
         "x": [
          0
         ],
         "xaxis": "x",
         "y": [
          0
         ],
         "yaxis": "y"
        },
        {
         "hovertemplate": "player_name=%{text}<br>Assists=%{x}<br>goals_scored=%{y}<extra></extra>",
         "legendgroup": "Iñigo Córdoba",
         "marker": {
          "color": "#00cc96",
          "symbol": "circle"
         },
         "mode": "markers+text",
         "name": "Iñigo Córdoba",
         "orientation": "v",
         "showlegend": true,
         "text": [
          "Iñigo Córdoba"
         ],
         "textposition": "top center",
         "type": "scatter",
         "x": [
          2
         ],
         "xaxis": "x",
         "y": [
          0
         ],
         "yaxis": "y"
        },
        {
         "hovertemplate": "player_name=%{text}<br>Assists=%{x}<br>goals_scored=%{y}<extra></extra>",
         "legendgroup": "Markel Susaeta",
         "marker": {
          "color": "#ab63fa",
          "symbol": "circle"
         },
         "mode": "markers+text",
         "name": "Markel Susaeta",
         "orientation": "v",
         "showlegend": true,
         "text": [
          "Markel Susaeta"
         ],
         "textposition": "top center",
         "type": "scatter",
         "x": [
          0
         ],
         "xaxis": "x",
         "y": [
          1
         ],
         "yaxis": "y"
        },
        {
         "hovertemplate": "player_name=%{text}<br>Assists=%{x}<br>goals_scored=%{y}<extra></extra>",
         "legendgroup": "Dani García",
         "marker": {
          "color": "#FFA15A",
          "symbol": "circle"
         },
         "mode": "markers+text",
         "name": "Dani García",
         "orientation": "v",
         "showlegend": true,
         "text": [
          "Dani García"
         ],
         "textposition": "top center",
         "type": "scatter",
         "x": [
          5
         ],
         "xaxis": "x",
         "y": [
          0
         ],
         "yaxis": "y"
        },
        {
         "hovertemplate": "player_name=%{text}<br>Assists=%{x}<br>goals_scored=%{y}<extra></extra>",
         "legendgroup": "Mikel Rico",
         "marker": {
          "color": "#19d3f3",
          "symbol": "circle"
         },
         "mode": "markers+text",
         "name": "Mikel Rico",
         "orientation": "v",
         "showlegend": true,
         "text": [
          "Mikel Rico"
         ],
         "textposition": "top center",
         "type": "scatter",
         "x": [
          2
         ],
         "xaxis": "x",
         "y": [
          0
         ],
         "yaxis": "y"
        },
        {
         "hovertemplate": "player_name=%{text}<br>Assists=%{x}<br>goals_scored=%{y}<extra></extra>",
         "legendgroup": "Óscar De Marcos",
         "marker": {
          "color": "#FF6692",
          "symbol": "circle"
         },
         "mode": "markers+text",
         "name": "Óscar De Marcos",
         "orientation": "v",
         "showlegend": true,
         "text": [
          "Óscar De Marcos"
         ],
         "textposition": "top center",
         "type": "scatter",
         "x": [
          0
         ],
         "xaxis": "x",
         "y": [
          1
         ],
         "yaxis": "y"
        },
        {
         "hovertemplate": "player_name=%{text}<br>Assists=%{x}<br>goals_scored=%{y}<extra></extra>",
         "legendgroup": "Ibai Gómez",
         "marker": {
          "color": "#B6E880",
          "symbol": "circle"
         },
         "mode": "markers+text",
         "name": "Ibai Gómez",
         "orientation": "v",
         "showlegend": true,
         "text": [
          "Ibai Gómez"
         ],
         "textposition": "top center",
         "type": "scatter",
         "x": [
          0
         ],
         "xaxis": "x",
         "y": [
          3
         ],
         "yaxis": "y"
        },
        {
         "hovertemplate": "player_name=%{text}<br>Assists=%{x}<br>goals_scored=%{y}<extra></extra>",
         "legendgroup": "Ander Capa",
         "marker": {
          "color": "#FF97FF",
          "symbol": "circle"
         },
         "mode": "markers+text",
         "name": "Ander Capa",
         "orientation": "v",
         "showlegend": true,
         "text": [
          "Ander Capa"
         ],
         "textposition": "top center",
         "type": "scatter",
         "x": [
          2
         ],
         "xaxis": "x",
         "y": [
          0
         ],
         "yaxis": "y"
        },
        {
         "hovertemplate": "player_name=%{text}<br>Assists=%{x}<br>goals_scored=%{y}<extra></extra>",
         "legendgroup": "Raúl García Escudero",
         "marker": {
          "color": "#FECB52",
          "symbol": "circle"
         },
         "mode": "markers+text",
         "name": "Raúl García Escudero",
         "orientation": "v",
         "showlegend": true,
         "text": [
          "Raúl García Escudero"
         ],
         "textposition": "top center",
         "type": "scatter",
         "x": [
          4
         ],
         "xaxis": "x",
         "y": [
          9
         ],
         "yaxis": "y"
        },
        {
         "hovertemplate": "player_name=%{text}<br>Assists=%{x}<br>goals_scored=%{y}<extra></extra>",
         "legendgroup": "Unai López",
         "marker": {
          "color": "#636efa",
          "symbol": "circle"
         },
         "mode": "markers+text",
         "name": "Unai López",
         "orientation": "v",
         "showlegend": true,
         "text": [
          "Unai López"
         ],
         "textposition": "top center",
         "type": "scatter",
         "x": [
          0
         ],
         "xaxis": "x",
         "y": [
          0
         ],
         "yaxis": "y"
        },
        {
         "hovertemplate": "player_name=%{text}<br>Assists=%{x}<br>goals_scored=%{y}<extra></extra>",
         "legendgroup": "Iñigo Vicente",
         "marker": {
          "color": "#EF553B",
          "symbol": "circle"
         },
         "mode": "markers+text",
         "name": "Iñigo Vicente",
         "orientation": "v",
         "showlegend": true,
         "text": [
          "Iñigo Vicente"
         ],
         "textposition": "top center",
         "type": "scatter",
         "x": [
          3
         ],
         "xaxis": "x",
         "y": [
          0
         ],
         "yaxis": "y"
        },
        {
         "hovertemplate": "player_name=%{text}<br>Assists=%{x}<br>goals_scored=%{y}<extra></extra>",
         "legendgroup": "Peru Nolaskoain",
         "marker": {
          "color": "#00cc96",
          "symbol": "circle"
         },
         "mode": "markers+text",
         "name": "Peru Nolaskoain",
         "orientation": "v",
         "showlegend": true,
         "text": [
          "Peru Nolaskoain"
         ],
         "textposition": "top center",
         "type": "scatter",
         "x": [
          0
         ],
         "xaxis": "x",
         "y": [
          2
         ],
         "yaxis": "y"
        },
        {
         "hovertemplate": "player_name=%{text}<br>Assists=%{x}<br>goals_scored=%{y}<extra></extra>",
         "legendgroup": "Kenan Kodro",
         "marker": {
          "color": "#ab63fa",
          "symbol": "circle"
         },
         "mode": "markers+text",
         "name": "Kenan Kodro",
         "orientation": "v",
         "showlegend": true,
         "text": [
          "Kenan Kodro"
         ],
         "textposition": "top center",
         "type": "scatter",
         "x": [
          0
         ],
         "xaxis": "x",
         "y": [
          1
         ],
         "yaxis": "y"
        },
        {
         "hovertemplate": "player_name=%{text}<br>Assists=%{x}<br>goals_scored=%{y}<extra></extra>",
         "legendgroup": "Iñaki Williams",
         "marker": {
          "color": "#FFA15A",
          "symbol": "circle"
         },
         "mode": "markers+text",
         "name": "Iñaki Williams",
         "orientation": "v",
         "showlegend": true,
         "text": [
          "Iñaki Williams"
         ],
         "textposition": "top center",
         "type": "scatter",
         "x": [
          0
         ],
         "xaxis": "x",
         "y": [
          13
         ],
         "yaxis": "y"
        },
        {
         "hovertemplate": "player_name=%{text}<br>Assists=%{x}<br>goals_scored=%{y}<extra></extra>",
         "legendgroup": "Iker Muniain",
         "marker": {
          "color": "#19d3f3",
          "symbol": "circle"
         },
         "mode": "markers+text",
         "name": "Iker Muniain",
         "orientation": "v",
         "showlegend": true,
         "text": [
          "Iker Muniain"
         ],
         "textposition": "top center",
         "type": "scatter",
         "x": [
          0
         ],
         "xaxis": "x",
         "y": [
          7
         ],
         "yaxis": "y"
        },
        {
         "hovertemplate": "player_name=%{text}<br>Assists=%{x}<br>goals_scored=%{y}<extra></extra>",
         "legendgroup": "Aritz Aduriz",
         "marker": {
          "color": "#FF6692",
          "symbol": "circle"
         },
         "mode": "markers+text",
         "name": "Aritz Aduriz",
         "orientation": "v",
         "showlegend": true,
         "text": [
          "Aritz Aduriz"
         ],
         "textposition": "top center",
         "type": "scatter",
         "x": [
          4
         ],
         "xaxis": "x",
         "y": [
          2
         ],
         "yaxis": "y"
        },
        {
         "hovertemplate": "player_name=%{text}<br>Assists=%{x}<br>goals_scored=%{y}<extra></extra>",
         "legendgroup": "Jaume Costa",
         "marker": {
          "color": "#B6E880",
          "symbol": "circle"
         },
         "mode": "markers+text",
         "name": "Jaume Costa",
         "orientation": "v",
         "showlegend": true,
         "text": [
          "Jaume Costa"
         ],
         "textposition": "top center",
         "type": "scatter",
         "x": [
          4
         ],
         "xaxis": "x",
         "y": [
          2
         ],
         "yaxis": "y"
        },
        {
         "hovertemplate": "player_name=%{text}<br>Assists=%{x}<br>goals_scored=%{y}<extra></extra>",
         "legendgroup": "Antonio Adán",
         "marker": {
          "color": "#FF97FF",
          "symbol": "circle"
         },
         "mode": "markers+text",
         "name": "Antonio Adán",
         "orientation": "v",
         "showlegend": true,
         "text": [
          "Antonio Adán"
         ],
         "textposition": "top center",
         "type": "scatter",
         "x": [
          0
         ],
         "xaxis": "x",
         "y": [
          0
         ],
         "yaxis": "y"
        },
        {
         "hovertemplate": "player_name=%{text}<br>Assists=%{x}<br>goals_scored=%{y}<extra></extra>",
         "legendgroup": "Jan Oblak",
         "marker": {
          "color": "#FECB52",
          "symbol": "circle"
         },
         "mode": "markers+text",
         "name": "Jan Oblak",
         "orientation": "v",
         "showlegend": true,
         "text": [
          "Jan Oblak"
         ],
         "textposition": "top center",
         "type": "scatter",
         "x": [
          0
         ],
         "xaxis": "x",
         "y": [
          0
         ],
         "yaxis": "y"
        },
        {
         "hovertemplate": "player_name=%{text}<br>Assists=%{x}<br>goals_scored=%{y}<extra></extra>",
         "legendgroup": "Diego Godín",
         "marker": {
          "color": "#636efa",
          "symbol": "circle"
         },
         "mode": "markers+text",
         "name": "Diego Godín",
         "orientation": "v",
         "showlegend": true,
         "text": [
          "Diego Godín"
         ],
         "textposition": "top center",
         "type": "scatter",
         "x": [
          0
         ],
         "xaxis": "x",
         "y": [
          4
         ],
         "yaxis": "y"
        },
        {
         "hovertemplate": "player_name=%{text}<br>Assists=%{x}<br>goals_scored=%{y}<extra></extra>",
         "legendgroup": "Filipe Luís",
         "marker": {
          "color": "#EF553B",
          "symbol": "circle"
         },
         "mode": "markers+text",
         "name": "Filipe Luís",
         "orientation": "v",
         "showlegend": true,
         "text": [
          "Filipe Luís"
         ],
         "textposition": "top center",
         "type": "scatter",
         "x": [
          0
         ],
         "xaxis": "x",
         "y": [
          2
         ],
         "yaxis": "y"
        },
        {
         "hovertemplate": "player_name=%{text}<br>Assists=%{x}<br>goals_scored=%{y}<extra></extra>",
         "legendgroup": "Santiago Arias",
         "marker": {
          "color": "#00cc96",
          "symbol": "circle"
         },
         "mode": "markers+text",
         "name": "Santiago Arias",
         "orientation": "v",
         "showlegend": true,
         "text": [
          "Santiago Arias"
         ],
         "textposition": "top center",
         "type": "scatter",
         "x": [
          1
         ],
         "xaxis": "x",
         "y": [
          1
         ],
         "yaxis": "y"
        },
        {
         "hovertemplate": "player_name=%{text}<br>Assists=%{x}<br>goals_scored=%{y}<extra></extra>",
         "legendgroup": "Stefan Savic",
         "marker": {
          "color": "#ab63fa",
          "symbol": "circle"
         },
         "mode": "markers+text",
         "name": "Stefan Savic",
         "orientation": "v",
         "showlegend": true,
         "text": [
          "Stefan Savic"
         ],
         "textposition": "top center",
         "type": "scatter",
         "x": [
          2
         ],
         "xaxis": "x",
         "y": [
          0
         ],
         "yaxis": "y"
        },
        {
         "hovertemplate": "player_name=%{text}<br>Assists=%{x}<br>goals_scored=%{y}<extra></extra>",
         "legendgroup": "Nehuén Pérez",
         "marker": {
          "color": "#FFA15A",
          "symbol": "circle"
         },
         "mode": "markers+text",
         "name": "Nehuén Pérez",
         "orientation": "v",
         "showlegend": true,
         "text": [
          "Nehuén Pérez"
         ],
         "textposition": "top center",
         "type": "scatter",
         "x": [
          1
         ],
         "xaxis": "x",
         "y": [
          0
         ],
         "yaxis": "y"
        },
        {
         "hovertemplate": "player_name=%{text}<br>Assists=%{x}<br>goals_scored=%{y}<extra></extra>",
         "legendgroup": "Juanfran Torres",
         "marker": {
          "color": "#19d3f3",
          "symbol": "circle"
         },
         "mode": "markers+text",
         "name": "Juanfran Torres",
         "orientation": "v",
         "showlegend": true,
         "text": [
          "Juanfran Torres"
         ],
         "textposition": "top center",
         "type": "scatter",
         "x": [
          2
         ],
         "xaxis": "x",
         "y": [
          0
         ],
         "yaxis": "y"
        },
        {
         "hovertemplate": "player_name=%{text}<br>Assists=%{x}<br>goals_scored=%{y}<extra></extra>",
         "legendgroup": "Lucas Hernández",
         "marker": {
          "color": "#FF6692",
          "symbol": "circle"
         },
         "mode": "markers+text",
         "name": "Lucas Hernández",
         "orientation": "v",
         "showlegend": true,
         "text": [
          "Lucas Hernández"
         ],
         "textposition": "top center",
         "type": "scatter",
         "x": [
          0
         ],
         "xaxis": "x",
         "y": [
          1
         ],
         "yaxis": "y"
        },
        {
         "hovertemplate": "player_name=%{text}<br>Assists=%{x}<br>goals_scored=%{y}<extra></extra>",
         "legendgroup": "José María Giménez",
         "marker": {
          "color": "#B6E880",
          "symbol": "circle"
         },
         "mode": "markers+text",
         "name": "José María Giménez",
         "orientation": "v",
         "showlegend": true,
         "text": [
          "José María Giménez"
         ],
         "textposition": "top center",
         "type": "scatter",
         "x": [
          2
         ],
         "xaxis": "x",
         "y": [
          0
         ],
         "yaxis": "y"
        },
        {
         "hovertemplate": "player_name=%{text}<br>Assists=%{x}<br>goals_scored=%{y}<extra></extra>",
         "legendgroup": "Andrés Solano",
         "marker": {
          "color": "#FF97FF",
          "symbol": "circle"
         },
         "mode": "markers+text",
         "name": "Andrés Solano",
         "orientation": "v",
         "showlegend": true,
         "text": [
          "Andrés Solano"
         ],
         "textposition": "top center",
         "type": "scatter",
         "x": [
          0
         ],
         "xaxis": "x",
         "y": [
          0
         ],
         "yaxis": "y"
        },
        {
         "hovertemplate": "player_name=%{text}<br>Assists=%{x}<br>goals_scored=%{y}<extra></extra>",
         "legendgroup": "Francisco Javier Montero Rubio",
         "marker": {
          "color": "#FECB52",
          "symbol": "circle"
         },
         "mode": "markers+text",
         "name": "Francisco Javier Montero Rubio",
         "orientation": "v",
         "showlegend": true,
         "text": [
          "Francisco Javier Montero Rubio"
         ],
         "textposition": "top center",
         "type": "scatter",
         "x": [
          0
         ],
         "xaxis": "x",
         "y": [
          0
         ],
         "yaxis": "y"
        },
        {
         "hovertemplate": "player_name=%{text}<br>Assists=%{x}<br>goals_scored=%{y}<extra></extra>",
         "legendgroup": "Manuel Sánchez",
         "marker": {
          "color": "#636efa",
          "symbol": "circle"
         },
         "mode": "markers+text",
         "name": "Manuel Sánchez",
         "orientation": "v",
         "showlegend": true,
         "text": [
          "Manuel Sánchez"
         ],
         "textposition": "top center",
         "type": "scatter",
         "x": [
          0
         ],
         "xaxis": "x",
         "y": [
          0
         ],
         "yaxis": "y"
        },
        {
         "hovertemplate": "player_name=%{text}<br>Assists=%{x}<br>goals_scored=%{y}<extra></extra>",
         "legendgroup": "Yakubu Partey",
         "marker": {
          "color": "#EF553B",
          "symbol": "circle"
         },
         "mode": "markers+text",
         "name": "Yakubu Partey",
         "orientation": "v",
         "showlegend": true,
         "text": [
          "Yakubu Partey"
         ],
         "textposition": "top center",
         "type": "scatter",
         "x": [
          0
         ],
         "xaxis": "x",
         "y": [
          3
         ],
         "yaxis": "y"
        },
        {
         "hovertemplate": "player_name=%{text}<br>Assists=%{x}<br>goals_scored=%{y}<extra></extra>",
         "legendgroup": "Koke Resurrección",
         "marker": {
          "color": "#00cc96",
          "symbol": "circle"
         },
         "mode": "markers+text",
         "name": "Koke Resurrección",
         "orientation": "v",
         "showlegend": true,
         "text": [
          "Koke Resurrección"
         ],
         "textposition": "top center",
         "type": "scatter",
         "x": [
          0
         ],
         "xaxis": "x",
         "y": [
          3
         ],
         "yaxis": "y"
        },
        {
         "hovertemplate": "player_name=%{text}<br>Assists=%{x}<br>goals_scored=%{y}<extra></extra>",
         "legendgroup": "Saúl Ñíguez",
         "marker": {
          "color": "#ab63fa",
          "symbol": "circle"
         },
         "mode": "markers+text",
         "name": "Saúl Ñíguez",
         "orientation": "v",
         "showlegend": true,
         "text": [
          "Saúl Ñíguez"
         ],
         "textposition": "top center",
         "type": "scatter",
         "x": [
          4
         ],
         "xaxis": "x",
         "y": [
          5
         ],
         "yaxis": "y"
        },
        {
         "hovertemplate": "player_name=%{text}<br>Assists=%{x}<br>goals_scored=%{y}<extra></extra>",
         "legendgroup": "Rodrigo Moreno Machado",
         "marker": {
          "color": "#FFA15A",
          "symbol": "circle"
         },
         "mode": "markers+text",
         "name": "Rodrigo Moreno Machado",
         "orientation": "v",
         "showlegend": true,
         "text": [
          "Rodrigo Moreno Machado"
         ],
         "textposition": "top center",
         "type": "scatter",
         "x": [
          4
         ],
         "xaxis": "x",
         "y": [
          8
         ],
         "yaxis": "y"
        },
        {
         "hovertemplate": "player_name=%{text}<br>Assists=%{x}<br>goals_scored=%{y}<extra></extra>",
         "legendgroup": "Rodri Hernández",
         "marker": {
          "color": "#19d3f3",
          "symbol": "circle"
         },
         "mode": "markers+text",
         "name": "Rodri Hernández",
         "orientation": "v",
         "showlegend": true,
         "text": [
          "Rodri Hernández"
         ],
         "textposition": "top center",
         "type": "scatter",
         "x": [
          1
         ],
         "xaxis": "x",
         "y": [
          3
         ],
         "yaxis": "y"
        },
        {
         "hovertemplate": "player_name=%{text}<br>Assists=%{x}<br>goals_scored=%{y}<extra></extra>",
         "legendgroup": "Cristian Rodríguez",
         "marker": {
          "color": "#FF6692",
          "symbol": "circle"
         },
         "mode": "markers+text",
         "name": "Cristian Rodríguez",
         "orientation": "v",
         "showlegend": true,
         "text": [
          "Cristian Rodríguez"
         ],
         "textposition": "top center",
         "type": "scatter",
         "x": [
          1
         ],
         "xaxis": "x",
         "y": [
          0
         ],
         "yaxis": "y"
        },
        {
         "hovertemplate": "player_name=%{text}<br>Assists=%{x}<br>goals_scored=%{y}<extra></extra>",
         "legendgroup": "Mikel Carro",
         "marker": {
          "color": "#B6E880",
          "symbol": "circle"
         },
         "mode": "markers+text",
         "name": "Mikel Carro",
         "orientation": "v",
         "showlegend": true,
         "text": [
          "Mikel Carro"
         ],
         "textposition": "top center",
         "type": "scatter",
         "x": [
          0
         ],
         "xaxis": "x",
         "y": [
          0
         ],
         "yaxis": "y"
        },
        {
         "hovertemplate": "player_name=%{text}<br>Assists=%{x}<br>goals_scored=%{y}<extra></extra>",
         "legendgroup": "Borja Garcés Moreno",
         "marker": {
          "color": "#FF97FF",
          "symbol": "circle"
         },
         "mode": "markers+text",
         "name": "Borja Garcés Moreno",
         "orientation": "v",
         "showlegend": true,
         "text": [
          "Borja Garcés Moreno"
         ],
         "textposition": "top center",
         "type": "scatter",
         "x": [
          0
         ],
         "xaxis": "x",
         "y": [
          1
         ],
         "yaxis": "y"
        },
        {
         "hovertemplate": "player_name=%{text}<br>Assists=%{x}<br>goals_scored=%{y}<extra></extra>",
         "legendgroup": "Víctor Mollejo",
         "marker": {
          "color": "#FECB52",
          "symbol": "circle"
         },
         "mode": "markers+text",
         "name": "Víctor Mollejo",
         "orientation": "v",
         "showlegend": true,
         "text": [
          "Víctor Mollejo"
         ],
         "textposition": "top center",
         "type": "scatter",
         "x": [
          0
         ],
         "xaxis": "x",
         "y": [
          0
         ],
         "yaxis": "y"
        },
        {
         "hovertemplate": "player_name=%{text}<br>Assists=%{x}<br>goals_scored=%{y}<extra></extra>",
         "legendgroup": "Joaquín Muñoz",
         "marker": {
          "color": "#636efa",
          "symbol": "circle"
         },
         "mode": "markers+text",
         "name": "Joaquín Muñoz",
         "orientation": "v",
         "showlegend": true,
         "text": [
          "Joaquín Muñoz"
         ],
         "textposition": "top center",
         "type": "scatter",
         "x": [
          0
         ],
         "xaxis": "x",
         "y": [
          0
         ],
         "yaxis": "y"
        },
        {
         "hovertemplate": "player_name=%{text}<br>Assists=%{x}<br>goals_scored=%{y}<extra></extra>",
         "legendgroup": "Sergio Camello",
         "marker": {
          "color": "#EF553B",
          "symbol": "circle"
         },
         "mode": "markers+text",
         "name": "Sergio Camello",
         "orientation": "v",
         "showlegend": true,
         "text": [
          "Sergio Camello"
         ],
         "textposition": "top center",
         "type": "scatter",
         "x": [
          0
         ],
         "xaxis": "x",
         "y": [
          1
         ],
         "yaxis": "y"
        },
        {
         "hovertemplate": "player_name=%{text}<br>Assists=%{x}<br>goals_scored=%{y}<extra></extra>",
         "legendgroup": "Gustavo Assunção",
         "marker": {
          "color": "#00cc96",
          "symbol": "circle"
         },
         "mode": "markers+text",
         "name": "Gustavo Assunção",
         "orientation": "v",
         "showlegend": true,
         "text": [
          "Gustavo Assunção"
         ],
         "textposition": "top center",
         "type": "scatter",
         "x": [
          0
         ],
         "xaxis": "x",
         "y": [
          0
         ],
         "yaxis": "y"
        },
        {
         "hovertemplate": "player_name=%{text}<br>Assists=%{x}<br>goals_scored=%{y}<extra></extra>",
         "legendgroup": "Antoine Griezmann",
         "marker": {
          "color": "#ab63fa",
          "symbol": "circle"
         },
         "mode": "markers+text",
         "name": "Antoine Griezmann",
         "orientation": "v",
         "showlegend": true,
         "text": [
          "Antoine Griezmann"
         ],
         "textposition": "top center",
         "type": "scatter",
         "x": [
          0
         ],
         "xaxis": "x",
         "y": [
          15
         ],
         "yaxis": "y"
        },
        {
         "hovertemplate": "player_name=%{text}<br>Assists=%{x}<br>goals_scored=%{y}<extra></extra>",
         "legendgroup": "Nikola Kalinic",
         "marker": {
          "color": "#FFA15A",
          "symbol": "circle"
         },
         "mode": "markers+text",
         "name": "Nikola Kalinic",
         "orientation": "v",
         "showlegend": true,
         "text": [
          "Nikola Kalinic"
         ],
         "textposition": "top center",
         "type": "scatter",
         "x": [
          9
         ],
         "xaxis": "x",
         "y": [
          2
         ],
         "yaxis": "y"
        },
        {
         "hovertemplate": "player_name=%{text}<br>Assists=%{x}<br>goals_scored=%{y}<extra></extra>",
         "legendgroup": "Ángel Correa",
         "marker": {
          "color": "#19d3f3",
          "symbol": "circle"
         },
         "mode": "markers+text",
         "name": "Ángel Correa",
         "orientation": "v",
         "showlegend": true,
         "text": [
          "Ángel Correa"
         ],
         "textposition": "top center",
         "type": "scatter",
         "x": [
          0
         ],
         "xaxis": "x",
         "y": [
          3
         ],
         "yaxis": "y"
        },
        {
         "hovertemplate": "player_name=%{text}<br>Assists=%{x}<br>goals_scored=%{y}<extra></extra>",
         "legendgroup": "Thomas Lemar",
         "marker": {
          "color": "#FF6692",
          "symbol": "circle"
         },
         "mode": "markers+text",
         "name": "Thomas Lemar",
         "orientation": "v",
         "showlegend": true,
         "text": [
          "Thomas Lemar"
         ],
         "textposition": "top center",
         "type": "scatter",
         "x": [
          2
         ],
         "xaxis": "x",
         "y": [
          3
         ],
         "yaxis": "y"
        },
        {
         "hovertemplate": "player_name=%{text}<br>Assists=%{x}<br>goals_scored=%{y}<extra></extra>",
         "legendgroup": "Diego Costa",
         "marker": {
          "color": "#B6E880",
          "symbol": "circle"
         },
         "mode": "markers+text",
         "name": "Diego Costa",
         "orientation": "v",
         "showlegend": true,
         "text": [
          "Diego Costa"
         ],
         "textposition": "top center",
         "type": "scatter",
         "x": [
          3
         ],
         "xaxis": "x",
         "y": [
          1
         ],
         "yaxis": "y"
        },
        {
         "hovertemplate": "player_name=%{text}<br>Assists=%{x}<br>goals_scored=%{y}<extra></extra>",
         "legendgroup": "Álvaro Morata",
         "marker": {
          "color": "#FF97FF",
          "symbol": "circle"
         },
         "mode": "markers+text",
         "name": "Álvaro Morata",
         "orientation": "v",
         "showlegend": true,
         "text": [
          "Álvaro Morata"
         ],
         "textposition": "top center",
         "type": "scatter",
         "x": [
          2
         ],
         "xaxis": "x",
         "y": [
          6
         ],
         "yaxis": "y"
        },
        {
         "hovertemplate": "player_name=%{text}<br>Assists=%{x}<br>goals_scored=%{y}<extra></extra>",
         "legendgroup": "Vitolo Machín",
         "marker": {
          "color": "#FECB52",
          "symbol": "circle"
         },
         "mode": "markers+text",
         "name": "Vitolo Machín",
         "orientation": "v",
         "showlegend": true,
         "text": [
          "Vitolo Machín"
         ],
         "textposition": "top center",
         "type": "scatter",
         "x": [
          1
         ],
         "xaxis": "x",
         "y": [
          0
         ],
         "yaxis": "y"
        },
        {
         "hovertemplate": "player_name=%{text}<br>Assists=%{x}<br>goals_scored=%{y}<extra></extra>",
         "legendgroup": "Iván Cuéllar",
         "marker": {
          "color": "#636efa",
          "symbol": "circle"
         },
         "mode": "markers+text",
         "name": "Iván Cuéllar",
         "orientation": "v",
         "showlegend": true,
         "text": [
          "Iván Cuéllar"
         ],
         "textposition": "top center",
         "type": "scatter",
         "x": [
          1
         ],
         "xaxis": "x",
         "y": [
          0
         ],
         "yaxis": "y"
        },
        {
         "hovertemplate": "player_name=%{text}<br>Assists=%{x}<br>goals_scored=%{y}<extra></extra>",
         "legendgroup": "Andrés Iniesta",
         "marker": {
          "color": "#EF553B",
          "symbol": "circle"
         },
         "mode": "markers+text",
         "name": "Andrés Iniesta",
         "orientation": "v",
         "showlegend": true,
         "text": [
          "Andrés Iniesta"
         ],
         "textposition": "top center",
         "type": "scatter",
         "x": [
          0
         ],
         "xaxis": "x",
         "y": [
          0
         ],
         "yaxis": "y"
        },
        {
         "hovertemplate": "player_name=%{text}<br>Assists=%{x}<br>goals_scored=%{y}<extra></extra>",
         "legendgroup": "Andriy Lunin",
         "marker": {
          "color": "#00cc96",
          "symbol": "circle"
         },
         "mode": "markers+text",
         "name": "Andriy Lunin",
         "orientation": "v",
         "showlegend": true,
         "text": [
          "Andriy Lunin"
         ],
         "textposition": "top center",
         "type": "scatter",
         "x": [
          0
         ],
         "xaxis": "x",
         "y": [
          0
         ],
         "yaxis": "y"
        },
        {
         "hovertemplate": "player_name=%{text}<br>Assists=%{x}<br>goals_scored=%{y}<extra></extra>",
         "legendgroup": "David Tejero",
         "marker": {
          "color": "#ab63fa",
          "symbol": "circle"
         },
         "mode": "markers+text",
         "name": "David Tejero",
         "orientation": "v",
         "showlegend": true,
         "text": [
          "David Tejero"
         ],
         "textposition": "top center",
         "type": "scatter",
         "x": [
          0
         ],
         "xaxis": "x",
         "y": [
          0
         ],
         "yaxis": "y"
        },
        {
         "hovertemplate": "player_name=%{text}<br>Assists=%{x}<br>goals_scored=%{y}<extra></extra>",
         "legendgroup": "Juan Francisco",
         "marker": {
          "color": "#FFA15A",
          "symbol": "circle"
         },
         "mode": "markers+text",
         "name": "Juan Francisco",
         "orientation": "v",
         "showlegend": true,
         "text": [
          "Juan Francisco"
         ],
         "textposition": "top center",
         "type": "scatter",
         "x": [
          0
         ],
         "xaxis": "x",
         "y": [
          1
         ],
         "yaxis": "y"
        },
        {
         "hovertemplate": "player_name=%{text}<br>Assists=%{x}<br>goals_scored=%{y}<extra></extra>",
         "legendgroup": "Unai Bustinza",
         "marker": {
          "color": "#19d3f3",
          "symbol": "circle"
         },
         "mode": "markers+text",
         "name": "Unai Bustinza",
         "orientation": "v",
         "showlegend": true,
         "text": [
          "Unai Bustinza"
         ],
         "textposition": "top center",
         "type": "scatter",
         "x": [
          1
         ],
         "xaxis": "x",
         "y": [
          0
         ],
         "yaxis": "y"
        },
        {
         "hovertemplate": "player_name=%{text}<br>Assists=%{x}<br>goals_scored=%{y}<extra></extra>",
         "legendgroup": "Diego Reyes",
         "marker": {
          "color": "#FF6692",
          "symbol": "circle"
         },
         "mode": "markers+text",
         "name": "Diego Reyes",
         "orientation": "v",
         "showlegend": true,
         "text": [
          "Diego Reyes"
         ],
         "textposition": "top center",
         "type": "scatter",
         "x": [
          1
         ],
         "xaxis": "x",
         "y": [
          0
         ],
         "yaxis": "y"
        },
        {
         "hovertemplate": "player_name=%{text}<br>Assists=%{x}<br>goals_scored=%{y}<extra></extra>",
         "legendgroup": "Jonathan Silva",
         "marker": {
          "color": "#B6E880",
          "symbol": "circle"
         },
         "mode": "markers+text",
         "name": "Jonathan Silva",
         "orientation": "v",
         "showlegend": true,
         "text": [
          "Jonathan Silva"
         ],
         "textposition": "top center",
         "type": "scatter",
         "x": [
          0
         ],
         "xaxis": "x",
         "y": [
          3
         ],
         "yaxis": "y"
        },
        {
         "hovertemplate": "player_name=%{text}<br>Assists=%{x}<br>goals_scored=%{y}<extra></extra>",
         "legendgroup": "Allan Romeo Nyom",
         "marker": {
          "color": "#FF97FF",
          "symbol": "circle"
         },
         "mode": "markers+text",
         "name": "Allan Romeo Nyom",
         "orientation": "v",
         "showlegend": true,
         "text": [
          "Allan Romeo Nyom"
         ],
         "textposition": "top center",
         "type": "scatter",
         "x": [
          6
         ],
         "xaxis": "x",
         "y": [
          1
         ],
         "yaxis": "y"
        },
        {
         "hovertemplate": "player_name=%{text}<br>Assists=%{x}<br>goals_scored=%{y}<extra></extra>",
         "legendgroup": "Vasyl Kravets",
         "marker": {
          "color": "#FECB52",
          "symbol": "circle"
         },
         "mode": "markers+text",
         "name": "Vasyl Kravets",
         "orientation": "v",
         "showlegend": true,
         "text": [
          "Vasyl Kravets"
         ],
         "textposition": "top center",
         "type": "scatter",
         "x": [
          1
         ],
         "xaxis": "x",
         "y": [
          0
         ],
         "yaxis": "y"
        },
        {
         "hovertemplate": "player_name=%{text}<br>Assists=%{x}<br>goals_scored=%{y}<extra></extra>",
         "legendgroup": "Rodrigo Tarín",
         "marker": {
          "color": "#636efa",
          "symbol": "circle"
         },
         "mode": "markers+text",
         "name": "Rodrigo Tarín",
         "orientation": "v",
         "showlegend": true,
         "text": [
          "Rodrigo Tarín"
         ],
         "textposition": "top center",
         "type": "scatter",
         "x": [
          0
         ],
         "xaxis": "x",
         "y": [
          0
         ],
         "yaxis": "y"
        },
        {
         "hovertemplate": "player_name=%{text}<br>Assists=%{x}<br>goals_scored=%{y}<extra></extra>",
         "legendgroup": "Nereo Champagne",
         "marker": {
          "color": "#EF553B",
          "symbol": "circle"
         },
         "mode": "markers+text",
         "name": "Nereo Champagne",
         "orientation": "v",
         "showlegend": true,
         "text": [
          "Nereo Champagne"
         ],
         "textposition": "top center",
         "type": "scatter",
         "x": [
          0
         ],
         "xaxis": "x",
         "y": [
          0
         ],
         "yaxis": "y"
        },
        {
         "hovertemplate": "player_name=%{text}<br>Assists=%{x}<br>goals_scored=%{y}<extra></extra>",
         "legendgroup": "Dimitrios Siovas",
         "marker": {
          "color": "#00cc96",
          "symbol": "circle"
         },
         "mode": "markers+text",
         "name": "Dimitrios Siovas",
         "orientation": "v",
         "showlegend": true,
         "text": [
          "Dimitrios Siovas"
         ],
         "textposition": "top center",
         "type": "scatter",
         "x": [
          0
         ],
         "xaxis": "x",
         "y": [
          1
         ],
         "yaxis": "y"
        },
        {
         "hovertemplate": "player_name=%{text}<br>Assists=%{x}<br>goals_scored=%{y}<extra></extra>",
         "legendgroup": "Kenneth Omeruo",
         "marker": {
          "color": "#ab63fa",
          "symbol": "circle"
         },
         "mode": "markers+text",
         "name": "Kenneth Omeruo",
         "orientation": "v",
         "showlegend": true,
         "text": [
          "Kenneth Omeruo"
         ],
         "textposition": "top center",
         "type": "scatter",
         "x": [
          0
         ],
         "xaxis": "x",
         "y": [
          0
         ],
         "yaxis": "y"
        },
        {
         "hovertemplate": "player_name=%{text}<br>Assists=%{x}<br>goals_scored=%{y}<extra></extra>",
         "legendgroup": "Óscar Rodríguez Arnaiz",
         "marker": {
          "color": "#FFA15A",
          "symbol": "circle"
         },
         "mode": "markers+text",
         "name": "Óscar Rodríguez Arnaiz",
         "orientation": "v",
         "showlegend": true,
         "text": [
          "Óscar Rodríguez Arnaiz"
         ],
         "textposition": "top center",
         "type": "scatter",
         "x": [
          0
         ],
         "xaxis": "x",
         "y": [
          4
         ],
         "yaxis": "y"
        },
        {
         "hovertemplate": "player_name=%{text}<br>Assists=%{x}<br>goals_scored=%{y}<extra></extra>",
         "legendgroup": "Gerard Gumbau",
         "marker": {
          "color": "#19d3f3",
          "symbol": "circle"
         },
         "mode": "markers+text",
         "name": "Gerard Gumbau",
         "orientation": "v",
         "showlegend": true,
         "text": [
          "Gerard Gumbau"
         ],
         "textposition": "top center",
         "type": "scatter",
         "x": [
          3
         ],
         "xaxis": "x",
         "y": [
          1
         ],
         "yaxis": "y"
        },
        {
         "hovertemplate": "player_name=%{text}<br>Assists=%{x}<br>goals_scored=%{y}<extra></extra>",
         "legendgroup": "José Luis García del Pozo",
         "marker": {
          "color": "#FF6692",
          "symbol": "circle"
         },
         "mode": "markers+text",
         "name": "José Luis García del Pozo",
         "orientation": "v",
         "showlegend": true,
         "text": [
          "José Luis García del Pozo"
         ],
         "textposition": "top center",
         "type": "scatter",
         "x": [
          1
         ],
         "xaxis": "x",
         "y": [
          0
         ],
         "yaxis": "y"
        },
        {
         "hovertemplate": "player_name=%{text}<br>Assists=%{x}<br>goals_scored=%{y}<extra></extra>",
         "legendgroup": "Nabil El Zhar",
         "marker": {
          "color": "#B6E880",
          "symbol": "circle"
         },
         "mode": "markers+text",
         "name": "Nabil El Zhar",
         "orientation": "v",
         "showlegend": true,
         "text": [
          "Nabil El Zhar"
         ],
         "textposition": "top center",
         "type": "scatter",
         "x": [
          0
         ],
         "xaxis": "x",
         "y": [
          4
         ],
         "yaxis": "y"
        },
        {
         "hovertemplate": "player_name=%{text}<br>Assists=%{x}<br>goals_scored=%{y}<extra></extra>",
         "legendgroup": "Alexander Szymanowski",
         "marker": {
          "color": "#FF97FF",
          "symbol": "circle"
         },
         "mode": "markers+text",
         "name": "Alexander Szymanowski",
         "orientation": "v",
         "showlegend": true,
         "text": [
          "Alexander Szymanowski"
         ],
         "textposition": "top center",
         "type": "scatter",
         "x": [
          0
         ],
         "xaxis": "x",
         "y": [
          0
         ],
         "yaxis": "y"
        },
        {
         "hovertemplate": "player_name=%{text}<br>Assists=%{x}<br>goals_scored=%{y}<extra></extra>",
         "legendgroup": "Javier Eraso",
         "marker": {
          "color": "#FECB52",
          "symbol": "circle"
         },
         "mode": "markers+text",
         "name": "Javier Eraso",
         "orientation": "v",
         "showlegend": true,
         "text": [
          "Javier Eraso"
         ],
         "textposition": "top center",
         "type": "scatter",
         "x": [
          0
         ],
         "xaxis": "x",
         "y": [
          0
         ],
         "yaxis": "y"
        },
        {
         "hovertemplate": "player_name=%{text}<br>Assists=%{x}<br>goals_scored=%{y}<extra></extra>",
         "legendgroup": "Rubén Pérez del Mármol",
         "marker": {
          "color": "#636efa",
          "symbol": "circle"
         },
         "mode": "markers+text",
         "name": "Rubén Pérez del Mármol",
         "orientation": "v",
         "showlegend": true,
         "text": [
          "Rubén Pérez del Mármol"
         ],
         "textposition": "top center",
         "type": "scatter",
         "x": [
          0
         ],
         "xaxis": "x",
         "y": [
          0
         ],
         "yaxis": "y"
        },
        {
         "hovertemplate": "player_name=%{text}<br>Assists=%{x}<br>goals_scored=%{y}<extra></extra>",
         "legendgroup": "Mikel Vesga",
         "marker": {
          "color": "#EF553B",
          "symbol": "circle"
         },
         "mode": "markers+text",
         "name": "Mikel Vesga",
         "orientation": "v",
         "showlegend": true,
         "text": [
          "Mikel Vesga"
         ],
         "textposition": "top center",
         "type": "scatter",
         "x": [
          0
         ],
         "xaxis": "x",
         "y": [
          1
         ],
         "yaxis": "y"
        },
        {
         "hovertemplate": "player_name=%{text}<br>Assists=%{x}<br>goals_scored=%{y}<extra></extra>",
         "legendgroup": "Javier Avilés",
         "marker": {
          "color": "#00cc96",
          "symbol": "circle"
         },
         "mode": "markers+text",
         "name": "Javier Avilés",
         "orientation": "v",
         "showlegend": true,
         "text": [
          "Javier Avilés"
         ],
         "textposition": "top center",
         "type": "scatter",
         "x": [
          1
         ],
         "xaxis": "x",
         "y": [
          0
         ],
         "yaxis": "y"
        },
        {
         "hovertemplate": "player_name=%{text}<br>Assists=%{x}<br>goals_scored=%{y}<extra></extra>",
         "legendgroup": "Guido Carrillo",
         "marker": {
          "color": "#ab63fa",
          "symbol": "circle"
         },
         "mode": "markers+text",
         "name": "Guido Carrillo",
         "orientation": "v",
         "showlegend": true,
         "text": [
          "Guido Carrillo"
         ],
         "textposition": "top center",
         "type": "scatter",
         "x": [
          0
         ],
         "xaxis": "x",
         "y": [
          6
         ],
         "yaxis": "y"
        },
        {
         "hovertemplate": "player_name=%{text}<br>Assists=%{x}<br>goals_scored=%{y}<extra></extra>",
         "legendgroup": "José Arnáiz",
         "marker": {
          "color": "#FFA15A",
          "symbol": "circle"
         },
         "mode": "markers+text",
         "name": "José Arnáiz",
         "orientation": "v",
         "showlegend": true,
         "text": [
          "José Arnáiz"
         ],
         "textposition": "top center",
         "type": "scatter",
         "x": [
          2
         ],
         "xaxis": "x",
         "y": [
          0
         ],
         "yaxis": "y"
        },
        {
         "hovertemplate": "player_name=%{text}<br>Assists=%{x}<br>goals_scored=%{y}<extra></extra>",
         "legendgroup": "Sabin Merino",
         "marker": {
          "color": "#19d3f3",
          "symbol": "circle"
         },
         "mode": "markers+text",
         "name": "Sabin Merino",
         "orientation": "v",
         "showlegend": true,
         "text": [
          "Sabin Merino"
         ],
         "textposition": "top center",
         "type": "scatter",
         "x": [
          1
         ],
         "xaxis": "x",
         "y": [
          0
         ],
         "yaxis": "y"
        },
        {
         "hovertemplate": "player_name=%{text}<br>Assists=%{x}<br>goals_scored=%{y}<extra></extra>",
         "legendgroup": "Michael Santos",
         "marker": {
          "color": "#FF6692",
          "symbol": "circle"
         },
         "mode": "markers+text",
         "name": "Michael Santos",
         "orientation": "v",
         "showlegend": true,
         "text": [
          "Michael Santos"
         ],
         "textposition": "top center",
         "type": "scatter",
         "x": [
          0
         ],
         "xaxis": "x",
         "y": [
          1
         ],
         "yaxis": "y"
        },
        {
         "hovertemplate": "player_name=%{text}<br>Assists=%{x}<br>goals_scored=%{y}<extra></extra>",
         "legendgroup": "Martin Braithwaite",
         "marker": {
          "color": "#B6E880",
          "symbol": "circle"
         },
         "mode": "markers+text",
         "name": "Martin Braithwaite",
         "orientation": "v",
         "showlegend": true,
         "text": [
          "Martin Braithwaite"
         ],
         "textposition": "top center",
         "type": "scatter",
         "x": [
          0
         ],
         "xaxis": "x",
         "y": [
          4
         ],
         "yaxis": "y"
        },
        {
         "hovertemplate": "player_name=%{text}<br>Assists=%{x}<br>goals_scored=%{y}<extra></extra>",
         "legendgroup": "Youssef En-Nesyri",
         "marker": {
          "color": "#FF97FF",
          "symbol": "circle"
         },
         "mode": "markers+text",
         "name": "Youssef En-Nesyri",
         "orientation": "v",
         "showlegend": true,
         "text": [
          "Youssef En-Nesyri"
         ],
         "textposition": "top center",
         "type": "scatter",
         "x": [
          3
         ],
         "xaxis": "x",
         "y": [
          10
         ],
         "yaxis": "y"
        },
        {
         "hovertemplate": "player_name=%{text}<br>Assists=%{x}<br>goals_scored=%{y}<extra></extra>",
         "legendgroup": "Daniel Ojeda",
         "marker": {
          "color": "#FECB52",
          "symbol": "circle"
         },
         "mode": "markers+text",
         "name": "Daniel Ojeda",
         "orientation": "v",
         "showlegend": true,
         "text": [
          "Daniel Ojeda"
         ],
         "textposition": "top center",
         "type": "scatter",
         "x": [
          5
         ],
         "xaxis": "x",
         "y": [
          0
         ],
         "yaxis": "y"
        },
        {
         "hovertemplate": "player_name=%{text}<br>Assists=%{x}<br>goals_scored=%{y}<extra></extra>",
         "legendgroup": "Fernando Pacheco Flores",
         "marker": {
          "color": "#636efa",
          "symbol": "circle"
         },
         "mode": "markers+text",
         "name": "Fernando Pacheco Flores",
         "orientation": "v",
         "showlegend": true,
         "text": [
          "Fernando Pacheco Flores"
         ],
         "textposition": "top center",
         "type": "scatter",
         "x": [
          0
         ],
         "xaxis": "x",
         "y": [
          0
         ],
         "yaxis": "y"
        },
        {
         "hovertemplate": "player_name=%{text}<br>Assists=%{x}<br>goals_scored=%{y}<extra></extra>",
         "legendgroup": "Álvaro Fernández",
         "marker": {
          "color": "#EF553B",
          "symbol": "circle"
         },
         "mode": "markers+text",
         "name": "Álvaro Fernández",
         "orientation": "v",
         "showlegend": true,
         "text": [
          "Álvaro Fernández"
         ],
         "textposition": "top center",
         "type": "scatter",
         "x": [
          0
         ],
         "xaxis": "x",
         "y": [
          0
         ],
         "yaxis": "y"
        },
        {
         "hovertemplate": "player_name=%{text}<br>Assists=%{x}<br>goals_scored=%{y}<extra></extra>",
         "legendgroup": "Álex Domínguez",
         "marker": {
          "color": "#00cc96",
          "symbol": "circle"
         },
         "mode": "markers+text",
         "name": "Álex Domínguez",
         "orientation": "v",
         "showlegend": true,
         "text": [
          "Álex Domínguez"
         ],
         "textposition": "top center",
         "type": "scatter",
         "x": [
          0
         ],
         "xaxis": "x",
         "y": [
          0
         ],
         "yaxis": "y"
        },
        {
         "hovertemplate": "player_name=%{text}<br>Assists=%{x}<br>goals_scored=%{y}<extra></extra>",
         "legendgroup": "Carlos Vigaray",
         "marker": {
          "color": "#ab63fa",
          "symbol": "circle"
         },
         "mode": "markers+text",
         "name": "Carlos Vigaray",
         "orientation": "v",
         "showlegend": true,
         "text": [
          "Carlos Vigaray"
         ],
         "textposition": "top center",
         "type": "scatter",
         "x": [
          0
         ],
         "xaxis": "x",
         "y": [
          0
         ],
         "yaxis": "y"
        },
        {
         "hovertemplate": "player_name=%{text}<br>Assists=%{x}<br>goals_scored=%{y}<extra></extra>",
         "legendgroup": "Rubén Duarte",
         "marker": {
          "color": "#FFA15A",
          "symbol": "circle"
         },
         "mode": "markers+text",
         "name": "Rubén Duarte",
         "orientation": "v",
         "showlegend": true,
         "text": [
          "Rubén Duarte"
         ],
         "textposition": "top center",
         "type": "scatter",
         "x": [
          0
         ],
         "xaxis": "x",
         "y": [
          0
         ],
         "yaxis": "y"
        },
        {
         "hovertemplate": "player_name=%{text}<br>Assists=%{x}<br>goals_scored=%{y}<extra></extra>",
         "legendgroup": "Rodrigo Ely",
         "marker": {
          "color": "#19d3f3",
          "symbol": "circle"
         },
         "mode": "markers+text",
         "name": "Rodrigo Ely",
         "orientation": "v",
         "showlegend": true,
         "text": [
          "Rodrigo Ely"
         ],
         "textposition": "top center",
         "type": "scatter",
         "x": [
          0
         ],
         "xaxis": "x",
         "y": [
          0
         ],
         "yaxis": "y"
        },
        {
         "hovertemplate": "player_name=%{text}<br>Assists=%{x}<br>goals_scored=%{y}<extra></extra>",
         "legendgroup": "Víctor Laguardia Cisneros",
         "marker": {
          "color": "#FF6692",
          "symbol": "circle"
         },
         "mode": "markers+text",
         "name": "Víctor Laguardia Cisneros",
         "orientation": "v",
         "showlegend": true,
         "text": [
          "Víctor Laguardia Cisneros"
         ],
         "textposition": "top center",
         "type": "scatter",
         "x": [
          2
         ],
         "xaxis": "x",
         "y": [
          2
         ],
         "yaxis": "y"
        },
        {
         "hovertemplate": "player_name=%{text}<br>Assists=%{x}<br>goals_scored=%{y}<extra></extra>",
         "legendgroup": "Guillermo Maripán",
         "marker": {
          "color": "#B6E880",
          "symbol": "circle"
         },
         "mode": "markers+text",
         "name": "Guillermo Maripán",
         "orientation": "v",
         "showlegend": true,
         "text": [
          "Guillermo Maripán"
         ],
         "textposition": "top center",
         "type": "scatter",
         "x": [
          2
         ],
         "xaxis": "x",
         "y": [
          2
         ],
         "yaxis": "y"
        },
        {
         "hovertemplate": "player_name=%{text}<br>Assists=%{x}<br>goals_scored=%{y}<extra></extra>",
         "legendgroup": "Ximo Navarro",
         "marker": {
          "color": "#FF97FF",
          "symbol": "circle"
         },
         "mode": "markers+text",
         "name": "Ximo Navarro",
         "orientation": "v",
         "showlegend": true,
         "text": [
          "Ximo Navarro"
         ],
         "textposition": "top center",
         "type": "scatter",
         "x": [
          2
         ],
         "xaxis": "x",
         "y": [
          2
         ],
         "yaxis": "y"
        },
        {
         "hovertemplate": "player_name=%{text}<br>Assists=%{x}<br>goals_scored=%{y}<extra></extra>",
         "legendgroup": "Adrián Marín Gómez",
         "marker": {
          "color": "#FECB52",
          "symbol": "circle"
         },
         "mode": "markers+text",
         "name": "Adrián Marín Gómez",
         "orientation": "v",
         "showlegend": true,
         "text": [
          "Adrián Marín Gómez"
         ],
         "textposition": "top center",
         "type": "scatter",
         "x": [
          0
         ],
         "xaxis": "x",
         "y": [
          0
         ],
         "yaxis": "y"
        },
        {
         "hovertemplate": "player_name=%{text}<br>Assists=%{x}<br>goals_scored=%{y}<extra></extra>",
         "legendgroup": "Martín Aguirregabiria",
         "marker": {
          "color": "#636efa",
          "symbol": "circle"
         },
         "mode": "markers+text",
         "name": "Martín Aguirregabiria",
         "orientation": "v",
         "showlegend": true,
         "text": [
          "Martín Aguirregabiria"
         ],
         "textposition": "top center",
         "type": "scatter",
         "x": [
          0
         ],
         "xaxis": "x",
         "y": [
          0
         ],
         "yaxis": "y"
        },
        {
         "hovertemplate": "player_name=%{text}<br>Assists=%{x}<br>goals_scored=%{y}<extra></extra>",
         "legendgroup": "Tomás Pina",
         "marker": {
          "color": "#EF553B",
          "symbol": "circle"
         },
         "mode": "markers+text",
         "name": "Tomás Pina",
         "orientation": "v",
         "showlegend": true,
         "text": [
          "Tomás Pina"
         ],
         "textposition": "top center",
         "type": "scatter",
         "x": [
          0
         ],
         "xaxis": "x",
         "y": [
          2
         ],
         "yaxis": "y"
        },
        {
         "hovertemplate": "player_name=%{text}<br>Assists=%{x}<br>goals_scored=%{y}<extra></extra>",
         "legendgroup": "Takashi Inui",
         "marker": {
          "color": "#00cc96",
          "symbol": "circle"
         },
         "mode": "markers+text",
         "name": "Takashi Inui",
         "orientation": "v",
         "showlegend": true,
         "text": [
          "Takashi Inui"
         ],
         "textposition": "top center",
         "type": "scatter",
         "x": [
          0
         ],
         "xaxis": "x",
         "y": [
          2
         ],
         "yaxis": "y"
        },
        {
         "hovertemplate": "player_name=%{text}<br>Assists=%{x}<br>goals_scored=%{y}<extra></extra>",
         "legendgroup": "Manu García",
         "marker": {
          "color": "#ab63fa",
          "symbol": "circle"
         },
         "mode": "markers+text",
         "name": "Manu García",
         "orientation": "v",
         "showlegend": true,
         "text": [
          "Manu García"
         ],
         "textposition": "top center",
         "type": "scatter",
         "x": [
          0
         ],
         "xaxis": "x",
         "y": [
          2
         ],
         "yaxis": "y"
        },
        {
         "hovertemplate": "player_name=%{text}<br>Assists=%{x}<br>goals_scored=%{y}<extra></extra>",
         "legendgroup": "Darko Brasanac",
         "marker": {
          "color": "#FFA15A",
          "symbol": "circle"
         },
         "mode": "markers+text",
         "name": "Darko Brasanac",
         "orientation": "v",
         "showlegend": true,
         "text": [
          "Darko Brasanac"
         ],
         "textposition": "top center",
         "type": "scatter",
         "x": [
          1
         ],
         "xaxis": "x",
         "y": [
          0
         ],
         "yaxis": "y"
        },
        {
         "hovertemplate": "player_name=%{text}<br>Assists=%{x}<br>goals_scored=%{y}<extra></extra>",
         "legendgroup": "Wakaso Mubarak",
         "marker": {
          "color": "#19d3f3",
          "symbol": "circle"
         },
         "mode": "markers+text",
         "name": "Wakaso Mubarak",
         "orientation": "v",
         "showlegend": true,
         "text": [
          "Wakaso Mubarak"
         ],
         "textposition": "top center",
         "type": "scatter",
         "x": [
          1
         ],
         "xaxis": "x",
         "y": [
          1
         ],
         "yaxis": "y"
        },
        {
         "hovertemplate": "player_name=%{text}<br>Assists=%{x}<br>goals_scored=%{y}<extra></extra>",
         "legendgroup": "Jony Rodríguez",
         "marker": {
          "color": "#FF6692",
          "symbol": "circle"
         },
         "mode": "markers+text",
         "name": "Jony Rodríguez",
         "orientation": "v",
         "showlegend": true,
         "text": [
          "Jony Rodríguez"
         ],
         "textposition": "top center",
         "type": "scatter",
         "x": [
          1
         ],
         "xaxis": "x",
         "y": [
          5
         ],
         "yaxis": "y"
        },
        {
         "hovertemplate": "player_name=%{text}<br>Assists=%{x}<br>goals_scored=%{y}<extra></extra>",
         "legendgroup": "Paulino De la Fuente",
         "marker": {
          "color": "#B6E880",
          "symbol": "circle"
         },
         "mode": "markers+text",
         "name": "Paulino De la Fuente",
         "orientation": "v",
         "showlegend": true,
         "text": [
          "Paulino De la Fuente"
         ],
         "textposition": "top center",
         "type": "scatter",
         "x": [
          10
         ],
         "xaxis": "x",
         "y": [
          0
         ],
         "yaxis": "y"
        },
        {
         "hovertemplate": "player_name=%{text}<br>Assists=%{x}<br>goals_scored=%{y}<extra></extra>",
         "legendgroup": "Andrei Lupu",
         "marker": {
          "color": "#FF97FF",
          "symbol": "circle"
         },
         "mode": "markers+text",
         "name": "Andrei Lupu",
         "orientation": "v",
         "showlegend": true,
         "text": [
          "Andrei Lupu"
         ],
         "textposition": "top center",
         "type": "scatter",
         "x": [
          0
         ],
         "xaxis": "x",
         "y": [
          0
         ],
         "yaxis": "y"
        },
        {
         "hovertemplate": "player_name=%{text}<br>Assists=%{x}<br>goals_scored=%{y}<extra></extra>",
         "legendgroup": "Diego Rolán",
         "marker": {
          "color": "#FECB52",
          "symbol": "circle"
         },
         "mode": "markers+text",
         "name": "Diego Rolán",
         "orientation": "v",
         "showlegend": true,
         "text": [
          "Diego Rolán"
         ],
         "textposition": "top center",
         "type": "scatter",
         "x": [
          0
         ],
         "xaxis": "x",
         "y": [
          0
         ],
         "yaxis": "y"
        },
        {
         "hovertemplate": "player_name=%{text}<br>Assists=%{x}<br>goals_scored=%{y}<extra></extra>",
         "legendgroup": "Rubén Sobrino",
         "marker": {
          "color": "#636efa",
          "symbol": "circle"
         },
         "mode": "markers+text",
         "name": "Rubén Sobrino",
         "orientation": "v",
         "showlegend": true,
         "text": [
          "Rubén Sobrino"
         ],
         "textposition": "top center",
         "type": "scatter",
         "x": [
          0
         ],
         "xaxis": "x",
         "y": [
          3
         ],
         "yaxis": "y"
        },
        {
         "hovertemplate": "player_name=%{text}<br>Assists=%{x}<br>goals_scored=%{y}<extra></extra>",
         "legendgroup": "John Guidetti",
         "marker": {
          "color": "#EF553B",
          "symbol": "circle"
         },
         "mode": "markers+text",
         "name": "John Guidetti",
         "orientation": "v",
         "showlegend": true,
         "text": [
          "John Guidetti"
         ],
         "textposition": "top center",
         "type": "scatter",
         "x": [
          1
         ],
         "xaxis": "x",
         "y": [
          2
         ],
         "yaxis": "y"
        },
        {
         "hovertemplate": "player_name=%{text}<br>Assists=%{x}<br>goals_scored=%{y}<extra></extra>",
         "legendgroup": "Jonathan Calleri",
         "marker": {
          "color": "#00cc96",
          "symbol": "circle"
         },
         "mode": "markers+text",
         "name": "Jonathan Calleri",
         "orientation": "v",
         "showlegend": true,
         "text": [
          "Jonathan Calleri"
         ],
         "textposition": "top center",
         "type": "scatter",
         "x": [
          2
         ],
         "xaxis": "x",
         "y": [
          9
         ],
         "yaxis": "y"
        },
        {
         "hovertemplate": "player_name=%{text}<br>Assists=%{x}<br>goals_scored=%{y}<extra></extra>",
         "legendgroup": "Burgui",
         "marker": {
          "color": "#ab63fa",
          "symbol": "circle"
         },
         "mode": "markers+text",
         "name": "Burgui",
         "orientation": "v",
         "showlegend": true,
         "text": [
          "Burgui"
         ],
         "textposition": "top center",
         "type": "scatter",
         "x": [
          0
         ],
         "xaxis": "x",
         "y": [
          1
         ],
         "yaxis": "y"
        },
        {
         "hovertemplate": "player_name=%{text}<br>Assists=%{x}<br>goals_scored=%{y}<extra></extra>",
         "legendgroup": "Borja Bastón",
         "marker": {
          "color": "#FFA15A",
          "symbol": "circle"
         },
         "mode": "markers+text",
         "name": "Borja Bastón",
         "orientation": "v",
         "showlegend": true,
         "text": [
          "Borja Bastón"
         ],
         "textposition": "top center",
         "type": "scatter",
         "x": [
          1
         ],
         "xaxis": "x",
         "y": [
          5
         ],
         "yaxis": "y"
        },
        {
         "hovertemplate": "player_name=%{text}<br>Assists=%{x}<br>goals_scored=%{y}<extra></extra>",
         "legendgroup": "Patrick Twumasi",
         "marker": {
          "color": "#19d3f3",
          "symbol": "circle"
         },
         "mode": "markers+text",
         "name": "Patrick Twumasi",
         "orientation": "v",
         "showlegend": true,
         "text": [
          "Patrick Twumasi"
         ],
         "textposition": "top center",
         "type": "scatter",
         "x": [
          0
         ],
         "xaxis": "x",
         "y": [
          0
         ],
         "yaxis": "y"
        },
        {
         "hovertemplate": "player_name=%{text}<br>Assists=%{x}<br>goals_scored=%{y}<extra></extra>",
         "legendgroup": "Daniel Alejandro Torres",
         "marker": {
          "color": "#FF6692",
          "symbol": "circle"
         },
         "mode": "markers+text",
         "name": "Daniel Alejandro Torres",
         "orientation": "v",
         "showlegend": true,
         "text": [
          "Daniel Alejandro Torres"
         ],
         "textposition": "top center",
         "type": "scatter",
         "x": [
          0
         ],
         "xaxis": "x",
         "y": [
          0
         ],
         "yaxis": "y"
        },
        {
         "hovertemplate": "player_name=%{text}<br>Assists=%{x}<br>goals_scored=%{y}<extra></extra>",
         "legendgroup": "Marc-André ter Stegen",
         "marker": {
          "color": "#B6E880",
          "symbol": "circle"
         },
         "mode": "markers+text",
         "name": "Marc-André ter Stegen",
         "orientation": "v",
         "showlegend": true,
         "text": [
          "Marc-André ter Stegen"
         ],
         "textposition": "top center",
         "type": "scatter",
         "x": [
          0
         ],
         "xaxis": "x",
         "y": [
          0
         ],
         "yaxis": "y"
        },
        {
         "hovertemplate": "player_name=%{text}<br>Assists=%{x}<br>goals_scored=%{y}<extra></extra>",
         "legendgroup": "Jasper Cillessen",
         "marker": {
          "color": "#FF97FF",
          "symbol": "circle"
         },
         "mode": "markers+text",
         "name": "Jasper Cillessen",
         "orientation": "v",
         "showlegend": true,
         "text": [
          "Jasper Cillessen"
         ],
         "textposition": "top center",
         "type": "scatter",
         "x": [
          0
         ],
         "xaxis": "x",
         "y": [
          0
         ],
         "yaxis": "y"
        },
        {
         "hovertemplate": "player_name=%{text}<br>Assists=%{x}<br>goals_scored=%{y}<extra></extra>",
         "legendgroup": "Iñaki Peña",
         "marker": {
          "color": "#FECB52",
          "symbol": "circle"
         },
         "mode": "markers+text",
         "name": "Iñaki Peña",
         "orientation": "v",
         "showlegend": true,
         "text": [
          "Iñaki Peña"
         ],
         "textposition": "top center",
         "type": "scatter",
         "x": [
          0
         ],
         "xaxis": "x",
         "y": [
          0
         ],
         "yaxis": "y"
        },
        {
         "hovertemplate": "player_name=%{text}<br>Assists=%{x}<br>goals_scored=%{y}<extra></extra>",
         "legendgroup": "Nélson Semedo",
         "marker": {
          "color": "#636efa",
          "symbol": "circle"
         },
         "mode": "markers+text",
         "name": "Nélson Semedo",
         "orientation": "v",
         "showlegend": true,
         "text": [
          "Nélson Semedo"
         ],
         "textposition": "top center",
         "type": "scatter",
         "x": [
          0
         ],
         "xaxis": "x",
         "y": [
          1
         ],
         "yaxis": "y"
        },
        {
         "hovertemplate": "player_name=%{text}<br>Assists=%{x}<br>goals_scored=%{y}<extra></extra>",
         "legendgroup": "Gerard Piqué",
         "marker": {
          "color": "#EF553B",
          "symbol": "circle"
         },
         "mode": "markers+text",
         "name": "Gerard Piqué",
         "orientation": "v",
         "showlegend": true,
         "text": [
          "Gerard Piqué"
         ],
         "textposition": "top center",
         "type": "scatter",
         "x": [
          2
         ],
         "xaxis": "x",
         "y": [
          4
         ],
         "yaxis": "y"
        },
        {
         "hovertemplate": "player_name=%{text}<br>Assists=%{x}<br>goals_scored=%{y}<extra></extra>",
         "legendgroup": "Jean-Clair Todibo",
         "marker": {
          "color": "#00cc96",
          "symbol": "circle"
         },
         "mode": "markers+text",
         "name": "Jean-Clair Todibo",
         "orientation": "v",
         "showlegend": true,
         "text": [
          "Jean-Clair Todibo"
         ],
         "textposition": "top center",
         "type": "scatter",
         "x": [
          0
         ],
         "xaxis": "x",
         "y": [
          0
         ],
         "yaxis": "y"
        },
        {
         "hovertemplate": "player_name=%{text}<br>Assists=%{x}<br>goals_scored=%{y}<extra></extra>",
         "legendgroup": "Clément Lenglet",
         "marker": {
          "color": "#ab63fa",
          "symbol": "circle"
         },
         "mode": "markers+text",
         "name": "Clément Lenglet",
         "orientation": "v",
         "showlegend": true,
         "text": [
          "Clément Lenglet"
         ],
         "textposition": "top center",
         "type": "scatter",
         "x": [
          0
         ],
         "xaxis": "x",
         "y": [
          2
         ],
         "yaxis": "y"
        },
        {
         "hovertemplate": "player_name=%{text}<br>Assists=%{x}<br>goals_scored=%{y}<extra></extra>",
         "legendgroup": "Jordi Alba",
         "marker": {
          "color": "#FFA15A",
          "symbol": "circle"
         },
         "mode": "markers+text",
         "name": "Jordi Alba",
         "orientation": "v",
         "showlegend": true,
         "text": [
          "Jordi Alba"
         ],
         "textposition": "top center",
         "type": "scatter",
         "x": [
          8
         ],
         "xaxis": "x",
         "y": [
          2
         ],
         "yaxis": "y"
        },
        {
         "hovertemplate": "player_name=%{text}<br>Assists=%{x}<br>goals_scored=%{y}<extra></extra>",
         "legendgroup": "Sergi Roberto",
         "marker": {
          "color": "#19d3f3",
          "symbol": "circle"
         },
         "mode": "markers+text",
         "name": "Sergi Roberto",
         "orientation": "v",
         "showlegend": true,
         "text": [
          "Sergi Roberto"
         ],
         "textposition": "top center",
         "type": "scatter",
         "x": [
          7
         ],
         "xaxis": "x",
         "y": [
          0
         ],
         "yaxis": "y"
        },
        {
         "hovertemplate": "player_name=%{text}<br>Assists=%{x}<br>goals_scored=%{y}<extra></extra>",
         "legendgroup": "Samuel Umtiti",
         "marker": {
          "color": "#FF6692",
          "symbol": "circle"
         },
         "mode": "markers+text",
         "name": "Samuel Umtiti",
         "orientation": "v",
         "showlegend": true,
         "text": [
          "Samuel Umtiti"
         ],
         "textposition": "top center",
         "type": "scatter",
         "x": [
          1
         ],
         "xaxis": "x",
         "y": [
          0
         ],
         "yaxis": "y"
        },
        {
         "hovertemplate": "player_name=%{text}<br>Assists=%{x}<br>goals_scored=%{y}<extra></extra>",
         "legendgroup": "Thomas Vermaelen",
         "marker": {
          "color": "#B6E880",
          "symbol": "circle"
         },
         "mode": "markers+text",
         "name": "Thomas Vermaelen",
         "orientation": "v",
         "showlegend": true,
         "text": [
          "Thomas Vermaelen"
         ],
         "textposition": "top center",
         "type": "scatter",
         "x": [
          0
         ],
         "xaxis": "x",
         "y": [
          0
         ],
         "yaxis": "y"
        },
        {
         "hovertemplate": "player_name=%{text}<br>Assists=%{x}<br>goals_scored=%{y}<extra></extra>",
         "legendgroup": "Juan Miranda",
         "marker": {
          "color": "#FF97FF",
          "symbol": "circle"
         },
         "mode": "markers+text",
         "name": "Juan Miranda",
         "orientation": "v",
         "showlegend": true,
         "text": [
          "Juan Miranda"
         ],
         "textposition": "top center",
         "type": "scatter",
         "x": [
          0
         ],
         "xaxis": "x",
         "y": [
          0
         ],
         "yaxis": "y"
        },
        {
         "hovertemplate": "player_name=%{text}<br>Assists=%{x}<br>goals_scored=%{y}<extra></extra>",
         "legendgroup": "Guillem Jaime",
         "marker": {
          "color": "#FECB52",
          "symbol": "circle"
         },
         "mode": "markers+text",
         "name": "Guillem Jaime",
         "orientation": "v",
         "showlegend": true,
         "text": [
          "Guillem Jaime"
         ],
         "textposition": "top center",
         "type": "scatter",
         "x": [
          0
         ],
         "xaxis": "x",
         "y": [
          0
         ],
         "yaxis": "y"
        },
        {
         "hovertemplate": "player_name=%{text}<br>Assists=%{x}<br>goals_scored=%{y}<extra></extra>",
         "legendgroup": "Moussa Wagué",
         "marker": {
          "color": "#636efa",
          "symbol": "circle"
         },
         "mode": "markers+text",
         "name": "Moussa Wagué",
         "orientation": "v",
         "showlegend": true,
         "text": [
          "Moussa Wagué"
         ],
         "textposition": "top center",
         "type": "scatter",
         "x": [
          5
         ],
         "xaxis": "x",
         "y": [
          0
         ],
         "yaxis": "y"
        },
        {
         "hovertemplate": "player_name=%{text}<br>Assists=%{x}<br>goals_scored=%{y}<extra></extra>",
         "legendgroup": "Ivan Rakitic",
         "marker": {
          "color": "#EF553B",
          "symbol": "circle"
         },
         "mode": "markers+text",
         "name": "Ivan Rakitic",
         "orientation": "v",
         "showlegend": true,
         "text": [
          "Ivan Rakitic"
         ],
         "textposition": "top center",
         "type": "scatter",
         "x": [
          1
         ],
         "xaxis": "x",
         "y": [
          3
         ],
         "yaxis": "y"
        },
        {
         "hovertemplate": "player_name=%{text}<br>Assists=%{x}<br>goals_scored=%{y}<extra></extra>",
         "legendgroup": "Sergio Busquets",
         "marker": {
          "color": "#00cc96",
          "symbol": "circle"
         },
         "mode": "markers+text",
         "name": "Sergio Busquets",
         "orientation": "v",
         "showlegend": true,
         "text": [
          "Sergio Busquets"
         ],
         "textposition": "top center",
         "type": "scatter",
         "x": [
          2
         ],
         "xaxis": "x",
         "y": [
          0
         ],
         "yaxis": "y"
        },
        {
         "hovertemplate": "player_name=%{text}<br>Assists=%{x}<br>goals_scored=%{y}<extra></extra>",
         "legendgroup": "Philippe Coutinho",
         "marker": {
          "color": "#ab63fa",
          "symbol": "circle"
         },
         "mode": "markers+text",
         "name": "Philippe Coutinho",
         "orientation": "v",
         "showlegend": true,
         "text": [
          "Philippe Coutinho"
         ],
         "textposition": "top center",
         "type": "scatter",
         "x": [
          1
         ],
         "xaxis": "x",
         "y": [
          5
         ],
         "yaxis": "y"
        },
        {
         "hovertemplate": "player_name=%{text}<br>Assists=%{x}<br>goals_scored=%{y}<extra></extra>",
         "legendgroup": "Arthur Melo",
         "marker": {
          "color": "#FFA15A",
          "symbol": "circle"
         },
         "mode": "markers+text",
         "name": "Arthur Melo",
         "orientation": "v",
         "showlegend": true,
         "text": [
          "Arthur Melo"
         ],
         "textposition": "top center",
         "type": "scatter",
         "x": [
          0
         ],
         "xaxis": "x",
         "y": [
          0
         ],
         "yaxis": "y"
        },
        {
         "hovertemplate": "player_name=%{text}<br>Assists=%{x}<br>goals_scored=%{y}<extra></extra>",
         "legendgroup": "Rafinha Alcántara",
         "marker": {
          "color": "#19d3f3",
          "symbol": "circle"
         },
         "mode": "markers+text",
         "name": "Rafinha Alcántara",
         "orientation": "v",
         "showlegend": true,
         "text": [
          "Rafinha Alcántara"
         ],
         "textposition": "top center",
         "type": "scatter",
         "x": [
          0
         ],
         "xaxis": "x",
         "y": [
          0
         ],
         "yaxis": "y"
        },
        {
         "hovertemplate": "player_name=%{text}<br>Assists=%{x}<br>goals_scored=%{y}<extra></extra>",
         "legendgroup": "Carles Aleñá",
         "marker": {
          "color": "#FF6692",
          "symbol": "circle"
         },
         "mode": "markers+text",
         "name": "Carles Aleñá",
         "orientation": "v",
         "showlegend": true,
         "text": [
          "Carles Aleñá"
         ],
         "textposition": "top center",
         "type": "scatter",
         "x": [
          7
         ],
         "xaxis": "x",
         "y": [
          2
         ],
         "yaxis": "y"
        },
        {
         "hovertemplate": "player_name=%{text}<br>Assists=%{x}<br>goals_scored=%{y}<extra></extra>",
         "legendgroup": "Arturo Vidal",
         "marker": {
          "color": "#B6E880",
          "symbol": "circle"
         },
         "mode": "markers+text",
         "name": "Arturo Vidal",
         "orientation": "v",
         "showlegend": true,
         "text": [
          "Arturo Vidal"
         ],
         "textposition": "top center",
         "type": "scatter",
         "x": [
          6
         ],
         "xaxis": "x",
         "y": [
          3
         ],
         "yaxis": "y"
        },
        {
         "hovertemplate": "player_name=%{text}<br>Assists=%{x}<br>goals_scored=%{y}<extra></extra>",
         "legendgroup": "Luis Suárez",
         "marker": {
          "color": "#FF97FF",
          "symbol": "circle"
         },
         "mode": "markers+text",
         "name": "Luis Suárez",
         "orientation": "v",
         "showlegend": true,
         "text": [
          "Luis Suárez"
         ],
         "textposition": "top center",
         "type": "scatter",
         "x": [
          13
         ],
         "xaxis": "x",
         "y": [
          21
         ],
         "yaxis": "y"
        },
        {
         "hovertemplate": "player_name=%{text}<br>Assists=%{x}<br>goals_scored=%{y}<extra></extra>",
         "legendgroup": "Lionel Messi",
         "marker": {
          "color": "#FECB52",
          "symbol": "circle"
         },
         "mode": "markers+text",
         "name": "Lionel Messi",
         "orientation": "v",
         "showlegend": true,
         "text": [
          "Lionel Messi"
         ],
         "textposition": "top center",
         "type": "scatter",
         "x": [
          5
         ],
         "xaxis": "x",
         "y": [
          36
         ],
         "yaxis": "y"
        },
        {
         "hovertemplate": "player_name=%{text}<br>Assists=%{x}<br>goals_scored=%{y}<extra></extra>",
         "legendgroup": "Ousmane Dembélé",
         "marker": {
          "color": "#636efa",
          "symbol": "circle"
         },
         "mode": "markers+text",
         "name": "Ousmane Dembélé",
         "orientation": "v",
         "showlegend": true,
         "text": [
          "Ousmane Dembélé"
         ],
         "textposition": "top center",
         "type": "scatter",
         "x": [
          2
         ],
         "xaxis": "x",
         "y": [
          8
         ],
         "yaxis": "y"
        },
        {
         "hovertemplate": "player_name=%{text}<br>Assists=%{x}<br>goals_scored=%{y}<extra></extra>",
         "legendgroup": "Malcom",
         "marker": {
          "color": "#EF553B",
          "symbol": "circle"
         },
         "mode": "markers+text",
         "name": "Malcom",
         "orientation": "v",
         "showlegend": true,
         "text": [
          "Malcom"
         ],
         "textposition": "top center",
         "type": "scatter",
         "x": [
          0
         ],
         "xaxis": "x",
         "y": [
          1
         ],
         "yaxis": "y"
        },
        {
         "hovertemplate": "player_name=%{text}<br>Assists=%{x}<br>goals_scored=%{y}<extra></extra>",
         "legendgroup": "Kevin-Prince Boateng",
         "marker": {
          "color": "#00cc96",
          "symbol": "circle"
         },
         "mode": "markers+text",
         "name": "Kevin-Prince Boateng",
         "orientation": "v",
         "showlegend": true,
         "text": [
          "Kevin-Prince Boateng"
         ],
         "textposition": "top center",
         "type": "scatter",
         "x": [
          0
         ],
         "xaxis": "x",
         "y": [
          0
         ],
         "yaxis": "y"
        },
        {
         "hovertemplate": "player_name=%{text}<br>Assists=%{x}<br>goals_scored=%{y}<extra></extra>",
         "legendgroup": "Mauro Chichizola",
         "marker": {
          "color": "#ab63fa",
          "symbol": "circle"
         },
         "mode": "markers+text",
         "name": "Mauro Chichizola",
         "orientation": "v",
         "showlegend": true,
         "text": [
          "Mauro Chichizola"
         ],
         "textposition": "top center",
         "type": "scatter",
         "x": [
          0
         ],
         "xaxis": "x",
         "y": [
          0
         ],
         "yaxis": "y"
        },
        {
         "hovertemplate": "player_name=%{text}<br>Assists=%{x}<br>goals_scored=%{y}<extra></extra>",
         "legendgroup": "David Soria",
         "marker": {
          "color": "#FFA15A",
          "symbol": "circle"
         },
         "mode": "markers+text",
         "name": "David Soria",
         "orientation": "v",
         "showlegend": true,
         "text": [
          "David Soria"
         ],
         "textposition": "top center",
         "type": "scatter",
         "x": [
          0
         ],
         "xaxis": "x",
         "y": [
          0
         ],
         "yaxis": "y"
        },
        {
         "hovertemplate": "player_name=%{text}<br>Assists=%{x}<br>goals_scored=%{y}<extra></extra>",
         "legendgroup": "Roberto Yáñez",
         "marker": {
          "color": "#19d3f3",
          "symbol": "circle"
         },
         "mode": "markers+text",
         "name": "Roberto Yáñez",
         "orientation": "v",
         "showlegend": true,
         "text": [
          "Roberto Yáñez"
         ],
         "textposition": "top center",
         "type": "scatter",
         "x": [
          0
         ],
         "xaxis": "x",
         "y": [
          0
         ],
         "yaxis": "y"
        },
        {
         "hovertemplate": "player_name=%{text}<br>Assists=%{x}<br>goals_scored=%{y}<extra></extra>",
         "legendgroup": "Djené Dakonam Ortega",
         "marker": {
          "color": "#FF6692",
          "symbol": "circle"
         },
         "mode": "markers+text",
         "name": "Djené Dakonam Ortega",
         "orientation": "v",
         "showlegend": true,
         "text": [
          "Djené Dakonam Ortega"
         ],
         "textposition": "top center",
         "type": "scatter",
         "x": [
          3
         ],
         "xaxis": "x",
         "y": [
          0
         ],
         "yaxis": "y"
        },
        {
         "hovertemplate": "player_name=%{text}<br>Assists=%{x}<br>goals_scored=%{y}<extra></extra>",
         "legendgroup": "Vitorino Antunes",
         "marker": {
          "color": "#B6E880",
          "symbol": "circle"
         },
         "mode": "markers+text",
         "name": "Vitorino Antunes",
         "orientation": "v",
         "showlegend": true,
         "text": [
          "Vitorino Antunes"
         ],
         "textposition": "top center",
         "type": "scatter",
         "x": [
          1
         ],
         "xaxis": "x",
         "y": [
          1
         ],
         "yaxis": "y"
        },
        {
         "hovertemplate": "player_name=%{text}<br>Assists=%{x}<br>goals_scored=%{y}<extra></extra>",
         "legendgroup": "Bruno González",
         "marker": {
          "color": "#FF97FF",
          "symbol": "circle"
         },
         "mode": "markers+text",
         "name": "Bruno González",
         "orientation": "v",
         "showlegend": true,
         "text": [
          "Bruno González"
         ],
         "textposition": "top center",
         "type": "scatter",
         "x": [
          0
         ],
         "xaxis": "x",
         "y": [
          0
         ],
         "yaxis": "y"
        },
        {
         "hovertemplate": "player_name=%{text}<br>Assists=%{x}<br>goals_scored=%{y}<extra></extra>",
         "legendgroup": "Leandro Cabrera",
         "marker": {
          "color": "#FECB52",
          "symbol": "circle"
         },
         "mode": "markers+text",
         "name": "Leandro Cabrera",
         "orientation": "v",
         "showlegend": true,
         "text": [
          "Leandro Cabrera"
         ],
         "textposition": "top center",
         "type": "scatter",
         "x": [
          1
         ],
         "xaxis": "x",
         "y": [
          3
         ],
         "yaxis": "y"
        },
        {
         "hovertemplate": "player_name=%{text}<br>Assists=%{x}<br>goals_scored=%{y}<extra></extra>",
         "legendgroup": "Mathías Olivera",
         "marker": {
          "color": "#636efa",
          "symbol": "circle"
         },
         "mode": "markers+text",
         "name": "Mathías Olivera",
         "orientation": "v",
         "showlegend": true,
         "text": [
          "Mathías Olivera"
         ],
         "textposition": "top center",
         "type": "scatter",
         "x": [
          0
         ],
         "xaxis": "x",
         "y": [
          0
         ],
         "yaxis": "y"
        },
        {
         "hovertemplate": "player_name=%{text}<br>Assists=%{x}<br>goals_scored=%{y}<extra></extra>",
         "legendgroup": "Ignasi Miquel",
         "marker": {
          "color": "#EF553B",
          "symbol": "circle"
         },
         "mode": "markers+text",
         "name": "Ignasi Miquel",
         "orientation": "v",
         "showlegend": true,
         "text": [
          "Ignasi Miquel"
         ],
         "textposition": "top center",
         "type": "scatter",
         "x": [
          3
         ],
         "xaxis": "x",
         "y": [
          0
         ],
         "yaxis": "y"
        },
        {
         "hovertemplate": "player_name=%{text}<br>Assists=%{x}<br>goals_scored=%{y}<extra></extra>",
         "legendgroup": "Damián Suárez",
         "marker": {
          "color": "#00cc96",
          "symbol": "circle"
         },
         "mode": "markers+text",
         "name": "Damián Suárez",
         "orientation": "v",
         "showlegend": true,
         "text": [
          "Damián Suárez"
         ],
         "textposition": "top center",
         "type": "scatter",
         "x": [
          2
         ],
         "xaxis": "x",
         "y": [
          0
         ],
         "yaxis": "y"
        },
        {
         "hovertemplate": "player_name=%{text}<br>Assists=%{x}<br>goals_scored=%{y}<extra></extra>",
         "legendgroup": "Dimitri Foulquier",
         "marker": {
          "color": "#ab63fa",
          "symbol": "circle"
         },
         "mode": "markers+text",
         "name": "Dimitri Foulquier",
         "orientation": "v",
         "showlegend": true,
         "text": [
          "Dimitri Foulquier"
         ],
         "textposition": "top center",
         "type": "scatter",
         "x": [
          0
         ],
         "xaxis": "x",
         "y": [
          3
         ],
         "yaxis": "y"
        },
        {
         "hovertemplate": "player_name=%{text}<br>Assists=%{x}<br>goals_scored=%{y}<extra></extra>",
         "legendgroup": "Miguel Ángel Rubio",
         "marker": {
          "color": "#FFA15A",
          "symbol": "circle"
         },
         "mode": "markers+text",
         "name": "Miguel Ángel Rubio",
         "orientation": "v",
         "showlegend": true,
         "text": [
          "Miguel Ángel Rubio"
         ],
         "textposition": "top center",
         "type": "scatter",
         "x": [
          0
         ],
         "xaxis": "x",
         "y": [
          0
         ],
         "yaxis": "y"
        },
        {
         "hovertemplate": "player_name=%{text}<br>Assists=%{x}<br>goals_scored=%{y}<extra></extra>",
         "legendgroup": "Markel Bergara",
         "marker": {
          "color": "#19d3f3",
          "symbol": "circle"
         },
         "mode": "markers+text",
         "name": "Markel Bergara",
         "orientation": "v",
         "showlegend": true,
         "text": [
          "Markel Bergara"
         ],
         "textposition": "top center",
         "type": "scatter",
         "x": [
          4
         ],
         "xaxis": "x",
         "y": [
          0
         ],
         "yaxis": "y"
        },
        {
         "hovertemplate": "player_name=%{text}<br>Assists=%{x}<br>goals_scored=%{y}<extra></extra>",
         "legendgroup": "Francisco Portillo Soler",
         "marker": {
          "color": "#FF6692",
          "symbol": "circle"
         },
         "mode": "markers+text",
         "name": "Francisco Portillo Soler",
         "orientation": "v",
         "showlegend": true,
         "text": [
          "Francisco Portillo Soler"
         ],
         "textposition": "top center",
         "type": "scatter",
         "x": [
          0
         ],
         "xaxis": "x",
         "y": [
          1
         ],
         "yaxis": "y"
        },
        {
         "hovertemplate": "player_name=%{text}<br>Assists=%{x}<br>goals_scored=%{y}<extra></extra>",
         "legendgroup": "Gaku Shibasaki",
         "marker": {
          "color": "#B6E880",
          "symbol": "circle"
         },
         "mode": "markers+text",
         "name": "Gaku Shibasaki",
         "orientation": "v",
         "showlegend": true,
         "text": [
          "Gaku Shibasaki"
         ],
         "textposition": "top center",
         "type": "scatter",
         "x": [
          0
         ],
         "xaxis": "x",
         "y": [
          0
         ],
         "yaxis": "y"
        },
        {
         "hovertemplate": "player_name=%{text}<br>Assists=%{x}<br>goals_scored=%{y}<extra></extra>",
         "legendgroup": "Samuel Sáiz",
         "marker": {
          "color": "#FF97FF",
          "symbol": "circle"
         },
         "mode": "markers+text",
         "name": "Samuel Sáiz",
         "orientation": "v",
         "showlegend": true,
         "text": [
          "Samuel Sáiz"
         ],
         "textposition": "top center",
         "type": "scatter",
         "x": [
          2
         ],
         "xaxis": "x",
         "y": [
          1
         ],
         "yaxis": "y"
        },
        {
         "hovertemplate": "player_name=%{text}<br>Assists=%{x}<br>goals_scored=%{y}<extra></extra>",
         "legendgroup": "Sebastián Cristóforo",
         "marker": {
          "color": "#FECB52",
          "symbol": "circle"
         },
         "mode": "markers+text",
         "name": "Sebastián Cristóforo",
         "orientation": "v",
         "showlegend": true,
         "text": [
          "Sebastián Cristóforo"
         ],
         "textposition": "top center",
         "type": "scatter",
         "x": [
          0
         ],
         "xaxis": "x",
         "y": [
          0
         ],
         "yaxis": "y"
        },
        {
         "hovertemplate": "player_name=%{text}<br>Assists=%{x}<br>goals_scored=%{y}<extra></extra>",
         "legendgroup": "Mathieu Flamini",
         "marker": {
          "color": "#636efa",
          "symbol": "circle"
         },
         "mode": "markers+text",
         "name": "Mathieu Flamini",
         "orientation": "v",
         "showlegend": true,
         "text": [
          "Mathieu Flamini"
         ],
         "textposition": "top center",
         "type": "scatter",
         "x": [
          2
         ],
         "xaxis": "x",
         "y": [
          0
         ],
         "yaxis": "y"
        },
        {
         "hovertemplate": "player_name=%{text}<br>Assists=%{x}<br>goals_scored=%{y}<extra></extra>",
         "legendgroup": "Mauro Arambarri",
         "marker": {
          "color": "#EF553B",
          "symbol": "circle"
         },
         "mode": "markers+text",
         "name": "Mauro Arambarri",
         "orientation": "v",
         "showlegend": true,
         "text": [
          "Mauro Arambarri"
         ],
         "textposition": "top center",
         "type": "scatter",
         "x": [
          0
         ],
         "xaxis": "x",
         "y": [
          2
         ],
         "yaxis": "y"
        },
        {
         "hovertemplate": "player_name=%{text}<br>Assists=%{x}<br>goals_scored=%{y}<extra></extra>",
         "legendgroup": "Nemanja Maksimovic",
         "marker": {
          "color": "#00cc96",
          "symbol": "circle"
         },
         "mode": "markers+text",
         "name": "Nemanja Maksimovic",
         "orientation": "v",
         "showlegend": true,
         "text": [
          "Nemanja Maksimovic"
         ],
         "textposition": "top center",
         "type": "scatter",
         "x": [
          0
         ],
         "xaxis": "x",
         "y": [
          1
         ],
         "yaxis": "y"
        },
        {
         "hovertemplate": "player_name=%{text}<br>Assists=%{x}<br>goals_scored=%{y}<extra></extra>",
         "legendgroup": "Hugo Duro",
         "marker": {
          "color": "#ab63fa",
          "symbol": "circle"
         },
         "mode": "markers+text",
         "name": "Hugo Duro",
         "orientation": "v",
         "showlegend": true,
         "text": [
          "Hugo Duro"
         ],
         "textposition": "top center",
         "type": "scatter",
         "x": [
          6
         ],
         "xaxis": "x",
         "y": [
          0
         ],
         "yaxis": "y"
        },
        {
         "hovertemplate": "player_name=%{text}<br>Assists=%{x}<br>goals_scored=%{y}<extra></extra>",
         "legendgroup": "Iván Alejo",
         "marker": {
          "color": "#FFA15A",
          "symbol": "circle"
         },
         "mode": "markers+text",
         "name": "Iván Alejo",
         "orientation": "v",
         "showlegend": true,
         "text": [
          "Iván Alejo"
         ],
         "textposition": "top center",
         "type": "scatter",
         "x": [
          3
         ],
         "xaxis": "x",
         "y": [
          0
         ],
         "yaxis": "y"
        },
        {
         "hovertemplate": "player_name=%{text}<br>Assists=%{x}<br>goals_scored=%{y}<extra></extra>",
         "legendgroup": "Robert Ibáñez",
         "marker": {
          "color": "#19d3f3",
          "symbol": "circle"
         },
         "mode": "markers+text",
         "name": "Robert Ibáñez",
         "orientation": "v",
         "showlegend": true,
         "text": [
          "Robert Ibáñez"
         ],
         "textposition": "top center",
         "type": "scatter",
         "x": [
          5
         ],
         "xaxis": "x",
         "y": [
          0
         ],
         "yaxis": "y"
        },
        {
         "hovertemplate": "player_name=%{text}<br>Assists=%{x}<br>goals_scored=%{y}<extra></extra>",
         "legendgroup": "Jaime Mata",
         "marker": {
          "color": "#FF6692",
          "symbol": "circle"
         },
         "mode": "markers+text",
         "name": "Jaime Mata",
         "orientation": "v",
         "showlegend": true,
         "text": [
          "Jaime Mata"
         ],
         "textposition": "top center",
         "type": "scatter",
         "x": [
          0
         ],
         "xaxis": "x",
         "y": [
          14
         ],
         "yaxis": "y"
        },
        {
         "hovertemplate": "player_name=%{text}<br>Assists=%{x}<br>goals_scored=%{y}<extra></extra>",
         "legendgroup": "Ángel Rodríguez",
         "marker": {
          "color": "#B6E880",
          "symbol": "circle"
         },
         "mode": "markers+text",
         "name": "Ángel Rodríguez",
         "orientation": "v",
         "showlegend": true,
         "text": [
          "Ángel Rodríguez"
         ],
         "textposition": "top center",
         "type": "scatter",
         "x": [
          0
         ],
         "xaxis": "x",
         "y": [
          8
         ],
         "yaxis": "y"
        },
        {
         "hovertemplate": "player_name=%{text}<br>Assists=%{x}<br>goals_scored=%{y}<extra></extra>",
         "legendgroup": "Jorge Molina Vidal",
         "marker": {
          "color": "#FF97FF",
          "symbol": "circle"
         },
         "mode": "markers+text",
         "name": "Jorge Molina Vidal",
         "orientation": "v",
         "showlegend": true,
         "text": [
          "Jorge Molina Vidal"
         ],
         "textposition": "top center",
         "type": "scatter",
         "x": [
          0
         ],
         "xaxis": "x",
         "y": [
          14
         ],
         "yaxis": "y"
        },
        {
         "hovertemplate": "player_name=%{text}<br>Assists=%{x}<br>goals_scored=%{y}<extra></extra>",
         "legendgroup": "Amath Ndiaye",
         "marker": {
          "color": "#FECB52",
          "symbol": "circle"
         },
         "mode": "markers+text",
         "name": "Amath Ndiaye",
         "orientation": "v",
         "showlegend": true,
         "text": [
          "Amath Ndiaye"
         ],
         "textposition": "top center",
         "type": "scatter",
         "x": [
          1
         ],
         "xaxis": "x",
         "y": [
          1
         ],
         "yaxis": "y"
        },
        {
         "hovertemplate": "player_name=%{text}<br>Assists=%{x}<br>goals_scored=%{y}<extra></extra>",
         "legendgroup": "Sergio Akieme",
         "marker": {
          "color": "#636efa",
          "symbol": "circle"
         },
         "mode": "markers+text",
         "name": "Sergio Akieme",
         "orientation": "v",
         "showlegend": true,
         "text": [
          "Sergio Akieme"
         ],
         "textposition": "top center",
         "type": "scatter",
         "x": [
          0
         ],
         "xaxis": "x",
         "y": [
          1
         ],
         "yaxis": "y"
        },
        {
         "hovertemplate": "player_name=%{text}<br>Assists=%{x}<br>goals_scored=%{y}<extra></extra>",
         "legendgroup": "Gorka Iraizoz",
         "marker": {
          "color": "#EF553B",
          "symbol": "circle"
         },
         "mode": "markers+text",
         "name": "Gorka Iraizoz",
         "orientation": "v",
         "showlegend": true,
         "text": [
          "Gorka Iraizoz"
         ],
         "textposition": "top center",
         "type": "scatter",
         "x": [
          0
         ],
         "xaxis": "x",
         "y": [
          0
         ],
         "yaxis": "y"
        },
        {
         "hovertemplate": "player_name=%{text}<br>Assists=%{x}<br>goals_scored=%{y}<extra></extra>",
         "legendgroup": "Yassine Bounou",
         "marker": {
          "color": "#00cc96",
          "symbol": "circle"
         },
         "mode": "markers+text",
         "name": "Yassine Bounou",
         "orientation": "v",
         "showlegend": true,
         "text": [
          "Yassine Bounou"
         ],
         "textposition": "top center",
         "type": "scatter",
         "x": [
          1
         ],
         "xaxis": "x",
         "y": [
          1
         ],
         "yaxis": "y"
        },
        {
         "hovertemplate": "player_name=%{text}<br>Assists=%{x}<br>goals_scored=%{y}<extra></extra>",
         "legendgroup": "Bernardo Espinosa",
         "marker": {
          "color": "#ab63fa",
          "symbol": "circle"
         },
         "mode": "markers+text",
         "name": "Bernardo Espinosa",
         "orientation": "v",
         "showlegend": true,
         "text": [
          "Bernardo Espinosa"
         ],
         "textposition": "top center",
         "type": "scatter",
         "x": [
          2
         ],
         "xaxis": "x",
         "y": [
          1
         ],
         "yaxis": "y"
        },
        {
         "hovertemplate": "player_name=%{text}<br>Assists=%{x}<br>goals_scored=%{y}<extra></extra>",
         "legendgroup": "Johan Mojica",
         "marker": {
          "color": "#FFA15A",
          "symbol": "circle"
         },
         "mode": "markers+text",
         "name": "Johan Mojica",
         "orientation": "v",
         "showlegend": true,
         "text": [
          "Johan Mojica"
         ],
         "textposition": "top center",
         "type": "scatter",
         "x": [
          1
         ],
         "xaxis": "x",
         "y": [
          0
         ],
         "yaxis": "y"
        },
        {
         "hovertemplate": "player_name=%{text}<br>Assists=%{x}<br>goals_scored=%{y}<extra></extra>",
         "legendgroup": "Jonás Ramalho",
         "marker": {
          "color": "#19d3f3",
          "symbol": "circle"
         },
         "mode": "markers+text",
         "name": "Jonás Ramalho",
         "orientation": "v",
         "showlegend": true,
         "text": [
          "Jonás Ramalho"
         ],
         "textposition": "top center",
         "type": "scatter",
         "x": [
          0
         ],
         "xaxis": "x",
         "y": [
          2
         ],
         "yaxis": "y"
        },
        {
         "hovertemplate": "player_name=%{text}<br>Assists=%{x}<br>goals_scored=%{y}<extra></extra>",
         "legendgroup": "Pedro Alcalá Guirado",
         "marker": {
          "color": "#FF6692",
          "symbol": "circle"
         },
         "mode": "markers+text",
         "name": "Pedro Alcalá Guirado",
         "orientation": "v",
         "showlegend": true,
         "text": [
          "Pedro Alcalá Guirado"
         ],
         "textposition": "top center",
         "type": "scatter",
         "x": [
          0
         ],
         "xaxis": "x",
         "y": [
          1
         ],
         "yaxis": "y"
        },
        {
         "hovertemplate": "player_name=%{text}<br>Assists=%{x}<br>goals_scored=%{y}<extra></extra>",
         "legendgroup": "Aday Benítez",
         "marker": {
          "color": "#B6E880",
          "symbol": "circle"
         },
         "mode": "markers+text",
         "name": "Aday Benítez",
         "orientation": "v",
         "showlegend": true,
         "text": [
          "Aday Benítez"
         ],
         "textposition": "top center",
         "type": "scatter",
         "x": [
          1
         ],
         "xaxis": "x",
         "y": [
          0
         ],
         "yaxis": "y"
        },
        {
         "hovertemplate": "player_name=%{text}<br>Assists=%{x}<br>goals_scored=%{y}<extra></extra>",
         "legendgroup": "Raúl García Carnero",
         "marker": {
          "color": "#FF97FF",
          "symbol": "circle"
         },
         "mode": "markers+text",
         "name": "Raúl García Carnero",
         "orientation": "v",
         "showlegend": true,
         "text": [
          "Raúl García Carnero"
         ],
         "textposition": "top center",
         "type": "scatter",
         "x": [
          0
         ],
         "xaxis": "x",
         "y": [
          0
         ],
         "yaxis": "y"
        },
        {
         "hovertemplate": "player_name=%{text}<br>Assists=%{x}<br>goals_scored=%{y}<extra></extra>",
         "legendgroup": "Juan Pedro López",
         "marker": {
          "color": "#FECB52",
          "symbol": "circle"
         },
         "mode": "markers+text",
         "name": "Juan Pedro López",
         "orientation": "v",
         "showlegend": true,
         "text": [
          "Juan Pedro López"
         ],
         "textposition": "top center",
         "type": "scatter",
         "x": [
          0
         ],
         "xaxis": "x",
         "y": [
          0
         ],
         "yaxis": "y"
        },
        {
         "hovertemplate": "player_name=%{text}<br>Assists=%{x}<br>goals_scored=%{y}<extra></extra>",
         "legendgroup": "Marc Muniesa",
         "marker": {
          "color": "#636efa",
          "symbol": "circle"
         },
         "mode": "markers+text",
         "name": "Marc Muniesa",
         "orientation": "v",
         "showlegend": true,
         "text": [
          "Marc Muniesa"
         ],
         "textposition": "top center",
         "type": "scatter",
         "x": [
          0
         ],
         "xaxis": "x",
         "y": [
          0
         ],
         "yaxis": "y"
        },
        {
         "hovertemplate": "player_name=%{text}<br>Assists=%{x}<br>goals_scored=%{y}<extra></extra>",
         "legendgroup": "Carles Planas",
         "marker": {
          "color": "#EF553B",
          "symbol": "circle"
         },
         "mode": "markers+text",
         "name": "Carles Planas",
         "orientation": "v",
         "showlegend": true,
         "text": [
          "Carles Planas"
         ],
         "textposition": "top center",
         "type": "scatter",
         "x": [
          0
         ],
         "xaxis": "x",
         "y": [
          0
         ],
         "yaxis": "y"
        },
        {
         "hovertemplate": "player_name=%{text}<br>Assists=%{x}<br>goals_scored=%{y}<extra></extra>",
         "legendgroup": "Èric Montes",
         "marker": {
          "color": "#00cc96",
          "symbol": "circle"
         },
         "mode": "markers+text",
         "name": "Èric Montes",
         "orientation": "v",
         "showlegend": true,
         "text": [
          "Èric Montes"
         ],
         "textposition": "top center",
         "type": "scatter",
         "x": [
          4
         ],
         "xaxis": "x",
         "y": [
          0
         ],
         "yaxis": "y"
        },
        {
         "hovertemplate": "player_name=%{text}<br>Assists=%{x}<br>goals_scored=%{y}<extra></extra>",
         "legendgroup": "Àlex Granell",
         "marker": {
          "color": "#ab63fa",
          "symbol": "circle"
         },
         "mode": "markers+text",
         "name": "Àlex Granell",
         "orientation": "v",
         "showlegend": true,
         "text": [
          "Àlex Granell"
         ],
         "textposition": "top center",
         "type": "scatter",
         "x": [
          2
         ],
         "xaxis": "x",
         "y": [
          0
         ],
         "yaxis": "y"
        },
        {
         "hovertemplate": "player_name=%{text}<br>Assists=%{x}<br>goals_scored=%{y}<extra></extra>",
         "legendgroup": "Pere Pons",
         "marker": {
          "color": "#FFA15A",
          "symbol": "circle"
         },
         "mode": "markers+text",
         "name": "Pere Pons",
         "orientation": "v",
         "showlegend": true,
         "text": [
          "Pere Pons"
         ],
         "textposition": "top center",
         "type": "scatter",
         "x": [
          3
         ],
         "xaxis": "x",
         "y": [
          1
         ],
         "yaxis": "y"
        },
        {
         "hovertemplate": "player_name=%{text}<br>Assists=%{x}<br>goals_scored=%{y}<extra></extra>",
         "legendgroup": "Borja García Freire",
         "marker": {
          "color": "#19d3f3",
          "symbol": "circle"
         },
         "mode": "markers+text",
         "name": "Borja García Freire",
         "orientation": "v",
         "showlegend": true,
         "text": [
          "Borja García Freire"
         ],
         "textposition": "top center",
         "type": "scatter",
         "x": [
          0
         ],
         "xaxis": "x",
         "y": [
          1
         ],
         "yaxis": "y"
        },
        {
         "hovertemplate": "player_name=%{text}<br>Assists=%{x}<br>goals_scored=%{y}<extra></extra>",
         "legendgroup": "Douglas Luiz",
         "marker": {
          "color": "#FF6692",
          "symbol": "circle"
         },
         "mode": "markers+text",
         "name": "Douglas Luiz",
         "orientation": "v",
         "showlegend": true,
         "text": [
          "Douglas Luiz"
         ],
         "textposition": "top center",
         "type": "scatter",
         "x": [
          0
         ],
         "xaxis": "x",
         "y": [
          0
         ],
         "yaxis": "y"
        },
        {
         "hovertemplate": "player_name=%{text}<br>Assists=%{x}<br>goals_scored=%{y}<extra></extra>",
         "legendgroup": "Patrick Roberts",
         "marker": {
          "color": "#B6E880",
          "symbol": "circle"
         },
         "mode": "markers+text",
         "name": "Patrick Roberts",
         "orientation": "v",
         "showlegend": true,
         "text": [
          "Patrick Roberts"
         ],
         "textposition": "top center",
         "type": "scatter",
         "x": [
          1
         ],
         "xaxis": "x",
         "y": [
          0
         ],
         "yaxis": "y"
        },
        {
         "hovertemplate": "player_name=%{text}<br>Assists=%{x}<br>goals_scored=%{y}<extra></extra>",
         "legendgroup": "Aleix García",
         "marker": {
          "color": "#FF97FF",
          "symbol": "circle"
         },
         "mode": "markers+text",
         "name": "Aleix García",
         "orientation": "v",
         "showlegend": true,
         "text": [
          "Aleix García"
         ],
         "textposition": "top center",
         "type": "scatter",
         "x": [
          4
         ],
         "xaxis": "x",
         "y": [
          2
         ],
         "yaxis": "y"
        },
        {
         "hovertemplate": "player_name=%{text}<br>Assists=%{x}<br>goals_scored=%{y}<extra></extra>",
         "legendgroup": "Pedro Porro",
         "marker": {
          "color": "#FECB52",
          "symbol": "circle"
         },
         "mode": "markers+text",
         "name": "Pedro Porro",
         "orientation": "v",
         "showlegend": true,
         "text": [
          "Pedro Porro"
         ],
         "textposition": "top center",
         "type": "scatter",
         "x": [
          1
         ],
         "xaxis": "x",
         "y": [
          0
         ],
         "yaxis": "y"
        },
        {
         "hovertemplate": "player_name=%{text}<br>Assists=%{x}<br>goals_scored=%{y}<extra></extra>",
         "legendgroup": "Valery Fernández Estrada",
         "marker": {
          "color": "#636efa",
          "symbol": "circle"
         },
         "mode": "markers+text",
         "name": "Valery Fernández Estrada",
         "orientation": "v",
         "showlegend": true,
         "text": [
          "Valery Fernández Estrada"
         ],
         "textposition": "top center",
         "type": "scatter",
         "x": [
          0
         ],
         "xaxis": "x",
         "y": [
          0
         ],
         "yaxis": "y"
        },
        {
         "hovertemplate": "player_name=%{text}<br>Assists=%{x}<br>goals_scored=%{y}<extra></extra>",
         "legendgroup": "Álex Pachón",
         "marker": {
          "color": "#EF553B",
          "symbol": "circle"
         },
         "mode": "markers+text",
         "name": "Álex Pachón",
         "orientation": "v",
         "showlegend": true,
         "text": [
          "Álex Pachón"
         ],
         "textposition": "top center",
         "type": "scatter",
         "x": [
          0
         ],
         "xaxis": "x",
         "y": [
          0
         ],
         "yaxis": "y"
        },
        {
         "hovertemplate": "player_name=%{text}<br>Assists=%{x}<br>goals_scored=%{y}<extra></extra>",
         "legendgroup": "Cristhian Stuani",
         "marker": {
          "color": "#00cc96",
          "symbol": "circle"
         },
         "mode": "markers+text",
         "name": "Cristhian Stuani",
         "orientation": "v",
         "showlegend": true,
         "text": [
          "Cristhian Stuani"
         ],
         "textposition": "top center",
         "type": "scatter",
         "x": [
          2
         ],
         "xaxis": "x",
         "y": [
          19
         ],
         "yaxis": "y"
        },
        {
         "hovertemplate": "player_name=%{text}<br>Assists=%{x}<br>goals_scored=%{y}<extra></extra>",
         "legendgroup": "Portu",
         "marker": {
          "color": "#ab63fa",
          "symbol": "circle"
         },
         "mode": "markers+text",
         "name": "Portu",
         "orientation": "v",
         "showlegend": true,
         "text": [
          "Portu"
         ],
         "textposition": "top center",
         "type": "scatter",
         "x": [
          0
         ],
         "xaxis": "x",
         "y": [
          9
         ],
         "yaxis": "y"
        },
        {
         "hovertemplate": "player_name=%{text}<br>Assists=%{x}<br>goals_scored=%{y}<extra></extra>",
         "legendgroup": "Anthony Lozano",
         "marker": {
          "color": "#FFA15A",
          "symbol": "circle"
         },
         "mode": "markers+text",
         "name": "Anthony Lozano",
         "orientation": "v",
         "showlegend": true,
         "text": [
          "Anthony Lozano"
         ],
         "textposition": "top center",
         "type": "scatter",
         "x": [
          0
         ],
         "xaxis": "x",
         "y": [
          0
         ],
         "yaxis": "y"
        },
        {
         "hovertemplate": "player_name=%{text}<br>Assists=%{x}<br>goals_scored=%{y}<extra></extra>",
         "legendgroup": "Seydou Doumbia",
         "marker": {
          "color": "#19d3f3",
          "symbol": "circle"
         },
         "mode": "markers+text",
         "name": "Seydou Doumbia",
         "orientation": "v",
         "showlegend": true,
         "text": [
          "Seydou Doumbia"
         ],
         "textposition": "top center",
         "type": "scatter",
         "x": [
          0
         ],
         "xaxis": "x",
         "y": [
          2
         ],
         "yaxis": "y"
        },
        {
         "hovertemplate": "player_name=%{text}<br>Assists=%{x}<br>goals_scored=%{y}<extra></extra>",
         "legendgroup": "Kévin Soni",
         "marker": {
          "color": "#FF6692",
          "symbol": "circle"
         },
         "mode": "markers+text",
         "name": "Kévin Soni",
         "orientation": "v",
         "showlegend": true,
         "text": [
          "Kévin Soni"
         ],
         "textposition": "top center",
         "type": "scatter",
         "x": [
          0
         ],
         "xaxis": "x",
         "y": [
          0
         ],
         "yaxis": "y"
        },
        {
         "hovertemplate": "player_name=%{text}<br>Assists=%{x}<br>goals_scored=%{y}<extra></extra>",
         "legendgroup": "Koke Andújar",
         "marker": {
          "color": "#B6E880",
          "symbol": "circle"
         },
         "mode": "markers+text",
         "name": "Koke Andújar",
         "orientation": "v",
         "showlegend": true,
         "text": [
          "Koke Andújar"
         ],
         "textposition": "top center",
         "type": "scatter",
         "x": [
          0
         ],
         "xaxis": "x",
         "y": [
          4
         ],
         "yaxis": "y"
        },
        {
         "hovertemplate": "player_name=%{text}<br>Assists=%{x}<br>goals_scored=%{y}<extra></extra>",
         "legendgroup": "Oier Olazábal",
         "marker": {
          "color": "#FF97FF",
          "symbol": "circle"
         },
         "mode": "markers+text",
         "name": "Oier Olazábal",
         "orientation": "v",
         "showlegend": true,
         "text": [
          "Oier Olazábal"
         ],
         "textposition": "top center",
         "type": "scatter",
         "x": [
          0
         ],
         "xaxis": "x",
         "y": [
          0
         ],
         "yaxis": "y"
        },
        {
         "hovertemplate": "player_name=%{text}<br>Assists=%{x}<br>goals_scored=%{y}<extra></extra>",
         "legendgroup": "Aitor Fernández",
         "marker": {
          "color": "#FECB52",
          "symbol": "circle"
         },
         "mode": "markers+text",
         "name": "Aitor Fernández",
         "orientation": "v",
         "showlegend": true,
         "text": [
          "Aitor Fernández"
         ],
         "textposition": "top center",
         "type": "scatter",
         "x": [
          2
         ],
         "xaxis": "x",
         "y": [
          0
         ],
         "yaxis": "y"
        },
        {
         "hovertemplate": "player_name=%{text}<br>Assists=%{x}<br>goals_scored=%{y}<extra></extra>",
         "legendgroup": "Antonio García Aranda",
         "marker": {
          "color": "#636efa",
          "symbol": "circle"
         },
         "mode": "markers+text",
         "name": "Antonio García Aranda",
         "orientation": "v",
         "showlegend": true,
         "text": [
          "Antonio García Aranda"
         ],
         "textposition": "top center",
         "type": "scatter",
         "x": [
          0
         ],
         "xaxis": "x",
         "y": [
          2
         ],
         "yaxis": "y"
        },
        {
         "hovertemplate": "player_name=%{text}<br>Assists=%{x}<br>goals_scored=%{y}<extra></extra>",
         "legendgroup": "Róber Pier",
         "marker": {
          "color": "#EF553B",
          "symbol": "circle"
         },
         "mode": "markers+text",
         "name": "Róber Pier",
         "orientation": "v",
         "showlegend": true,
         "text": [
          "Róber Pier"
         ],
         "textposition": "top center",
         "type": "scatter",
         "x": [
          0
         ],
         "xaxis": "x",
         "y": [
          2
         ],
         "yaxis": "y"
        },
        {
         "hovertemplate": "player_name=%{text}<br>Assists=%{x}<br>goals_scored=%{y}<extra></extra>",
         "legendgroup": "José Manuel Rodríguez Benito",
         "marker": {
          "color": "#00cc96",
          "symbol": "circle"
         },
         "mode": "markers+text",
         "name": "José Manuel Rodríguez Benito",
         "orientation": "v",
         "showlegend": true,
         "text": [
          "José Manuel Rodríguez Benito"
         ],
         "textposition": "top center",
         "type": "scatter",
         "x": [
          0
         ],
         "xaxis": "x",
         "y": [
          2
         ],
         "yaxis": "y"
        },
        {
         "hovertemplate": "player_name=%{text}<br>Assists=%{x}<br>goals_scored=%{y}<extra></extra>",
         "legendgroup": "Jorge Resurrección",
         "marker": {
          "color": "#ab63fa",
          "symbol": "circle"
         },
         "mode": "markers+text",
         "name": "Jorge Resurrección",
         "orientation": "v",
         "showlegend": true,
         "text": [
          "Jorge Resurrección"
         ],
         "textposition": "top center",
         "type": "scatter",
         "x": [
          1
         ],
         "xaxis": "x",
         "y": [
          0
         ],
         "yaxis": "y"
        },
        {
         "hovertemplate": "player_name=%{text}<br>Assists=%{x}<br>goals_scored=%{y}<extra></extra>",
         "legendgroup": "Rúben Vezo",
         "marker": {
          "color": "#FFA15A",
          "symbol": "circle"
         },
         "mode": "markers+text",
         "name": "Rúben Vezo",
         "orientation": "v",
         "showlegend": true,
         "text": [
          "Rúben Vezo"
         ],
         "textposition": "top center",
         "type": "scatter",
         "x": [
          1
         ],
         "xaxis": "x",
         "y": [
          2
         ],
         "yaxis": "y"
        },
        {
         "hovertemplate": "player_name=%{text}<br>Assists=%{x}<br>goals_scored=%{y}<extra></extra>",
         "legendgroup": "Sergio Postigo Redondo",
         "marker": {
          "color": "#19d3f3",
          "symbol": "circle"
         },
         "mode": "markers+text",
         "name": "Sergio Postigo Redondo",
         "orientation": "v",
         "showlegend": true,
         "text": [
          "Sergio Postigo Redondo"
         ],
         "textposition": "top center",
         "type": "scatter",
         "x": [
          0
         ],
         "xaxis": "x",
         "y": [
          1
         ],
         "yaxis": "y"
        },
        {
         "hovertemplate": "player_name=%{text}<br>Assists=%{x}<br>goals_scored=%{y}<extra></extra>",
         "legendgroup": "Erick Cabaco",
         "marker": {
          "color": "#FF6692",
          "symbol": "circle"
         },
         "mode": "markers+text",
         "name": "Erick Cabaco",
         "orientation": "v",
         "showlegend": true,
         "text": [
          "Erick Cabaco"
         ],
         "textposition": "top center",
         "type": "scatter",
         "x": [
          1
         ],
         "xaxis": "x",
         "y": [
          2
         ],
         "yaxis": "y"
        },
        {
         "hovertemplate": "player_name=%{text}<br>Assists=%{x}<br>goals_scored=%{y}<extra></extra>",
         "legendgroup": "Pedro López Muñoz",
         "marker": {
          "color": "#B6E880",
          "symbol": "circle"
         },
         "mode": "markers+text",
         "name": "Pedro López Muñoz",
         "orientation": "v",
         "showlegend": true,
         "text": [
          "Pedro López Muñoz"
         ],
         "textposition": "top center",
         "type": "scatter",
         "x": [
          2
         ],
         "xaxis": "x",
         "y": [
          0
         ],
         "yaxis": "y"
        },
        {
         "hovertemplate": "player_name=%{text}<br>Assists=%{x}<br>goals_scored=%{y}<extra></extra>",
         "legendgroup": "Antonio Luna Rodríguez",
         "marker": {
          "color": "#FF97FF",
          "symbol": "circle"
         },
         "mode": "markers+text",
         "name": "Antonio Luna Rodríguez",
         "orientation": "v",
         "showlegend": true,
         "text": [
          "Antonio Luna Rodríguez"
         ],
         "textposition": "top center",
         "type": "scatter",
         "x": [
          0
         ],
         "xaxis": "x",
         "y": [
          0
         ],
         "yaxis": "y"
        },
        {
         "hovertemplate": "player_name=%{text}<br>Assists=%{x}<br>goals_scored=%{y}<extra></extra>",
         "legendgroup": "Cheick Doukouré",
         "marker": {
          "color": "#FECB52",
          "symbol": "circle"
         },
         "mode": "markers+text",
         "name": "Cheick Doukouré",
         "orientation": "v",
         "showlegend": true,
         "text": [
          "Cheick Doukouré"
         ],
         "textposition": "top center",
         "type": "scatter",
         "x": [
          4
         ],
         "xaxis": "x",
         "y": [
          0
         ],
         "yaxis": "y"
        },
        {
         "hovertemplate": "player_name=%{text}<br>Assists=%{x}<br>goals_scored=%{y}<extra></extra>",
         "legendgroup": "Sanjin Prcic",
         "marker": {
          "color": "#636efa",
          "symbol": "circle"
         },
         "mode": "markers+text",
         "name": "Sanjin Prcic",
         "orientation": "v",
         "showlegend": true,
         "text": [
          "Sanjin Prcic"
         ],
         "textposition": "top center",
         "type": "scatter",
         "x": [
          5
         ],
         "xaxis": "x",
         "y": [
          0
         ],
         "yaxis": "y"
        },
        {
         "hovertemplate": "player_name=%{text}<br>Assists=%{x}<br>goals_scored=%{y}<extra></extra>",
         "legendgroup": "Enis Bardhi",
         "marker": {
          "color": "#EF553B",
          "symbol": "circle"
         },
         "mode": "markers+text",
         "name": "Enis Bardhi",
         "orientation": "v",
         "showlegend": true,
         "text": [
          "Enis Bardhi"
         ],
         "textposition": "top center",
         "type": "scatter",
         "x": [
          5
         ],
         "xaxis": "x",
         "y": [
          3
         ],
         "yaxis": "y"
        },
        {
         "hovertemplate": "player_name=%{text}<br>Assists=%{x}<br>goals_scored=%{y}<extra></extra>",
         "legendgroup": "José Luis Morales Nogales",
         "marker": {
          "color": "#00cc96",
          "symbol": "circle"
         },
         "mode": "markers+text",
         "name": "José Luis Morales Nogales",
         "orientation": "v",
         "showlegend": true,
         "text": [
          "José Luis Morales Nogales"
         ],
         "textposition": "top center",
         "type": "scatter",
         "x": [
          1
         ],
         "xaxis": "x",
         "y": [
          12
         ],
         "yaxis": "y"
        },
        {
         "hovertemplate": "player_name=%{text}<br>Assists=%{x}<br>goals_scored=%{y}<extra></extra>",
         "legendgroup": "Rubén Rochina",
         "marker": {
          "color": "#ab63fa",
          "symbol": "circle"
         },
         "mode": "markers+text",
         "name": "Rubén Rochina",
         "orientation": "v",
         "showlegend": true,
         "text": [
          "Rubén Rochina"
         ],
         "textposition": "top center",
         "type": "scatter",
         "x": [
          5
         ],
         "xaxis": "x",
         "y": [
          4
         ],
         "yaxis": "y"
        },
        {
         "hovertemplate": "player_name=%{text}<br>Assists=%{x}<br>goals_scored=%{y}<extra></extra>",
         "legendgroup": "Nikola Vukcevic",
         "marker": {
          "color": "#FFA15A",
          "symbol": "circle"
         },
         "mode": "markers+text",
         "name": "Nikola Vukcevic",
         "orientation": "v",
         "showlegend": true,
         "text": [
          "Nikola Vukcevic"
         ],
         "textposition": "top center",
         "type": "scatter",
         "x": [
          9
         ],
         "xaxis": "x",
         "y": [
          0
         ],
         "yaxis": "y"
        },
        {
         "hovertemplate": "player_name=%{text}<br>Assists=%{x}<br>goals_scored=%{y}<extra></extra>",
         "legendgroup": "Jason Remeseiro",
         "marker": {
          "color": "#19d3f3",
          "symbol": "circle"
         },
         "mode": "markers+text",
         "name": "Jason Remeseiro",
         "orientation": "v",
         "showlegend": true,
         "text": [
          "Jason Remeseiro"
         ],
         "textposition": "top center",
         "type": "scatter",
         "x": [
          0
         ],
         "xaxis": "x",
         "y": [
          2
         ],
         "yaxis": "y"
        },
        {
         "hovertemplate": "player_name=%{text}<br>Assists=%{x}<br>goals_scored=%{y}<extra></extra>",
         "legendgroup": "José Campaña",
         "marker": {
          "color": "#FF6692",
          "symbol": "circle"
         },
         "mode": "markers+text",
         "name": "José Campaña",
         "orientation": "v",
         "showlegend": true,
         "text": [
          "José Campaña"
         ],
         "textposition": "top center",
         "type": "scatter",
         "x": [
          0
         ],
         "xaxis": "x",
         "y": [
          4
         ],
         "yaxis": "y"
        },
        {
         "hovertemplate": "player_name=%{text}<br>Assists=%{x}<br>goals_scored=%{y}<extra></extra>",
         "legendgroup": "Francisco Manzanara",
         "marker": {
          "color": "#B6E880",
          "symbol": "circle"
         },
         "mode": "markers+text",
         "name": "Francisco Manzanara",
         "orientation": "v",
         "showlegend": true,
         "text": [
          "Francisco Manzanara"
         ],
         "textposition": "top center",
         "type": "scatter",
         "x": [
          2
         ],
         "xaxis": "x",
         "y": [
          0
         ],
         "yaxis": "y"
        },
        {
         "hovertemplate": "player_name=%{text}<br>Assists=%{x}<br>goals_scored=%{y}<extra></extra>",
         "legendgroup": "Arturo Molina",
         "marker": {
          "color": "#FF97FF",
          "symbol": "circle"
         },
         "mode": "markers+text",
         "name": "Arturo Molina",
         "orientation": "v",
         "showlegend": true,
         "text": [
          "Arturo Molina"
         ],
         "textposition": "top center",
         "type": "scatter",
         "x": [
          1
         ],
         "xaxis": "x",
         "y": [
          0
         ],
         "yaxis": "y"
        },
        {
         "hovertemplate": "player_name=%{text}<br>Assists=%{x}<br>goals_scored=%{y}<extra></extra>",
         "legendgroup": "Borja Mayoral",
         "marker": {
          "color": "#FECB52",
          "symbol": "circle"
         },
         "mode": "markers+text",
         "name": "Borja Mayoral",
         "orientation": "v",
         "showlegend": true,
         "text": [
          "Borja Mayoral"
         ],
         "textposition": "top center",
         "type": "scatter",
         "x": [
          0
         ],
         "xaxis": "x",
         "y": [
          3
         ],
         "yaxis": "y"
        },
        {
         "hovertemplate": "player_name=%{text}<br>Assists=%{x}<br>goals_scored=%{y}<extra></extra>",
         "legendgroup": "Moses Simon",
         "marker": {
          "color": "#636efa",
          "symbol": "circle"
         },
         "mode": "markers+text",
         "name": "Moses Simon",
         "orientation": "v",
         "showlegend": true,
         "text": [
          "Moses Simon"
         ],
         "textposition": "top center",
         "type": "scatter",
         "x": [
          1
         ],
         "xaxis": "x",
         "y": [
          1
         ],
         "yaxis": "y"
        },
        {
         "hovertemplate": "player_name=%{text}<br>Assists=%{x}<br>goals_scored=%{y}<extra></extra>",
         "legendgroup": "Roger Martí",
         "marker": {
          "color": "#EF553B",
          "symbol": "circle"
         },
         "mode": "markers+text",
         "name": "Roger Martí",
         "orientation": "v",
         "showlegend": true,
         "text": [
          "Roger Martí"
         ],
         "textposition": "top center",
         "type": "scatter",
         "x": [
          0
         ],
         "xaxis": "x",
         "y": [
          13
         ],
         "yaxis": "y"
        },
        {
         "hovertemplate": "player_name=%{text}<br>Assists=%{x}<br>goals_scored=%{y}<extra></extra>",
         "legendgroup": "Emmanuel Boateng",
         "marker": {
          "color": "#00cc96",
          "symbol": "circle"
         },
         "mode": "markers+text",
         "name": "Emmanuel Boateng",
         "orientation": "v",
         "showlegend": true,
         "text": [
          "Emmanuel Boateng"
         ],
         "textposition": "top center",
         "type": "scatter",
         "x": [
          0
         ],
         "xaxis": "x",
         "y": [
          1
         ],
         "yaxis": "y"
        },
        {
         "hovertemplate": "player_name=%{text}<br>Assists=%{x}<br>goals_scored=%{y}<extra></extra>",
         "legendgroup": "Jordi Masip",
         "marker": {
          "color": "#ab63fa",
          "symbol": "circle"
         },
         "mode": "markers+text",
         "name": "Jordi Masip",
         "orientation": "v",
         "showlegend": true,
         "text": [
          "Jordi Masip"
         ],
         "textposition": "top center",
         "type": "scatter",
         "x": [
          0
         ],
         "xaxis": "x",
         "y": [
          0
         ],
         "yaxis": "y"
        },
        {
         "hovertemplate": "player_name=%{text}<br>Assists=%{x}<br>goals_scored=%{y}<extra></extra>",
         "legendgroup": "Yoel Rodríguez",
         "marker": {
          "color": "#FFA15A",
          "symbol": "circle"
         },
         "mode": "markers+text",
         "name": "Yoel Rodríguez",
         "orientation": "v",
         "showlegend": true,
         "text": [
          "Yoel Rodríguez"
         ],
         "textposition": "top center",
         "type": "scatter",
         "x": [
          0
         ],
         "xaxis": "x",
         "y": [
          0
         ],
         "yaxis": "y"
        },
        {
         "hovertemplate": "player_name=%{text}<br>Assists=%{x}<br>goals_scored=%{y}<extra></extra>",
         "legendgroup": "Joaquín Fernández Moreno",
         "marker": {
          "color": "#19d3f3",
          "symbol": "circle"
         },
         "mode": "markers+text",
         "name": "Joaquín Fernández Moreno",
         "orientation": "v",
         "showlegend": true,
         "text": [
          "Joaquín Fernández Moreno"
         ],
         "textposition": "top center",
         "type": "scatter",
         "x": [
          0
         ],
         "xaxis": "x",
         "y": [
          2
         ],
         "yaxis": "y"
        },
        {
         "hovertemplate": "player_name=%{text}<br>Assists=%{x}<br>goals_scored=%{y}<extra></extra>",
         "legendgroup": "Moisés Delgado López",
         "marker": {
          "color": "#FF6692",
          "symbol": "circle"
         },
         "mode": "markers+text",
         "name": "Moisés Delgado López",
         "orientation": "v",
         "showlegend": true,
         "text": [
          "Moisés Delgado López"
         ],
         "textposition": "top center",
         "type": "scatter",
         "x": [
          0
         ],
         "xaxis": "x",
         "y": [
          0
         ],
         "yaxis": "y"
        },
        {
         "hovertemplate": "player_name=%{text}<br>Assists=%{x}<br>goals_scored=%{y}<extra></extra>",
         "legendgroup": "Kiko Olivas",
         "marker": {
          "color": "#B6E880",
          "symbol": "circle"
         },
         "mode": "markers+text",
         "name": "Kiko Olivas",
         "orientation": "v",
         "showlegend": true,
         "text": [
          "Kiko Olivas"
         ],
         "textposition": "top center",
         "type": "scatter",
         "x": [
          0
         ],
         "xaxis": "x",
         "y": [
          0
         ],
         "yaxis": "y"
        },
        {
         "hovertemplate": "player_name=%{text}<br>Assists=%{x}<br>goals_scored=%{y}<extra></extra>",
         "legendgroup": "Fernando Calero",
         "marker": {
          "color": "#FF97FF",
          "symbol": "circle"
         },
         "mode": "markers+text",
         "name": "Fernando Calero",
         "orientation": "v",
         "showlegend": true,
         "text": [
          "Fernando Calero"
         ],
         "textposition": "top center",
         "type": "scatter",
         "x": [
          1
         ],
         "xaxis": "x",
         "y": [
          1
         ],
         "yaxis": "y"
        },
        {
         "hovertemplate": "player_name=%{text}<br>Assists=%{x}<br>goals_scored=%{y}<extra></extra>",
         "legendgroup": "Javi Moyano",
         "marker": {
          "color": "#FECB52",
          "symbol": "circle"
         },
         "mode": "markers+text",
         "name": "Javi Moyano",
         "orientation": "v",
         "showlegend": true,
         "text": [
          "Javi Moyano"
         ],
         "textposition": "top center",
         "type": "scatter",
         "x": [
          3
         ],
         "xaxis": "x",
         "y": [
          0
         ],
         "yaxis": "y"
        },
        {
         "hovertemplate": "player_name=%{text}<br>Assists=%{x}<br>goals_scored=%{y}<extra></extra>",
         "legendgroup": "Antonio Jesús Regal Angulo",
         "marker": {
          "color": "#636efa",
          "symbol": "circle"
         },
         "mode": "markers+text",
         "name": "Antonio Jesús Regal Angulo",
         "orientation": "v",
         "showlegend": true,
         "text": [
          "Antonio Jesús Regal Angulo"
         ],
         "textposition": "top center",
         "type": "scatter",
         "x": [
          0
         ],
         "xaxis": "x",
         "y": [
          2
         ],
         "yaxis": "y"
        },
        {
         "hovertemplate": "player_name=%{text}<br>Assists=%{x}<br>goals_scored=%{y}<extra></extra>",
         "legendgroup": "Nacho Martínez García",
         "marker": {
          "color": "#EF553B",
          "symbol": "circle"
         },
         "mode": "markers+text",
         "name": "Nacho Martínez García",
         "orientation": "v",
         "showlegend": true,
         "text": [
          "Nacho Martínez García"
         ],
         "textposition": "top center",
         "type": "scatter",
         "x": [
          0
         ],
         "xaxis": "x",
         "y": [
          1
         ],
         "yaxis": "y"
        },
        {
         "hovertemplate": "player_name=%{text}<br>Assists=%{x}<br>goals_scored=%{y}<extra></extra>",
         "legendgroup": "Mohammed Salisu",
         "marker": {
          "color": "#00cc96",
          "symbol": "circle"
         },
         "mode": "markers+text",
         "name": "Mohammed Salisu",
         "orientation": "v",
         "showlegend": true,
         "text": [
          "Mohammed Salisu"
         ],
         "textposition": "top center",
         "type": "scatter",
         "x": [
          0
         ],
         "xaxis": "x",
         "y": [
          0
         ],
         "yaxis": "y"
        },
        {
         "hovertemplate": "player_name=%{text}<br>Assists=%{x}<br>goals_scored=%{y}<extra></extra>",
         "legendgroup": "Roberto Corral",
         "marker": {
          "color": "#ab63fa",
          "symbol": "circle"
         },
         "mode": "markers+text",
         "name": "Roberto Corral",
         "orientation": "v",
         "showlegend": true,
         "text": [
          "Roberto Corral"
         ],
         "textposition": "top center",
         "type": "scatter",
         "x": [
          1
         ],
         "xaxis": "x",
         "y": [
          0
         ],
         "yaxis": "y"
        },
        {
         "hovertemplate": "player_name=%{text}<br>Assists=%{x}<br>goals_scored=%{y}<extra></extra>",
         "legendgroup": "Javier Aparicio",
         "marker": {
          "color": "#FFA15A",
          "symbol": "circle"
         },
         "mode": "markers+text",
         "name": "Javier Aparicio",
         "orientation": "v",
         "showlegend": true,
         "text": [
          "Javier Aparicio"
         ],
         "textposition": "top center",
         "type": "scatter",
         "x": [
          0
         ],
         "xaxis": "x",
         "y": [
          0
         ],
         "yaxis": "y"
        },
        {
         "hovertemplate": "player_name=%{text}<br>Assists=%{x}<br>goals_scored=%{y}<extra></extra>",
         "legendgroup": "Pablo Hervías",
         "marker": {
          "color": "#19d3f3",
          "symbol": "circle"
         },
         "mode": "markers+text",
         "name": "Pablo Hervías",
         "orientation": "v",
         "showlegend": true,
         "text": [
          "Pablo Hervías"
         ],
         "textposition": "top center",
         "type": "scatter",
         "x": [
          0
         ],
         "xaxis": "x",
         "y": [
          0
         ],
         "yaxis": "y"
        },
        {
         "hovertemplate": "player_name=%{text}<br>Assists=%{x}<br>goals_scored=%{y}<extra></extra>",
         "legendgroup": "Luismi Sánchez",
         "marker": {
          "color": "#FF6692",
          "symbol": "circle"
         },
         "mode": "markers+text",
         "name": "Luismi Sánchez",
         "orientation": "v",
         "showlegend": true,
         "text": [
          "Luismi Sánchez"
         ],
         "textposition": "top center",
         "type": "scatter",
         "x": [
          0
         ],
         "xaxis": "x",
         "y": [
          0
         ],
         "yaxis": "y"
        },
        {
         "hovertemplate": "player_name=%{text}<br>Assists=%{x}<br>goals_scored=%{y}<extra></extra>",
         "legendgroup": "Waldo Rubio Martín",
         "marker": {
          "color": "#B6E880",
          "symbol": "circle"
         },
         "mode": "markers+text",
         "name": "Waldo Rubio Martín",
         "orientation": "v",
         "showlegend": true,
         "text": [
          "Waldo Rubio Martín"
         ],
         "textposition": "top center",
         "type": "scatter",
         "x": [
          4
         ],
         "xaxis": "x",
         "y": [
          1
         ],
         "yaxis": "y"
        },
        {
         "hovertemplate": "player_name=%{text}<br>Assists=%{x}<br>goals_scored=%{y}<extra></extra>",
         "legendgroup": "Borja Fernández Fernández",
         "marker": {
          "color": "#FF97FF",
          "symbol": "circle"
         },
         "mode": "markers+text",
         "name": "Borja Fernández Fernández",
         "orientation": "v",
         "showlegend": true,
         "text": [
          "Borja Fernández Fernández"
         ],
         "textposition": "top center",
         "type": "scatter",
         "x": [
          0
         ],
         "xaxis": "x",
         "y": [
          0
         ],
         "yaxis": "y"
        },
        {
         "hovertemplate": "player_name=%{text}<br>Assists=%{x}<br>goals_scored=%{y}<extra></extra>",
         "legendgroup": "Óscar Plano",
         "marker": {
          "color": "#FECB52",
          "symbol": "circle"
         },
         "mode": "markers+text",
         "name": "Óscar Plano",
         "orientation": "v",
         "showlegend": true,
         "text": [
          "Óscar Plano"
         ],
         "textposition": "top center",
         "type": "scatter",
         "x": [
          2
         ],
         "xaxis": "x",
         "y": [
          3
         ],
         "yaxis": "y"
        },
        {
         "hovertemplate": "player_name=%{text}<br>Assists=%{x}<br>goals_scored=%{y}<extra></extra>",
         "legendgroup": "Daniele Verde",
         "marker": {
          "color": "#636efa",
          "symbol": "circle"
         },
         "mode": "markers+text",
         "name": "Daniele Verde",
         "orientation": "v",
         "showlegend": true,
         "text": [
          "Daniele Verde"
         ],
         "textposition": "top center",
         "type": "scatter",
         "x": [
          2
         ],
         "xaxis": "x",
         "y": [
          2
         ],
         "yaxis": "y"
        },
        {
         "hovertemplate": "player_name=%{text}<br>Assists=%{x}<br>goals_scored=%{y}<extra></extra>",
         "legendgroup": "Rubén Alcaraz",
         "marker": {
          "color": "#EF553B",
          "symbol": "circle"
         },
         "mode": "markers+text",
         "name": "Rubén Alcaraz",
         "orientation": "v",
         "showlegend": true,
         "text": [
          "Rubén Alcaraz"
         ],
         "textposition": "top center",
         "type": "scatter",
         "x": [
          2
         ],
         "xaxis": "x",
         "y": [
          3
         ],
         "yaxis": "y"
        },
        {
         "hovertemplate": "player_name=%{text}<br>Assists=%{x}<br>goals_scored=%{y}<extra></extra>",
         "legendgroup": "Toni Villa",
         "marker": {
          "color": "#00cc96",
          "symbol": "circle"
         },
         "mode": "markers+text",
         "name": "Toni Villa",
         "orientation": "v",
         "showlegend": true,
         "text": [
          "Toni Villa"
         ],
         "textposition": "top center",
         "type": "scatter",
         "x": [
          0
         ],
         "xaxis": "x",
         "y": [
          2
         ],
         "yaxis": "y"
        },
        {
         "hovertemplate": "player_name=%{text}<br>Assists=%{x}<br>goals_scored=%{y}<extra></extra>",
         "legendgroup": "Míchel Herrero",
         "marker": {
          "color": "#ab63fa",
          "symbol": "circle"
         },
         "mode": "markers+text",
         "name": "Míchel Herrero",
         "orientation": "v",
         "showlegend": true,
         "text": [
          "Míchel Herrero"
         ],
         "textposition": "top center",
         "type": "scatter",
         "x": [
          1
         ],
         "xaxis": "x",
         "y": [
          1
         ],
         "yaxis": "y"
        },
        {
         "hovertemplate": "player_name=%{text}<br>Assists=%{x}<br>goals_scored=%{y}<extra></extra>",
         "legendgroup": "Anuar Mohamed Tuhami",
         "marker": {
          "color": "#FFA15A",
          "symbol": "circle"
         },
         "mode": "markers+text",
         "name": "Anuar Mohamed Tuhami",
         "orientation": "v",
         "showlegend": true,
         "text": [
          "Anuar Mohamed Tuhami"
         ],
         "textposition": "top center",
         "type": "scatter",
         "x": [
          0
         ],
         "xaxis": "x",
         "y": [
          1
         ],
         "yaxis": "y"
        },
        {
         "hovertemplate": "player_name=%{text}<br>Assists=%{x}<br>goals_scored=%{y}<extra></extra>",
         "legendgroup": "Keko Gontán",
         "marker": {
          "color": "#19d3f3",
          "symbol": "circle"
         },
         "mode": "markers+text",
         "name": "Keko Gontán",
         "orientation": "v",
         "showlegend": true,
         "text": [
          "Keko Gontán"
         ],
         "textposition": "top center",
         "type": "scatter",
         "x": [
          0
         ],
         "xaxis": "x",
         "y": [
          2
         ],
         "yaxis": "y"
        },
        {
         "hovertemplate": "player_name=%{text}<br>Assists=%{x}<br>goals_scored=%{y}<extra></extra>",
         "legendgroup": "Miguel De la Fuente",
         "marker": {
          "color": "#FF6692",
          "symbol": "circle"
         },
         "mode": "markers+text",
         "name": "Miguel De la Fuente",
         "orientation": "v",
         "showlegend": true,
         "text": [
          "Miguel De la Fuente"
         ],
         "textposition": "top center",
         "type": "scatter",
         "x": [
          0
         ],
         "xaxis": "x",
         "y": [
          0
         ],
         "yaxis": "y"
        },
        {
         "hovertemplate": "player_name=%{text}<br>Assists=%{x}<br>goals_scored=%{y}<extra></extra>",
         "legendgroup": "Pablo Muñoz",
         "marker": {
          "color": "#B6E880",
          "symbol": "circle"
         },
         "mode": "markers+text",
         "name": "Pablo Muñoz",
         "orientation": "v",
         "showlegend": true,
         "text": [
          "Pablo Muñoz"
         ],
         "textposition": "top center",
         "type": "scatter",
         "x": [
          3
         ],
         "xaxis": "x",
         "y": [
          0
         ],
         "yaxis": "y"
        },
        {
         "hovertemplate": "player_name=%{text}<br>Assists=%{x}<br>goals_scored=%{y}<extra></extra>",
         "legendgroup": "Omar Hacen",
         "marker": {
          "color": "#FF97FF",
          "symbol": "circle"
         },
         "mode": "markers+text",
         "name": "Omar Hacen",
         "orientation": "v",
         "showlegend": true,
         "text": [
          "Omar Hacen"
         ],
         "textposition": "top center",
         "type": "scatter",
         "x": [
          1
         ],
         "xaxis": "x",
         "y": [
          0
         ],
         "yaxis": "y"
        },
        {
         "hovertemplate": "player_name=%{text}<br>Assists=%{x}<br>goals_scored=%{y}<extra></extra>",
         "legendgroup": "Leonardo Suárez",
         "marker": {
          "color": "#FECB52",
          "symbol": "circle"
         },
         "mode": "markers+text",
         "name": "Leonardo Suárez",
         "orientation": "v",
         "showlegend": true,
         "text": [
          "Leonardo Suárez"
         ],
         "textposition": "top center",
         "type": "scatter",
         "x": [
          0
         ],
         "xaxis": "x",
         "y": [
          2
         ],
         "yaxis": "y"
        },
        {
         "hovertemplate": "player_name=%{text}<br>Assists=%{x}<br>goals_scored=%{y}<extra></extra>",
         "legendgroup": "Enes Ünal",
         "marker": {
          "color": "#636efa",
          "symbol": "circle"
         },
         "mode": "markers+text",
         "name": "Enes Ünal",
         "orientation": "v",
         "showlegend": true,
         "text": [
          "Enes Ünal"
         ],
         "textposition": "top center",
         "type": "scatter",
         "x": [
          0
         ],
         "xaxis": "x",
         "y": [
          6
         ],
         "yaxis": "y"
        },
        {
         "hovertemplate": "player_name=%{text}<br>Assists=%{x}<br>goals_scored=%{y}<extra></extra>",
         "legendgroup": "Sergi Guardiola",
         "marker": {
          "color": "#EF553B",
          "symbol": "circle"
         },
         "mode": "markers+text",
         "name": "Sergi Guardiola",
         "orientation": "v",
         "showlegend": true,
         "text": [
          "Sergi Guardiola"
         ],
         "textposition": "top center",
         "type": "scatter",
         "x": [
          0
         ],
         "xaxis": "x",
         "y": [
          3
         ],
         "yaxis": "y"
        },
        {
         "hovertemplate": "player_name=%{text}<br>Assists=%{x}<br>goals_scored=%{y}<extra></extra>",
         "legendgroup": "Duje Cop",
         "marker": {
          "color": "#00cc96",
          "symbol": "circle"
         },
         "mode": "markers+text",
         "name": "Duje Cop",
         "orientation": "v",
         "showlegend": true,
         "text": [
          "Duje Cop"
         ],
         "textposition": "top center",
         "type": "scatter",
         "x": [
          0
         ],
         "xaxis": "x",
         "y": [
          0
         ],
         "yaxis": "y"
        },
        {
         "hovertemplate": "player_name=%{text}<br>Assists=%{x}<br>goals_scored=%{y}<extra></extra>",
         "legendgroup": "Stiven Plaza",
         "marker": {
          "color": "#ab63fa",
          "symbol": "circle"
         },
         "mode": "markers+text",
         "name": "Stiven Plaza",
         "orientation": "v",
         "showlegend": true,
         "text": [
          "Stiven Plaza"
         ],
         "textposition": "top center",
         "type": "scatter",
         "x": [
          0
         ],
         "xaxis": "x",
         "y": [
          0
         ],
         "yaxis": "y"
        },
        {
         "hovertemplate": "player_name=%{text}<br>Assists=%{x}<br>goals_scored=%{y}<extra></extra>",
         "legendgroup": "Alberto García Cabrera",
         "marker": {
          "color": "#FFA15A",
          "symbol": "circle"
         },
         "mode": "markers+text",
         "name": "Alberto García Cabrera",
         "orientation": "v",
         "showlegend": true,
         "text": [
          "Alberto García Cabrera"
         ],
         "textposition": "top center",
         "type": "scatter",
         "x": [
          0
         ],
         "xaxis": "x",
         "y": [
          0
         ],
         "yaxis": "y"
        },
        {
         "hovertemplate": "player_name=%{text}<br>Assists=%{x}<br>goals_scored=%{y}<extra></extra>",
         "legendgroup": "Stole Dimitrievski",
         "marker": {
          "color": "#19d3f3",
          "symbol": "circle"
         },
         "mode": "markers+text",
         "name": "Stole Dimitrievski",
         "orientation": "v",
         "showlegend": true,
         "text": [
          "Stole Dimitrievski"
         ],
         "textposition": "top center",
         "type": "scatter",
         "x": [
          1
         ],
         "xaxis": "x",
         "y": [
          0
         ],
         "yaxis": "y"
        },
        {
         "hovertemplate": "player_name=%{text}<br>Assists=%{x}<br>goals_scored=%{y}<extra></extra>",
         "legendgroup": "Miguel Ángel Morro",
         "marker": {
          "color": "#FF6692",
          "symbol": "circle"
         },
         "mode": "markers+text",
         "name": "Miguel Ángel Morro",
         "orientation": "v",
         "showlegend": true,
         "text": [
          "Miguel Ángel Morro"
         ],
         "textposition": "top center",
         "type": "scatter",
         "x": [
          0
         ],
         "xaxis": "x",
         "y": [
          0
         ],
         "yaxis": "y"
        },
        {
         "hovertemplate": "player_name=%{text}<br>Assists=%{x}<br>goals_scored=%{y}<extra></extra>",
         "legendgroup": "Roberto Román Triguero",
         "marker": {
          "color": "#B6E880",
          "symbol": "circle"
         },
         "mode": "markers+text",
         "name": "Roberto Román Triguero",
         "orientation": "v",
         "showlegend": true,
         "text": [
          "Roberto Román Triguero"
         ],
         "textposition": "top center",
         "type": "scatter",
         "x": [
          1
         ],
         "xaxis": "x",
         "y": [
          0
         ],
         "yaxis": "y"
        },
        {
         "hovertemplate": "player_name=%{text}<br>Assists=%{x}<br>goals_scored=%{y}<extra></extra>",
         "legendgroup": "Álex Moreno",
         "marker": {
          "color": "#FF97FF",
          "symbol": "circle"
         },
         "mode": "markers+text",
         "name": "Álex Moreno",
         "orientation": "v",
         "showlegend": true,
         "text": [
          "Álex Moreno"
         ],
         "textposition": "top center",
         "type": "scatter",
         "x": [
          0
         ],
         "xaxis": "x",
         "y": [
          1
         ],
         "yaxis": "y"
        },
        {
         "hovertemplate": "player_name=%{text}<br>Assists=%{x}<br>goals_scored=%{y}<extra></extra>",
         "legendgroup": "Jordi Amat Maas",
         "marker": {
          "color": "#FECB52",
          "symbol": "circle"
         },
         "mode": "markers+text",
         "name": "Jordi Amat Maas",
         "orientation": "v",
         "showlegend": true,
         "text": [
          "Jordi Amat Maas"
         ],
         "textposition": "top center",
         "type": "scatter",
         "x": [
          3
         ],
         "xaxis": "x",
         "y": [
          0
         ],
         "yaxis": "y"
        },
        {
         "hovertemplate": "player_name=%{text}<br>Assists=%{x}<br>goals_scored=%{y}<extra></extra>",
         "legendgroup": "Luis Advíncula",
         "marker": {
          "color": "#636efa",
          "symbol": "circle"
         },
         "mode": "markers+text",
         "name": "Luis Advíncula",
         "orientation": "v",
         "showlegend": true,
         "text": [
          "Luis Advíncula"
         ],
         "textposition": "top center",
         "type": "scatter",
         "x": [
          2
         ],
         "xaxis": "x",
         "y": [
          1
         ],
         "yaxis": "y"
        },
        {
         "hovertemplate": "player_name=%{text}<br>Assists=%{x}<br>goals_scored=%{y}<extra></extra>",
         "legendgroup": "Emiliano Velázquez",
         "marker": {
          "color": "#EF553B",
          "symbol": "circle"
         },
         "mode": "markers+text",
         "name": "Emiliano Velázquez",
         "orientation": "v",
         "showlegend": true,
         "text": [
          "Emiliano Velázquez"
         ],
         "textposition": "top center",
         "type": "scatter",
         "x": [
          0
         ],
         "xaxis": "x",
         "y": [
          0
         ],
         "yaxis": "y"
        },
        {
         "hovertemplate": "player_name=%{text}<br>Assists=%{x}<br>goals_scored=%{y}<extra></extra>",
         "legendgroup": "Abdoulaye Ba",
         "marker": {
          "color": "#00cc96",
          "symbol": "circle"
         },
         "mode": "markers+text",
         "name": "Abdoulaye Ba",
         "orientation": "v",
         "showlegend": true,
         "text": [
          "Abdoulaye Ba"
         ],
         "textposition": "top center",
         "type": "scatter",
         "x": [
          0
         ],
         "xaxis": "x",
         "y": [
          1
         ],
         "yaxis": "y"
        },
        {
         "hovertemplate": "player_name=%{text}<br>Assists=%{x}<br>goals_scored=%{y}<extra></extra>",
         "legendgroup": "Alejandro Gálvez",
         "marker": {
          "color": "#ab63fa",
          "symbol": "circle"
         },
         "mode": "markers+text",
         "name": "Alejandro Gálvez",
         "orientation": "v",
         "showlegend": true,
         "text": [
          "Alejandro Gálvez"
         ],
         "textposition": "top center",
         "type": "scatter",
         "x": [
          0
         ],
         "xaxis": "x",
         "y": [
          1
         ],
         "yaxis": "y"
        },
        {
         "hovertemplate": "player_name=%{text}<br>Assists=%{x}<br>goals_scored=%{y}<extra></extra>",
         "legendgroup": "Martín Pascual",
         "marker": {
          "color": "#FFA15A",
          "symbol": "circle"
         },
         "mode": "markers+text",
         "name": "Martín Pascual",
         "orientation": "v",
         "showlegend": true,
         "text": [
          "Martín Pascual"
         ],
         "textposition": "top center",
         "type": "scatter",
         "x": [
          0
         ],
         "xaxis": "x",
         "y": [
          0
         ],
         "yaxis": "y"
        },
        {
         "hovertemplate": "player_name=%{text}<br>Assists=%{x}<br>goals_scored=%{y}<extra></extra>",
         "legendgroup": "Luis Meseguer",
         "marker": {
          "color": "#19d3f3",
          "symbol": "circle"
         },
         "mode": "markers+text",
         "name": "Luis Meseguer",
         "orientation": "v",
         "showlegend": true,
         "text": [
          "Luis Meseguer"
         ],
         "textposition": "top center",
         "type": "scatter",
         "x": [
          1
         ],
         "xaxis": "x",
         "y": [
          0
         ],
         "yaxis": "y"
        },
        {
         "hovertemplate": "player_name=%{text}<br>Assists=%{x}<br>goals_scored=%{y}<extra></extra>",
         "legendgroup": "Uche Agbo",
         "marker": {
          "color": "#FF6692",
          "symbol": "circle"
         },
         "mode": "markers+text",
         "name": "Uche Agbo",
         "orientation": "v",
         "showlegend": true,
         "text": [
          "Uche Agbo"
         ],
         "textposition": "top center",
         "type": "scatter",
         "x": [
          0
         ],
         "xaxis": "x",
         "y": [
          0
         ],
         "yaxis": "y"
        },
        {
         "hovertemplate": "player_name=%{text}<br>Assists=%{x}<br>goals_scored=%{y}<extra></extra>",
         "legendgroup": "Álvaro Medrán",
         "marker": {
          "color": "#B6E880",
          "symbol": "circle"
         },
         "mode": "markers+text",
         "name": "Álvaro Medrán",
         "orientation": "v",
         "showlegend": true,
         "text": [
          "Álvaro Medrán"
         ],
         "textposition": "top center",
         "type": "scatter",
         "x": [
          0
         ],
         "xaxis": "x",
         "y": [
          3
         ],
         "yaxis": "y"
        },
        {
         "hovertemplate": "player_name=%{text}<br>Assists=%{x}<br>goals_scored=%{y}<extra></extra>",
         "legendgroup": "Gorka Elustondo",
         "marker": {
          "color": "#FF97FF",
          "symbol": "circle"
         },
         "mode": "markers+text",
         "name": "Gorka Elustondo",
         "orientation": "v",
         "showlegend": true,
         "text": [
          "Gorka Elustondo"
         ],
         "textposition": "top center",
         "type": "scatter",
         "x": [
          0
         ],
         "xaxis": "x",
         "y": [
          0
         ],
         "yaxis": "y"
        },
        {
         "hovertemplate": "player_name=%{text}<br>Assists=%{x}<br>goals_scored=%{y}<extra></extra>",
         "legendgroup": "Gaël Kakuta",
         "marker": {
          "color": "#FECB52",
          "symbol": "circle"
         },
         "mode": "markers+text",
         "name": "Gaël Kakuta",
         "orientation": "v",
         "showlegend": true,
         "text": [
          "Gaël Kakuta"
         ],
         "textposition": "top center",
         "type": "scatter",
         "x": [
          0
         ],
         "xaxis": "x",
         "y": [
          1
         ],
         "yaxis": "y"
        },
        {
         "hovertemplate": "player_name=%{text}<br>Assists=%{x}<br>goals_scored=%{y}<extra></extra>",
         "legendgroup": "Giannelli Imbula",
         "marker": {
          "color": "#636efa",
          "symbol": "circle"
         },
         "mode": "markers+text",
         "name": "Giannelli Imbula",
         "orientation": "v",
         "showlegend": true,
         "text": [
          "Giannelli Imbula"
         ],
         "textposition": "top center",
         "type": "scatter",
         "x": [
          1
         ],
         "xaxis": "x",
         "y": [
          1
         ],
         "yaxis": "y"
        },
        {
         "hovertemplate": "player_name=%{text}<br>Assists=%{x}<br>goals_scored=%{y}<extra></extra>",
         "legendgroup": "Tiago Manuel Dias Correia",
         "marker": {
          "color": "#EF553B",
          "symbol": "circle"
         },
         "mode": "markers+text",
         "name": "Tiago Manuel Dias Correia",
         "orientation": "v",
         "showlegend": true,
         "text": [
          "Tiago Manuel Dias Correia"
         ],
         "textposition": "top center",
         "type": "scatter",
         "x": [
          1
         ],
         "xaxis": "x",
         "y": [
          1
         ],
         "yaxis": "y"
        },
        {
         "hovertemplate": "player_name=%{text}<br>Assists=%{x}<br>goals_scored=%{y}<extra></extra>",
         "legendgroup": "Mario Suárez",
         "marker": {
          "color": "#00cc96",
          "symbol": "circle"
         },
         "mode": "markers+text",
         "name": "Mario Suárez",
         "orientation": "v",
         "showlegend": true,
         "text": [
          "Mario Suárez"
         ],
         "textposition": "top center",
         "type": "scatter",
         "x": [
          0
         ],
         "xaxis": "x",
         "y": [
          2
         ],
         "yaxis": "y"
        },
        {
         "hovertemplate": "player_name=%{text}<br>Assists=%{x}<br>goals_scored=%{y}<extra></extra>",
         "legendgroup": "Álvaro García Rivera",
         "marker": {
          "color": "#ab63fa",
          "symbol": "circle"
         },
         "mode": "markers+text",
         "name": "Álvaro García Rivera",
         "orientation": "v",
         "showlegend": true,
         "text": [
          "Álvaro García Rivera"
         ],
         "textposition": "top center",
         "type": "scatter",
         "x": [
          2
         ],
         "xaxis": "x",
         "y": [
          4
         ],
         "yaxis": "y"
        },
        {
         "hovertemplate": "player_name=%{text}<br>Assists=%{x}<br>goals_scored=%{y}<extra></extra>",
         "legendgroup": "José Ángel Pozo",
         "marker": {
          "color": "#FFA15A",
          "symbol": "circle"
         },
         "mode": "markers+text",
         "name": "José Ángel Pozo",
         "orientation": "v",
         "showlegend": true,
         "text": [
          "José Ángel Pozo"
         ],
         "textposition": "top center",
         "type": "scatter",
         "x": [
          0
         ],
         "xaxis": "x",
         "y": [
          3
         ],
         "yaxis": "y"
        },
        {
         "hovertemplate": "player_name=%{text}<br>Assists=%{x}<br>goals_scored=%{y}<extra></extra>",
         "legendgroup": "Franco Di Santo",
         "marker": {
          "color": "#19d3f3",
          "symbol": "circle"
         },
         "mode": "markers+text",
         "name": "Franco Di Santo",
         "orientation": "v",
         "showlegend": true,
         "text": [
          "Franco Di Santo"
         ],
         "textposition": "top center",
         "type": "scatter",
         "x": [
          0
         ],
         "xaxis": "x",
         "y": [
          0
         ],
         "yaxis": "y"
        },
        {
         "hovertemplate": "player_name=%{text}<br>Assists=%{x}<br>goals_scored=%{y}<extra></extra>",
         "legendgroup": "Manuel Navarro",
         "marker": {
          "color": "#FF6692",
          "symbol": "circle"
         },
         "mode": "markers+text",
         "name": "Manuel Navarro",
         "orientation": "v",
         "showlegend": true,
         "text": [
          "Manuel Navarro"
         ],
         "textposition": "top center",
         "type": "scatter",
         "x": [
          0
         ],
         "xaxis": "x",
         "y": [
          0
         ],
         "yaxis": "y"
        },
        {
         "hovertemplate": "player_name=%{text}<br>Assists=%{x}<br>goals_scored=%{y}<extra></extra>",
         "legendgroup": "Ángel Algobia",
         "marker": {
          "color": "#B6E880",
          "symbol": "circle"
         },
         "mode": "markers+text",
         "name": "Ángel Algobia",
         "orientation": "v",
         "showlegend": true,
         "text": [
          "Ángel Algobia"
         ],
         "textposition": "top center",
         "type": "scatter",
         "x": [
          0
         ],
         "xaxis": "x",
         "y": [
          0
         ],
         "yaxis": "y"
        },
        {
         "hovertemplate": "player_name=%{text}<br>Assists=%{x}<br>goals_scored=%{y}<extra></extra>",
         "legendgroup": "Óscar Trejo",
         "marker": {
          "color": "#FF97FF",
          "symbol": "circle"
         },
         "mode": "markers+text",
         "name": "Óscar Trejo",
         "orientation": "v",
         "showlegend": true,
         "text": [
          "Óscar Trejo"
         ],
         "textposition": "top center",
         "type": "scatter",
         "x": [
          4
         ],
         "xaxis": "x",
         "y": [
          1
         ],
         "yaxis": "y"
        },
        {
         "hovertemplate": "player_name=%{text}<br>Assists=%{x}<br>goals_scored=%{y}<extra></extra>",
         "legendgroup": "Michel Langue",
         "marker": {
          "color": "#FECB52",
          "symbol": "circle"
         },
         "mode": "markers+text",
         "name": "Michel Langue",
         "orientation": "v",
         "showlegend": true,
         "text": [
          "Michel Langue"
         ],
         "textposition": "top center",
         "type": "scatter",
         "x": [
          1
         ],
         "xaxis": "x",
         "y": [
          0
         ],
         "yaxis": "y"
        },
        {
         "hovertemplate": "player_name=%{text}<br>Assists=%{x}<br>goals_scored=%{y}<extra></extra>",
         "legendgroup": "Raúl de Tomás",
         "marker": {
          "color": "#636efa",
          "symbol": "circle"
         },
         "mode": "markers+text",
         "name": "Raúl de Tomás",
         "orientation": "v",
         "showlegend": true,
         "text": [
          "Raúl de Tomás"
         ],
         "textposition": "top center",
         "type": "scatter",
         "x": [
          6
         ],
         "xaxis": "x",
         "y": [
          14
         ],
         "yaxis": "y"
        },
        {
         "hovertemplate": "player_name=%{text}<br>Assists=%{x}<br>goals_scored=%{y}<extra></extra>",
         "legendgroup": "Adrián Embarba",
         "marker": {
          "color": "#EF553B",
          "symbol": "circle"
         },
         "mode": "markers+text",
         "name": "Adrián Embarba",
         "orientation": "v",
         "showlegend": true,
         "text": [
          "Adrián Embarba"
         ],
         "textposition": "top center",
         "type": "scatter",
         "x": [
          0
         ],
         "xaxis": "x",
         "y": [
          5
         ],
         "yaxis": "y"
        },
        {
         "hovertemplate": "player_name=%{text}<br>Assists=%{x}<br>goals_scored=%{y}<extra></extra>",
         "legendgroup": "Lass Bangoura",
         "marker": {
          "color": "#00cc96",
          "symbol": "circle"
         },
         "mode": "markers+text",
         "name": "Lass Bangoura",
         "orientation": "v",
         "showlegend": true,
         "text": [
          "Lass Bangoura"
         ],
         "textposition": "top center",
         "type": "scatter",
         "x": [
          1
         ],
         "xaxis": "x",
         "y": [
          0
         ],
         "yaxis": "y"
        },
        {
         "hovertemplate": "player_name=%{text}<br>Assists=%{x}<br>goals_scored=%{y}<extra></extra>",
         "legendgroup": "Javi Guerra",
         "marker": {
          "color": "#ab63fa",
          "symbol": "circle"
         },
         "mode": "markers+text",
         "name": "Javi Guerra",
         "orientation": "v",
         "showlegend": true,
         "text": [
          "Javi Guerra"
         ],
         "textposition": "top center",
         "type": "scatter",
         "x": [
          0
         ],
         "xaxis": "x",
         "y": [
          0
         ],
         "yaxis": "y"
        },
        {
         "hovertemplate": "player_name=%{text}<br>Assists=%{x}<br>goals_scored=%{y}<extra></extra>",
         "legendgroup": "Sergio Moreno",
         "marker": {
          "color": "#FFA15A",
          "symbol": "circle"
         },
         "mode": "markers+text",
         "name": "Sergio Moreno",
         "orientation": "v",
         "showlegend": true,
         "text": [
          "Sergio Moreno"
         ],
         "textposition": "top center",
         "type": "scatter",
         "x": [
          0
         ],
         "xaxis": "x",
         "y": [
          0
         ],
         "yaxis": "y"
        },
        {
         "hovertemplate": "player_name=%{text}<br>Assists=%{x}<br>goals_scored=%{y}<extra></extra>",
         "legendgroup": "Santiago Comesaña Veiga",
         "marker": {
          "color": "#19d3f3",
          "symbol": "circle"
         },
         "mode": "markers+text",
         "name": "Santiago Comesaña Veiga",
         "orientation": "v",
         "showlegend": true,
         "text": [
          "Santiago Comesaña Veiga"
         ],
         "textposition": "top center",
         "type": "scatter",
         "x": [
          0
         ],
         "xaxis": "x",
         "y": [
          1
         ],
         "yaxis": "y"
        },
        {
         "hovertemplate": "player_name=%{text}<br>Assists=%{x}<br>goals_scored=%{y}<extra></extra>",
         "legendgroup": "Alejandro Catena Marugán",
         "marker": {
          "color": "#FF6692",
          "symbol": "circle"
         },
         "mode": "markers+text",
         "name": "Alejandro Catena Marugán",
         "orientation": "v",
         "showlegend": true,
         "text": [
          "Alejandro Catena Marugán"
         ],
         "textposition": "top center",
         "type": "scatter",
         "x": [
          0
         ],
         "xaxis": "x",
         "y": [
          0
         ],
         "yaxis": "y"
        },
        {
         "hovertemplate": "player_name=%{text}<br>Assists=%{x}<br>goals_scored=%{y}<extra></extra>",
         "legendgroup": "Sergio Álvarez Conde",
         "marker": {
          "color": "#B6E880",
          "symbol": "circle"
         },
         "mode": "markers+text",
         "name": "Sergio Álvarez Conde",
         "orientation": "v",
         "showlegend": true,
         "text": [
          "Sergio Álvarez Conde"
         ],
         "textposition": "top center",
         "type": "scatter",
         "x": [
          2
         ],
         "xaxis": "x",
         "y": [
          0
         ],
         "yaxis": "y"
        },
        {
         "hovertemplate": "player_name=%{text}<br>Assists=%{x}<br>goals_scored=%{y}<extra></extra>",
         "legendgroup": "Rubén Blanco",
         "marker": {
          "color": "#FF97FF",
          "symbol": "circle"
         },
         "mode": "markers+text",
         "name": "Rubén Blanco",
         "orientation": "v",
         "showlegend": true,
         "text": [
          "Rubén Blanco"
         ],
         "textposition": "top center",
         "type": "scatter",
         "x": [
          4
         ],
         "xaxis": "x",
         "y": [
          0
         ],
         "yaxis": "y"
        },
        {
         "hovertemplate": "player_name=%{text}<br>Assists=%{x}<br>goals_scored=%{y}<extra></extra>",
         "legendgroup": "Iván Villar",
         "marker": {
          "color": "#FECB52",
          "symbol": "circle"
         },
         "mode": "markers+text",
         "name": "Iván Villar",
         "orientation": "v",
         "showlegend": true,
         "text": [
          "Iván Villar"
         ],
         "textposition": "top center",
         "type": "scatter",
         "x": [
          0
         ],
         "xaxis": "x",
         "y": [
          0
         ],
         "yaxis": "y"
        },
        {
         "hovertemplate": "player_name=%{text}<br>Assists=%{x}<br>goals_scored=%{y}<extra></extra>",
         "legendgroup": "Hugo Mallo",
         "marker": {
          "color": "#636efa",
          "symbol": "circle"
         },
         "mode": "markers+text",
         "name": "Hugo Mallo",
         "orientation": "v",
         "showlegend": true,
         "text": [
          "Hugo Mallo"
         ],
         "textposition": "top center",
         "type": "scatter",
         "x": [
          0
         ],
         "xaxis": "x",
         "y": [
          1
         ],
         "yaxis": "y"
        },
        {
         "hovertemplate": "player_name=%{text}<br>Assists=%{x}<br>goals_scored=%{y}<extra></extra>",
         "legendgroup": "David Costas",
         "marker": {
          "color": "#EF553B",
          "symbol": "circle"
         },
         "mode": "markers+text",
         "name": "David Costas",
         "orientation": "v",
         "showlegend": true,
         "text": [
          "David Costas"
         ],
         "textposition": "top center",
         "type": "scatter",
         "x": [
          0
         ],
         "xaxis": "x",
         "y": [
          0
         ],
         "yaxis": "y"
        },
        {
         "hovertemplate": "player_name=%{text}<br>Assists=%{x}<br>goals_scored=%{y}<extra></extra>",
         "legendgroup": "Néstor Araujo",
         "marker": {
          "color": "#00cc96",
          "symbol": "circle"
         },
         "mode": "markers+text",
         "name": "Néstor Araujo",
         "orientation": "v",
         "showlegend": true,
         "text": [
          "Néstor Araujo"
         ],
         "textposition": "top center",
         "type": "scatter",
         "x": [
          3
         ],
         "xaxis": "x",
         "y": [
          3
         ],
         "yaxis": "y"
        },
        {
         "hovertemplate": "player_name=%{text}<br>Assists=%{x}<br>goals_scored=%{y}<extra></extra>",
         "legendgroup": "Wesley Hoedt",
         "marker": {
          "color": "#ab63fa",
          "symbol": "circle"
         },
         "mode": "markers+text",
         "name": "Wesley Hoedt",
         "orientation": "v",
         "showlegend": true,
         "text": [
          "Wesley Hoedt"
         ],
         "textposition": "top center",
         "type": "scatter",
         "x": [
          0
         ],
         "xaxis": "x",
         "y": [
          0
         ],
         "yaxis": "y"
        },
        {
         "hovertemplate": "player_name=%{text}<br>Assists=%{x}<br>goals_scored=%{y}<extra></extra>",
         "legendgroup": "David Juncà Reñé",
         "marker": {
          "color": "#FFA15A",
          "symbol": "circle"
         },
         "mode": "markers+text",
         "name": "David Juncà Reñé",
         "orientation": "v",
         "showlegend": true,
         "text": [
          "David Juncà Reñé"
         ],
         "textposition": "top center",
         "type": "scatter",
         "x": [
          0
         ],
         "xaxis": "x",
         "y": [
          0
         ],
         "yaxis": "y"
        },
        {
         "hovertemplate": "player_name=%{text}<br>Assists=%{x}<br>goals_scored=%{y}<extra></extra>",
         "legendgroup": "Nemanja Radoja",
         "marker": {
          "color": "#19d3f3",
          "symbol": "circle"
         },
         "mode": "markers+text",
         "name": "Nemanja Radoja",
         "orientation": "v",
         "showlegend": true,
         "text": [
          "Nemanja Radoja"
         ],
         "textposition": "top center",
         "type": "scatter",
         "x": [
          0
         ],
         "xaxis": "x",
         "y": [
          0
         ],
         "yaxis": "y"
        },
        {
         "hovertemplate": "player_name=%{text}<br>Assists=%{x}<br>goals_scored=%{y}<extra></extra>",
         "legendgroup": "Gustavo Cabral",
         "marker": {
          "color": "#FF6692",
          "symbol": "circle"
         },
         "mode": "markers+text",
         "name": "Gustavo Cabral",
         "orientation": "v",
         "showlegend": true,
         "text": [
          "Gustavo Cabral"
         ],
         "textposition": "top center",
         "type": "scatter",
         "x": [
          0
         ],
         "xaxis": "x",
         "y": [
          1
         ],
         "yaxis": "y"
        },
        {
         "hovertemplate": "player_name=%{text}<br>Assists=%{x}<br>goals_scored=%{y}<extra></extra>",
         "legendgroup": "Okay Yokuslu",
         "marker": {
          "color": "#B6E880",
          "symbol": "circle"
         },
         "mode": "markers+text",
         "name": "Okay Yokuslu",
         "orientation": "v",
         "showlegend": true,
         "text": [
          "Okay Yokuslu"
         ],
         "textposition": "top center",
         "type": "scatter",
         "x": [
          0
         ],
         "xaxis": "x",
         "y": [
          2
         ],
         "yaxis": "y"
        },
        {
         "hovertemplate": "player_name=%{text}<br>Assists=%{x}<br>goals_scored=%{y}<extra></extra>",
         "legendgroup": "Emre Mor",
         "marker": {
          "color": "#FF97FF",
          "symbol": "circle"
         },
         "mode": "markers+text",
         "name": "Emre Mor",
         "orientation": "v",
         "showlegend": true,
         "text": [
          "Emre Mor"
         ],
         "textposition": "top center",
         "type": "scatter",
         "x": [
          0
         ],
         "xaxis": "x",
         "y": [
          0
         ],
         "yaxis": "y"
        },
        {
         "hovertemplate": "player_name=%{text}<br>Assists=%{x}<br>goals_scored=%{y}<extra></extra>",
         "legendgroup": "Fran Beltrán",
         "marker": {
          "color": "#FECB52",
          "symbol": "circle"
         },
         "mode": "markers+text",
         "name": "Fran Beltrán",
         "orientation": "v",
         "showlegend": true,
         "text": [
          "Fran Beltrán"
         ],
         "textposition": "top center",
         "type": "scatter",
         "x": [
          1
         ],
         "xaxis": "x",
         "y": [
          1
         ],
         "yaxis": "y"
        },
        {
         "hovertemplate": "player_name=%{text}<br>Assists=%{x}<br>goals_scored=%{y}<extra></extra>",
         "legendgroup": "Stanislav Lobotka",
         "marker": {
          "color": "#636efa",
          "symbol": "circle"
         },
         "mode": "markers+text",
         "name": "Stanislav Lobotka",
         "orientation": "v",
         "showlegend": true,
         "text": [
          "Stanislav Lobotka"
         ],
         "textposition": "top center",
         "type": "scatter",
         "x": [
          3
         ],
         "xaxis": "x",
         "y": [
          0
         ],
         "yaxis": "y"
        },
        {
         "hovertemplate": "player_name=%{text}<br>Assists=%{x}<br>goals_scored=%{y}<extra></extra>",
         "legendgroup": "Andrew Hjulsager",
         "marker": {
          "color": "#EF553B",
          "symbol": "circle"
         },
         "mode": "markers+text",
         "name": "Andrew Hjulsager",
         "orientation": "v",
         "showlegend": true,
         "text": [
          "Andrew Hjulsager"
         ],
         "textposition": "top center",
         "type": "scatter",
         "x": [
          0
         ],
         "xaxis": "x",
         "y": [
          0
         ],
         "yaxis": "y"
        },
        {
         "hovertemplate": "player_name=%{text}<br>Assists=%{x}<br>goals_scored=%{y}<extra></extra>",
         "legendgroup": "Mathias Jensen",
         "marker": {
          "color": "#00cc96",
          "symbol": "circle"
         },
         "mode": "markers+text",
         "name": "Mathias Jensen",
         "orientation": "v",
         "showlegend": true,
         "text": [
          "Mathias Jensen"
         ],
         "textposition": "top center",
         "type": "scatter",
         "x": [
          3
         ],
         "xaxis": "x",
         "y": [
          0
         ],
         "yaxis": "y"
        },
        {
         "hovertemplate": "player_name=%{text}<br>Assists=%{x}<br>goals_scored=%{y}<extra></extra>",
         "legendgroup": "Sofiane Boufal",
         "marker": {
          "color": "#ab63fa",
          "symbol": "circle"
         },
         "mode": "markers+text",
         "name": "Sofiane Boufal",
         "orientation": "v",
         "showlegend": true,
         "text": [
          "Sofiane Boufal"
         ],
         "textposition": "top center",
         "type": "scatter",
         "x": [
          0
         ],
         "xaxis": "x",
         "y": [
          3
         ],
         "yaxis": "y"
        },
        {
         "hovertemplate": "player_name=%{text}<br>Assists=%{x}<br>goals_scored=%{y}<extra></extra>",
         "legendgroup": "Jozabed Sánchez",
         "marker": {
          "color": "#FFA15A",
          "symbol": "circle"
         },
         "mode": "markers+text",
         "name": "Jozabed Sánchez",
         "orientation": "v",
         "showlegend": true,
         "text": [
          "Jozabed Sánchez"
         ],
         "textposition": "top center",
         "type": "scatter",
         "x": [
          7
         ],
         "xaxis": "x",
         "y": [
          0
         ],
         "yaxis": "y"
        },
        {
         "hovertemplate": "player_name=%{text}<br>Assists=%{x}<br>goals_scored=%{y}<extra></extra>",
         "legendgroup": "Brais Méndez",
         "marker": {
          "color": "#19d3f3",
          "symbol": "circle"
         },
         "mode": "markers+text",
         "name": "Brais Méndez",
         "orientation": "v",
         "showlegend": true,
         "text": [
          "Brais Méndez"
         ],
         "textposition": "top center",
         "type": "scatter",
         "x": [
          2
         ],
         "xaxis": "x",
         "y": [
          6
         ],
         "yaxis": "y"
        },
        {
         "hovertemplate": "player_name=%{text}<br>Assists=%{x}<br>goals_scored=%{y}<extra></extra>",
         "legendgroup": "Ryad Boudebouz",
         "marker": {
          "color": "#FF6692",
          "symbol": "circle"
         },
         "mode": "markers+text",
         "name": "Ryad Boudebouz",
         "orientation": "v",
         "showlegend": true,
         "text": [
          "Ryad Boudebouz"
         ],
         "textposition": "top center",
         "type": "scatter",
         "x": [
          5
         ],
         "xaxis": "x",
         "y": [
          1
         ],
         "yaxis": "y"
        },
        {
         "hovertemplate": "player_name=%{text}<br>Assists=%{x}<br>goals_scored=%{y}<extra></extra>",
         "legendgroup": "Maxi Gómez",
         "marker": {
          "color": "#B6E880",
          "symbol": "circle"
         },
         "mode": "markers+text",
         "name": "Maxi Gómez",
         "orientation": "v",
         "showlegend": true,
         "text": [
          "Maxi Gómez"
         ],
         "textposition": "top center",
         "type": "scatter",
         "x": [
          6
         ],
         "xaxis": "x",
         "y": [
          13
         ],
         "yaxis": "y"
        },
        {
         "hovertemplate": "player_name=%{text}<br>Assists=%{x}<br>goals_scored=%{y}<extra></extra>",
         "legendgroup": "Iago Aspas",
         "marker": {
          "color": "#FF97FF",
          "symbol": "circle"
         },
         "mode": "markers+text",
         "name": "Iago Aspas",
         "orientation": "v",
         "showlegend": true,
         "text": [
          "Iago Aspas"
         ],
         "textposition": "top center",
         "type": "scatter",
         "x": [
          1
         ],
         "xaxis": "x",
         "y": [
          20
         ],
         "yaxis": "y"
        },
        {
         "hovertemplate": "player_name=%{text}<br>Assists=%{x}<br>goals_scored=%{y}<extra></extra>",
         "legendgroup": "Pione Sisto",
         "marker": {
          "color": "#FECB52",
          "symbol": "circle"
         },
         "mode": "markers+text",
         "name": "Pione Sisto",
         "orientation": "v",
         "showlegend": true,
         "text": [
          "Pione Sisto"
         ],
         "textposition": "top center",
         "type": "scatter",
         "x": [
          0
         ],
         "xaxis": "x",
         "y": [
          2
         ],
         "yaxis": "y"
        },
        {
         "hovertemplate": "player_name=%{text}<br>Assists=%{x}<br>goals_scored=%{y}<extra></extra>",
         "legendgroup": "Junior Alonso",
         "marker": {
          "color": "#636efa",
          "symbol": "circle"
         },
         "mode": "markers+text",
         "name": "Junior Alonso",
         "orientation": "v",
         "showlegend": true,
         "text": [
          "Junior Alonso"
         ],
         "textposition": "top center",
         "type": "scatter",
         "x": [
          0
         ],
         "xaxis": "x",
         "y": [
          0
         ],
         "yaxis": "y"
        },
        {
         "hovertemplate": "player_name=%{text}<br>Assists=%{x}<br>goals_scored=%{y}<extra></extra>",
         "legendgroup": "Lucas Olaza",
         "marker": {
          "color": "#EF553B",
          "symbol": "circle"
         },
         "mode": "markers+text",
         "name": "Lucas Olaza",
         "orientation": "v",
         "showlegend": true,
         "text": [
          "Lucas Olaza"
         ],
         "textposition": "top center",
         "type": "scatter",
         "x": [
          0
         ],
         "xaxis": "x",
         "y": [
          0
         ],
         "yaxis": "y"
        },
        {
         "hovertemplate": "player_name=%{text}<br>Assists=%{x}<br>goals_scored=%{y}<extra></extra>",
         "legendgroup": "Roberto Jiménez",
         "marker": {
          "color": "#00cc96",
          "symbol": "circle"
         },
         "mode": "markers+text",
         "name": "Roberto Jiménez",
         "orientation": "v",
         "showlegend": true,
         "text": [
          "Roberto Jiménez"
         ],
         "textposition": "top center",
         "type": "scatter",
         "x": [
          1
         ],
         "xaxis": "x",
         "y": [
          0
         ],
         "yaxis": "y"
        },
        {
         "hovertemplate": "player_name=%{text}<br>Assists=%{x}<br>goals_scored=%{y}<extra></extra>",
         "legendgroup": "Diego López Rodríguez",
         "marker": {
          "color": "#ab63fa",
          "symbol": "circle"
         },
         "mode": "markers+text",
         "name": "Diego López Rodríguez",
         "orientation": "v",
         "showlegend": true,
         "text": [
          "Diego López Rodríguez"
         ],
         "textposition": "top center",
         "type": "scatter",
         "x": [
          0
         ],
         "xaxis": "x",
         "y": [
          0
         ],
         "yaxis": "y"
        },
        {
         "hovertemplate": "player_name=%{text}<br>Assists=%{x}<br>goals_scored=%{y}<extra></extra>",
         "legendgroup": "Edinaldo Gomes Pereira",
         "marker": {
          "color": "#FFA15A",
          "symbol": "circle"
         },
         "mode": "markers+text",
         "name": "Edinaldo Gomes Pereira",
         "orientation": "v",
         "showlegend": true,
         "text": [
          "Edinaldo Gomes Pereira"
         ],
         "textposition": "top center",
         "type": "scatter",
         "x": [
          1
         ],
         "xaxis": "x",
         "y": [
          1
         ],
         "yaxis": "y"
        },
        {
         "hovertemplate": "player_name=%{text}<br>Assists=%{x}<br>goals_scored=%{y}<extra></extra>",
         "legendgroup": "Óscar Duarte",
         "marker": {
          "color": "#19d3f3",
          "symbol": "circle"
         },
         "mode": "markers+text",
         "name": "Óscar Duarte",
         "orientation": "v",
         "showlegend": true,
         "text": [
          "Óscar Duarte"
         ],
         "textposition": "top center",
         "type": "scatter",
         "x": [
          2
         ],
         "xaxis": "x",
         "y": [
          1
         ],
         "yaxis": "y"
        },
        {
         "hovertemplate": "player_name=%{text}<br>Assists=%{x}<br>goals_scored=%{y}<extra></extra>",
         "legendgroup": "Roberto Rosales",
         "marker": {
          "color": "#FF6692",
          "symbol": "circle"
         },
         "mode": "markers+text",
         "name": "Roberto Rosales",
         "orientation": "v",
         "showlegend": true,
         "text": [
          "Roberto Rosales"
         ],
         "textposition": "top center",
         "type": "scatter",
         "x": [
          0
         ],
         "xaxis": "x",
         "y": [
          3
         ],
         "yaxis": "y"
        },
        {
         "hovertemplate": "player_name=%{text}<br>Assists=%{x}<br>goals_scored=%{y}<extra></extra>",
         "legendgroup": "Dídac Vilà",
         "marker": {
          "color": "#B6E880",
          "symbol": "circle"
         },
         "mode": "markers+text",
         "name": "Dídac Vilà",
         "orientation": "v",
         "showlegend": true,
         "text": [
          "Dídac Vilà"
         ],
         "textposition": "top center",
         "type": "scatter",
         "x": [
          0
         ],
         "xaxis": "x",
         "y": [
          0
         ],
         "yaxis": "y"
        },
        {
         "hovertemplate": "player_name=%{text}<br>Assists=%{x}<br>goals_scored=%{y}<extra></extra>",
         "legendgroup": "Javier López Rodríguez",
         "marker": {
          "color": "#FF97FF",
          "symbol": "circle"
         },
         "mode": "markers+text",
         "name": "Javier López Rodríguez",
         "orientation": "v",
         "showlegend": true,
         "text": [
          "Javier López Rodríguez"
         ],
         "textposition": "top center",
         "type": "scatter",
         "x": [
          0
         ],
         "xaxis": "x",
         "y": [
          0
         ],
         "yaxis": "y"
        },
        {
         "hovertemplate": "player_name=%{text}<br>Assists=%{x}<br>goals_scored=%{y}<extra></extra>",
         "legendgroup": "Mario Hermoso",
         "marker": {
          "color": "#FECB52",
          "symbol": "circle"
         },
         "mode": "markers+text",
         "name": "Mario Hermoso",
         "orientation": "v",
         "showlegend": true,
         "text": [
          "Mario Hermoso"
         ],
         "textposition": "top center",
         "type": "scatter",
         "x": [
          0
         ],
         "xaxis": "x",
         "y": [
          3
         ],
         "yaxis": "y"
        },
        {
         "hovertemplate": "player_name=%{text}<br>Assists=%{x}<br>goals_scored=%{y}<extra></extra>",
         "legendgroup": "Adrià Pedrosa",
         "marker": {
          "color": "#636efa",
          "symbol": "circle"
         },
         "mode": "markers+text",
         "name": "Adrià Pedrosa",
         "orientation": "v",
         "showlegend": true,
         "text": [
          "Adrià Pedrosa"
         ],
         "textposition": "top center",
         "type": "scatter",
         "x": [
          0
         ],
         "xaxis": "x",
         "y": [
          1
         ],
         "yaxis": "y"
        },
        {
         "hovertemplate": "player_name=%{text}<br>Assists=%{x}<br>goals_scored=%{y}<extra></extra>",
         "legendgroup": "Iago Indias",
         "marker": {
          "color": "#EF553B",
          "symbol": "circle"
         },
         "mode": "markers+text",
         "name": "Iago Indias",
         "orientation": "v",
         "showlegend": true,
         "text": [
          "Iago Indias"
         ],
         "textposition": "top center",
         "type": "scatter",
         "x": [
          0
         ],
         "xaxis": "x",
         "y": [
          0
         ],
         "yaxis": "y"
        },
        {
         "hovertemplate": "player_name=%{text}<br>Assists=%{x}<br>goals_scored=%{y}<extra></extra>",
         "legendgroup": "Víctor Sánchez Mata",
         "marker": {
          "color": "#00cc96",
          "symbol": "circle"
         },
         "mode": "markers+text",
         "name": "Víctor Sánchez Mata",
         "orientation": "v",
         "showlegend": true,
         "text": [
          "Víctor Sánchez Mata"
         ],
         "textposition": "top center",
         "type": "scatter",
         "x": [
          2
         ],
         "xaxis": "x",
         "y": [
          0
         ],
         "yaxis": "y"
        },
        {
         "hovertemplate": "player_name=%{text}<br>Assists=%{x}<br>goals_scored=%{y}<extra></extra>",
         "legendgroup": "Sergi Darder",
         "marker": {
          "color": "#ab63fa",
          "symbol": "circle"
         },
         "mode": "markers+text",
         "name": "Sergi Darder",
         "orientation": "v",
         "showlegend": true,
         "text": [
          "Sergi Darder"
         ],
         "textposition": "top center",
         "type": "scatter",
         "x": [
          2
         ],
         "xaxis": "x",
         "y": [
          4
         ],
         "yaxis": "y"
        },
        {
         "hovertemplate": "player_name=%{text}<br>Assists=%{x}<br>goals_scored=%{y}<extra></extra>",
         "legendgroup": "Óscar Melendo",
         "marker": {
          "color": "#FFA15A",
          "symbol": "circle"
         },
         "mode": "markers+text",
         "name": "Óscar Melendo",
         "orientation": "v",
         "showlegend": true,
         "text": [
          "Óscar Melendo"
         ],
         "textposition": "top center",
         "type": "scatter",
         "x": [
          5
         ],
         "xaxis": "x",
         "y": [
          0
         ],
         "yaxis": "y"
        },
        {
         "hovertemplate": "player_name=%{text}<br>Assists=%{x}<br>goals_scored=%{y}<extra></extra>",
         "legendgroup": "David López Silva",
         "marker": {
          "color": "#19d3f3",
          "symbol": "circle"
         },
         "mode": "markers+text",
         "name": "David López Silva",
         "orientation": "v",
         "showlegend": true,
         "text": [
          "David López Silva"
         ],
         "textposition": "top center",
         "type": "scatter",
         "x": [
          0
         ],
         "xaxis": "x",
         "y": [
          1
         ],
         "yaxis": "y"
        },
        {
         "hovertemplate": "player_name=%{text}<br>Assists=%{x}<br>goals_scored=%{y}<extra></extra>",
         "legendgroup": "Alejandro López Moreno",
         "marker": {
          "color": "#FF6692",
          "symbol": "circle"
         },
         "mode": "markers+text",
         "name": "Alejandro López Moreno",
         "orientation": "v",
         "showlegend": true,
         "text": [
          "Alejandro López Moreno"
         ],
         "textposition": "top center",
         "type": "scatter",
         "x": [
          0
         ],
         "xaxis": "x",
         "y": [
          0
         ],
         "yaxis": "y"
        },
        {
         "hovertemplate": "player_name=%{text}<br>Assists=%{x}<br>goals_scored=%{y}<extra></extra>",
         "legendgroup": "Marc Roca",
         "marker": {
          "color": "#B6E880",
          "symbol": "circle"
         },
         "mode": "markers+text",
         "name": "Marc Roca",
         "orientation": "v",
         "showlegend": true,
         "text": [
          "Marc Roca"
         ],
         "textposition": "top center",
         "type": "scatter",
         "x": [
          2
         ],
         "xaxis": "x",
         "y": [
          1
         ],
         "yaxis": "y"
        },
        {
         "hovertemplate": "player_name=%{text}<br>Assists=%{x}<br>goals_scored=%{y}<extra></extra>",
         "legendgroup": "Esteban Granero",
         "marker": {
          "color": "#FF97FF",
          "symbol": "circle"
         },
         "mode": "markers+text",
         "name": "Esteban Granero",
         "orientation": "v",
         "showlegend": true,
         "text": [
          "Esteban Granero"
         ],
         "textposition": "top center",
         "type": "scatter",
         "x": [
          1
         ],
         "xaxis": "x",
         "y": [
          3
         ],
         "yaxis": "y"
        },
        {
         "hovertemplate": "player_name=%{text}<br>Assists=%{x}<br>goals_scored=%{y}<extra></extra>",
         "legendgroup": "Carlos Doncel",
         "marker": {
          "color": "#FECB52",
          "symbol": "circle"
         },
         "mode": "markers+text",
         "name": "Carlos Doncel",
         "orientation": "v",
         "showlegend": true,
         "text": [
          "Carlos Doncel"
         ],
         "textposition": "top center",
         "type": "scatter",
         "x": [
          0
         ],
         "xaxis": "x",
         "y": [
          0
         ],
         "yaxis": "y"
        },
        {
         "hovertemplate": "player_name=%{text}<br>Assists=%{x}<br>goals_scored=%{y}<extra></extra>",
         "legendgroup": "Víctor Campuzano",
         "marker": {
          "color": "#636efa",
          "symbol": "circle"
         },
         "mode": "markers+text",
         "name": "Víctor Campuzano",
         "orientation": "v",
         "showlegend": true,
         "text": [
          "Víctor Campuzano"
         ],
         "textposition": "top center",
         "type": "scatter",
         "x": [
          0
         ],
         "xaxis": "x",
         "y": [
          0
         ],
         "yaxis": "y"
        },
        {
         "hovertemplate": "player_name=%{text}<br>Assists=%{x}<br>goals_scored=%{y}<extra></extra>",
         "legendgroup": "Borja Iglesias",
         "marker": {
          "color": "#EF553B",
          "symbol": "circle"
         },
         "mode": "markers+text",
         "name": "Borja Iglesias",
         "orientation": "v",
         "showlegend": true,
         "text": [
          "Borja Iglesias"
         ],
         "textposition": "top center",
         "type": "scatter",
         "x": [
          3
         ],
         "xaxis": "x",
         "y": [
          17
         ],
         "yaxis": "y"
        },
        {
         "hovertemplate": "player_name=%{text}<br>Assists=%{x}<br>goals_scored=%{y}<extra></extra>",
         "legendgroup": "Sergio García de la Fuente",
         "marker": {
          "color": "#00cc96",
          "symbol": "circle"
         },
         "mode": "markers+text",
         "name": "Sergio García de la Fuente",
         "orientation": "v",
         "showlegend": true,
         "text": [
          "Sergio García de la Fuente"
         ],
         "textposition": "top center",
         "type": "scatter",
         "x": [
          1
         ],
         "xaxis": "x",
         "y": [
          2
         ],
         "yaxis": "y"
        },
        {
         "hovertemplate": "player_name=%{text}<br>Assists=%{x}<br>goals_scored=%{y}<extra></extra>",
         "legendgroup": "Hernán Arsenio Pérez",
         "marker": {
          "color": "#ab63fa",
          "symbol": "circle"
         },
         "mode": "markers+text",
         "name": "Hernán Arsenio Pérez",
         "orientation": "v",
         "showlegend": true,
         "text": [
          "Hernán Arsenio Pérez"
         ],
         "textposition": "top center",
         "type": "scatter",
         "x": [
          2
         ],
         "xaxis": "x",
         "y": [
          1
         ],
         "yaxis": "y"
        },
        {
         "hovertemplate": "player_name=%{text}<br>Assists=%{x}<br>goals_scored=%{y}<extra></extra>",
         "legendgroup": "Pablo Piatti",
         "marker": {
          "color": "#FFA15A",
          "symbol": "circle"
         },
         "mode": "markers+text",
         "name": "Pablo Piatti",
         "orientation": "v",
         "showlegend": true,
         "text": [
          "Pablo Piatti"
         ],
         "textposition": "top center",
         "type": "scatter",
         "x": [
          0
         ],
         "xaxis": "x",
         "y": [
          1
         ],
         "yaxis": "y"
        },
        {
         "hovertemplate": "player_name=%{text}<br>Assists=%{x}<br>goals_scored=%{y}<extra></extra>",
         "legendgroup": "Javier Puado",
         "marker": {
          "color": "#19d3f3",
          "symbol": "circle"
         },
         "mode": "markers+text",
         "name": "Javier Puado",
         "orientation": "v",
         "showlegend": true,
         "text": [
          "Javier Puado"
         ],
         "textposition": "top center",
         "type": "scatter",
         "x": [
          0
         ],
         "xaxis": "x",
         "y": [
          0
         ],
         "yaxis": "y"
        },
        {
         "hovertemplate": "player_name=%{text}<br>Assists=%{x}<br>goals_scored=%{y}<extra></extra>",
         "legendgroup": "Wu Lei",
         "marker": {
          "color": "#FF6692",
          "symbol": "circle"
         },
         "mode": "markers+text",
         "name": "Wu Lei",
         "orientation": "v",
         "showlegend": true,
         "text": [
          "Wu Lei"
         ],
         "textposition": "top center",
         "type": "scatter",
         "x": [
          1
         ],
         "xaxis": "x",
         "y": [
          3
         ],
         "yaxis": "y"
        },
        {
         "hovertemplate": "player_name=%{text}<br>Assists=%{x}<br>goals_scored=%{y}<extra></extra>",
         "legendgroup": "Léo Baptistão",
         "marker": {
          "color": "#B6E880",
          "symbol": "circle"
         },
         "mode": "markers+text",
         "name": "Léo Baptistão",
         "orientation": "v",
         "showlegend": true,
         "text": [
          "Léo Baptistão"
         ],
         "textposition": "top center",
         "type": "scatter",
         "x": [
          0
         ],
         "xaxis": "x",
         "y": [
          2
         ],
         "yaxis": "y"
        },
        {
         "hovertemplate": "player_name=%{text}<br>Assists=%{x}<br>goals_scored=%{y}<extra></extra>",
         "legendgroup": "Facundo Ferreyra",
         "marker": {
          "color": "#FF97FF",
          "symbol": "circle"
         },
         "mode": "markers+text",
         "name": "Facundo Ferreyra",
         "orientation": "v",
         "showlegend": true,
         "text": [
          "Facundo Ferreyra"
         ],
         "textposition": "top center",
         "type": "scatter",
         "x": [
          0
         ],
         "xaxis": "x",
         "y": [
          1
         ],
         "yaxis": "y"
        },
        {
         "hovertemplate": "player_name=%{text}<br>Assists=%{x}<br>goals_scored=%{y}<extra></extra>",
         "legendgroup": "Alfa Semedo",
         "marker": {
          "color": "#FECB52",
          "symbol": "circle"
         },
         "mode": "markers+text",
         "name": "Alfa Semedo",
         "orientation": "v",
         "showlegend": true,
         "text": [
          "Alfa Semedo"
         ],
         "textposition": "top center",
         "type": "scatter",
         "x": [
          0
         ],
         "xaxis": "x",
         "y": [
          0
         ],
         "yaxis": "y"
        },
        {
         "hovertemplate": "player_name=%{text}<br>Assists=%{x}<br>goals_scored=%{y}<extra></extra>",
         "legendgroup": "Joel Robles",
         "marker": {
          "color": "#636efa",
          "symbol": "circle"
         },
         "mode": "markers+text",
         "name": "Joel Robles",
         "orientation": "v",
         "showlegend": true,
         "text": [
          "Joel Robles"
         ],
         "textposition": "top center",
         "type": "scatter",
         "x": [
          1
         ],
         "xaxis": "x",
         "y": [
          0
         ],
         "yaxis": "y"
        },
        {
         "hovertemplate": "player_name=%{text}<br>Assists=%{x}<br>goals_scored=%{y}<extra></extra>",
         "legendgroup": "Pau López",
         "marker": {
          "color": "#EF553B",
          "symbol": "circle"
         },
         "mode": "markers+text",
         "name": "Pau López",
         "orientation": "v",
         "showlegend": true,
         "text": [
          "Pau López"
         ],
         "textposition": "top center",
         "type": "scatter",
         "x": [
          1
         ],
         "xaxis": "x",
         "y": [
          0
         ],
         "yaxis": "y"
        },
        {
         "hovertemplate": "player_name=%{text}<br>Assists=%{x}<br>goals_scored=%{y}<extra></extra>",
         "legendgroup": "Francis Guerrero",
         "marker": {
          "color": "#00cc96",
          "symbol": "circle"
         },
         "mode": "markers+text",
         "name": "Francis Guerrero",
         "orientation": "v",
         "showlegend": true,
         "text": [
          "Francis Guerrero"
         ],
         "textposition": "top center",
         "type": "scatter",
         "x": [
          0
         ],
         "xaxis": "x",
         "y": [
          0
         ],
         "yaxis": "y"
        },
        {
         "hovertemplate": "player_name=%{text}<br>Assists=%{x}<br>goals_scored=%{y}<extra></extra>",
         "legendgroup": "Zouhair Feddal",
         "marker": {
          "color": "#ab63fa",
          "symbol": "circle"
         },
         "mode": "markers+text",
         "name": "Zouhair Feddal",
         "orientation": "v",
         "showlegend": true,
         "text": [
          "Zouhair Feddal"
         ],
         "textposition": "top center",
         "type": "scatter",
         "x": [
          0
         ],
         "xaxis": "x",
         "y": [
          1
         ],
         "yaxis": "y"
        },
        {
         "hovertemplate": "player_name=%{text}<br>Assists=%{x}<br>goals_scored=%{y}<extra></extra>",
         "legendgroup": "Marc Bartra",
         "marker": {
          "color": "#FFA15A",
          "symbol": "circle"
         },
         "mode": "markers+text",
         "name": "Marc Bartra",
         "orientation": "v",
         "showlegend": true,
         "text": [
          "Marc Bartra"
         ],
         "textposition": "top center",
         "type": "scatter",
         "x": [
          0
         ],
         "xaxis": "x",
         "y": [
          1
         ],
         "yaxis": "y"
        },
        {
         "hovertemplate": "player_name=%{text}<br>Assists=%{x}<br>goals_scored=%{y}<extra></extra>",
         "legendgroup": "Sidnei Rechel da Silva Junior",
         "marker": {
          "color": "#19d3f3",
          "symbol": "circle"
         },
         "mode": "markers+text",
         "name": "Sidnei Rechel da Silva Junior",
         "orientation": "v",
         "showlegend": true,
         "text": [
          "Sidnei Rechel da Silva Junior"
         ],
         "textposition": "top center",
         "type": "scatter",
         "x": [
          4
         ],
         "xaxis": "x",
         "y": [
          1
         ],
         "yaxis": "y"
        },
        {
         "hovertemplate": "player_name=%{text}<br>Assists=%{x}<br>goals_scored=%{y}<extra></extra>",
         "legendgroup": "Antonio Barragán",
         "marker": {
          "color": "#FF6692",
          "symbol": "circle"
         },
         "mode": "markers+text",
         "name": "Antonio Barragán",
         "orientation": "v",
         "showlegend": true,
         "text": [
          "Antonio Barragán"
         ],
         "textposition": "top center",
         "type": "scatter",
         "x": [
          1
         ],
         "xaxis": "x",
         "y": [
          0
         ],
         "yaxis": "y"
        },
        {
         "hovertemplate": "player_name=%{text}<br>Assists=%{x}<br>goals_scored=%{y}<extra></extra>",
         "legendgroup": "Junior Firpo",
         "marker": {
          "color": "#B6E880",
          "symbol": "circle"
         },
         "mode": "markers+text",
         "name": "Junior Firpo",
         "orientation": "v",
         "showlegend": true,
         "text": [
          "Junior Firpo"
         ],
         "textposition": "top center",
         "type": "scatter",
         "x": [
          0
         ],
         "xaxis": "x",
         "y": [
          3
         ],
         "yaxis": "y"
        },
        {
         "hovertemplate": "player_name=%{text}<br>Assists=%{x}<br>goals_scored=%{y}<extra></extra>",
         "legendgroup": "Aissa Mandi",
         "marker": {
          "color": "#FF97FF",
          "symbol": "circle"
         },
         "mode": "markers+text",
         "name": "Aissa Mandi",
         "orientation": "v",
         "showlegend": true,
         "text": [
          "Aissa Mandi"
         ],
         "textposition": "top center",
         "type": "scatter",
         "x": [
          0
         ],
         "xaxis": "x",
         "y": [
          1
         ],
         "yaxis": "y"
        },
        {
         "hovertemplate": "player_name=%{text}<br>Assists=%{x}<br>goals_scored=%{y}<extra></extra>",
         "legendgroup": "Julio Alonso",
         "marker": {
          "color": "#FECB52",
          "symbol": "circle"
         },
         "mode": "markers+text",
         "name": "Julio Alonso",
         "orientation": "v",
         "showlegend": true,
         "text": [
          "Julio Alonso"
         ],
         "textposition": "top center",
         "type": "scatter",
         "x": [
          0
         ],
         "xaxis": "x",
         "y": [
          0
         ],
         "yaxis": "y"
        },
        {
         "hovertemplate": "player_name=%{text}<br>Assists=%{x}<br>goals_scored=%{y}<extra></extra>",
         "legendgroup": "Edgar González",
         "marker": {
          "color": "#636efa",
          "symbol": "circle"
         },
         "mode": "markers+text",
         "name": "Edgar González",
         "orientation": "v",
         "showlegend": true,
         "text": [
          "Edgar González"
         ],
         "textposition": "top center",
         "type": "scatter",
         "x": [
          0
         ],
         "xaxis": "x",
         "y": [
          0
         ],
         "yaxis": "y"
        },
        {
         "hovertemplate": "player_name=%{text}<br>Assists=%{x}<br>goals_scored=%{y}<extra></extra>",
         "legendgroup": "Javier García",
         "marker": {
          "color": "#EF553B",
          "symbol": "circle"
         },
         "mode": "markers+text",
         "name": "Javier García",
         "orientation": "v",
         "showlegend": true,
         "text": [
          "Javier García"
         ],
         "textposition": "top center",
         "type": "scatter",
         "x": [
          2
         ],
         "xaxis": "x",
         "y": [
          0
         ],
         "yaxis": "y"
        },
        {
         "hovertemplate": "player_name=%{text}<br>Assists=%{x}<br>goals_scored=%{y}<extra></extra>",
         "legendgroup": "Sergio Canales",
         "marker": {
          "color": "#00cc96",
          "symbol": "circle"
         },
         "mode": "markers+text",
         "name": "Sergio Canales",
         "orientation": "v",
         "showlegend": true,
         "text": [
          "Sergio Canales"
         ],
         "textposition": "top center",
         "type": "scatter",
         "x": [
          6
         ],
         "xaxis": "x",
         "y": [
          7
         ],
         "yaxis": "y"
        },
        {
         "hovertemplate": "player_name=%{text}<br>Assists=%{x}<br>goals_scored=%{y}<extra></extra>",
         "legendgroup": "Cristian Tello",
         "marker": {
          "color": "#ab63fa",
          "symbol": "circle"
         },
         "mode": "markers+text",
         "name": "Cristian Tello",
         "orientation": "v",
         "showlegend": true,
         "text": [
          "Cristian Tello"
         ],
         "textposition": "top center",
         "type": "scatter",
         "x": [
          5
         ],
         "xaxis": "x",
         "y": [
          4
         ],
         "yaxis": "y"
        },
        {
         "hovertemplate": "player_name=%{text}<br>Assists=%{x}<br>goals_scored=%{y}<extra></extra>",
         "legendgroup": "William Carvalho",
         "marker": {
          "color": "#FFA15A",
          "symbol": "circle"
         },
         "mode": "markers+text",
         "name": "William Carvalho",
         "orientation": "v",
         "showlegend": true,
         "text": [
          "William Carvalho"
         ],
         "textposition": "top center",
         "type": "scatter",
         "x": [
          0
         ],
         "xaxis": "x",
         "y": [
          0
         ],
         "yaxis": "y"
        },
        {
         "hovertemplate": "player_name=%{text}<br>Assists=%{x}<br>goals_scored=%{y}<extra></extra>",
         "legendgroup": "Joaquín Sánchez",
         "marker": {
          "color": "#19d3f3",
          "symbol": "circle"
         },
         "mode": "markers+text",
         "name": "Joaquín Sánchez",
         "orientation": "v",
         "showlegend": true,
         "text": [
          "Joaquín Sánchez"
         ],
         "textposition": "top center",
         "type": "scatter",
         "x": [
          4
         ],
         "xaxis": "x",
         "y": [
          6
         ],
         "yaxis": "y"
        },
        {
         "hovertemplate": "player_name=%{text}<br>Assists=%{x}<br>goals_scored=%{y}<extra></extra>",
         "legendgroup": "Andrés Guardado",
         "marker": {
          "color": "#FF6692",
          "symbol": "circle"
         },
         "mode": "markers+text",
         "name": "Andrés Guardado",
         "orientation": "v",
         "showlegend": true,
         "text": [
          "Andrés Guardado"
         ],
         "textposition": "top center",
         "type": "scatter",
         "x": [
          4
         ],
         "xaxis": "x",
         "y": [
          0
         ],
         "yaxis": "y"
        },
        {
         "hovertemplate": "player_name=%{text}<br>Assists=%{x}<br>goals_scored=%{y}<extra></extra>",
         "legendgroup": "Giovani Lo Celso",
         "marker": {
          "color": "#B6E880",
          "symbol": "circle"
         },
         "mode": "markers+text",
         "name": "Giovani Lo Celso",
         "orientation": "v",
         "showlegend": true,
         "text": [
          "Giovani Lo Celso"
         ],
         "textposition": "top center",
         "type": "scatter",
         "x": [
          1
         ],
         "xaxis": "x",
         "y": [
          9
         ],
         "yaxis": "y"
        },
        {
         "hovertemplate": "player_name=%{text}<br>Assists=%{x}<br>goals_scored=%{y}<extra></extra>",
         "legendgroup": "Diego Lainez Leyva",
         "marker": {
          "color": "#FF97FF",
          "symbol": "circle"
         },
         "mode": "markers+text",
         "name": "Diego Lainez Leyva",
         "orientation": "v",
         "showlegend": true,
         "text": [
          "Diego Lainez Leyva"
         ],
         "textposition": "top center",
         "type": "scatter",
         "x": [
          0
         ],
         "xaxis": "x",
         "y": [
          0
         ],
         "yaxis": "y"
        },
        {
         "hovertemplate": "player_name=%{text}<br>Assists=%{x}<br>goals_scored=%{y}<extra></extra>",
         "legendgroup": "Adrián Tellado",
         "marker": {
          "color": "#FECB52",
          "symbol": "circle"
         },
         "mode": "markers+text",
         "name": "Adrián Tellado",
         "orientation": "v",
         "showlegend": true,
         "text": [
          "Adrián Tellado"
         ],
         "textposition": "top center",
         "type": "scatter",
         "x": [
          0
         ],
         "xaxis": "x",
         "y": [
          0
         ],
         "yaxis": "y"
        },
        {
         "hovertemplate": "player_name=%{text}<br>Assists=%{x}<br>goals_scored=%{y}<extra></extra>",
         "legendgroup": "Irizo",
         "marker": {
          "color": "#636efa",
          "symbol": "circle"
         },
         "mode": "markers+text",
         "name": "Irizo",
         "orientation": "v",
         "showlegend": true,
         "text": [
          "Irizo"
         ],
         "textposition": "top center",
         "type": "scatter",
         "x": [
          0
         ],
         "xaxis": "x",
         "y": [
          0
         ],
         "yaxis": "y"
        },
        {
         "hovertemplate": "player_name=%{text}<br>Assists=%{x}<br>goals_scored=%{y}<extra></extra>",
         "legendgroup": "Robert Navarro",
         "marker": {
          "color": "#EF553B",
          "symbol": "circle"
         },
         "mode": "markers+text",
         "name": "Robert Navarro",
         "orientation": "v",
         "showlegend": true,
         "text": [
          "Robert Navarro"
         ],
         "textposition": "top center",
         "type": "scatter",
         "x": [
          0
         ],
         "xaxis": "x",
         "y": [
          0
         ],
         "yaxis": "y"
        },
        {
         "hovertemplate": "player_name=%{text}<br>Assists=%{x}<br>goals_scored=%{y}<extra></extra>",
         "legendgroup": "Diego Altamirano",
         "marker": {
          "color": "#00cc96",
          "symbol": "circle"
         },
         "mode": "markers+text",
         "name": "Diego Altamirano",
         "orientation": "v",
         "showlegend": true,
         "text": [
          "Diego Altamirano"
         ],
         "textposition": "top center",
         "type": "scatter",
         "x": [
          0
         ],
         "xaxis": "x",
         "y": [
          0
         ],
         "yaxis": "y"
        },
        {
         "hovertemplate": "player_name=%{text}<br>Assists=%{x}<br>goals_scored=%{y}<extra></extra>",
         "legendgroup": "Jaime Garijo",
         "marker": {
          "color": "#ab63fa",
          "symbol": "circle"
         },
         "mode": "markers+text",
         "name": "Jaime Garijo",
         "orientation": "v",
         "showlegend": true,
         "text": [
          "Jaime Garijo"
         ],
         "textposition": "top center",
         "type": "scatter",
         "x": [
          0
         ],
         "xaxis": "x",
         "y": [
          0
         ],
         "yaxis": "y"
        },
        {
         "hovertemplate": "player_name=%{text}<br>Assists=%{x}<br>goals_scored=%{y}<extra></extra>",
         "legendgroup": "Paul Akouokou",
         "marker": {
          "color": "#FFA15A",
          "symbol": "circle"
         },
         "mode": "markers+text",
         "name": "Paul Akouokou",
         "orientation": "v",
         "showlegend": true,
         "text": [
          "Paul Akouokou"
         ],
         "textposition": "top center",
         "type": "scatter",
         "x": [
          1
         ],
         "xaxis": "x",
         "y": [
          0
         ],
         "yaxis": "y"
        },
        {
         "hovertemplate": "player_name=%{text}<br>Assists=%{x}<br>goals_scored=%{y}<extra></extra>",
         "legendgroup": "Wilfrid Kaptoum",
         "marker": {
          "color": "#19d3f3",
          "symbol": "circle"
         },
         "mode": "markers+text",
         "name": "Wilfrid Kaptoum",
         "orientation": "v",
         "showlegend": true,
         "text": [
          "Wilfrid Kaptoum"
         ],
         "textposition": "top center",
         "type": "scatter",
         "x": [
          0
         ],
         "xaxis": "x",
         "y": [
          0
         ],
         "yaxis": "y"
        },
        {
         "hovertemplate": "player_name=%{text}<br>Assists=%{x}<br>goals_scored=%{y}<extra></extra>",
         "legendgroup": "Sergio León",
         "marker": {
          "color": "#FF6692",
          "symbol": "circle"
         },
         "mode": "markers+text",
         "name": "Sergio León",
         "orientation": "v",
         "showlegend": true,
         "text": [
          "Sergio León"
         ],
         "textposition": "top center",
         "type": "scatter",
         "x": [
          0
         ],
         "xaxis": "x",
         "y": [
          0
         ],
         "yaxis": "y"
        },
        {
         "hovertemplate": "player_name=%{text}<br>Assists=%{x}<br>goals_scored=%{y}<extra></extra>",
         "legendgroup": "Jesé Rodríguez",
         "marker": {
          "color": "#B6E880",
          "symbol": "circle"
         },
         "mode": "markers+text",
         "name": "Jesé Rodríguez",
         "orientation": "v",
         "showlegend": true,
         "text": [
          "Jesé Rodríguez"
         ],
         "textposition": "top center",
         "type": "scatter",
         "x": [
          0
         ],
         "xaxis": "x",
         "y": [
          3
         ],
         "yaxis": "y"
        },
        {
         "hovertemplate": "player_name=%{text}<br>Assists=%{x}<br>goals_scored=%{y}<extra></extra>",
         "legendgroup": "Loren Morón García",
         "marker": {
          "color": "#FF97FF",
          "symbol": "circle"
         },
         "mode": "markers+text",
         "name": "Loren Morón García",
         "orientation": "v",
         "showlegend": true,
         "text": [
          "Loren Morón García"
         ],
         "textposition": "top center",
         "type": "scatter",
         "x": [
          0
         ],
         "xaxis": "x",
         "y": [
          6
         ],
         "yaxis": "y"
        },
        {
         "hovertemplate": "player_name=%{text}<br>Assists=%{x}<br>goals_scored=%{y}<extra></extra>",
         "legendgroup": "Antonio Sanabria",
         "marker": {
          "color": "#FECB52",
          "symbol": "circle"
         },
         "mode": "markers+text",
         "name": "Antonio Sanabria",
         "orientation": "v",
         "showlegend": true,
         "text": [
          "Antonio Sanabria"
         ],
         "textposition": "top center",
         "type": "scatter",
         "x": [
          0
         ],
         "xaxis": "x",
         "y": [
          2
         ],
         "yaxis": "y"
        },
        {
         "hovertemplate": "player_name=%{text}<br>Assists=%{x}<br>goals_scored=%{y}<extra></extra>",
         "legendgroup": "Emerson Royal",
         "marker": {
          "color": "#636efa",
          "symbol": "circle"
         },
         "mode": "markers+text",
         "name": "Emerson Royal",
         "orientation": "v",
         "showlegend": true,
         "text": [
          "Emerson Royal"
         ],
         "textposition": "top center",
         "type": "scatter",
         "x": [
          0
         ],
         "xaxis": "x",
         "y": [
          0
         ],
         "yaxis": "y"
        },
        {
         "hovertemplate": "player_name=%{text}<br>Assists=%{x}<br>goals_scored=%{y}<extra></extra>",
         "legendgroup": "Keylor Navas",
         "marker": {
          "color": "#EF553B",
          "symbol": "circle"
         },
         "mode": "markers+text",
         "name": "Keylor Navas",
         "orientation": "v",
         "showlegend": true,
         "text": [
          "Keylor Navas"
         ],
         "textposition": "top center",
         "type": "scatter",
         "x": [
          2
         ],
         "xaxis": "x",
         "y": [
          0
         ],
         "yaxis": "y"
        },
        {
         "hovertemplate": "player_name=%{text}<br>Assists=%{x}<br>goals_scored=%{y}<extra></extra>",
         "legendgroup": "Thibaut Courtois",
         "marker": {
          "color": "#00cc96",
          "symbol": "circle"
         },
         "mode": "markers+text",
         "name": "Thibaut Courtois",
         "orientation": "v",
         "showlegend": true,
         "text": [
          "Thibaut Courtois"
         ],
         "textposition": "top center",
         "type": "scatter",
         "x": [
          0
         ],
         "xaxis": "x",
         "y": [
          0
         ],
         "yaxis": "y"
        },
        {
         "hovertemplate": "player_name=%{text}<br>Assists=%{x}<br>goals_scored=%{y}<extra></extra>",
         "legendgroup": "Dani Carvajal",
         "marker": {
          "color": "#ab63fa",
          "symbol": "circle"
         },
         "mode": "markers+text",
         "name": "Dani Carvajal",
         "orientation": "v",
         "showlegend": true,
         "text": [
          "Dani Carvajal"
         ],
         "textposition": "top center",
         "type": "scatter",
         "x": [
          1
         ],
         "xaxis": "x",
         "y": [
          1
         ],
         "yaxis": "y"
        },
        {
         "hovertemplate": "player_name=%{text}<br>Assists=%{x}<br>goals_scored=%{y}<extra></extra>",
         "legendgroup": "Jesús Vallejo",
         "marker": {
          "color": "#FFA15A",
          "symbol": "circle"
         },
         "mode": "markers+text",
         "name": "Jesús Vallejo",
         "orientation": "v",
         "showlegend": true,
         "text": [
          "Jesús Vallejo"
         ],
         "textposition": "top center",
         "type": "scatter",
         "x": [
          0
         ],
         "xaxis": "x",
         "y": [
          1
         ],
         "yaxis": "y"
        },
        {
         "hovertemplate": "player_name=%{text}<br>Assists=%{x}<br>goals_scored=%{y}<extra></extra>",
         "legendgroup": "Sergio Ramos",
         "marker": {
          "color": "#19d3f3",
          "symbol": "circle"
         },
         "mode": "markers+text",
         "name": "Sergio Ramos",
         "orientation": "v",
         "showlegend": true,
         "text": [
          "Sergio Ramos"
         ],
         "textposition": "top center",
         "type": "scatter",
         "x": [
          1
         ],
         "xaxis": "x",
         "y": [
          6
         ],
         "yaxis": "y"
        },
        {
         "hovertemplate": "player_name=%{text}<br>Assists=%{x}<br>goals_scored=%{y}<extra></extra>",
         "legendgroup": "Raphaël Varane",
         "marker": {
          "color": "#FF6692",
          "symbol": "circle"
         },
         "mode": "markers+text",
         "name": "Raphaël Varane",
         "orientation": "v",
         "showlegend": true,
         "text": [
          "Raphaël Varane"
         ],
         "textposition": "top center",
         "type": "scatter",
         "x": [
          2
         ],
         "xaxis": "x",
         "y": [
          2
         ],
         "yaxis": "y"
        },
        {
         "hovertemplate": "player_name=%{text}<br>Assists=%{x}<br>goals_scored=%{y}<extra></extra>",
         "legendgroup": "Nacho Fernández Iglesias",
         "marker": {
          "color": "#B6E880",
          "symbol": "circle"
         },
         "mode": "markers+text",
         "name": "Nacho Fernández Iglesias",
         "orientation": "v",
         "showlegend": true,
         "text": [
          "Nacho Fernández Iglesias"
         ],
         "textposition": "top center",
         "type": "scatter",
         "x": [
          2
         ],
         "xaxis": "x",
         "y": [
          0
         ],
         "yaxis": "y"
        },
        {
         "hovertemplate": "player_name=%{text}<br>Assists=%{x}<br>goals_scored=%{y}<extra></extra>",
         "legendgroup": "Marcelo Vieira",
         "marker": {
          "color": "#FF97FF",
          "symbol": "circle"
         },
         "mode": "markers+text",
         "name": "Marcelo Vieira",
         "orientation": "v",
         "showlegend": true,
         "text": [
          "Marcelo Vieira"
         ],
         "textposition": "top center",
         "type": "scatter",
         "x": [
          2
         ],
         "xaxis": "x",
         "y": [
          2
         ],
         "yaxis": "y"
        },
        {
         "hovertemplate": "player_name=%{text}<br>Assists=%{x}<br>goals_scored=%{y}<extra></extra>",
         "legendgroup": "Álvaro Odriozola",
         "marker": {
          "color": "#FECB52",
          "symbol": "circle"
         },
         "mode": "markers+text",
         "name": "Álvaro Odriozola",
         "orientation": "v",
         "showlegend": true,
         "text": [
          "Álvaro Odriozola"
         ],
         "textposition": "top center",
         "type": "scatter",
         "x": [
          0
         ],
         "xaxis": "x",
         "y": [
          0
         ],
         "yaxis": "y"
        },
        {
         "hovertemplate": "player_name=%{text}<br>Assists=%{x}<br>goals_scored=%{y}<extra></extra>",
         "legendgroup": "Sergio Reguilón",
         "marker": {
          "color": "#636efa",
          "symbol": "circle"
         },
         "mode": "markers+text",
         "name": "Sergio Reguilón",
         "orientation": "v",
         "showlegend": true,
         "text": [
          "Sergio Reguilón"
         ],
         "textposition": "top center",
         "type": "scatter",
         "x": [
          0
         ],
         "xaxis": "x",
         "y": [
          0
         ],
         "yaxis": "y"
        },
        {
         "hovertemplate": "player_name=%{text}<br>Assists=%{x}<br>goals_scored=%{y}<extra></extra>",
         "legendgroup": "Adrián de la Fuente",
         "marker": {
          "color": "#EF553B",
          "symbol": "circle"
         },
         "mode": "markers+text",
         "name": "Adrián de la Fuente",
         "orientation": "v",
         "showlegend": true,
         "text": [
          "Adrián de la Fuente"
         ],
         "textposition": "top center",
         "type": "scatter",
         "x": [
          4
         ],
         "xaxis": "x",
         "y": [
          0
         ],
         "yaxis": "y"
        },
        {
         "hovertemplate": "player_name=%{text}<br>Assists=%{x}<br>goals_scored=%{y}<extra></extra>",
         "legendgroup": "Francisco Garcia",
         "marker": {
          "color": "#00cc96",
          "symbol": "circle"
         },
         "mode": "markers+text",
         "name": "Francisco Garcia",
         "orientation": "v",
         "showlegend": true,
         "text": [
          "Francisco Garcia"
         ],
         "textposition": "top center",
         "type": "scatter",
         "x": [
          6
         ],
         "xaxis": "x",
         "y": [
          0
         ],
         "yaxis": "y"
        },
        {
         "hovertemplate": "player_name=%{text}<br>Assists=%{x}<br>goals_scored=%{y}<extra></extra>",
         "legendgroup": "Toni Kroos",
         "marker": {
          "color": "#ab63fa",
          "symbol": "circle"
         },
         "mode": "markers+text",
         "name": "Toni Kroos",
         "orientation": "v",
         "showlegend": true,
         "text": [
          "Toni Kroos"
         ],
         "textposition": "top center",
         "type": "scatter",
         "x": [
          0
         ],
         "xaxis": "x",
         "y": [
          0
         ],
         "yaxis": "y"
        },
        {
         "hovertemplate": "player_name=%{text}<br>Assists=%{x}<br>goals_scored=%{y}<extra></extra>",
         "legendgroup": "Luka Modric",
         "marker": {
          "color": "#FFA15A",
          "symbol": "circle"
         },
         "mode": "markers+text",
         "name": "Luka Modric",
         "orientation": "v",
         "showlegend": true,
         "text": [
          "Luka Modric"
         ],
         "textposition": "top center",
         "type": "scatter",
         "x": [
          0
         ],
         "xaxis": "x",
         "y": [
          3
         ],
         "yaxis": "y"
        },
        {
         "hovertemplate": "player_name=%{text}<br>Assists=%{x}<br>goals_scored=%{y}<extra></extra>",
         "legendgroup": "Carlos Casemiro",
         "marker": {
          "color": "#19d3f3",
          "symbol": "circle"
         },
         "mode": "markers+text",
         "name": "Carlos Casemiro",
         "orientation": "v",
         "showlegend": true,
         "text": [
          "Carlos Casemiro"
         ],
         "textposition": "top center",
         "type": "scatter",
         "x": [
          0
         ],
         "xaxis": "x",
         "y": [
          3
         ],
         "yaxis": "y"
        },
        {
         "hovertemplate": "player_name=%{text}<br>Assists=%{x}<br>goals_scored=%{y}<extra></extra>",
         "legendgroup": "Federico Valverde",
         "marker": {
          "color": "#FF6692",
          "symbol": "circle"
         },
         "mode": "markers+text",
         "name": "Federico Valverde",
         "orientation": "v",
         "showlegend": true,
         "text": [
          "Federico Valverde"
         ],
         "textposition": "top center",
         "type": "scatter",
         "x": [
          4
         ],
         "xaxis": "x",
         "y": [
          0
         ],
         "yaxis": "y"
        },
        {
         "hovertemplate": "player_name=%{text}<br>Assists=%{x}<br>goals_scored=%{y}<extra></extra>",
         "legendgroup": "Marcos Llorente",
         "marker": {
          "color": "#B6E880",
          "symbol": "circle"
         },
         "mode": "markers+text",
         "name": "Marcos Llorente",
         "orientation": "v",
         "showlegend": true,
         "text": [
          "Marcos Llorente"
         ],
         "textposition": "top center",
         "type": "scatter",
         "x": [
          1
         ],
         "xaxis": "x",
         "y": [
          0
         ],
         "yaxis": "y"
        },
        {
         "hovertemplate": "player_name=%{text}<br>Assists=%{x}<br>goals_scored=%{y}<extra></extra>",
         "legendgroup": "Marco Asensio",
         "marker": {
          "color": "#FF97FF",
          "symbol": "circle"
         },
         "mode": "markers+text",
         "name": "Marco Asensio",
         "orientation": "v",
         "showlegend": true,
         "text": [
          "Marco Asensio"
         ],
         "textposition": "top center",
         "type": "scatter",
         "x": [
          2
         ],
         "xaxis": "x",
         "y": [
          1
         ],
         "yaxis": "y"
        },
        {
         "hovertemplate": "player_name=%{text}<br>Assists=%{x}<br>goals_scored=%{y}<extra></extra>",
         "legendgroup": "Brahim Díaz",
         "marker": {
          "color": "#FECB52",
          "symbol": "circle"
         },
         "mode": "markers+text",
         "name": "Brahim Díaz",
         "orientation": "v",
         "showlegend": true,
         "text": [
          "Brahim Díaz"
         ],
         "textposition": "top center",
         "type": "scatter",
         "x": [
          0
         ],
         "xaxis": "x",
         "y": [
          1
         ],
         "yaxis": "y"
        },
        {
         "hovertemplate": "player_name=%{text}<br>Assists=%{x}<br>goals_scored=%{y}<extra></extra>",
         "legendgroup": "Isco",
         "marker": {
          "color": "#636efa",
          "symbol": "circle"
         },
         "mode": "markers+text",
         "name": "Isco",
         "orientation": "v",
         "showlegend": true,
         "text": [
          "Isco"
         ],
         "textposition": "top center",
         "type": "scatter",
         "x": [
          0
         ],
         "xaxis": "x",
         "y": [
          3
         ],
         "yaxis": "y"
        },
        {
         "hovertemplate": "player_name=%{text}<br>Assists=%{x}<br>goals_scored=%{y}<extra></extra>",
         "legendgroup": "Dani Ceballos",
         "marker": {
          "color": "#EF553B",
          "symbol": "circle"
         },
         "mode": "markers+text",
         "name": "Dani Ceballos",
         "orientation": "v",
         "showlegend": true,
         "text": [
          "Dani Ceballos"
         ],
         "textposition": "top center",
         "type": "scatter",
         "x": [
          0
         ],
         "xaxis": "x",
         "y": [
          3
         ],
         "yaxis": "y"
        },
        {
         "hovertemplate": "player_name=%{text}<br>Assists=%{x}<br>goals_scored=%{y}<extra></extra>",
         "legendgroup": "Álvaro Fidalgo",
         "marker": {
          "color": "#00cc96",
          "symbol": "circle"
         },
         "mode": "markers+text",
         "name": "Álvaro Fidalgo",
         "orientation": "v",
         "showlegend": true,
         "text": [
          "Álvaro Fidalgo"
         ],
         "textposition": "top center",
         "type": "scatter",
         "x": [
          0
         ],
         "xaxis": "x",
         "y": [
          0
         ],
         "yaxis": "y"
        },
        {
         "hovertemplate": "player_name=%{text}<br>Assists=%{x}<br>goals_scored=%{y}<extra></extra>",
         "legendgroup": "Jaume Grau",
         "marker": {
          "color": "#ab63fa",
          "symbol": "circle"
         },
         "mode": "markers+text",
         "name": "Jaume Grau",
         "orientation": "v",
         "showlegend": true,
         "text": [
          "Jaume Grau"
         ],
         "textposition": "top center",
         "type": "scatter",
         "x": [
          0
         ],
         "xaxis": "x",
         "y": [
          0
         ],
         "yaxis": "y"
        },
        {
         "hovertemplate": "player_name=%{text}<br>Assists=%{x}<br>goals_scored=%{y}<extra></extra>",
         "legendgroup": "Javier Sánchez de Felipe",
         "marker": {
          "color": "#FFA15A",
          "symbol": "circle"
         },
         "mode": "markers+text",
         "name": "Javier Sánchez de Felipe",
         "orientation": "v",
         "showlegend": true,
         "text": [
          "Javier Sánchez de Felipe"
         ],
         "textposition": "top center",
         "type": "scatter",
         "x": [
          6
         ],
         "xaxis": "x",
         "y": [
          0
         ],
         "yaxis": "y"
        },
        {
         "hovertemplate": "player_name=%{text}<br>Assists=%{x}<br>goals_scored=%{y}<extra></extra>",
         "legendgroup": "Mariano Díaz Mejía",
         "marker": {
          "color": "#19d3f3",
          "symbol": "circle"
         },
         "mode": "markers+text",
         "name": "Mariano Díaz Mejía",
         "orientation": "v",
         "showlegend": true,
         "text": [
          "Mariano Díaz Mejía"
         ],
         "textposition": "top center",
         "type": "scatter",
         "x": [
          3
         ],
         "xaxis": "x",
         "y": [
          3
         ],
         "yaxis": "y"
        },
        {
         "hovertemplate": "player_name=%{text}<br>Assists=%{x}<br>goals_scored=%{y}<extra></extra>",
         "legendgroup": "Karim Benzema",
         "marker": {
          "color": "#FF6692",
          "symbol": "circle"
         },
         "mode": "markers+text",
         "name": "Karim Benzema",
         "orientation": "v",
         "showlegend": true,
         "text": [
          "Karim Benzema"
         ],
         "textposition": "top center",
         "type": "scatter",
         "x": [
          3
         ],
         "xaxis": "x",
         "y": [
          21
         ],
         "yaxis": "y"
        },
        {
         "hovertemplate": "player_name=%{text}<br>Assists=%{x}<br>goals_scored=%{y}<extra></extra>",
         "legendgroup": "Gareth Bale",
         "marker": {
          "color": "#B6E880",
          "symbol": "circle"
         },
         "mode": "markers+text",
         "name": "Gareth Bale",
         "orientation": "v",
         "showlegend": true,
         "text": [
          "Gareth Bale"
         ],
         "textposition": "top center",
         "type": "scatter",
         "x": [
          0
         ],
         "xaxis": "x",
         "y": [
          8
         ],
         "yaxis": "y"
        },
        {
         "hovertemplate": "player_name=%{text}<br>Assists=%{x}<br>goals_scored=%{y}<extra></extra>",
         "legendgroup": "Lucas Vázquez",
         "marker": {
          "color": "#FF97FF",
          "symbol": "circle"
         },
         "mode": "markers+text",
         "name": "Lucas Vázquez",
         "orientation": "v",
         "showlegend": true,
         "text": [
          "Lucas Vázquez"
         ],
         "textposition": "top center",
         "type": "scatter",
         "x": [
          0
         ],
         "xaxis": "x",
         "y": [
          1
         ],
         "yaxis": "y"
        },
        {
         "hovertemplate": "player_name=%{text}<br>Assists=%{x}<br>goals_scored=%{y}<extra></extra>",
         "legendgroup": "Vinícius Júnior",
         "marker": {
          "color": "#FECB52",
          "symbol": "circle"
         },
         "mode": "markers+text",
         "name": "Vinícius Júnior",
         "orientation": "v",
         "showlegend": true,
         "text": [
          "Vinícius Júnior"
         ],
         "textposition": "top center",
         "type": "scatter",
         "x": [
          0
         ],
         "xaxis": "x",
         "y": [
          2
         ],
         "yaxis": "y"
        },
        {
         "hovertemplate": "player_name=%{text}<br>Assists=%{x}<br>goals_scored=%{y}<extra></extra>",
         "legendgroup": "Gerónimo Rulli",
         "marker": {
          "color": "#636efa",
          "symbol": "circle"
         },
         "mode": "markers+text",
         "name": "Gerónimo Rulli",
         "orientation": "v",
         "showlegend": true,
         "text": [
          "Gerónimo Rulli"
         ],
         "textposition": "top center",
         "type": "scatter",
         "x": [
          0
         ],
         "xaxis": "x",
         "y": [
          0
         ],
         "yaxis": "y"
        },
        {
         "hovertemplate": "player_name=%{text}<br>Assists=%{x}<br>goals_scored=%{y}<extra></extra>",
         "legendgroup": "Miguel Ángel Moyá",
         "marker": {
          "color": "#EF553B",
          "symbol": "circle"
         },
         "mode": "markers+text",
         "name": "Miguel Ángel Moyá",
         "orientation": "v",
         "showlegend": true,
         "text": [
          "Miguel Ángel Moyá"
         ],
         "textposition": "top center",
         "type": "scatter",
         "x": [
          2
         ],
         "xaxis": "x",
         "y": [
          0
         ],
         "yaxis": "y"
        },
        {
         "hovertemplate": "player_name=%{text}<br>Assists=%{x}<br>goals_scored=%{y}<extra></extra>",
         "legendgroup": "Joseba Zaldua",
         "marker": {
          "color": "#00cc96",
          "symbol": "circle"
         },
         "mode": "markers+text",
         "name": "Joseba Zaldua",
         "orientation": "v",
         "showlegend": true,
         "text": [
          "Joseba Zaldua"
         ],
         "textposition": "top center",
         "type": "scatter",
         "x": [
          0
         ],
         "xaxis": "x",
         "y": [
          1
         ],
         "yaxis": "y"
        },
        {
         "hovertemplate": "player_name=%{text}<br>Assists=%{x}<br>goals_scored=%{y}<extra></extra>",
         "legendgroup": "Diego Llorente",
         "marker": {
          "color": "#ab63fa",
          "symbol": "circle"
         },
         "mode": "markers+text",
         "name": "Diego Llorente",
         "orientation": "v",
         "showlegend": true,
         "text": [
          "Diego Llorente"
         ],
         "textposition": "top center",
         "type": "scatter",
         "x": [
          0
         ],
         "xaxis": "x",
         "y": [
          1
         ],
         "yaxis": "y"
        },
        {
         "hovertemplate": "player_name=%{text}<br>Assists=%{x}<br>goals_scored=%{y}<extra></extra>",
         "legendgroup": "Héctor Moreno",
         "marker": {
          "color": "#FFA15A",
          "symbol": "circle"
         },
         "mode": "markers+text",
         "name": "Héctor Moreno",
         "orientation": "v",
         "showlegend": true,
         "text": [
          "Héctor Moreno"
         ],
         "textposition": "top center",
         "type": "scatter",
         "x": [
          0
         ],
         "xaxis": "x",
         "y": [
          1
         ],
         "yaxis": "y"
        },
        {
         "hovertemplate": "player_name=%{text}<br>Assists=%{x}<br>goals_scored=%{y}<extra></extra>",
         "legendgroup": "Aritz Elustondo",
         "marker": {
          "color": "#19d3f3",
          "symbol": "circle"
         },
         "mode": "markers+text",
         "name": "Aritz Elustondo",
         "orientation": "v",
         "showlegend": true,
         "text": [
          "Aritz Elustondo"
         ],
         "textposition": "top center",
         "type": "scatter",
         "x": [
          0
         ],
         "xaxis": "x",
         "y": [
          1
         ],
         "yaxis": "y"
        },
        {
         "hovertemplate": "player_name=%{text}<br>Assists=%{x}<br>goals_scored=%{y}<extra></extra>",
         "legendgroup": "Andoni Gorosabel",
         "marker": {
          "color": "#FF6692",
          "symbol": "circle"
         },
         "mode": "markers+text",
         "name": "Andoni Gorosabel",
         "orientation": "v",
         "showlegend": true,
         "text": [
          "Andoni Gorosabel"
         ],
         "textposition": "top center",
         "type": "scatter",
         "x": [
          2
         ],
         "xaxis": "x",
         "y": [
          0
         ],
         "yaxis": "y"
        },
        {
         "hovertemplate": "player_name=%{text}<br>Assists=%{x}<br>goals_scored=%{y}<extra></extra>",
         "legendgroup": "Theo Hernández",
         "marker": {
          "color": "#B6E880",
          "symbol": "circle"
         },
         "mode": "markers+text",
         "name": "Theo Hernández",
         "orientation": "v",
         "showlegend": true,
         "text": [
          "Theo Hernández"
         ],
         "textposition": "top center",
         "type": "scatter",
         "x": [
          0
         ],
         "xaxis": "x",
         "y": [
          1
         ],
         "yaxis": "y"
        },
        {
         "hovertemplate": "player_name=%{text}<br>Assists=%{x}<br>goals_scored=%{y}<extra></extra>",
         "legendgroup": "Kévin Manuel Rodrigues",
         "marker": {
          "color": "#FF97FF",
          "symbol": "circle"
         },
         "mode": "markers+text",
         "name": "Kévin Manuel Rodrigues",
         "orientation": "v",
         "showlegend": true,
         "text": [
          "Kévin Manuel Rodrigues"
         ],
         "textposition": "top center",
         "type": "scatter",
         "x": [
          0
         ],
         "xaxis": "x",
         "y": [
          0
         ],
         "yaxis": "y"
        },
        {
         "hovertemplate": "player_name=%{text}<br>Assists=%{x}<br>goals_scored=%{y}<extra></extra>",
         "legendgroup": "Raúl Rodríguez Navas",
         "marker": {
          "color": "#FECB52",
          "symbol": "circle"
         },
         "mode": "markers+text",
         "name": "Raúl Rodríguez Navas",
         "orientation": "v",
         "showlegend": true,
         "text": [
          "Raúl Rodríguez Navas"
         ],
         "textposition": "top center",
         "type": "scatter",
         "x": [
          1
         ],
         "xaxis": "x",
         "y": [
          0
         ],
         "yaxis": "y"
        },
        {
         "hovertemplate": "player_name=%{text}<br>Assists=%{x}<br>goals_scored=%{y}<extra></extra>",
         "legendgroup": "Robin Le Normand",
         "marker": {
          "color": "#636efa",
          "symbol": "circle"
         },
         "mode": "markers+text",
         "name": "Robin Le Normand",
         "orientation": "v",
         "showlegend": true,
         "text": [
          "Robin Le Normand"
         ],
         "textposition": "top center",
         "type": "scatter",
         "x": [
          0
         ],
         "xaxis": "x",
         "y": [
          0
         ],
         "yaxis": "y"
        },
        {
         "hovertemplate": "player_name=%{text}<br>Assists=%{x}<br>goals_scored=%{y}<extra></extra>",
         "legendgroup": "Aihen Muñoz",
         "marker": {
          "color": "#EF553B",
          "symbol": "circle"
         },
         "mode": "markers+text",
         "name": "Aihen Muñoz",
         "orientation": "v",
         "showlegend": true,
         "text": [
          "Aihen Muñoz"
         ],
         "textposition": "top center",
         "type": "scatter",
         "x": [
          0
         ],
         "xaxis": "x",
         "y": [
          0
         ],
         "yaxis": "y"
        },
        {
         "hovertemplate": "player_name=%{text}<br>Assists=%{x}<br>goals_scored=%{y}<extra></extra>",
         "legendgroup": "Alex Sola",
         "marker": {
          "color": "#00cc96",
          "symbol": "circle"
         },
         "mode": "markers+text",
         "name": "Alex Sola",
         "orientation": "v",
         "showlegend": true,
         "text": [
          "Alex Sola"
         ],
         "textposition": "top center",
         "type": "scatter",
         "x": [
          0
         ],
         "xaxis": "x",
         "y": [
          0
         ],
         "yaxis": "y"
        },
        {
         "hovertemplate": "player_name=%{text}<br>Assists=%{x}<br>goals_scored=%{y}<extra></extra>",
         "legendgroup": "Asier Illarramendi",
         "marker": {
          "color": "#ab63fa",
          "symbol": "circle"
         },
         "mode": "markers+text",
         "name": "Asier Illarramendi",
         "orientation": "v",
         "showlegend": true,
         "text": [
          "Asier Illarramendi"
         ],
         "textposition": "top center",
         "type": "scatter",
         "x": [
          1
         ],
         "xaxis": "x",
         "y": [
          1
         ],
         "yaxis": "y"
        },
        {
         "hovertemplate": "player_name=%{text}<br>Assists=%{x}<br>goals_scored=%{y}<extra></extra>",
         "legendgroup": "Igor Zubeldia",
         "marker": {
          "color": "#FFA15A",
          "symbol": "circle"
         },
         "mode": "markers+text",
         "name": "Igor Zubeldia",
         "orientation": "v",
         "showlegend": true,
         "text": [
          "Igor Zubeldia"
         ],
         "textposition": "top center",
         "type": "scatter",
         "x": [
          1
         ],
         "xaxis": "x",
         "y": [
          0
         ],
         "yaxis": "y"
        },
        {
         "hovertemplate": "player_name=%{text}<br>Assists=%{x}<br>goals_scored=%{y}<extra></extra>",
         "legendgroup": "Mikel Merino",
         "marker": {
          "color": "#19d3f3",
          "symbol": "circle"
         },
         "mode": "markers+text",
         "name": "Mikel Merino",
         "orientation": "v",
         "showlegend": true,
         "text": [
          "Mikel Merino"
         ],
         "textposition": "top center",
         "type": "scatter",
         "x": [
          3
         ],
         "xaxis": "x",
         "y": [
          3
         ],
         "yaxis": "y"
        },
        {
         "hovertemplate": "player_name=%{text}<br>Assists=%{x}<br>goals_scored=%{y}<extra></extra>",
         "legendgroup": "Rubén Pardo",
         "marker": {
          "color": "#FF6692",
          "symbol": "circle"
         },
         "mode": "markers+text",
         "name": "Rubén Pardo",
         "orientation": "v",
         "showlegend": true,
         "text": [
          "Rubén Pardo"
         ],
         "textposition": "top center",
         "type": "scatter",
         "x": [
          2
         ],
         "xaxis": "x",
         "y": [
          1
         ],
         "yaxis": "y"
        },
        {
         "hovertemplate": "player_name=%{text}<br>Assists=%{x}<br>goals_scored=%{y}<extra></extra>",
         "legendgroup": "David Merquelanz",
         "marker": {
          "color": "#B6E880",
          "symbol": "circle"
         },
         "mode": "markers+text",
         "name": "David Merquelanz",
         "orientation": "v",
         "showlegend": true,
         "text": [
          "David Merquelanz"
         ],
         "textposition": "top center",
         "type": "scatter",
         "x": [
          0
         ],
         "xaxis": "x",
         "y": [
          0
         ],
         "yaxis": "y"
        },
        {
         "hovertemplate": "player_name=%{text}<br>Assists=%{x}<br>goals_scored=%{y}<extra></extra>",
         "legendgroup": "David Zurutuza",
         "marker": {
          "color": "#FF97FF",
          "symbol": "circle"
         },
         "mode": "markers+text",
         "name": "David Zurutuza",
         "orientation": "v",
         "showlegend": true,
         "text": [
          "David Zurutuza"
         ],
         "textposition": "top center",
         "type": "scatter",
         "x": [
          0
         ],
         "xaxis": "x",
         "y": [
          2
         ],
         "yaxis": "y"
        },
        {
         "hovertemplate": "player_name=%{text}<br>Assists=%{x}<br>goals_scored=%{y}<extra></extra>",
         "legendgroup": "Luca Sangalli",
         "marker": {
          "color": "#FECB52",
          "symbol": "circle"
         },
         "mode": "markers+text",
         "name": "Luca Sangalli",
         "orientation": "v",
         "showlegend": true,
         "text": [
          "Luca Sangalli"
         ],
         "textposition": "top center",
         "type": "scatter",
         "x": [
          3
         ],
         "xaxis": "x",
         "y": [
          1
         ],
         "yaxis": "y"
        },
        {
         "hovertemplate": "player_name=%{text}<br>Assists=%{x}<br>goals_scored=%{y}<extra></extra>",
         "legendgroup": "Roberto López",
         "marker": {
          "color": "#636efa",
          "symbol": "circle"
         },
         "mode": "markers+text",
         "name": "Roberto López",
         "orientation": "v",
         "showlegend": true,
         "text": [
          "Roberto López"
         ],
         "textposition": "top center",
         "type": "scatter",
         "x": [
          0
         ],
         "xaxis": "x",
         "y": [
          0
         ],
         "yaxis": "y"
        },
        {
         "hovertemplate": "player_name=%{text}<br>Assists=%{x}<br>goals_scored=%{y}<extra></extra>",
         "legendgroup": "Näis Djouahra",
         "marker": {
          "color": "#EF553B",
          "symbol": "circle"
         },
         "mode": "markers+text",
         "name": "Näis Djouahra",
         "orientation": "v",
         "showlegend": true,
         "text": [
          "Näis Djouahra"
         ],
         "textposition": "top center",
         "type": "scatter",
         "x": [
          0
         ],
         "xaxis": "x",
         "y": [
          0
         ],
         "yaxis": "y"
        },
        {
         "hovertemplate": "player_name=%{text}<br>Assists=%{x}<br>goals_scored=%{y}<extra></extra>",
         "legendgroup": "Ander Barrenetxea",
         "marker": {
          "color": "#00cc96",
          "symbol": "circle"
         },
         "mode": "markers+text",
         "name": "Ander Barrenetxea",
         "orientation": "v",
         "showlegend": true,
         "text": [
          "Ander Barrenetxea"
         ],
         "textposition": "top center",
         "type": "scatter",
         "x": [
          0
         ],
         "xaxis": "x",
         "y": [
          1
         ],
         "yaxis": "y"
        },
        {
         "hovertemplate": "player_name=%{text}<br>Assists=%{x}<br>goals_scored=%{y}<extra></extra>",
         "legendgroup": "Martín Zubimendi",
         "marker": {
          "color": "#ab63fa",
          "symbol": "circle"
         },
         "mode": "markers+text",
         "name": "Martín Zubimendi",
         "orientation": "v",
         "showlegend": true,
         "text": [
          "Martín Zubimendi"
         ],
         "textposition": "top center",
         "type": "scatter",
         "x": [
          0
         ],
         "xaxis": "x",
         "y": [
          0
         ],
         "yaxis": "y"
        },
        {
         "hovertemplate": "player_name=%{text}<br>Assists=%{x}<br>goals_scored=%{y}<extra></extra>",
         "legendgroup": "Zourdine Thior",
         "marker": {
          "color": "#FFA15A",
          "symbol": "circle"
         },
         "mode": "markers+text",
         "name": "Zourdine Thior",
         "orientation": "v",
         "showlegend": true,
         "text": [
          "Zourdine Thior"
         ],
         "textposition": "top center",
         "type": "scatter",
         "x": [
          0
         ],
         "xaxis": "x",
         "y": [
          0
         ],
         "yaxis": "y"
        },
        {
         "hovertemplate": "player_name=%{text}<br>Assists=%{x}<br>goals_scored=%{y}<extra></extra>",
         "legendgroup": "Juan Miguel Jiménez",
         "marker": {
          "color": "#19d3f3",
          "symbol": "circle"
         },
         "mode": "markers+text",
         "name": "Juan Miguel Jiménez",
         "orientation": "v",
         "showlegend": true,
         "text": [
          "Juan Miguel Jiménez"
         ],
         "textposition": "top center",
         "type": "scatter",
         "x": [
          2
         ],
         "xaxis": "x",
         "y": [
          5
         ],
         "yaxis": "y"
        },
        {
         "hovertemplate": "player_name=%{text}<br>Assists=%{x}<br>goals_scored=%{y}<extra></extra>",
         "legendgroup": "Mikel Oyarzabal",
         "marker": {
          "color": "#FF6692",
          "symbol": "circle"
         },
         "mode": "markers+text",
         "name": "Mikel Oyarzabal",
         "orientation": "v",
         "showlegend": true,
         "text": [
          "Mikel Oyarzabal"
         ],
         "textposition": "top center",
         "type": "scatter",
         "x": [
          2
         ],
         "xaxis": "x",
         "y": [
          14
         ],
         "yaxis": "y"
        },
        {
         "hovertemplate": "player_name=%{text}<br>Assists=%{x}<br>goals_scored=%{y}<extra></extra>",
         "legendgroup": "Adnan Januzaj",
         "marker": {
          "color": "#B6E880",
          "symbol": "circle"
         },
         "mode": "markers+text",
         "name": "Adnan Januzaj",
         "orientation": "v",
         "showlegend": true,
         "text": [
          "Adnan Januzaj"
         ],
         "textposition": "top center",
         "type": "scatter",
         "x": [
          3
         ],
         "xaxis": "x",
         "y": [
          1
         ],
         "yaxis": "y"
        },
        {
         "hovertemplate": "player_name=%{text}<br>Assists=%{x}<br>goals_scored=%{y}<extra></extra>",
         "legendgroup": "Willian José",
         "marker": {
          "color": "#FF97FF",
          "symbol": "circle"
         },
         "mode": "markers+text",
         "name": "Willian José",
         "orientation": "v",
         "showlegend": true,
         "text": [
          "Willian José"
         ],
         "textposition": "top center",
         "type": "scatter",
         "x": [
          5
         ],
         "xaxis": "x",
         "y": [
          11
         ],
         "yaxis": "y"
        },
        {
         "hovertemplate": "player_name=%{text}<br>Assists=%{x}<br>goals_scored=%{y}<extra></extra>",
         "legendgroup": "Jon Bautista",
         "marker": {
          "color": "#FECB52",
          "symbol": "circle"
         },
         "mode": "markers+text",
         "name": "Jon Bautista",
         "orientation": "v",
         "showlegend": true,
         "text": [
          "Jon Bautista"
         ],
         "textposition": "top center",
         "type": "scatter",
         "x": [
          0
         ],
         "xaxis": "x",
         "y": [
          1
         ],
         "yaxis": "y"
        },
        {
         "hovertemplate": "player_name=%{text}<br>Assists=%{x}<br>goals_scored=%{y}<extra></extra>",
         "legendgroup": "Sandro Ramírez",
         "marker": {
          "color": "#636efa",
          "symbol": "circle"
         },
         "mode": "markers+text",
         "name": "Sandro Ramírez",
         "orientation": "v",
         "showlegend": true,
         "text": [
          "Sandro Ramírez"
         ],
         "textposition": "top center",
         "type": "scatter",
         "x": [
          0
         ],
         "xaxis": "x",
         "y": [
          0
         ],
         "yaxis": "y"
        },
        {
         "hovertemplate": "player_name=%{text}<br>Assists=%{x}<br>goals_scored=%{y}<extra></extra>",
         "legendgroup": "Marko Dmitrovic",
         "marker": {
          "color": "#EF553B",
          "symbol": "circle"
         },
         "mode": "markers+text",
         "name": "Marko Dmitrovic",
         "orientation": "v",
         "showlegend": true,
         "text": [
          "Marko Dmitrovic"
         ],
         "textposition": "top center",
         "type": "scatter",
         "x": [
          0
         ],
         "xaxis": "x",
         "y": [
          0
         ],
         "yaxis": "y"
        },
        {
         "hovertemplate": "player_name=%{text}<br>Assists=%{x}<br>goals_scored=%{y}<extra></extra>",
         "legendgroup": "Asier Riesgo",
         "marker": {
          "color": "#00cc96",
          "symbol": "circle"
         },
         "mode": "markers+text",
         "name": "Asier Riesgo",
         "orientation": "v",
         "showlegend": true,
         "text": [
          "Asier Riesgo"
         ],
         "textposition": "top center",
         "type": "scatter",
         "x": [
          0
         ],
         "xaxis": "x",
         "y": [
          0
         ],
         "yaxis": "y"
        },
        {
         "hovertemplate": "player_name=%{text}<br>Assists=%{x}<br>goals_scored=%{y}<extra></extra>",
         "legendgroup": "Josep Calavera",
         "marker": {
          "color": "#ab63fa",
          "symbol": "circle"
         },
         "mode": "markers+text",
         "name": "Josep Calavera",
         "orientation": "v",
         "showlegend": true,
         "text": [
          "Josep Calavera"
         ],
         "textposition": "top center",
         "type": "scatter",
         "x": [
          0
         ],
         "xaxis": "x",
         "y": [
          0
         ],
         "yaxis": "y"
        },
        {
         "hovertemplate": "player_name=%{text}<br>Assists=%{x}<br>goals_scored=%{y}<extra></extra>",
         "legendgroup": "Pedro Bigas",
         "marker": {
          "color": "#FFA15A",
          "symbol": "circle"
         },
         "mode": "markers+text",
         "name": "Pedro Bigas",
         "orientation": "v",
         "showlegend": true,
         "text": [
          "Pedro Bigas"
         ],
         "textposition": "top center",
         "type": "scatter",
         "x": [
          1
         ],
         "xaxis": "x",
         "y": [
          0
         ],
         "yaxis": "y"
        },
        {
         "hovertemplate": "player_name=%{text}<br>Assists=%{x}<br>goals_scored=%{y}<extra></extra>",
         "legendgroup": "Néstor Etxebarria",
         "marker": {
          "color": "#19d3f3",
          "symbol": "circle"
         },
         "mode": "markers+text",
         "name": "Néstor Etxebarria",
         "orientation": "v",
         "showlegend": true,
         "text": [
          "Néstor Etxebarria"
         ],
         "textposition": "top center",
         "type": "scatter",
         "x": [
          0
         ],
         "xaxis": "x",
         "y": [
          0
         ],
         "yaxis": "y"
        },
        {
         "hovertemplate": "player_name=%{text}<br>Assists=%{x}<br>goals_scored=%{y}<extra></extra>",
         "legendgroup": "Paulo Oliveira",
         "marker": {
          "color": "#FF6692",
          "symbol": "circle"
         },
         "mode": "markers+text",
         "name": "Paulo Oliveira",
         "orientation": "v",
         "showlegend": true,
         "text": [
          "Paulo Oliveira"
         ],
         "textposition": "top center",
         "type": "scatter",
         "x": [
          0
         ],
         "xaxis": "x",
         "y": [
          1
         ],
         "yaxis": "y"
        },
        {
         "hovertemplate": "player_name=%{text}<br>Assists=%{x}<br>goals_scored=%{y}<extra></extra>",
         "legendgroup": "José Ángel Valdés",
         "marker": {
          "color": "#B6E880",
          "symbol": "circle"
         },
         "mode": "markers+text",
         "name": "José Ángel Valdés",
         "orientation": "v",
         "showlegend": true,
         "text": [
          "José Ángel Valdés"
         ],
         "textposition": "top center",
         "type": "scatter",
         "x": [
          1
         ],
         "xaxis": "x",
         "y": [
          1
         ],
         "yaxis": "y"
        },
        {
         "hovertemplate": "player_name=%{text}<br>Assists=%{x}<br>goals_scored=%{y}<extra></extra>",
         "legendgroup": "Marc Cucurella",
         "marker": {
          "color": "#FF97FF",
          "symbol": "circle"
         },
         "mode": "markers+text",
         "name": "Marc Cucurella",
         "orientation": "v",
         "showlegend": true,
         "text": [
          "Marc Cucurella"
         ],
         "textposition": "top center",
         "type": "scatter",
         "x": [
          2
         ],
         "xaxis": "x",
         "y": [
          1
         ],
         "yaxis": "y"
        },
        {
         "hovertemplate": "player_name=%{text}<br>Assists=%{x}<br>goals_scored=%{y}<extra></extra>",
         "legendgroup": "Anaitz Arbilla Zabala",
         "marker": {
          "color": "#FECB52",
          "symbol": "circle"
         },
         "mode": "markers+text",
         "name": "Anaitz Arbilla Zabala",
         "orientation": "v",
         "showlegend": true,
         "text": [
          "Anaitz Arbilla Zabala"
         ],
         "textposition": "top center",
         "type": "scatter",
         "x": [
          2
         ],
         "xaxis": "x",
         "y": [
          1
         ],
         "yaxis": "y"
        },
        {
         "hovertemplate": "player_name=%{text}<br>Assists=%{x}<br>goals_scored=%{y}<extra></extra>",
         "legendgroup": "Iván Ramis",
         "marker": {
          "color": "#636efa",
          "symbol": "circle"
         },
         "mode": "markers+text",
         "name": "Iván Ramis",
         "orientation": "v",
         "showlegend": true,
         "text": [
          "Iván Ramis"
         ],
         "textposition": "top center",
         "type": "scatter",
         "x": [
          1
         ],
         "xaxis": "x",
         "y": [
          0
         ],
         "yaxis": "y"
        },
        {
         "hovertemplate": "player_name=%{text}<br>Assists=%{x}<br>goals_scored=%{y}<extra></extra>",
         "legendgroup": "Gonzalo Escalante",
         "marker": {
          "color": "#EF553B",
          "symbol": "circle"
         },
         "mode": "markers+text",
         "name": "Gonzalo Escalante",
         "orientation": "v",
         "showlegend": true,
         "text": [
          "Gonzalo Escalante"
         ],
         "textposition": "top center",
         "type": "scatter",
         "x": [
          0
         ],
         "xaxis": "x",
         "y": [
          4
         ],
         "yaxis": "y"
        },
        {
         "hovertemplate": "player_name=%{text}<br>Assists=%{x}<br>goals_scored=%{y}<extra></extra>",
         "legendgroup": "Sergio Álvarez Díaz",
         "marker": {
          "color": "#00cc96",
          "symbol": "circle"
         },
         "mode": "markers+text",
         "name": "Sergio Álvarez Díaz",
         "orientation": "v",
         "showlegend": true,
         "text": [
          "Sergio Álvarez Díaz"
         ],
         "textposition": "top center",
         "type": "scatter",
         "x": [
          1
         ],
         "xaxis": "x",
         "y": [
          0
         ],
         "yaxis": "y"
        },
        {
         "hovertemplate": "player_name=%{text}<br>Assists=%{x}<br>goals_scored=%{y}<extra></extra>",
         "legendgroup": "Papakouli Diop",
         "marker": {
          "color": "#ab63fa",
          "symbol": "circle"
         },
         "mode": "markers+text",
         "name": "Papakouli Diop",
         "orientation": "v",
         "showlegend": true,
         "text": [
          "Papakouli Diop"
         ],
         "textposition": "top center",
         "type": "scatter",
         "x": [
          2
         ],
         "xaxis": "x",
         "y": [
          1
         ],
         "yaxis": "y"
        },
        {
         "hovertemplate": "player_name=%{text}<br>Assists=%{x}<br>goals_scored=%{y}<extra></extra>",
         "legendgroup": "Rubén Peña Jiménez",
         "marker": {
          "color": "#FFA15A",
          "symbol": "circle"
         },
         "mode": "markers+text",
         "name": "Rubén Peña Jiménez",
         "orientation": "v",
         "showlegend": true,
         "text": [
          "Rubén Peña Jiménez"
         ],
         "textposition": "top center",
         "type": "scatter",
         "x": [
          5
         ],
         "xaxis": "x",
         "y": [
          1
         ],
         "yaxis": "y"
        },
        {
         "hovertemplate": "player_name=%{text}<br>Assists=%{x}<br>goals_scored=%{y}<extra></extra>",
         "legendgroup": "Fabián Orellana",
         "marker": {
          "color": "#19d3f3",
          "symbol": "circle"
         },
         "mode": "markers+text",
         "name": "Fabián Orellana",
         "orientation": "v",
         "showlegend": true,
         "text": [
          "Fabián Orellana"
         ],
         "textposition": "top center",
         "type": "scatter",
         "x": [
          0
         ],
         "xaxis": "x",
         "y": [
          3
         ],
         "yaxis": "y"
        },
        {
         "hovertemplate": "player_name=%{text}<br>Assists=%{x}<br>goals_scored=%{y}<extra></extra>",
         "legendgroup": "Pablo De Blasis",
         "marker": {
          "color": "#FF6692",
          "symbol": "circle"
         },
         "mode": "markers+text",
         "name": "Pablo De Blasis",
         "orientation": "v",
         "showlegend": true,
         "text": [
          "Pablo De Blasis"
         ],
         "textposition": "top center",
         "type": "scatter",
         "x": [
          0
         ],
         "xaxis": "x",
         "y": [
          2
         ],
         "yaxis": "y"
        },
        {
         "hovertemplate": "player_name=%{text}<br>Assists=%{x}<br>goals_scored=%{y}<extra></extra>",
         "legendgroup": "Pedro León",
         "marker": {
          "color": "#B6E880",
          "symbol": "circle"
         },
         "mode": "markers+text",
         "name": "Pedro León",
         "orientation": "v",
         "showlegend": true,
         "text": [
          "Pedro León"
         ],
         "textposition": "top center",
         "type": "scatter",
         "x": [
          0
         ],
         "xaxis": "x",
         "y": [
          1
         ],
         "yaxis": "y"
        },
        {
         "hovertemplate": "player_name=%{text}<br>Assists=%{x}<br>goals_scored=%{y}<extra></extra>",
         "legendgroup": "Pere Milla",
         "marker": {
          "color": "#FF97FF",
          "symbol": "circle"
         },
         "mode": "markers+text",
         "name": "Pere Milla",
         "orientation": "v",
         "showlegend": true,
         "text": [
          "Pere Milla"
         ],
         "textposition": "top center",
         "type": "scatter",
         "x": [
          4
         ],
         "xaxis": "x",
         "y": [
          0
         ],
         "yaxis": "y"
        },
        {
         "hovertemplate": "player_name=%{text}<br>Assists=%{x}<br>goals_scored=%{y}<extra></extra>",
         "legendgroup": "Joan Jordán",
         "marker": {
          "color": "#FECB52",
          "symbol": "circle"
         },
         "mode": "markers+text",
         "name": "Joan Jordán",
         "orientation": "v",
         "showlegend": true,
         "text": [
          "Joan Jordán"
         ],
         "textposition": "top center",
         "type": "scatter",
         "x": [
          0
         ],
         "xaxis": "x",
         "y": [
          4
         ],
         "yaxis": "y"
        },
        {
         "hovertemplate": "player_name=%{text}<br>Assists=%{x}<br>goals_scored=%{y}<extra></extra>",
         "legendgroup": "Miguel Marí",
         "marker": {
          "color": "#636efa",
          "symbol": "circle"
         },
         "mode": "markers+text",
         "name": "Miguel Marí",
         "orientation": "v",
         "showlegend": true,
         "text": [
          "Miguel Marí"
         ],
         "textposition": "top center",
         "type": "scatter",
         "x": [
          1
         ],
         "xaxis": "x",
         "y": [
          0
         ],
         "yaxis": "y"
        },
        {
         "hovertemplate": "player_name=%{text}<br>Assists=%{x}<br>goals_scored=%{y}<extra></extra>",
         "legendgroup": "Marc Cardona",
         "marker": {
          "color": "#EF553B",
          "symbol": "circle"
         },
         "mode": "markers+text",
         "name": "Marc Cardona",
         "orientation": "v",
         "showlegend": true,
         "text": [
          "Marc Cardona"
         ],
         "textposition": "top center",
         "type": "scatter",
         "x": [
          4
         ],
         "xaxis": "x",
         "y": [
          3
         ],
         "yaxis": "y"
        },
        {
         "hovertemplate": "player_name=%{text}<br>Assists=%{x}<br>goals_scored=%{y}<extra></extra>",
         "legendgroup": "Sergi Enrich",
         "marker": {
          "color": "#00cc96",
          "symbol": "circle"
         },
         "mode": "markers+text",
         "name": "Sergi Enrich",
         "orientation": "v",
         "showlegend": true,
         "text": [
          "Sergi Enrich"
         ],
         "textposition": "top center",
         "type": "scatter",
         "x": [
          0
         ],
         "xaxis": "x",
         "y": [
          7
         ],
         "yaxis": "y"
        },
        {
         "hovertemplate": "player_name=%{text}<br>Assists=%{x}<br>goals_scored=%{y}<extra></extra>",
         "legendgroup": "Kike García",
         "marker": {
          "color": "#ab63fa",
          "symbol": "circle"
         },
         "mode": "markers+text",
         "name": "Kike García",
         "orientation": "v",
         "showlegend": true,
         "text": [
          "Kike García"
         ],
         "textposition": "top center",
         "type": "scatter",
         "x": [
          1
         ],
         "xaxis": "x",
         "y": [
          3
         ],
         "yaxis": "y"
        },
        {
         "hovertemplate": "player_name=%{text}<br>Assists=%{x}<br>goals_scored=%{y}<extra></extra>",
         "legendgroup": "Charles Días Barbosa",
         "marker": {
          "color": "#FFA15A",
          "symbol": "circle"
         },
         "mode": "markers+text",
         "name": "Charles Días Barbosa",
         "orientation": "v",
         "showlegend": true,
         "text": [
          "Charles Días Barbosa"
         ],
         "textposition": "top center",
         "type": "scatter",
         "x": [
          0
         ],
         "xaxis": "x",
         "y": [
          14
         ],
         "yaxis": "y"
        },
        {
         "hovertemplate": "player_name=%{text}<br>Assists=%{x}<br>goals_scored=%{y}<extra></extra>",
         "legendgroup": "Javier Varas",
         "marker": {
          "color": "#19d3f3",
          "symbol": "circle"
         },
         "mode": "markers+text",
         "name": "Javier Varas",
         "orientation": "v",
         "showlegend": true,
         "text": [
          "Javier Varas"
         ],
         "textposition": "top center",
         "type": "scatter",
         "x": [
          0
         ],
         "xaxis": "x",
         "y": [
          0
         ],
         "yaxis": "y"
        },
        {
         "hovertemplate": "player_name=%{text}<br>Assists=%{x}<br>goals_scored=%{y}<extra></extra>",
         "legendgroup": "Roberto Santamaría Ciprián",
         "marker": {
          "color": "#FF6692",
          "symbol": "circle"
         },
         "mode": "markers+text",
         "name": "Roberto Santamaría Ciprián",
         "orientation": "v",
         "showlegend": true,
         "text": [
          "Roberto Santamaría Ciprián"
         ],
         "textposition": "top center",
         "type": "scatter",
         "x": [
          0
         ],
         "xaxis": "x",
         "y": [
          0
         ],
         "yaxis": "y"
        },
        {
         "hovertemplate": "player_name=%{text}<br>Assists=%{x}<br>goals_scored=%{y}<extra></extra>",
         "legendgroup": "Aleksandar Jovanovic",
         "marker": {
          "color": "#B6E880",
          "symbol": "circle"
         },
         "mode": "markers+text",
         "name": "Aleksandar Jovanovic",
         "orientation": "v",
         "showlegend": true,
         "text": [
          "Aleksandar Jovanovic"
         ],
         "textposition": "top center",
         "type": "scatter",
         "x": [
          0
         ],
         "xaxis": "x",
         "y": [
          0
         ],
         "yaxis": "y"
        },
        {
         "hovertemplate": "player_name=%{text}<br>Assists=%{x}<br>goals_scored=%{y}<extra></extra>",
         "legendgroup": "Martín Mantovani",
         "marker": {
          "color": "#FF97FF",
          "symbol": "circle"
         },
         "mode": "markers+text",
         "name": "Martín Mantovani",
         "orientation": "v",
         "showlegend": true,
         "text": [
          "Martín Mantovani"
         ],
         "textposition": "top center",
         "type": "scatter",
         "x": [
          0
         ],
         "xaxis": "x",
         "y": [
          3
         ],
         "yaxis": "y"
        },
        {
         "hovertemplate": "player_name=%{text}<br>Assists=%{x}<br>goals_scored=%{y}<extra></extra>",
         "legendgroup": "Xabier Etxeita",
         "marker": {
          "color": "#FECB52",
          "symbol": "circle"
         },
         "mode": "markers+text",
         "name": "Xabier Etxeita",
         "orientation": "v",
         "showlegend": true,
         "text": [
          "Xabier Etxeita"
         ],
         "textposition": "top center",
         "type": "scatter",
         "x": [
          0
         ],
         "xaxis": "x",
         "y": [
          5
         ],
         "yaxis": "y"
        },
        {
         "hovertemplate": "player_name=%{text}<br>Assists=%{x}<br>goals_scored=%{y}<extra></extra>",
         "legendgroup": "Adrián Diéguez",
         "marker": {
          "color": "#636efa",
          "symbol": "circle"
         },
         "mode": "markers+text",
         "name": "Adrián Diéguez",
         "orientation": "v",
         "showlegend": true,
         "text": [
          "Adrián Diéguez"
         ],
         "textposition": "top center",
         "type": "scatter",
         "x": [
          3
         ],
         "xaxis": "x",
         "y": [
          0
         ],
         "yaxis": "y"
        },
        {
         "hovertemplate": "player_name=%{text}<br>Assists=%{x}<br>goals_scored=%{y}<extra></extra>",
         "legendgroup": "Jorge Pulido",
         "marker": {
          "color": "#EF553B",
          "symbol": "circle"
         },
         "mode": "markers+text",
         "name": "Jorge Pulido",
         "orientation": "v",
         "showlegend": true,
         "text": [
          "Jorge Pulido"
         ],
         "textposition": "top center",
         "type": "scatter",
         "x": [
          0
         ],
         "xaxis": "x",
         "y": [
          4
         ],
         "yaxis": "y"
        },
        {
         "hovertemplate": "player_name=%{text}<br>Assists=%{x}<br>goals_scored=%{y}<extra></extra>",
         "legendgroup": "Carlos Akapo",
         "marker": {
          "color": "#00cc96",
          "symbol": "circle"
         },
         "mode": "markers+text",
         "name": "Carlos Akapo",
         "orientation": "v",
         "showlegend": true,
         "text": [
          "Carlos Akapo"
         ],
         "textposition": "top center",
         "type": "scatter",
         "x": [
          0
         ],
         "xaxis": "x",
         "y": [
          0
         ],
         "yaxis": "y"
        },
        {
         "hovertemplate": "player_name=%{text}<br>Assists=%{x}<br>goals_scored=%{y}<extra></extra>",
         "legendgroup": "Luís Carlos Correia Pinto",
         "marker": {
          "color": "#ab63fa",
          "symbol": "circle"
         },
         "mode": "markers+text",
         "name": "Luís Carlos Correia Pinto",
         "orientation": "v",
         "showlegend": true,
         "text": [
          "Luís Carlos Correia Pinto"
         ],
         "textposition": "top center",
         "type": "scatter",
         "x": [
          0
         ],
         "xaxis": "x",
         "y": [
          0
         ],
         "yaxis": "y"
        },
        {
         "hovertemplate": "player_name=%{text}<br>Assists=%{x}<br>goals_scored=%{y}<extra></extra>",
         "legendgroup": "Pablo Insua",
         "marker": {
          "color": "#FFA15A",
          "symbol": "circle"
         },
         "mode": "markers+text",
         "name": "Pablo Insua",
         "orientation": "v",
         "showlegend": true,
         "text": [
          "Pablo Insua"
         ],
         "textposition": "top center",
         "type": "scatter",
         "x": [
          0
         ],
         "xaxis": "x",
         "y": [
          0
         ],
         "yaxis": "y"
        },
        {
         "hovertemplate": "player_name=%{text}<br>Assists=%{x}<br>goals_scored=%{y}<extra></extra>",
         "legendgroup": "Jorge Miramón",
         "marker": {
          "color": "#19d3f3",
          "symbol": "circle"
         },
         "mode": "markers+text",
         "name": "Jorge Miramón",
         "orientation": "v",
         "showlegend": true,
         "text": [
          "Jorge Miramón"
         ],
         "textposition": "top center",
         "type": "scatter",
         "x": [
          0
         ],
         "xaxis": "x",
         "y": [
          1
         ],
         "yaxis": "y"
        },
        {
         "hovertemplate": "player_name=%{text}<br>Assists=%{x}<br>goals_scored=%{y}<extra></extra>",
         "legendgroup": "Rúben Semedo",
         "marker": {
          "color": "#FF6692",
          "symbol": "circle"
         },
         "mode": "markers+text",
         "name": "Rúben Semedo",
         "orientation": "v",
         "showlegend": true,
         "text": [
          "Rúben Semedo"
         ],
         "textposition": "top center",
         "type": "scatter",
         "x": [
          7
         ],
         "xaxis": "x",
         "y": [
          0
         ],
         "yaxis": "y"
        },
        {
         "hovertemplate": "player_name=%{text}<br>Assists=%{x}<br>goals_scored=%{y}<extra></extra>",
         "legendgroup": "Serdar Gürler",
         "marker": {
          "color": "#B6E880",
          "symbol": "circle"
         },
         "mode": "markers+text",
         "name": "Serdar Gürler",
         "orientation": "v",
         "showlegend": true,
         "text": [
          "Serdar Gürler"
         ],
         "textposition": "top center",
         "type": "scatter",
         "x": [
          3
         ],
         "xaxis": "x",
         "y": [
          0
         ],
         "yaxis": "y"
        },
        {
         "hovertemplate": "player_name=%{text}<br>Assists=%{x}<br>goals_scored=%{y}<extra></extra>",
         "legendgroup": "Jorge Aguilera",
         "marker": {
          "color": "#FF97FF",
          "symbol": "circle"
         },
         "mode": "markers+text",
         "name": "Jorge Aguilera",
         "orientation": "v",
         "showlegend": true,
         "text": [
          "Jorge Aguilera"
         ],
         "textposition": "top center",
         "type": "scatter",
         "x": [
          1
         ],
         "xaxis": "x",
         "y": [
          0
         ],
         "yaxis": "y"
        },
        {
         "hovertemplate": "player_name=%{text}<br>Assists=%{x}<br>goals_scored=%{y}<extra></extra>",
         "legendgroup": "Moi Gómez",
         "marker": {
          "color": "#FECB52",
          "symbol": "circle"
         },
         "mode": "markers+text",
         "name": "Moi Gómez",
         "orientation": "v",
         "showlegend": true,
         "text": [
          "Moi Gómez"
         ],
         "textposition": "top center",
         "type": "scatter",
         "x": [
          0
         ],
         "xaxis": "x",
         "y": [
          2
         ],
         "yaxis": "y"
        },
        {
         "hovertemplate": "player_name=%{text}<br>Assists=%{x}<br>goals_scored=%{y}<extra></extra>",
         "legendgroup": "David Ferreiro",
         "marker": {
          "color": "#636efa",
          "symbol": "circle"
         },
         "mode": "markers+text",
         "name": "David Ferreiro",
         "orientation": "v",
         "showlegend": true,
         "text": [
          "David Ferreiro"
         ],
         "textposition": "top center",
         "type": "scatter",
         "x": [
          1
         ],
         "xaxis": "x",
         "y": [
          1
         ],
         "yaxis": "y"
        },
        {
         "hovertemplate": "player_name=%{text}<br>Assists=%{x}<br>goals_scored=%{y}<extra></extra>",
         "legendgroup": "Gonzalo Melero",
         "marker": {
          "color": "#EF553B",
          "symbol": "circle"
         },
         "mode": "markers+text",
         "name": "Gonzalo Melero",
         "orientation": "v",
         "showlegend": true,
         "text": [
          "Gonzalo Melero"
         ],
         "textposition": "top center",
         "type": "scatter",
         "x": [
          2
         ],
         "xaxis": "x",
         "y": [
          2
         ],
         "yaxis": "y"
        },
        {
         "hovertemplate": "player_name=%{text}<br>Assists=%{x}<br>goals_scored=%{y}<extra></extra>",
         "legendgroup": "Ignacio Camacho",
         "marker": {
          "color": "#00cc96",
          "symbol": "circle"
         },
         "mode": "markers+text",
         "name": "Ignacio Camacho",
         "orientation": "v",
         "showlegend": true,
         "text": [
          "Ignacio Camacho"
         ],
         "textposition": "top center",
         "type": "scatter",
         "x": [
          0
         ],
         "xaxis": "x",
         "y": [
          0
         ],
         "yaxis": "y"
        },
        {
         "hovertemplate": "player_name=%{text}<br>Assists=%{x}<br>goals_scored=%{y}<extra></extra>",
         "legendgroup": "Álex Gallar",
         "marker": {
          "color": "#ab63fa",
          "symbol": "circle"
         },
         "mode": "markers+text",
         "name": "Álex Gallar",
         "orientation": "v",
         "showlegend": true,
         "text": [
          "Álex Gallar"
         ],
         "textposition": "top center",
         "type": "scatter",
         "x": [
          2
         ],
         "xaxis": "x",
         "y": [
          4
         ],
         "yaxis": "y"
        },
        {
         "hovertemplate": "player_name=%{text}<br>Assists=%{x}<br>goals_scored=%{y}<extra></extra>",
         "legendgroup": "Javi Galán",
         "marker": {
          "color": "#FFA15A",
          "symbol": "circle"
         },
         "mode": "markers+text",
         "name": "Javi Galán",
         "orientation": "v",
         "showlegend": true,
         "text": [
          "Javi Galán"
         ],
         "textposition": "top center",
         "type": "scatter",
         "x": [
          0
         ],
         "xaxis": "x",
         "y": [
          0
         ],
         "yaxis": "y"
        },
        {
         "hovertemplate": "player_name=%{text}<br>Assists=%{x}<br>goals_scored=%{y}<extra></extra>",
         "legendgroup": "Rubén Rivera",
         "marker": {
          "color": "#19d3f3",
          "symbol": "circle"
         },
         "mode": "markers+text",
         "name": "Rubén Rivera",
         "orientation": "v",
         "showlegend": true,
         "text": [
          "Rubén Rivera"
         ],
         "textposition": "top center",
         "type": "scatter",
         "x": [
          0
         ],
         "xaxis": "x",
         "y": [
          0
         ],
         "yaxis": "y"
        },
        {
         "hovertemplate": "player_name=%{text}<br>Assists=%{x}<br>goals_scored=%{y}<extra></extra>",
         "legendgroup": "Juanpi",
         "marker": {
          "color": "#FF6692",
          "symbol": "circle"
         },
         "mode": "markers+text",
         "name": "Juanpi",
         "orientation": "v",
         "showlegend": true,
         "text": [
          "Juanpi"
         ],
         "textposition": "top center",
         "type": "scatter",
         "x": [
          3
         ],
         "xaxis": "x",
         "y": [
          2
         ],
         "yaxis": "y"
        },
        {
         "hovertemplate": "player_name=%{text}<br>Assists=%{x}<br>goals_scored=%{y}<extra></extra>",
         "legendgroup": "Yangel Herrera",
         "marker": {
          "color": "#B6E880",
          "symbol": "circle"
         },
         "mode": "markers+text",
         "name": "Yangel Herrera",
         "orientation": "v",
         "showlegend": true,
         "text": [
          "Yangel Herrera"
         ],
         "textposition": "top center",
         "type": "scatter",
         "x": [
          2
         ],
         "xaxis": "x",
         "y": [
          0
         ],
         "yaxis": "y"
        },
        {
         "hovertemplate": "player_name=%{text}<br>Assists=%{x}<br>goals_scored=%{y}<extra></extra>",
         "legendgroup": "Damián Musto",
         "marker": {
          "color": "#FF97FF",
          "symbol": "circle"
         },
         "mode": "markers+text",
         "name": "Damián Musto",
         "orientation": "v",
         "showlegend": true,
         "text": [
          "Damián Musto"
         ],
         "textposition": "top center",
         "type": "scatter",
         "x": [
          1
         ],
         "xaxis": "x",
         "y": [
          0
         ],
         "yaxis": "y"
        },
        {
         "hovertemplate": "player_name=%{text}<br>Assists=%{x}<br>goals_scored=%{y}<extra></extra>",
         "legendgroup": "Christian Rivera Hernández",
         "marker": {
          "color": "#FECB52",
          "symbol": "circle"
         },
         "mode": "markers+text",
         "name": "Christian Rivera Hernández",
         "orientation": "v",
         "showlegend": true,
         "text": [
          "Christian Rivera Hernández"
         ],
         "textposition": "top center",
         "type": "scatter",
         "x": [
          0
         ],
         "xaxis": "x",
         "y": [
          3
         ],
         "yaxis": "y"
        },
        {
         "hovertemplate": "player_name=%{text}<br>Assists=%{x}<br>goals_scored=%{y}<extra></extra>",
         "legendgroup": "Ezequiel Chimy Ávila",
         "marker": {
          "color": "#636efa",
          "symbol": "circle"
         },
         "mode": "markers+text",
         "name": "Ezequiel Chimy Ávila",
         "orientation": "v",
         "showlegend": true,
         "text": [
          "Ezequiel Chimy Ávila"
         ],
         "textposition": "top center",
         "type": "scatter",
         "x": [
          0
         ],
         "xaxis": "x",
         "y": [
          10
         ],
         "yaxis": "y"
        },
        {
         "hovertemplate": "player_name=%{text}<br>Assists=%{x}<br>goals_scored=%{y}<extra></extra>",
         "legendgroup": "Enric Gallego",
         "marker": {
          "color": "#EF553B",
          "symbol": "circle"
         },
         "mode": "markers+text",
         "name": "Enric Gallego",
         "orientation": "v",
         "showlegend": true,
         "text": [
          "Enric Gallego"
         ],
         "textposition": "top center",
         "type": "scatter",
         "x": [
          0
         ],
         "xaxis": "x",
         "y": [
          5
         ],
         "yaxis": "y"
        },
        {
         "hovertemplate": "player_name=%{text}<br>Assists=%{x}<br>goals_scored=%{y}<extra></extra>",
         "legendgroup": "Juan Camilo Hernández Suárez",
         "marker": {
          "color": "#00cc96",
          "symbol": "circle"
         },
         "mode": "markers+text",
         "name": "Juan Camilo Hernández Suárez",
         "orientation": "v",
         "showlegend": true,
         "text": [
          "Juan Camilo Hernández Suárez"
         ],
         "textposition": "top center",
         "type": "scatter",
         "x": [
          0
         ],
         "xaxis": "x",
         "y": [
          3
         ],
         "yaxis": "y"
        },
        {
         "hovertemplate": "player_name=%{text}<br>Assists=%{x}<br>goals_scored=%{y}<extra></extra>",
         "legendgroup": "Samuele Longo",
         "marker": {
          "color": "#ab63fa",
          "symbol": "circle"
         },
         "mode": "markers+text",
         "name": "Samuele Longo",
         "orientation": "v",
         "showlegend": true,
         "text": [
          "Samuele Longo"
         ],
         "textposition": "top center",
         "type": "scatter",
         "x": [
          0
         ],
         "xaxis": "x",
         "y": [
          1
         ],
         "yaxis": "y"
        },
        {
         "hovertemplate": "player_name=%{text}<br>Assists=%{x}<br>goals_scored=%{y}<extra></extra>",
         "legendgroup": "Tomáš Vaclík",
         "marker": {
          "color": "#FFA15A",
          "symbol": "circle"
         },
         "mode": "markers+text",
         "name": "Tomáš Vaclík",
         "orientation": "v",
         "showlegend": true,
         "text": [
          "Tomáš Vaclík"
         ],
         "textposition": "top center",
         "type": "scatter",
         "x": [
          1
         ],
         "xaxis": "x",
         "y": [
          0
         ],
         "yaxis": "y"
        },
        {
         "hovertemplate": "player_name=%{text}<br>Assists=%{x}<br>goals_scored=%{y}<extra></extra>",
         "legendgroup": "Juan Soriano Oropesa",
         "marker": {
          "color": "#19d3f3",
          "symbol": "circle"
         },
         "mode": "markers+text",
         "name": "Juan Soriano Oropesa",
         "orientation": "v",
         "showlegend": true,
         "text": [
          "Juan Soriano Oropesa"
         ],
         "textposition": "top center",
         "type": "scatter",
         "x": [
          0
         ],
         "xaxis": "x",
         "y": [
          0
         ],
         "yaxis": "y"
        },
        {
         "hovertemplate": "player_name=%{text}<br>Assists=%{x}<br>goals_scored=%{y}<extra></extra>",
         "legendgroup": "Javier Díaz",
         "marker": {
          "color": "#FF6692",
          "symbol": "circle"
         },
         "mode": "markers+text",
         "name": "Javier Díaz",
         "orientation": "v",
         "showlegend": true,
         "text": [
          "Javier Díaz"
         ],
         "textposition": "top center",
         "type": "scatter",
         "x": [
          1
         ],
         "xaxis": "x",
         "y": [
          0
         ],
         "yaxis": "y"
        },
        {
         "hovertemplate": "player_name=%{text}<br>Assists=%{x}<br>goals_scored=%{y}<extra></extra>",
         "legendgroup": "Sergi Gómez",
         "marker": {
          "color": "#B6E880",
          "symbol": "circle"
         },
         "mode": "markers+text",
         "name": "Sergi Gómez",
         "orientation": "v",
         "showlegend": true,
         "text": [
          "Sergi Gómez"
         ],
         "textposition": "top center",
         "type": "scatter",
         "x": [
          0
         ],
         "xaxis": "x",
         "y": [
          0
         ],
         "yaxis": "y"
        },
        {
         "hovertemplate": "player_name=%{text}<br>Assists=%{x}<br>goals_scored=%{y}<extra></extra>",
         "legendgroup": "Simon Kjær",
         "marker": {
          "color": "#FF97FF",
          "symbol": "circle"
         },
         "mode": "markers+text",
         "name": "Simon Kjær",
         "orientation": "v",
         "showlegend": true,
         "text": [
          "Simon Kjær"
         ],
         "textposition": "top center",
         "type": "scatter",
         "x": [
          0
         ],
         "xaxis": "x",
         "y": [
          0
         ],
         "yaxis": "y"
        },
        {
         "hovertemplate": "player_name=%{text}<br>Assists=%{x}<br>goals_scored=%{y}<extra></extra>",
         "legendgroup": "Daniel Carriço",
         "marker": {
          "color": "#FECB52",
          "symbol": "circle"
         },
         "mode": "markers+text",
         "name": "Daniel Carriço",
         "orientation": "v",
         "showlegend": true,
         "text": [
          "Daniel Carriço"
         ],
         "textposition": "top center",
         "type": "scatter",
         "x": [
          1
         ],
         "xaxis": "x",
         "y": [
          1
         ],
         "yaxis": "y"
        },
        {
         "hovertemplate": "player_name=%{text}<br>Assists=%{x}<br>goals_scored=%{y}<extra></extra>",
         "legendgroup": "Maximilian Wöber",
         "marker": {
          "color": "#636efa",
          "symbol": "circle"
         },
         "mode": "markers+text",
         "name": "Maximilian Wöber",
         "orientation": "v",
         "showlegend": true,
         "text": [
          "Maximilian Wöber"
         ],
         "textposition": "top center",
         "type": "scatter",
         "x": [
          0
         ],
         "xaxis": "x",
         "y": [
          0
         ],
         "yaxis": "y"
        },
        {
         "hovertemplate": "player_name=%{text}<br>Assists=%{x}<br>goals_scored=%{y}<extra></extra>",
         "legendgroup": "Sergio Escudero Palomo",
         "marker": {
          "color": "#EF553B",
          "symbol": "circle"
         },
         "mode": "markers+text",
         "name": "Sergio Escudero Palomo",
         "orientation": "v",
         "showlegend": true,
         "text": [
          "Sergio Escudero Palomo"
         ],
         "textposition": "top center",
         "type": "scatter",
         "x": [
          2
         ],
         "xaxis": "x",
         "y": [
          0
         ],
         "yaxis": "y"
        },
        {
         "hovertemplate": "player_name=%{text}<br>Assists=%{x}<br>goals_scored=%{y}<extra></extra>",
         "legendgroup": "Guilherme Arana",
         "marker": {
          "color": "#00cc96",
          "symbol": "circle"
         },
         "mode": "markers+text",
         "name": "Guilherme Arana",
         "orientation": "v",
         "showlegend": true,
         "text": [
          "Guilherme Arana"
         ],
         "textposition": "top center",
         "type": "scatter",
         "x": [
          4
         ],
         "xaxis": "x",
         "y": [
          0
         ],
         "yaxis": "y"
        },
        {
         "hovertemplate": "player_name=%{text}<br>Assists=%{x}<br>goals_scored=%{y}<extra></extra>",
         "legendgroup": "Joris Gnagnon",
         "marker": {
          "color": "#ab63fa",
          "symbol": "circle"
         },
         "mode": "markers+text",
         "name": "Joris Gnagnon",
         "orientation": "v",
         "showlegend": true,
         "text": [
          "Joris Gnagnon"
         ],
         "textposition": "top center",
         "type": "scatter",
         "x": [
          0
         ],
         "xaxis": "x",
         "y": [
          0
         ],
         "yaxis": "y"
        },
        {
         "hovertemplate": "player_name=%{text}<br>Assists=%{x}<br>goals_scored=%{y}<extra></extra>",
         "legendgroup": "Gabriel Mercado",
         "marker": {
          "color": "#FFA15A",
          "symbol": "circle"
         },
         "mode": "markers+text",
         "name": "Gabriel Mercado",
         "orientation": "v",
         "showlegend": true,
         "text": [
          "Gabriel Mercado"
         ],
         "textposition": "top center",
         "type": "scatter",
         "x": [
          0
         ],
         "xaxis": "x",
         "y": [
          2
         ],
         "yaxis": "y"
        },
        {
         "hovertemplate": "player_name=%{text}<br>Assists=%{x}<br>goals_scored=%{y}<extra></extra>",
         "legendgroup": "Ibrahim Amadou",
         "marker": {
          "color": "#19d3f3",
          "symbol": "circle"
         },
         "mode": "markers+text",
         "name": "Ibrahim Amadou",
         "orientation": "v",
         "showlegend": true,
         "text": [
          "Ibrahim Amadou"
         ],
         "textposition": "top center",
         "type": "scatter",
         "x": [
          5
         ],
         "xaxis": "x",
         "y": [
          0
         ],
         "yaxis": "y"
        },
        {
         "hovertemplate": "player_name=%{text}<br>Assists=%{x}<br>goals_scored=%{y}<extra></extra>",
         "legendgroup": "Roque Mesa",
         "marker": {
          "color": "#FF6692",
          "symbol": "circle"
         },
         "mode": "markers+text",
         "name": "Roque Mesa",
         "orientation": "v",
         "showlegend": true,
         "text": [
          "Roque Mesa"
         ],
         "textposition": "top center",
         "type": "scatter",
         "x": [
          13
         ],
         "xaxis": "x",
         "y": [
          2
         ],
         "yaxis": "y"
        },
        {
         "hovertemplate": "player_name=%{text}<br>Assists=%{x}<br>goals_scored=%{y}<extra></extra>",
         "legendgroup": "Éver Banega",
         "marker": {
          "color": "#B6E880",
          "symbol": "circle"
         },
         "mode": "markers+text",
         "name": "Éver Banega",
         "orientation": "v",
         "showlegend": true,
         "text": [
          "Éver Banega"
         ],
         "textposition": "top center",
         "type": "scatter",
         "x": [
          0
         ],
         "xaxis": "x",
         "y": [
          3
         ],
         "yaxis": "y"
        },
        {
         "hovertemplate": "player_name=%{text}<br>Assists=%{x}<br>goals_scored=%{y}<extra></extra>",
         "legendgroup": "Aleix Vidal",
         "marker": {
          "color": "#FF97FF",
          "symbol": "circle"
         },
         "mode": "markers+text",
         "name": "Aleix Vidal",
         "orientation": "v",
         "showlegend": true,
         "text": [
          "Aleix Vidal"
         ],
         "textposition": "top center",
         "type": "scatter",
         "x": [
          4
         ],
         "xaxis": "x",
         "y": [
          0
         ],
         "yaxis": "y"
        },
        {
         "hovertemplate": "player_name=%{text}<br>Assists=%{x}<br>goals_scored=%{y}<extra></extra>",
         "legendgroup": "Maxime Gonalons",
         "marker": {
          "color": "#FECB52",
          "symbol": "circle"
         },
         "mode": "markers+text",
         "name": "Maxime Gonalons",
         "orientation": "v",
         "showlegend": true,
         "text": [
          "Maxime Gonalons"
         ],
         "textposition": "top center",
         "type": "scatter",
         "x": [
          1
         ],
         "xaxis": "x",
         "y": [
          0
         ],
         "yaxis": "y"
        },
        {
         "hovertemplate": "player_name=%{text}<br>Assists=%{x}<br>goals_scored=%{y}<extra></extra>",
         "legendgroup": "Jesús Navas",
         "marker": {
          "color": "#636efa",
          "symbol": "circle"
         },
         "mode": "markers+text",
         "name": "Jesús Navas",
         "orientation": "v",
         "showlegend": true,
         "text": [
          "Jesús Navas"
         ],
         "textposition": "top center",
         "type": "scatter",
         "x": [
          0
         ],
         "xaxis": "x",
         "y": [
          1
         ],
         "yaxis": "y"
        },
        {
         "hovertemplate": "player_name=%{text}<br>Assists=%{x}<br>goals_scored=%{y}<extra></extra>",
         "legendgroup": "Pablo Sarabia",
         "marker": {
          "color": "#EF553B",
          "symbol": "circle"
         },
         "mode": "markers+text",
         "name": "Pablo Sarabia",
         "orientation": "v",
         "showlegend": true,
         "text": [
          "Pablo Sarabia"
         ],
         "textposition": "top center",
         "type": "scatter",
         "x": [
          9
         ],
         "xaxis": "x",
         "y": [
          12
         ],
         "yaxis": "y"
        },
        {
         "hovertemplate": "player_name=%{text}<br>Assists=%{x}<br>goals_scored=%{y}<extra></extra>",
         "legendgroup": "Marko Rog",
         "marker": {
          "color": "#00cc96",
          "symbol": "circle"
         },
         "mode": "markers+text",
         "name": "Marko Rog",
         "orientation": "v",
         "showlegend": true,
         "text": [
          "Marko Rog"
         ],
         "textposition": "top center",
         "type": "scatter",
         "x": [
          0
         ],
         "xaxis": "x",
         "y": [
          0
         ],
         "yaxis": "y"
        },
        {
         "hovertemplate": "player_name=%{text}<br>Assists=%{x}<br>goals_scored=%{y}<extra></extra>",
         "legendgroup": "Franco Vázquez",
         "marker": {
          "color": "#ab63fa",
          "symbol": "circle"
         },
         "mode": "markers+text",
         "name": "Franco Vázquez",
         "orientation": "v",
         "showlegend": true,
         "text": [
          "Franco Vázquez"
         ],
         "textposition": "top center",
         "type": "scatter",
         "x": [
          2
         ],
         "xaxis": "x",
         "y": [
          3
         ],
         "yaxis": "y"
        },
        {
         "hovertemplate": "player_name=%{text}<br>Assists=%{x}<br>goals_scored=%{y}<extra></extra>",
         "legendgroup": "Bryan Gil",
         "marker": {
          "color": "#FFA15A",
          "symbol": "circle"
         },
         "mode": "markers+text",
         "name": "Bryan Gil",
         "orientation": "v",
         "showlegend": true,
         "text": [
          "Bryan Gil"
         ],
         "textposition": "top center",
         "type": "scatter",
         "x": [
          3
         ],
         "xaxis": "x",
         "y": [
          1
         ],
         "yaxis": "y"
        },
        {
         "hovertemplate": "player_name=%{text}<br>Assists=%{x}<br>goals_scored=%{y}<extra></extra>",
         "legendgroup": "Manuel Agudo Durán",
         "marker": {
          "color": "#19d3f3",
          "symbol": "circle"
         },
         "mode": "markers+text",
         "name": "Manuel Agudo Durán",
         "orientation": "v",
         "showlegend": true,
         "text": [
          "Manuel Agudo Durán"
         ],
         "textposition": "top center",
         "type": "scatter",
         "x": [
          0
         ],
         "xaxis": "x",
         "y": [
          0
         ],
         "yaxis": "y"
        },
        {
         "hovertemplate": "player_name=%{text}<br>Assists=%{x}<br>goals_scored=%{y}<extra></extra>",
         "legendgroup": "Luis Muriel",
         "marker": {
          "color": "#FF6692",
          "symbol": "circle"
         },
         "mode": "markers+text",
         "name": "Luis Muriel",
         "orientation": "v",
         "showlegend": true,
         "text": [
          "Luis Muriel"
         ],
         "textposition": "top center",
         "type": "scatter",
         "x": [
          0
         ],
         "xaxis": "x",
         "y": [
          1
         ],
         "yaxis": "y"
        },
        {
         "hovertemplate": "player_name=%{text}<br>Assists=%{x}<br>goals_scored=%{y}<extra></extra>",
         "legendgroup": "Wissam Ben Yedder",
         "marker": {
          "color": "#B6E880",
          "symbol": "circle"
         },
         "mode": "markers+text",
         "name": "Wissam Ben Yedder",
         "orientation": "v",
         "showlegend": true,
         "text": [
          "Wissam Ben Yedder"
         ],
         "textposition": "top center",
         "type": "scatter",
         "x": [
          0
         ],
         "xaxis": "x",
         "y": [
          18
         ],
         "yaxis": "y"
        },
        {
         "hovertemplate": "player_name=%{text}<br>Assists=%{x}<br>goals_scored=%{y}<extra></extra>",
         "legendgroup": "André Silva",
         "marker": {
          "color": "#FF97FF",
          "symbol": "circle"
         },
         "mode": "markers+text",
         "name": "André Silva",
         "orientation": "v",
         "showlegend": true,
         "text": [
          "André Silva"
         ],
         "textposition": "top center",
         "type": "scatter",
         "x": [
          1
         ],
         "xaxis": "x",
         "y": [
          9
         ],
         "yaxis": "y"
        },
        {
         "hovertemplate": "player_name=%{text}<br>Assists=%{x}<br>goals_scored=%{y}<extra></extra>",
         "legendgroup": "Munir El Haddadi",
         "marker": {
          "color": "#FECB52",
          "symbol": "circle"
         },
         "mode": "markers+text",
         "name": "Munir El Haddadi",
         "orientation": "v",
         "showlegend": true,
         "text": [
          "Munir El Haddadi"
         ],
         "textposition": "top center",
         "type": "scatter",
         "x": [
          0
         ],
         "xaxis": "x",
         "y": [
          6
         ],
         "yaxis": "y"
        },
        {
         "hovertemplate": "player_name=%{text}<br>Assists=%{x}<br>goals_scored=%{y}<extra></extra>",
         "legendgroup": "Quincy Promes",
         "marker": {
          "color": "#636efa",
          "symbol": "circle"
         },
         "mode": "markers+text",
         "name": "Quincy Promes",
         "orientation": "v",
         "showlegend": true,
         "text": [
          "Quincy Promes"
         ],
         "textposition": "top center",
         "type": "scatter",
         "x": [
          1
         ],
         "xaxis": "x",
         "y": [
          2
         ],
         "yaxis": "y"
        },
        {
         "hovertemplate": "player_name=%{text}<br>Assists=%{x}<br>goals_scored=%{y}<extra></extra>",
         "legendgroup": "Jaume Domènech",
         "marker": {
          "color": "#EF553B",
          "symbol": "circle"
         },
         "mode": "markers+text",
         "name": "Jaume Domènech",
         "orientation": "v",
         "showlegend": true,
         "text": [
          "Jaume Domènech"
         ],
         "textposition": "top center",
         "type": "scatter",
         "x": [
          0
         ],
         "xaxis": "x",
         "y": [
          0
         ],
         "yaxis": "y"
        },
        {
         "hovertemplate": "player_name=%{text}<br>Assists=%{x}<br>goals_scored=%{y}<extra></extra>",
         "legendgroup": "Neto Murara",
         "marker": {
          "color": "#00cc96",
          "symbol": "circle"
         },
         "mode": "markers+text",
         "name": "Neto Murara",
         "orientation": "v",
         "showlegend": true,
         "text": [
          "Neto Murara"
         ],
         "textposition": "top center",
         "type": "scatter",
         "x": [
          0
         ],
         "xaxis": "x",
         "y": [
          0
         ],
         "yaxis": "y"
        },
        {
         "hovertemplate": "player_name=%{text}<br>Assists=%{x}<br>goals_scored=%{y}<extra></extra>",
         "legendgroup": "Facundo Roncaglia",
         "marker": {
          "color": "#ab63fa",
          "symbol": "circle"
         },
         "mode": "markers+text",
         "name": "Facundo Roncaglia",
         "orientation": "v",
         "showlegend": true,
         "text": [
          "Facundo Roncaglia"
         ],
         "textposition": "top center",
         "type": "scatter",
         "x": [
          0
         ],
         "xaxis": "x",
         "y": [
          0
         ],
         "yaxis": "y"
        },
        {
         "hovertemplate": "player_name=%{text}<br>Assists=%{x}<br>goals_scored=%{y}<extra></extra>",
         "legendgroup": "Gabriel Paulista",
         "marker": {
          "color": "#FFA15A",
          "symbol": "circle"
         },
         "mode": "markers+text",
         "name": "Gabriel Paulista",
         "orientation": "v",
         "showlegend": true,
         "text": [
          "Gabriel Paulista"
         ],
         "textposition": "top center",
         "type": "scatter",
         "x": [
          0
         ],
         "xaxis": "x",
         "y": [
          0
         ],
         "yaxis": "y"
        },
        {
         "hovertemplate": "player_name=%{text}<br>Assists=%{x}<br>goals_scored=%{y}<extra></extra>",
         "legendgroup": "Mouctar Diakhaby",
         "marker": {
          "color": "#19d3f3",
          "symbol": "circle"
         },
         "mode": "markers+text",
         "name": "Mouctar Diakhaby",
         "orientation": "v",
         "showlegend": true,
         "text": [
          "Mouctar Diakhaby"
         ],
         "textposition": "top center",
         "type": "scatter",
         "x": [
          1
         ],
         "xaxis": "x",
         "y": [
          2
         ],
         "yaxis": "y"
        },
        {
         "hovertemplate": "player_name=%{text}<br>Assists=%{x}<br>goals_scored=%{y}<extra></extra>",
         "legendgroup": "José Gayá",
         "marker": {
          "color": "#FF6692",
          "symbol": "circle"
         },
         "mode": "markers+text",
         "name": "José Gayá",
         "orientation": "v",
         "showlegend": true,
         "text": [
          "José Gayá"
         ],
         "textposition": "top center",
         "type": "scatter",
         "x": [
          3
         ],
         "xaxis": "x",
         "y": [
          0
         ],
         "yaxis": "y"
        },
        {
         "hovertemplate": "player_name=%{text}<br>Assists=%{x}<br>goals_scored=%{y}<extra></extra>",
         "legendgroup": "Toni Lato",
         "marker": {
          "color": "#B6E880",
          "symbol": "circle"
         },
         "mode": "markers+text",
         "name": "Toni Lato",
         "orientation": "v",
         "showlegend": true,
         "text": [
          "Toni Lato"
         ],
         "textposition": "top center",
         "type": "scatter",
         "x": [
          6
         ],
         "xaxis": "x",
         "y": [
          0
         ],
         "yaxis": "y"
        },
        {
         "hovertemplate": "player_name=%{text}<br>Assists=%{x}<br>goals_scored=%{y}<extra></extra>",
         "legendgroup": "Cristiano Piccini",
         "marker": {
          "color": "#FF97FF",
          "symbol": "circle"
         },
         "mode": "markers+text",
         "name": "Cristiano Piccini",
         "orientation": "v",
         "showlegend": true,
         "text": [
          "Cristiano Piccini"
         ],
         "textposition": "top center",
         "type": "scatter",
         "x": [
          7
         ],
         "xaxis": "x",
         "y": [
          1
         ],
         "yaxis": "y"
        },
        {
         "hovertemplate": "player_name=%{text}<br>Assists=%{x}<br>goals_scored=%{y}<extra></extra>",
         "legendgroup": "Ezequiel Garay",
         "marker": {
          "color": "#FECB52",
          "symbol": "circle"
         },
         "mode": "markers+text",
         "name": "Ezequiel Garay",
         "orientation": "v",
         "showlegend": true,
         "text": [
          "Ezequiel Garay"
         ],
         "textposition": "top center",
         "type": "scatter",
         "x": [
          2
         ],
         "xaxis": "x",
         "y": [
          2
         ],
         "yaxis": "y"
        },
        {
         "hovertemplate": "player_name=%{text}<br>Assists=%{x}<br>goals_scored=%{y}<extra></extra>",
         "legendgroup": "Hugo Guillamón",
         "marker": {
          "color": "#636efa",
          "symbol": "circle"
         },
         "mode": "markers+text",
         "name": "Hugo Guillamón",
         "orientation": "v",
         "showlegend": true,
         "text": [
          "Hugo Guillamón"
         ],
         "textposition": "top center",
         "type": "scatter",
         "x": [
          0
         ],
         "xaxis": "x",
         "y": [
          0
         ],
         "yaxis": "y"
        },
        {
         "hovertemplate": "player_name=%{text}<br>Assists=%{x}<br>goals_scored=%{y}<extra></extra>",
         "legendgroup": "Geoffrey Kondogbia",
         "marker": {
          "color": "#EF553B",
          "symbol": "circle"
         },
         "mode": "markers+text",
         "name": "Geoffrey Kondogbia",
         "orientation": "v",
         "showlegend": true,
         "text": [
          "Geoffrey Kondogbia"
         ],
         "textposition": "top center",
         "type": "scatter",
         "x": [
          1
         ],
         "xaxis": "x",
         "y": [
          1
         ],
         "yaxis": "y"
        },
        {
         "hovertemplate": "player_name=%{text}<br>Assists=%{x}<br>goals_scored=%{y}<extra></extra>",
         "legendgroup": "Gonçalo Guedes",
         "marker": {
          "color": "#00cc96",
          "symbol": "circle"
         },
         "mode": "markers+text",
         "name": "Gonçalo Guedes",
         "orientation": "v",
         "showlegend": true,
         "text": [
          "Gonçalo Guedes"
         ],
         "textposition": "top center",
         "type": "scatter",
         "x": [
          3
         ],
         "xaxis": "x",
         "y": [
          5
         ],
         "yaxis": "y"
        },
        {
         "hovertemplate": "player_name=%{text}<br>Assists=%{x}<br>goals_scored=%{y}<extra></extra>",
         "legendgroup": "Carlos Soler",
         "marker": {
          "color": "#ab63fa",
          "symbol": "circle"
         },
         "mode": "markers+text",
         "name": "Carlos Soler",
         "orientation": "v",
         "showlegend": true,
         "text": [
          "Carlos Soler"
         ],
         "textposition": "top center",
         "type": "scatter",
         "x": [
          0
         ],
         "xaxis": "x",
         "y": [
          3
         ],
         "yaxis": "y"
        },
        {
         "hovertemplate": "player_name=%{text}<br>Assists=%{x}<br>goals_scored=%{y}<extra></extra>",
         "legendgroup": "Daniel Parejo",
         "marker": {
          "color": "#FFA15A",
          "symbol": "circle"
         },
         "mode": "markers+text",
         "name": "Daniel Parejo",
         "orientation": "v",
         "showlegend": true,
         "text": [
          "Daniel Parejo"
         ],
         "textposition": "top center",
         "type": "scatter",
         "x": [
          1
         ],
         "xaxis": "x",
         "y": [
          9
         ],
         "yaxis": "y"
        },
        {
         "hovertemplate": "player_name=%{text}<br>Assists=%{x}<br>goals_scored=%{y}<extra></extra>",
         "legendgroup": "Denís Chéryshev",
         "marker": {
          "color": "#19d3f3",
          "symbol": "circle"
         },
         "mode": "markers+text",
         "name": "Denís Chéryshev",
         "orientation": "v",
         "showlegend": true,
         "text": [
          "Denís Chéryshev"
         ],
         "textposition": "top center",
         "type": "scatter",
         "x": [
          6
         ],
         "xaxis": "x",
         "y": [
          2
         ],
         "yaxis": "y"
        },
        {
         "hovertemplate": "player_name=%{text}<br>Assists=%{x}<br>goals_scored=%{y}<extra></extra>",
         "legendgroup": "Lee Kang-In",
         "marker": {
          "color": "#FF6692",
          "symbol": "circle"
         },
         "mode": "markers+text",
         "name": "Lee Kang-In",
         "orientation": "v",
         "showlegend": true,
         "text": [
          "Lee Kang-In"
         ],
         "textposition": "top center",
         "type": "scatter",
         "x": [
          1
         ],
         "xaxis": "x",
         "y": [
          0
         ],
         "yaxis": "y"
        },
        {
         "hovertemplate": "player_name=%{text}<br>Assists=%{x}<br>goals_scored=%{y}<extra></extra>",
         "legendgroup": "Francis Coquelin",
         "marker": {
          "color": "#B6E880",
          "symbol": "circle"
         },
         "mode": "markers+text",
         "name": "Francis Coquelin",
         "orientation": "v",
         "showlegend": true,
         "text": [
          "Francis Coquelin"
         ],
         "textposition": "top center",
         "type": "scatter",
         "x": [
          5
         ],
         "xaxis": "x",
         "y": [
          0
         ],
         "yaxis": "y"
        },
        {
         "hovertemplate": "player_name=%{text}<br>Assists=%{x}<br>goals_scored=%{y}<extra></extra>",
         "legendgroup": "Daniel Wass",
         "marker": {
          "color": "#FF97FF",
          "symbol": "circle"
         },
         "mode": "markers+text",
         "name": "Daniel Wass",
         "orientation": "v",
         "showlegend": true,
         "text": [
          "Daniel Wass"
         ],
         "textposition": "top center",
         "type": "scatter",
         "x": [
          1
         ],
         "xaxis": "x",
         "y": [
          2
         ],
         "yaxis": "y"
        },
        {
         "hovertemplate": "player_name=%{text}<br>Assists=%{x}<br>goals_scored=%{y}<extra></extra>",
         "legendgroup": "Fran Navarro",
         "marker": {
          "color": "#FECB52",
          "symbol": "circle"
         },
         "mode": "markers+text",
         "name": "Fran Navarro",
         "orientation": "v",
         "showlegend": true,
         "text": [
          "Fran Navarro"
         ],
         "textposition": "top center",
         "type": "scatter",
         "x": [
          0
         ],
         "xaxis": "x",
         "y": [
          0
         ],
         "yaxis": "y"
        },
        {
         "hovertemplate": "player_name=%{text}<br>Assists=%{x}<br>goals_scored=%{y}<extra></extra>",
         "legendgroup": "Kevin Gameiro",
         "marker": {
          "color": "#636efa",
          "symbol": "circle"
         },
         "mode": "markers+text",
         "name": "Kevin Gameiro",
         "orientation": "v",
         "showlegend": true,
         "text": [
          "Kevin Gameiro"
         ],
         "textposition": "top center",
         "type": "scatter",
         "x": [
          0
         ],
         "xaxis": "x",
         "y": [
          6
         ],
         "yaxis": "y"
        },
        {
         "hovertemplate": "player_name=%{text}<br>Assists=%{x}<br>goals_scored=%{y}<extra></extra>",
         "legendgroup": "Rodrigo Moreno",
         "marker": {
          "color": "#EF553B",
          "symbol": "circle"
         },
         "mode": "markers+text",
         "name": "Rodrigo Moreno",
         "orientation": "v",
         "showlegend": true,
         "text": [
          "Rodrigo Moreno"
         ],
         "textposition": "top center",
         "type": "scatter",
         "x": [
          0
         ],
         "xaxis": "x",
         "y": [
          0
         ],
         "yaxis": "y"
        },
        {
         "hovertemplate": "player_name=%{text}<br>Assists=%{x}<br>goals_scored=%{y}<extra></extra>",
         "legendgroup": "Michy Batshuayi",
         "marker": {
          "color": "#00cc96",
          "symbol": "circle"
         },
         "mode": "markers+text",
         "name": "Michy Batshuayi",
         "orientation": "v",
         "showlegend": true,
         "text": [
          "Michy Batshuayi"
         ],
         "textposition": "top center",
         "type": "scatter",
         "x": [
          0
         ],
         "xaxis": "x",
         "y": [
          1
         ],
         "yaxis": "y"
        },
        {
         "hovertemplate": "player_name=%{text}<br>Assists=%{x}<br>goals_scored=%{y}<extra></extra>",
         "legendgroup": "Ferrán Torres",
         "marker": {
          "color": "#ab63fa",
          "symbol": "circle"
         },
         "mode": "markers+text",
         "name": "Ferrán Torres",
         "orientation": "v",
         "showlegend": true,
         "text": [
          "Ferrán Torres"
         ],
         "textposition": "top center",
         "type": "scatter",
         "x": [
          2
         ],
         "xaxis": "x",
         "y": [
          2
         ],
         "yaxis": "y"
        },
        {
         "hovertemplate": "player_name=%{text}<br>Assists=%{x}<br>goals_scored=%{y}<extra></extra>",
         "legendgroup": "Santi Mina",
         "marker": {
          "color": "#FFA15A",
          "symbol": "circle"
         },
         "mode": "markers+text",
         "name": "Santi Mina",
         "orientation": "v",
         "showlegend": true,
         "text": [
          "Santi Mina"
         ],
         "textposition": "top center",
         "type": "scatter",
         "x": [
          2
         ],
         "xaxis": "x",
         "y": [
          7
         ],
         "yaxis": "y"
        },
        {
         "hovertemplate": "player_name=%{text}<br>Assists=%{x}<br>goals_scored=%{y}<extra></extra>",
         "legendgroup": "Borja Sobrino",
         "marker": {
          "color": "#19d3f3",
          "symbol": "circle"
         },
         "mode": "markers+text",
         "name": "Borja Sobrino",
         "orientation": "v",
         "showlegend": true,
         "text": [
          "Borja Sobrino"
         ],
         "textposition": "top center",
         "type": "scatter",
         "x": [
          1
         ],
         "xaxis": "x",
         "y": [
          0
         ],
         "yaxis": "y"
        },
        {
         "hovertemplate": "player_name=%{text}<br>Assists=%{x}<br>goals_scored=%{y}<extra></extra>",
         "legendgroup": "Sergio Asenjo",
         "marker": {
          "color": "#FF6692",
          "symbol": "circle"
         },
         "mode": "markers+text",
         "name": "Sergio Asenjo",
         "orientation": "v",
         "showlegend": true,
         "text": [
          "Sergio Asenjo"
         ],
         "textposition": "top center",
         "type": "scatter",
         "x": [
          0
         ],
         "xaxis": "x",
         "y": [
          0
         ],
         "yaxis": "y"
        },
        {
         "hovertemplate": "player_name=%{text}<br>Assists=%{x}<br>goals_scored=%{y}<extra></extra>",
         "legendgroup": "Andrés Fernández Moreno",
         "marker": {
          "color": "#B6E880",
          "symbol": "circle"
         },
         "mode": "markers+text",
         "name": "Andrés Fernández Moreno",
         "orientation": "v",
         "showlegend": true,
         "text": [
          "Andrés Fernández Moreno"
         ],
         "textposition": "top center",
         "type": "scatter",
         "x": [
          0
         ],
         "xaxis": "x",
         "y": [
          0
         ],
         "yaxis": "y"
        },
        {
         "hovertemplate": "player_name=%{text}<br>Assists=%{x}<br>goals_scored=%{y}<extra></extra>",
         "legendgroup": "Mariano Damián Barbosa",
         "marker": {
          "color": "#FF97FF",
          "symbol": "circle"
         },
         "mode": "markers+text",
         "name": "Mariano Damián Barbosa",
         "orientation": "v",
         "showlegend": true,
         "text": [
          "Mariano Damián Barbosa"
         ],
         "textposition": "top center",
         "type": "scatter",
         "x": [
          0
         ],
         "xaxis": "x",
         "y": [
          0
         ],
         "yaxis": "y"
        },
        {
         "hovertemplate": "player_name=%{text}<br>Assists=%{x}<br>goals_scored=%{y}<extra></extra>",
         "legendgroup": "Mario Gaspar",
         "marker": {
          "color": "#FECB52",
          "symbol": "circle"
         },
         "mode": "markers+text",
         "name": "Mario Gaspar",
         "orientation": "v",
         "showlegend": true,
         "text": [
          "Mario Gaspar"
         ],
         "textposition": "top center",
         "type": "scatter",
         "x": [
          0
         ],
         "xaxis": "x",
         "y": [
          1
         ],
         "yaxis": "y"
        },
        {
         "hovertemplate": "player_name=%{text}<br>Assists=%{x}<br>goals_scored=%{y}<extra></extra>",
         "legendgroup": "Álvaro González Soberón",
         "marker": {
          "color": "#636efa",
          "symbol": "circle"
         },
         "mode": "markers+text",
         "name": "Álvaro González Soberón",
         "orientation": "v",
         "showlegend": true,
         "text": [
          "Álvaro González Soberón"
         ],
         "textposition": "top center",
         "type": "scatter",
         "x": [
          3
         ],
         "xaxis": "x",
         "y": [
          1
         ],
         "yaxis": "y"
        },
        {
         "hovertemplate": "player_name=%{text}<br>Assists=%{x}<br>goals_scored=%{y}<extra></extra>",
         "legendgroup": "Ramiro Funes Mori",
         "marker": {
          "color": "#EF553B",
          "symbol": "circle"
         },
         "mode": "markers+text",
         "name": "Ramiro Funes Mori",
         "orientation": "v",
         "showlegend": true,
         "text": [
          "Ramiro Funes Mori"
         ],
         "textposition": "top center",
         "type": "scatter",
         "x": [
          1
         ],
         "xaxis": "x",
         "y": [
          3
         ],
         "yaxis": "y"
        },
        {
         "hovertemplate": "player_name=%{text}<br>Assists=%{x}<br>goals_scored=%{y}<extra></extra>",
         "legendgroup": "Víctor Ruiz Torre",
         "marker": {
          "color": "#00cc96",
          "symbol": "circle"
         },
         "mode": "markers+text",
         "name": "Víctor Ruiz Torre",
         "orientation": "v",
         "showlegend": true,
         "text": [
          "Víctor Ruiz Torre"
         ],
         "textposition": "top center",
         "type": "scatter",
         "x": [
          3
         ],
         "xaxis": "x",
         "y": [
          0
         ],
         "yaxis": "y"
        },
        {
         "hovertemplate": "player_name=%{text}<br>Assists=%{x}<br>goals_scored=%{y}<extra></extra>",
         "legendgroup": "José Luis Gayà",
         "marker": {
          "color": "#ab63fa",
          "symbol": "circle"
         },
         "mode": "markers+text",
         "name": "José Luis Gayà",
         "orientation": "v",
         "showlegend": true,
         "text": [
          "José Luis Gayà"
         ],
         "textposition": "top center",
         "type": "scatter",
         "x": [
          1
         ],
         "xaxis": "x",
         "y": [
          1
         ],
         "yaxis": "y"
        },
        {
         "hovertemplate": "player_name=%{text}<br>Assists=%{x}<br>goals_scored=%{y}<extra></extra>",
         "legendgroup": "Miguel Llambrich",
         "marker": {
          "color": "#FFA15A",
          "symbol": "circle"
         },
         "mode": "markers+text",
         "name": "Miguel Llambrich",
         "orientation": "v",
         "showlegend": true,
         "text": [
          "Miguel Llambrich"
         ],
         "textposition": "top center",
         "type": "scatter",
         "x": [
          0
         ],
         "xaxis": "x",
         "y": [
          0
         ],
         "yaxis": "y"
        },
        {
         "hovertemplate": "player_name=%{text}<br>Assists=%{x}<br>goals_scored=%{y}<extra></extra>",
         "legendgroup": "Daniele Bonera",
         "marker": {
          "color": "#19d3f3",
          "symbol": "circle"
         },
         "mode": "markers+text",
         "name": "Daniele Bonera",
         "orientation": "v",
         "showlegend": true,
         "text": [
          "Daniele Bonera"
         ],
         "textposition": "top center",
         "type": "scatter",
         "x": [
          3
         ],
         "xaxis": "x",
         "y": [
          1
         ],
         "yaxis": "y"
        },
        {
         "hovertemplate": "player_name=%{text}<br>Assists=%{x}<br>goals_scored=%{y}<extra></extra>",
         "legendgroup": "Manuel Iturra",
         "marker": {
          "color": "#FF6692",
          "symbol": "circle"
         },
         "mode": "markers+text",
         "name": "Manuel Iturra",
         "orientation": "v",
         "showlegend": true,
         "text": [
          "Manuel Iturra"
         ],
         "textposition": "top center",
         "type": "scatter",
         "x": [
          0
         ],
         "xaxis": "x",
         "y": [
          0
         ],
         "yaxis": "y"
        },
        {
         "hovertemplate": "player_name=%{text}<br>Assists=%{x}<br>goals_scored=%{y}<extra></extra>",
         "legendgroup": "Xavi Quintillà",
         "marker": {
          "color": "#B6E880",
          "symbol": "circle"
         },
         "mode": "markers+text",
         "name": "Xavi Quintillà",
         "orientation": "v",
         "showlegend": true,
         "text": [
          "Xavi Quintillà"
         ],
         "textposition": "top center",
         "type": "scatter",
         "x": [
          10
         ],
         "xaxis": "x",
         "y": [
          0
         ],
         "yaxis": "y"
        },
        {
         "hovertemplate": "player_name=%{text}<br>Assists=%{x}<br>goals_scored=%{y}<extra></extra>",
         "legendgroup": "Miguel Layún",
         "marker": {
          "color": "#FF97FF",
          "symbol": "circle"
         },
         "mode": "markers+text",
         "name": "Miguel Layún",
         "orientation": "v",
         "showlegend": true,
         "text": [
          "Miguel Layún"
         ],
         "textposition": "top center",
         "type": "scatter",
         "x": [
          0
         ],
         "xaxis": "x",
         "y": [
          0
         ],
         "yaxis": "y"
        },
        {
         "hovertemplate": "player_name=%{text}<br>Assists=%{x}<br>goals_scored=%{y}<extra></extra>",
         "legendgroup": "Santiago Cáseres",
         "marker": {
          "color": "#FECB52",
          "symbol": "circle"
         },
         "mode": "markers+text",
         "name": "Santiago Cáseres",
         "orientation": "v",
         "showlegend": true,
         "text": [
          "Santiago Cáseres"
         ],
         "textposition": "top center",
         "type": "scatter",
         "x": [
          1
         ],
         "xaxis": "x",
         "y": [
          0
         ],
         "yaxis": "y"
        },
        {
         "hovertemplate": "player_name=%{text}<br>Assists=%{x}<br>goals_scored=%{y}<extra></extra>",
         "legendgroup": "Pablo Fornals",
         "marker": {
          "color": "#636efa",
          "symbol": "circle"
         },
         "mode": "markers+text",
         "name": "Pablo Fornals",
         "orientation": "v",
         "showlegend": true,
         "text": [
          "Pablo Fornals"
         ],
         "textposition": "top center",
         "type": "scatter",
         "x": [
          2
         ],
         "xaxis": "x",
         "y": [
          2
         ],
         "yaxis": "y"
        },
        {
         "hovertemplate": "player_name=%{text}<br>Assists=%{x}<br>goals_scored=%{y}<extra></extra>",
         "legendgroup": "Vicente Iborra de la Fuente",
         "marker": {
          "color": "#EF553B",
          "symbol": "circle"
         },
         "mode": "markers+text",
         "name": "Vicente Iborra de la Fuente",
         "orientation": "v",
         "showlegend": true,
         "text": [
          "Vicente Iborra de la Fuente"
         ],
         "textposition": "top center",
         "type": "scatter",
         "x": [
          0
         ],
         "xaxis": "x",
         "y": [
          3
         ],
         "yaxis": "y"
        },
        {
         "hovertemplate": "player_name=%{text}<br>Assists=%{x}<br>goals_scored=%{y}<extra></extra>",
         "legendgroup": "Manu Trigueros",
         "marker": {
          "color": "#00cc96",
          "symbol": "circle"
         },
         "mode": "markers+text",
         "name": "Manu Trigueros",
         "orientation": "v",
         "showlegend": true,
         "text": [
          "Manu Trigueros"
         ],
         "textposition": "top center",
         "type": "scatter",
         "x": [
          0
         ],
         "xaxis": "x",
         "y": [
          0
         ],
         "yaxis": "y"
        },
        {
         "hovertemplate": "player_name=%{text}<br>Assists=%{x}<br>goals_scored=%{y}<extra></extra>",
         "legendgroup": "Alfonso Pedraza",
         "marker": {
          "color": "#ab63fa",
          "symbol": "circle"
         },
         "mode": "markers+text",
         "name": "Alfonso Pedraza",
         "orientation": "v",
         "showlegend": true,
         "text": [
          "Alfonso Pedraza"
         ],
         "textposition": "top center",
         "type": "scatter",
         "x": [
          1
         ],
         "xaxis": "x",
         "y": [
          3
         ],
         "yaxis": "y"
        },
        {
         "hovertemplate": "player_name=%{text}<br>Assists=%{x}<br>goals_scored=%{y}<extra></extra>",
         "legendgroup": "Javier Fuego",
         "marker": {
          "color": "#FFA15A",
          "symbol": "circle"
         },
         "mode": "markers+text",
         "name": "Javier Fuego",
         "orientation": "v",
         "showlegend": true,
         "text": [
          "Javier Fuego"
         ],
         "textposition": "top center",
         "type": "scatter",
         "x": [
          1
         ],
         "xaxis": "x",
         "y": [
          0
         ],
         "yaxis": "y"
        },
        {
         "hovertemplate": "player_name=%{text}<br>Assists=%{x}<br>goals_scored=%{y}<extra></extra>",
         "legendgroup": "Santi Cazorla",
         "marker": {
          "color": "#19d3f3",
          "symbol": "circle"
         },
         "mode": "markers+text",
         "name": "Santi Cazorla",
         "orientation": "v",
         "showlegend": true,
         "text": [
          "Santi Cazorla"
         ],
         "textposition": "top center",
         "type": "scatter",
         "x": [
          1
         ],
         "xaxis": "x",
         "y": [
          4
         ],
         "yaxis": "y"
        },
        {
         "hovertemplate": "player_name=%{text}<br>Assists=%{x}<br>goals_scored=%{y}<extra></extra>",
         "legendgroup": "Bruno Soriano",
         "marker": {
          "color": "#FF6692",
          "symbol": "circle"
         },
         "mode": "markers+text",
         "name": "Bruno Soriano",
         "orientation": "v",
         "showlegend": true,
         "text": [
          "Bruno Soriano"
         ],
         "textposition": "top center",
         "type": "scatter",
         "x": [
          0
         ],
         "xaxis": "x",
         "y": [
          0
         ],
         "yaxis": "y"
        },
        {
         "hovertemplate": "player_name=%{text}<br>Assists=%{x}<br>goals_scored=%{y}<extra></extra>",
         "legendgroup": "Samuel García",
         "marker": {
          "color": "#B6E880",
          "symbol": "circle"
         },
         "mode": "markers+text",
         "name": "Samuel García",
         "orientation": "v",
         "showlegend": true,
         "text": [
          "Samuel García"
         ],
         "textposition": "top center",
         "type": "scatter",
         "x": [
          0
         ],
         "xaxis": "x",
         "y": [
          0
         ],
         "yaxis": "y"
        },
        {
         "hovertemplate": "player_name=%{text}<br>Assists=%{x}<br>goals_scored=%{y}<extra></extra>",
         "legendgroup": "Samuel Chukwueze",
         "marker": {
          "color": "#FF97FF",
          "symbol": "circle"
         },
         "mode": "markers+text",
         "name": "Samuel Chukwueze",
         "orientation": "v",
         "showlegend": true,
         "text": [
          "Samuel Chukwueze"
         ],
         "textposition": "top center",
         "type": "scatter",
         "x": [
          0
         ],
         "xaxis": "x",
         "y": [
          5
         ],
         "yaxis": "y"
        },
        {
         "hovertemplate": "player_name=%{text}<br>Assists=%{x}<br>goals_scored=%{y}<extra></extra>",
         "legendgroup": "Iván Martín",
         "marker": {
          "color": "#FECB52",
          "symbol": "circle"
         },
         "mode": "markers+text",
         "name": "Iván Martín",
         "orientation": "v",
         "showlegend": true,
         "text": [
          "Iván Martín"
         ],
         "textposition": "top center",
         "type": "scatter",
         "x": [
          0
         ],
         "xaxis": "x",
         "y": [
          0
         ],
         "yaxis": "y"
        },
        {
         "hovertemplate": "player_name=%{text}<br>Assists=%{x}<br>goals_scored=%{y}<extra></extra>",
         "legendgroup": "Andrei Ratiu",
         "marker": {
          "color": "#636efa",
          "symbol": "circle"
         },
         "mode": "markers+text",
         "name": "Andrei Ratiu",
         "orientation": "v",
         "showlegend": true,
         "text": [
          "Andrei Ratiu"
         ],
         "textposition": "top center",
         "type": "scatter",
         "x": [
          0
         ],
         "xaxis": "x",
         "y": [
          0
         ],
         "yaxis": "y"
        },
        {
         "hovertemplate": "player_name=%{text}<br>Assists=%{x}<br>goals_scored=%{y}<extra></extra>",
         "legendgroup": "Manu Morlanes",
         "marker": {
          "color": "#EF553B",
          "symbol": "circle"
         },
         "mode": "markers+text",
         "name": "Manu Morlanes",
         "orientation": "v",
         "showlegend": true,
         "text": [
          "Manu Morlanes"
         ],
         "textposition": "top center",
         "type": "scatter",
         "x": [
          0
         ],
         "xaxis": "x",
         "y": [
          0
         ],
         "yaxis": "y"
        },
        {
         "hovertemplate": "player_name=%{text}<br>Assists=%{x}<br>goals_scored=%{y}<extra></extra>",
         "legendgroup": "Gerard Moreno",
         "marker": {
          "color": "#00cc96",
          "symbol": "circle"
         },
         "mode": "markers+text",
         "name": "Gerard Moreno",
         "orientation": "v",
         "showlegend": true,
         "text": [
          "Gerard Moreno"
         ],
         "textposition": "top center",
         "type": "scatter",
         "x": [
          0
         ],
         "xaxis": "x",
         "y": [
          8
         ],
         "yaxis": "y"
        },
        {
         "hovertemplate": "player_name=%{text}<br>Assists=%{x}<br>goals_scored=%{y}<extra></extra>",
         "legendgroup": "Carlos Bacca",
         "marker": {
          "color": "#ab63fa",
          "symbol": "circle"
         },
         "mode": "markers+text",
         "name": "Carlos Bacca",
         "orientation": "v",
         "showlegend": true,
         "text": [
          "Carlos Bacca"
         ],
         "textposition": "top center",
         "type": "scatter",
         "x": [
          0
         ],
         "xaxis": "x",
         "y": [
          6
         ],
         "yaxis": "y"
        },
        {
         "hovertemplate": "player_name=%{text}<br>Assists=%{x}<br>goals_scored=%{y}<extra></extra>",
         "legendgroup": "Karl Toko Ekambi",
         "marker": {
          "color": "#FFA15A",
          "symbol": "circle"
         },
         "mode": "markers+text",
         "name": "Karl Toko Ekambi",
         "orientation": "v",
         "showlegend": true,
         "text": [
          "Karl Toko Ekambi"
         ],
         "textposition": "top center",
         "type": "scatter",
         "x": [
          0
         ],
         "xaxis": "x",
         "y": [
          10
         ],
         "yaxis": "y"
        },
        {
         "hovertemplate": "player_name=%{text}<br>Assists=%{x}<br>goals_scored=%{y}<extra></extra>",
         "legendgroup": "Nicola Sansone",
         "marker": {
          "color": "#19d3f3",
          "symbol": "circle"
         },
         "mode": "markers+text",
         "name": "Nicola Sansone",
         "orientation": "v",
         "showlegend": true,
         "text": [
          "Nicola Sansone"
         ],
         "textposition": "top center",
         "type": "scatter",
         "x": [
          0
         ],
         "xaxis": "x",
         "y": [
          1
         ],
         "yaxis": "y"
        }
       ],
       "layout": {
        "legend": {
         "title": {
          "text": "player_name"
         },
         "tracegroupgap": 0
        },
        "template": {
         "data": {
          "bar": [
           {
            "error_x": {
             "color": "#2a3f5f"
            },
            "error_y": {
             "color": "#2a3f5f"
            },
            "marker": {
             "line": {
              "color": "#E5ECF6",
              "width": 0.5
             },
             "pattern": {
              "fillmode": "overlay",
              "size": 10,
              "solidity": 0.2
             }
            },
            "type": "bar"
           }
          ],
          "barpolar": [
           {
            "marker": {
             "line": {
              "color": "#E5ECF6",
              "width": 0.5
             },
             "pattern": {
              "fillmode": "overlay",
              "size": 10,
              "solidity": 0.2
             }
            },
            "type": "barpolar"
           }
          ],
          "carpet": [
           {
            "aaxis": {
             "endlinecolor": "#2a3f5f",
             "gridcolor": "white",
             "linecolor": "white",
             "minorgridcolor": "white",
             "startlinecolor": "#2a3f5f"
            },
            "baxis": {
             "endlinecolor": "#2a3f5f",
             "gridcolor": "white",
             "linecolor": "white",
             "minorgridcolor": "white",
             "startlinecolor": "#2a3f5f"
            },
            "type": "carpet"
           }
          ],
          "choropleth": [
           {
            "colorbar": {
             "outlinewidth": 0,
             "ticks": ""
            },
            "type": "choropleth"
           }
          ],
          "contour": [
           {
            "colorbar": {
             "outlinewidth": 0,
             "ticks": ""
            },
            "colorscale": [
             [
              0,
              "#0d0887"
             ],
             [
              0.1111111111111111,
              "#46039f"
             ],
             [
              0.2222222222222222,
              "#7201a8"
             ],
             [
              0.3333333333333333,
              "#9c179e"
             ],
             [
              0.4444444444444444,
              "#bd3786"
             ],
             [
              0.5555555555555556,
              "#d8576b"
             ],
             [
              0.6666666666666666,
              "#ed7953"
             ],
             [
              0.7777777777777778,
              "#fb9f3a"
             ],
             [
              0.8888888888888888,
              "#fdca26"
             ],
             [
              1,
              "#f0f921"
             ]
            ],
            "type": "contour"
           }
          ],
          "contourcarpet": [
           {
            "colorbar": {
             "outlinewidth": 0,
             "ticks": ""
            },
            "type": "contourcarpet"
           }
          ],
          "heatmap": [
           {
            "colorbar": {
             "outlinewidth": 0,
             "ticks": ""
            },
            "colorscale": [
             [
              0,
              "#0d0887"
             ],
             [
              0.1111111111111111,
              "#46039f"
             ],
             [
              0.2222222222222222,
              "#7201a8"
             ],
             [
              0.3333333333333333,
              "#9c179e"
             ],
             [
              0.4444444444444444,
              "#bd3786"
             ],
             [
              0.5555555555555556,
              "#d8576b"
             ],
             [
              0.6666666666666666,
              "#ed7953"
             ],
             [
              0.7777777777777778,
              "#fb9f3a"
             ],
             [
              0.8888888888888888,
              "#fdca26"
             ],
             [
              1,
              "#f0f921"
             ]
            ],
            "type": "heatmap"
           }
          ],
          "heatmapgl": [
           {
            "colorbar": {
             "outlinewidth": 0,
             "ticks": ""
            },
            "colorscale": [
             [
              0,
              "#0d0887"
             ],
             [
              0.1111111111111111,
              "#46039f"
             ],
             [
              0.2222222222222222,
              "#7201a8"
             ],
             [
              0.3333333333333333,
              "#9c179e"
             ],
             [
              0.4444444444444444,
              "#bd3786"
             ],
             [
              0.5555555555555556,
              "#d8576b"
             ],
             [
              0.6666666666666666,
              "#ed7953"
             ],
             [
              0.7777777777777778,
              "#fb9f3a"
             ],
             [
              0.8888888888888888,
              "#fdca26"
             ],
             [
              1,
              "#f0f921"
             ]
            ],
            "type": "heatmapgl"
           }
          ],
          "histogram": [
           {
            "marker": {
             "pattern": {
              "fillmode": "overlay",
              "size": 10,
              "solidity": 0.2
             }
            },
            "type": "histogram"
           }
          ],
          "histogram2d": [
           {
            "colorbar": {
             "outlinewidth": 0,
             "ticks": ""
            },
            "colorscale": [
             [
              0,
              "#0d0887"
             ],
             [
              0.1111111111111111,
              "#46039f"
             ],
             [
              0.2222222222222222,
              "#7201a8"
             ],
             [
              0.3333333333333333,
              "#9c179e"
             ],
             [
              0.4444444444444444,
              "#bd3786"
             ],
             [
              0.5555555555555556,
              "#d8576b"
             ],
             [
              0.6666666666666666,
              "#ed7953"
             ],
             [
              0.7777777777777778,
              "#fb9f3a"
             ],
             [
              0.8888888888888888,
              "#fdca26"
             ],
             [
              1,
              "#f0f921"
             ]
            ],
            "type": "histogram2d"
           }
          ],
          "histogram2dcontour": [
           {
            "colorbar": {
             "outlinewidth": 0,
             "ticks": ""
            },
            "colorscale": [
             [
              0,
              "#0d0887"
             ],
             [
              0.1111111111111111,
              "#46039f"
             ],
             [
              0.2222222222222222,
              "#7201a8"
             ],
             [
              0.3333333333333333,
              "#9c179e"
             ],
             [
              0.4444444444444444,
              "#bd3786"
             ],
             [
              0.5555555555555556,
              "#d8576b"
             ],
             [
              0.6666666666666666,
              "#ed7953"
             ],
             [
              0.7777777777777778,
              "#fb9f3a"
             ],
             [
              0.8888888888888888,
              "#fdca26"
             ],
             [
              1,
              "#f0f921"
             ]
            ],
            "type": "histogram2dcontour"
           }
          ],
          "mesh3d": [
           {
            "colorbar": {
             "outlinewidth": 0,
             "ticks": ""
            },
            "type": "mesh3d"
           }
          ],
          "parcoords": [
           {
            "line": {
             "colorbar": {
              "outlinewidth": 0,
              "ticks": ""
             }
            },
            "type": "parcoords"
           }
          ],
          "pie": [
           {
            "automargin": true,
            "type": "pie"
           }
          ],
          "scatter": [
           {
            "fillpattern": {
             "fillmode": "overlay",
             "size": 10,
             "solidity": 0.2
            },
            "type": "scatter"
           }
          ],
          "scatter3d": [
           {
            "line": {
             "colorbar": {
              "outlinewidth": 0,
              "ticks": ""
             }
            },
            "marker": {
             "colorbar": {
              "outlinewidth": 0,
              "ticks": ""
             }
            },
            "type": "scatter3d"
           }
          ],
          "scattercarpet": [
           {
            "marker": {
             "colorbar": {
              "outlinewidth": 0,
              "ticks": ""
             }
            },
            "type": "scattercarpet"
           }
          ],
          "scattergeo": [
           {
            "marker": {
             "colorbar": {
              "outlinewidth": 0,
              "ticks": ""
             }
            },
            "type": "scattergeo"
           }
          ],
          "scattergl": [
           {
            "marker": {
             "colorbar": {
              "outlinewidth": 0,
              "ticks": ""
             }
            },
            "type": "scattergl"
           }
          ],
          "scattermapbox": [
           {
            "marker": {
             "colorbar": {
              "outlinewidth": 0,
              "ticks": ""
             }
            },
            "type": "scattermapbox"
           }
          ],
          "scatterpolar": [
           {
            "marker": {
             "colorbar": {
              "outlinewidth": 0,
              "ticks": ""
             }
            },
            "type": "scatterpolar"
           }
          ],
          "scatterpolargl": [
           {
            "marker": {
             "colorbar": {
              "outlinewidth": 0,
              "ticks": ""
             }
            },
            "type": "scatterpolargl"
           }
          ],
          "scatterternary": [
           {
            "marker": {
             "colorbar": {
              "outlinewidth": 0,
              "ticks": ""
             }
            },
            "type": "scatterternary"
           }
          ],
          "surface": [
           {
            "colorbar": {
             "outlinewidth": 0,
             "ticks": ""
            },
            "colorscale": [
             [
              0,
              "#0d0887"
             ],
             [
              0.1111111111111111,
              "#46039f"
             ],
             [
              0.2222222222222222,
              "#7201a8"
             ],
             [
              0.3333333333333333,
              "#9c179e"
             ],
             [
              0.4444444444444444,
              "#bd3786"
             ],
             [
              0.5555555555555556,
              "#d8576b"
             ],
             [
              0.6666666666666666,
              "#ed7953"
             ],
             [
              0.7777777777777778,
              "#fb9f3a"
             ],
             [
              0.8888888888888888,
              "#fdca26"
             ],
             [
              1,
              "#f0f921"
             ]
            ],
            "type": "surface"
           }
          ],
          "table": [
           {
            "cells": {
             "fill": {
              "color": "#EBF0F8"
             },
             "line": {
              "color": "white"
             }
            },
            "header": {
             "fill": {
              "color": "#C8D4E3"
             },
             "line": {
              "color": "white"
             }
            },
            "type": "table"
           }
          ]
         },
         "layout": {
          "annotationdefaults": {
           "arrowcolor": "#2a3f5f",
           "arrowhead": 0,
           "arrowwidth": 1
          },
          "autotypenumbers": "strict",
          "coloraxis": {
           "colorbar": {
            "outlinewidth": 0,
            "ticks": ""
           }
          },
          "colorscale": {
           "diverging": [
            [
             0,
             "#8e0152"
            ],
            [
             0.1,
             "#c51b7d"
            ],
            [
             0.2,
             "#de77ae"
            ],
            [
             0.3,
             "#f1b6da"
            ],
            [
             0.4,
             "#fde0ef"
            ],
            [
             0.5,
             "#f7f7f7"
            ],
            [
             0.6,
             "#e6f5d0"
            ],
            [
             0.7,
             "#b8e186"
            ],
            [
             0.8,
             "#7fbc41"
            ],
            [
             0.9,
             "#4d9221"
            ],
            [
             1,
             "#276419"
            ]
           ],
           "sequential": [
            [
             0,
             "#0d0887"
            ],
            [
             0.1111111111111111,
             "#46039f"
            ],
            [
             0.2222222222222222,
             "#7201a8"
            ],
            [
             0.3333333333333333,
             "#9c179e"
            ],
            [
             0.4444444444444444,
             "#bd3786"
            ],
            [
             0.5555555555555556,
             "#d8576b"
            ],
            [
             0.6666666666666666,
             "#ed7953"
            ],
            [
             0.7777777777777778,
             "#fb9f3a"
            ],
            [
             0.8888888888888888,
             "#fdca26"
            ],
            [
             1,
             "#f0f921"
            ]
           ],
           "sequentialminus": [
            [
             0,
             "#0d0887"
            ],
            [
             0.1111111111111111,
             "#46039f"
            ],
            [
             0.2222222222222222,
             "#7201a8"
            ],
            [
             0.3333333333333333,
             "#9c179e"
            ],
            [
             0.4444444444444444,
             "#bd3786"
            ],
            [
             0.5555555555555556,
             "#d8576b"
            ],
            [
             0.6666666666666666,
             "#ed7953"
            ],
            [
             0.7777777777777778,
             "#fb9f3a"
            ],
            [
             0.8888888888888888,
             "#fdca26"
            ],
            [
             1,
             "#f0f921"
            ]
           ]
          },
          "colorway": [
           "#636efa",
           "#EF553B",
           "#00cc96",
           "#ab63fa",
           "#FFA15A",
           "#19d3f3",
           "#FF6692",
           "#B6E880",
           "#FF97FF",
           "#FECB52"
          ],
          "font": {
           "color": "#2a3f5f"
          },
          "geo": {
           "bgcolor": "white",
           "lakecolor": "white",
           "landcolor": "#E5ECF6",
           "showlakes": true,
           "showland": true,
           "subunitcolor": "white"
          },
          "hoverlabel": {
           "align": "left"
          },
          "hovermode": "closest",
          "mapbox": {
           "style": "light"
          },
          "paper_bgcolor": "white",
          "plot_bgcolor": "#E5ECF6",
          "polar": {
           "angularaxis": {
            "gridcolor": "white",
            "linecolor": "white",
            "ticks": ""
           },
           "bgcolor": "#E5ECF6",
           "radialaxis": {
            "gridcolor": "white",
            "linecolor": "white",
            "ticks": ""
           }
          },
          "scene": {
           "xaxis": {
            "backgroundcolor": "#E5ECF6",
            "gridcolor": "white",
            "gridwidth": 2,
            "linecolor": "white",
            "showbackground": true,
            "ticks": "",
            "zerolinecolor": "white"
           },
           "yaxis": {
            "backgroundcolor": "#E5ECF6",
            "gridcolor": "white",
            "gridwidth": 2,
            "linecolor": "white",
            "showbackground": true,
            "ticks": "",
            "zerolinecolor": "white"
           },
           "zaxis": {
            "backgroundcolor": "#E5ECF6",
            "gridcolor": "white",
            "gridwidth": 2,
            "linecolor": "white",
            "showbackground": true,
            "ticks": "",
            "zerolinecolor": "white"
           }
          },
          "shapedefaults": {
           "line": {
            "color": "#2a3f5f"
           }
          },
          "ternary": {
           "aaxis": {
            "gridcolor": "white",
            "linecolor": "white",
            "ticks": ""
           },
           "baxis": {
            "gridcolor": "white",
            "linecolor": "white",
            "ticks": ""
           },
           "bgcolor": "#E5ECF6",
           "caxis": {
            "gridcolor": "white",
            "linecolor": "white",
            "ticks": ""
           }
          },
          "title": {
           "x": 0.05
          },
          "xaxis": {
           "automargin": true,
           "gridcolor": "white",
           "linecolor": "white",
           "ticks": "",
           "title": {
            "standoff": 15
           },
           "zerolinecolor": "white",
           "zerolinewidth": 2
          },
          "yaxis": {
           "automargin": true,
           "gridcolor": "white",
           "linecolor": "white",
           "ticks": "",
           "title": {
            "standoff": 15
           },
           "zerolinecolor": "white",
           "zerolinewidth": 2
          }
         }
        },
        "title": {
         "text": "Goals Vs Assists"
        },
        "xaxis": {
         "anchor": "y",
         "domain": [
          0,
          1
         ],
         "title": {
          "text": "Assists"
         }
        },
        "yaxis": {
         "anchor": "x",
         "domain": [
          0,
          1
         ],
         "title": {
          "text": "goals_scored"
         }
        }
       }
      }
     },
     "metadata": {},
     "output_type": "display_data"
    },
    {
     "data": {
      "image/png": "[encoded data removed]",
      "text/plain": [
       "<Figure size 1000x500 with 1 Axes>"
      ]
     },
     "metadata": {},
     "output_type": "display_data"
    },
    {
     "data": {
      "image/png": "[encoded data removed]",
      "text/plain": [
       "<Figure size 1000x500 with 1 Axes>"
      ]
     },
     "metadata": {},
     "output_type": "display_data"
    }
   ],
   "source": [
    "fig = px.scatter(player_sts,x=\"Assists\",y=\"goals_scored\",color=\"player_name\",text=\"player_name\",title=\"Goals Vs Assists\")\n",
    "fig.update_traces(textposition='top center')\n",
    "fig.show()\n",
    "\n",
    "_ = sns.displot(player_sts['goals_scored'],  kind= \"hist\", color = 'blue', kde = True, aspect=2,)\n",
    "_ = plt.title('Goals Distribution', fontsize = 20)\n",
    "\n",
    "_ = sns.displot(player_sts['Assists'], kind = \"hist\", color = 'red', kde = True, aspect=2)\n",
    "_ = plt.title('Assists Distribution', fontsize = 20)"
   ]
  },
  {
   "cell_type": "markdown",
   "metadata": {},
   "source": [
    "We can interpret from this that most of the players that were in La Liga this season either didn't score a goal or didn't score an assist. It can also be seen that some players, such as Lionel Messi for example exceed in goals or Luis Suárez in assists, and stand out from the rest of the league. \n",
    "\n",
    "Knowing this, it has much more interest clustering the top 50 players across all european leagues."
   ]
  },
  {
   "cell_type": "markdown",
   "metadata": {},
   "source": [
    "### 1.2 Top 50 Players Visualization"
   ]
  },
  {
   "cell_type": "code",
   "execution_count": 4,
   "metadata": {},
   "outputs": [
    {
     "name": "stdout",
     "output_type": "stream",
     "text": [
      "Number of instances = 50\n",
      "Number of attributes = 15\n",
      "Number of missing values:\n",
      "\tR: 0\n",
      "\tPlayer: 0\n",
      "\tName: 0\n",
      "\tClub: 0\n",
      "\tAge: 0\n",
      "\tMain position: 0\n",
      "\tApps: 0\n",
      "\tMins: 0\n",
      "\tGoals: 0\n",
      "\tAssists: 0\n",
      "\tShot per Game: 0\n",
      "\tKey Pass: 0\n",
      "\tDribble: 0\n",
      "\tFouled: 0\n",
      "\tRating: 0\n",
      "Number of rows in original data = 50\n",
      "Number of rows after discarding missing values = 50\n"
     ]
    }
   ],
   "source": [
    "## We read the values of the matches to compute the instances and attributes:\n",
    "top50 = pd.read_csv('datacsv/top50.csv')\n",
    "print('Number of instances = %d' % (top50.shape[0]))\n",
    "print('Number of attributes = %d' % (top50.shape[1]))\n",
    "\n",
    "## We compute the missing values:\n",
    "print('Number of missing values:')\n",
    "for col in top50.columns:\n",
    "    print('\\t%s: %d' % (col, top50[col].isna().sum()))\n",
    "\n",
    "## We delete the rows with missing values:\n",
    "print('Number of rows in original data = %d' % (top50.shape[0]))\n",
    "top50 = top50.dropna()\n",
    "print('Number of rows after discarding missing values = %d' % (top50.shape[0]))"
   ]
  },
  {
   "cell_type": "code",
   "execution_count": 5,
   "metadata": {},
   "outputs": [
    {
     "data": {
      "application/vnd.plotly.v1+json": {
       "config": {
        "plotlyServerURL": "https://plot.ly"
       },
       "data": [
        {
         "hovertemplate": "Player=Lionel Messi<br>Assists=%{x}<br>Goals=%{y}<br>Name=%{text}<extra></extra>",
         "legendgroup": "Lionel Messi",
         "marker": {
          "color": "#636efa",
          "symbol": "circle"
         },
         "mode": "markers+text",
         "name": "Lionel Messi",
         "orientation": "v",
         "showlegend": true,
         "text": [
          "Messi"
         ],
         "textposition": "top center",
         "type": "scatter",
         "x": [
          12
         ],
         "xaxis": "x",
         "y": [
          19
         ],
         "yaxis": "y"
        },
        {
         "hovertemplate": "Player=Neymar<br>Assists=%{x}<br>Goals=%{y}<br>Name=%{text}<extra></extra>",
         "legendgroup": "Neymar",
         "marker": {
          "color": "#EF553B",
          "symbol": "circle"
         },
         "mode": "markers+text",
         "name": "Neymar",
         "orientation": "v",
         "showlegend": true,
         "text": [
          "Neymar"
         ],
         "textposition": "top center",
         "type": "scatter",
         "x": [
          6
         ],
         "xaxis": "x",
         "y": [
          13
         ],
         "yaxis": "y"
        },
        {
         "hovertemplate": "Player=Robert Lewandowski<br>Assists=%{x}<br>Goals=%{y}<br>Name=%{text}<extra></extra>",
         "legendgroup": "Robert Lewandowski",
         "marker": {
          "color": "#00cc96",
          "symbol": "circle"
         },
         "mode": "markers+text",
         "name": "Robert Lewandowski",
         "orientation": "v",
         "showlegend": true,
         "text": [
          " Lewandowski"
         ],
         "textposition": "top center",
         "type": "scatter",
         "x": [
          3
         ],
         "xaxis": "x",
         "y": [
          25
         ],
         "yaxis": "y"
        },
        {
         "hovertemplate": "Player=Kylian Mbappé<br>Assists=%{x}<br>Goals=%{y}<br>Name=%{text}<extra></extra>",
         "legendgroup": "Kylian Mbappé",
         "marker": {
          "color": "#ab63fa",
          "symbol": "circle"
         },
         "mode": "markers+text",
         "name": "Kylian Mbappé",
         "orientation": "v",
         "showlegend": true,
         "text": [
          "Mbappé"
         ],
         "textposition": "top center",
         "type": "scatter",
         "x": [
          5
         ],
         "xaxis": "x",
         "y": [
          18
         ],
         "yaxis": "y"
        },
        {
         "hovertemplate": "Player=Josip Ilicic<br>Assists=%{x}<br>Goals=%{y}<br>Name=%{text}<extra></extra>",
         "legendgroup": "Josip Ilicic",
         "marker": {
          "color": "#FFA15A",
          "symbol": "circle"
         },
         "mode": "markers+text",
         "name": "Josip Ilicic",
         "orientation": "v",
         "showlegend": true,
         "text": [
          " Ilicic"
         ],
         "textposition": "top center",
         "type": "scatter",
         "x": [
          5
         ],
         "xaxis": "x",
         "y": [
          15
         ],
         "yaxis": "y"
        },
        {
         "hovertemplate": "Player=Kevin De Bruyne<br>Assists=%{x}<br>Goals=%{y}<br>Name=%{text}<extra></extra>",
         "legendgroup": "Kevin De Bruyne",
         "marker": {
          "color": "#19d3f3",
          "symbol": "circle"
         },
         "mode": "markers+text",
         "name": "Kevin De Bruyne",
         "orientation": "v",
         "showlegend": true,
         "text": [
          "De Bruyne"
         ],
         "textposition": "top center",
         "type": "scatter",
         "x": [
          16
         ],
         "xaxis": "x",
         "y": [
          8
         ],
         "yaxis": "y"
        },
        {
         "hovertemplate": "Player=Cristiano Ronaldo<br>Assists=%{x}<br>Goals=%{y}<br>Name=%{text}<extra></extra>",
         "legendgroup": "Cristiano Ronaldo",
         "marker": {
          "color": "#FF6692",
          "symbol": "circle"
         },
         "mode": "markers+text",
         "name": "Cristiano Ronaldo",
         "orientation": "v",
         "showlegend": true,
         "text": [
          "Ronaldo"
         ],
         "textposition": "top center",
         "type": "scatter",
         "x": [
          3
         ],
         "xaxis": "x",
         "y": [
          21
         ],
         "yaxis": "y"
        },
        {
         "hovertemplate": "Player=Jadon Sancho<br>Assists=%{x}<br>Goals=%{y}<br>Name=%{text}<extra></extra>",
         "legendgroup": "Jadon Sancho",
         "marker": {
          "color": "#B6E880",
          "symbol": "circle"
         },
         "mode": "markers+text",
         "name": "Jadon Sancho",
         "orientation": "v",
         "showlegend": true,
         "text": [
          "Sancho"
         ],
         "textposition": "top center",
         "type": "scatter",
         "x": [
          15
         ],
         "xaxis": "x",
         "y": [
          14
         ],
         "yaxis": "y"
        },
        {
         "hovertemplate": "Player=Ángel Di María<br>Assists=%{x}<br>Goals=%{y}<br>Name=%{text}<extra></extra>",
         "legendgroup": "Ángel Di María",
         "marker": {
          "color": "#FF97FF",
          "symbol": "circle"
         },
         "mode": "markers+text",
         "name": "Ángel Di María",
         "orientation": "v",
         "showlegend": true,
         "text": [
          "Di María"
         ],
         "textposition": "top center",
         "type": "scatter",
         "x": [
          14
         ],
         "xaxis": "x",
         "y": [
          8
         ],
         "yaxis": "y"
        },
        {
         "hovertemplate": "Player=Dimitri Payet<br>Assists=%{x}<br>Goals=%{y}<br>Name=%{text}<extra></extra>",
         "legendgroup": "Dimitri Payet",
         "marker": {
          "color": "#FECB52",
          "symbol": "circle"
         },
         "mode": "markers+text",
         "name": "Dimitri Payet",
         "orientation": "v",
         "showlegend": true,
         "text": [
          "Payet"
         ],
         "textposition": "top center",
         "type": "scatter",
         "x": [
          4
         ],
         "xaxis": "x",
         "y": [
          9
         ],
         "yaxis": "y"
        },
        {
         "hovertemplate": "Player=Ciro Immobile<br>Assists=%{x}<br>Goals=%{y}<br>Name=%{text}<extra></extra>",
         "legendgroup": "Ciro Immobile",
         "marker": {
          "color": "#636efa",
          "symbol": "circle"
         },
         "mode": "markers+text",
         "name": "Ciro Immobile",
         "orientation": "v",
         "showlegend": true,
         "text": [
          "Immobile"
         ],
         "textposition": "top center",
         "type": "scatter",
         "x": [
          7
         ],
         "xaxis": "x",
         "y": [
          27
         ],
         "yaxis": "y"
        },
        {
         "hovertemplate": "Player=Luis Alberto<br>Assists=%{x}<br>Goals=%{y}<br>Name=%{text}<extra></extra>",
         "legendgroup": "Luis Alberto",
         "marker": {
          "color": "#EF553B",
          "symbol": "circle"
         },
         "mode": "markers+text",
         "name": "Luis Alberto",
         "orientation": "v",
         "showlegend": true,
         "text": [
          "Alberto"
         ],
         "textposition": "top center",
         "type": "scatter",
         "x": [
          12
         ],
         "xaxis": "x",
         "y": [
          4
         ],
         "yaxis": "y"
        },
        {
         "hovertemplate": "Player=Adama Traoré<br>Assists=%{x}<br>Goals=%{y}<br>Name=%{text}<extra></extra>",
         "legendgroup": "Adama Traoré",
         "marker": {
          "color": "#00cc96",
          "symbol": "circle"
         },
         "mode": "markers+text",
         "name": "Adama Traoré",
         "orientation": "v",
         "showlegend": true,
         "text": [
          "Traoré"
         ],
         "textposition": "top center",
         "type": "scatter",
         "x": [
          7
         ],
         "xaxis": "x",
         "y": [
          4
         ],
         "yaxis": "y"
        },
        {
         "hovertemplate": "Player=Serge Gnabry<br>Assists=%{x}<br>Goals=%{y}<br>Name=%{text}<extra></extra>",
         "legendgroup": "Serge Gnabry",
         "marker": {
          "color": "#ab63fa",
          "symbol": "circle"
         },
         "mode": "markers+text",
         "name": "Serge Gnabry",
         "orientation": "v",
         "showlegend": true,
         "text": [
          "Gnabry"
         ],
         "textposition": "top center",
         "type": "scatter",
         "x": [
          9
         ],
         "xaxis": "x",
         "y": [
          11
         ],
         "yaxis": "y"
        },
        {
         "hovertemplate": "Player=Riyad Mahrez<br>Assists=%{x}<br>Goals=%{y}<br>Name=%{text}<extra></extra>",
         "legendgroup": "Riyad Mahrez",
         "marker": {
          "color": "#FFA15A",
          "symbol": "circle"
         },
         "mode": "markers+text",
         "name": "Riyad Mahrez",
         "orientation": "v",
         "showlegend": true,
         "text": [
          "Mahrez"
         ],
         "textposition": "top center",
         "type": "scatter",
         "x": [
          8
         ],
         "xaxis": "x",
         "y": [
          7
         ],
         "yaxis": "y"
        },
        {
         "hovertemplate": "Player=Timo Werner<br>Assists=%{x}<br>Goals=%{y}<br>Name=%{text}<extra></extra>",
         "legendgroup": "Timo Werner",
         "marker": {
          "color": "#19d3f3",
          "symbol": "circle"
         },
         "mode": "markers+text",
         "name": "Timo Werner",
         "orientation": "v",
         "showlegend": true,
         "text": [
          "Werner"
         ],
         "textposition": "top center",
         "type": "scatter",
         "x": [
          7
         ],
         "xaxis": "x",
         "y": [
          21
         ],
         "yaxis": "y"
        },
        {
         "hovertemplate": "Player=Duván Zapata<br>Assists=%{x}<br>Goals=%{y}<br>Name=%{text}<extra></extra>",
         "legendgroup": "Duván Zapata",
         "marker": {
          "color": "#FF6692",
          "symbol": "circle"
         },
         "mode": "markers+text",
         "name": "Duván Zapata",
         "orientation": "v",
         "showlegend": true,
         "text": [
          "Zapata"
         ],
         "textposition": "top center",
         "type": "scatter",
         "x": [
          5
         ],
         "xaxis": "x",
         "y": [
          11
         ],
         "yaxis": "y"
        },
        {
         "hovertemplate": "Player=Luis Suárez<br>Assists=%{x}<br>Goals=%{y}<br>Name=%{text}<extra></extra>",
         "legendgroup": "Luis Suárez",
         "marker": {
          "color": "#B6E880",
          "symbol": "circle"
         },
         "mode": "markers+text",
         "name": "Luis Suárez",
         "orientation": "v",
         "showlegend": true,
         "text": [
          "Suárez"
         ],
         "textposition": "top center",
         "type": "scatter",
         "x": [
          7
         ],
         "xaxis": "x",
         "y": [
          11
         ],
         "yaxis": "y"
        },
        {
         "hovertemplate": "Player=Filip Kostic<br>Assists=%{x}<br>Goals=%{y}<br>Name=%{text}<extra></extra>",
         "legendgroup": "Filip Kostic",
         "marker": {
          "color": "#FF97FF",
          "symbol": "circle"
         },
         "mode": "markers+text",
         "name": "Filip Kostic",
         "orientation": "v",
         "showlegend": true,
         "text": [
          "Kostic"
         ],
         "textposition": "top center",
         "type": "scatter",
         "x": [
          8
         ],
         "xaxis": "x",
         "y": [
          4
         ],
         "yaxis": "y"
        },
        {
         "hovertemplate": "Player=Thiago<br>Assists=%{x}<br>Goals=%{y}<br>Name=%{text}<extra></extra>",
         "legendgroup": "Thiago",
         "marker": {
          "color": "#FECB52",
          "symbol": "circle"
         },
         "mode": "markers+text",
         "name": "Thiago",
         "orientation": "v",
         "showlegend": true,
         "text": [
          "Thiago"
         ],
         "textposition": "top center",
         "type": "scatter",
         "x": [
          0
         ],
         "xaxis": "x",
         "y": [
          3
         ],
         "yaxis": "y"
        },
        {
         "hovertemplate": "Player=Casemiro<br>Assists=%{x}<br>Goals=%{y}<br>Name=%{text}<extra></extra>",
         "legendgroup": "Casemiro",
         "marker": {
          "color": "#636efa",
          "symbol": "circle"
         },
         "mode": "markers+text",
         "name": "Casemiro",
         "orientation": "v",
         "showlegend": true,
         "text": [
          "Casemiro"
         ],
         "textposition": "top center",
         "type": "scatter",
         "x": [
          2
         ],
         "xaxis": "x",
         "y": [
          3
         ],
         "yaxis": "y"
        },
        {
         "hovertemplate": "Player=Alphonso Davies<br>Assists=%{x}<br>Goals=%{y}<br>Name=%{text}<extra></extra>",
         "legendgroup": "Alphonso Davies",
         "marker": {
          "color": "#EF553B",
          "symbol": "circle"
         },
         "mode": "markers+text",
         "name": "Alphonso Davies",
         "orientation": "v",
         "showlegend": true,
         "text": [
          "Davies"
         ],
         "textposition": "top center",
         "type": "scatter",
         "x": [
          4
         ],
         "xaxis": "x",
         "y": [
          1
         ],
         "yaxis": "y"
        },
        {
         "hovertemplate": "Player=Christopher Nkunku<br>Assists=%{x}<br>Goals=%{y}<br>Name=%{text}<extra></extra>",
         "legendgroup": "Christopher Nkunku",
         "marker": {
          "color": "#00cc96",
          "symbol": "circle"
         },
         "mode": "markers+text",
         "name": "Christopher Nkunku",
         "orientation": "v",
         "showlegend": true,
         "text": [
          "Nkunku"
         ],
         "textposition": "top center",
         "type": "scatter",
         "x": [
          12
         ],
         "xaxis": "x",
         "y": [
          4
         ],
         "yaxis": "y"
        },
        {
         "hovertemplate": "Player=Alejandro Gómez<br>Assists=%{x}<br>Goals=%{y}<br>Name=%{text}<extra></extra>",
         "legendgroup": "Alejandro Gómez",
         "marker": {
          "color": "#ab63fa",
          "symbol": "circle"
         },
         "mode": "markers+text",
         "name": "Alejandro Gómez",
         "orientation": "v",
         "showlegend": true,
         "text": [
          " Gómez"
         ],
         "textposition": "top center",
         "type": "scatter",
         "x": [
          10
         ],
         "xaxis": "x",
         "y": [
          6
         ],
         "yaxis": "y"
        },
        {
         "hovertemplate": "Player=Edin Dzeko<br>Assists=%{x}<br>Goals=%{y}<br>Name=%{text}<extra></extra>",
         "legendgroup": "Edin Dzeko",
         "marker": {
          "color": "#FFA15A",
          "symbol": "circle"
         },
         "mode": "markers+text",
         "name": "Edin Dzeko",
         "orientation": "v",
         "showlegend": true,
         "text": [
          "Dzeko"
         ],
         "textposition": "top center",
         "type": "scatter",
         "x": [
          4
         ],
         "xaxis": "x",
         "y": [
          12
         ],
         "yaxis": "y"
        },
        {
         "hovertemplate": "Player=Marco Reus<br>Assists=%{x}<br>Goals=%{y}<br>Name=%{text}<extra></extra>",
         "legendgroup": "Marco Reus",
         "marker": {
          "color": "#19d3f3",
          "symbol": "circle"
         },
         "mode": "markers+text",
         "name": "Marco Reus",
         "orientation": "v",
         "showlegend": true,
         "text": [
          "Reus"
         ],
         "textposition": "top center",
         "type": "scatter",
         "x": [
          5
         ],
         "xaxis": "x",
         "y": [
          11
         ],
         "yaxis": "y"
        },
        {
         "hovertemplate": "Player=Ricardo Pereira<br>Assists=%{x}<br>Goals=%{y}<br>Name=%{text}<extra></extra>",
         "legendgroup": "Ricardo Pereira",
         "marker": {
          "color": "#FF6692",
          "symbol": "circle"
         },
         "mode": "markers+text",
         "name": "Ricardo Pereira",
         "orientation": "v",
         "showlegend": true,
         "text": [
          "Pereira"
         ],
         "textposition": "top center",
         "type": "scatter",
         "x": [
          2
         ],
         "xaxis": "x",
         "y": [
          3
         ],
         "yaxis": "y"
        },
        {
         "hovertemplate": "Player=Sadio Mané<br>Assists=%{x}<br>Goals=%{y}<br>Name=%{text}<extra></extra>",
         "legendgroup": "Sadio Mané",
         "marker": {
          "color": "#B6E880",
          "symbol": "circle"
         },
         "mode": "markers+text",
         "name": "Sadio Mané",
         "orientation": "v",
         "showlegend": true,
         "text": [
          "Mané"
         ],
         "textposition": "top center",
         "type": "scatter",
         "x": [
          7
         ],
         "xaxis": "x",
         "y": [
          14
         ],
         "yaxis": "y"
        },
        {
         "hovertemplate": "Player=Domenico Berardi<br>Assists=%{x}<br>Goals=%{y}<br>Name=%{text}<extra></extra>",
         "legendgroup": "Domenico Berardi",
         "marker": {
          "color": "#FF97FF",
          "symbol": "circle"
         },
         "mode": "markers+text",
         "name": "Domenico Berardi",
         "orientation": "v",
         "showlegend": true,
         "text": [
          "Berardi"
         ],
         "textposition": "top center",
         "type": "scatter",
         "x": [
          5
         ],
         "xaxis": "x",
         "y": [
          9
         ],
         "yaxis": "y"
        },
        {
         "hovertemplate": "Player=Mohamed Salah<br>Assists=%{x}<br>Goals=%{y}<br>Name=%{text}<extra></extra>",
         "legendgroup": "Mohamed Salah",
         "marker": {
          "color": "#FECB52",
          "symbol": "circle"
         },
         "mode": "markers+text",
         "name": "Mohamed Salah",
         "orientation": "v",
         "showlegend": true,
         "text": [
          "Salah"
         ],
         "textposition": "top center",
         "type": "scatter",
         "x": [
          6
         ],
         "xaxis": "x",
         "y": [
          16
         ],
         "yaxis": "y"
        },
        {
         "hovertemplate": "Player=Téji Savanier<br>Assists=%{x}<br>Goals=%{y}<br>Name=%{text}<extra></extra>",
         "legendgroup": "Téji Savanier",
         "marker": {
          "color": "#636efa",
          "symbol": "circle"
         },
         "mode": "markers+text",
         "name": "Téji Savanier",
         "orientation": "v",
         "showlegend": true,
         "text": [
          "Savanier"
         ],
         "textposition": "top center",
         "type": "scatter",
         "x": [
          2
         ],
         "xaxis": "x",
         "y": [
          6
         ],
         "yaxis": "y"
        },
        {
         "hovertemplate": "Player=Romelu Lukaku<br>Assists=%{x}<br>Goals=%{y}<br>Name=%{text}<extra></extra>",
         "legendgroup": "Romelu Lukaku",
         "marker": {
          "color": "#EF553B",
          "symbol": "circle"
         },
         "mode": "markers+text",
         "name": "Romelu Lukaku",
         "orientation": "v",
         "showlegend": true,
         "text": [
          "Lukaku"
         ],
         "textposition": "top center",
         "type": "scatter",
         "x": [
          2
         ],
         "xaxis": "x",
         "y": [
          17
         ],
         "yaxis": "y"
        },
        {
         "hovertemplate": "Player=Suat Serdar<br>Assists=%{x}<br>Goals=%{y}<br>Name=%{text}<extra></extra>",
         "legendgroup": "Suat Serdar",
         "marker": {
          "color": "#00cc96",
          "symbol": "circle"
         },
         "mode": "markers+text",
         "name": "Suat Serdar",
         "orientation": "v",
         "showlegend": true,
         "text": [
          "Serdar"
         ],
         "textposition": "top center",
         "type": "scatter",
         "x": [
          0
         ],
         "xaxis": "x",
         "y": [
          7
         ],
         "yaxis": "y"
        },
        {
         "hovertemplate": "Player=Nabil Fekir<br>Assists=%{x}<br>Goals=%{y}<br>Name=%{text}<extra></extra>",
         "legendgroup": "Nabil Fekir",
         "marker": {
          "color": "#ab63fa",
          "symbol": "circle"
         },
         "mode": "markers+text",
         "name": "Nabil Fekir",
         "orientation": "v",
         "showlegend": true,
         "text": [
          "Fekir"
         ],
         "textposition": "top center",
         "type": "scatter",
         "x": [
          3
         ],
         "xaxis": "x",
         "y": [
          7
         ],
         "yaxis": "y"
        },
        {
         "hovertemplate": "Player=Karim Benzema<br>Assists=%{x}<br>Goals=%{y}<br>Name=%{text}<extra></extra>",
         "legendgroup": "Karim Benzema",
         "marker": {
          "color": "#FFA15A",
          "symbol": "circle"
         },
         "mode": "markers+text",
         "name": "Karim Benzema",
         "orientation": "v",
         "showlegend": true,
         "text": [
          "Benzema"
         ],
         "textposition": "top center",
         "type": "scatter",
         "x": [
          6
         ],
         "xaxis": "x",
         "y": [
          14
         ],
         "yaxis": "y"
        },
        {
         "hovertemplate": "Player=Paulo Dybala<br>Assists=%{x}<br>Goals=%{y}<br>Name=%{text}<extra></extra>",
         "legendgroup": "Paulo Dybala",
         "marker": {
          "color": "#19d3f3",
          "symbol": "circle"
         },
         "mode": "markers+text",
         "name": "Paulo Dybala",
         "orientation": "v",
         "showlegend": true,
         "text": [
          "Dybala"
         ],
         "textposition": "top center",
         "type": "scatter",
         "x": [
          4
         ],
         "xaxis": "x",
         "y": [
          7
         ],
         "yaxis": "y"
        },
        {
         "hovertemplate": "Player=Raphael Guerreiro<br>Assists=%{x}<br>Goals=%{y}<br>Name=%{text}<extra></extra>",
         "legendgroup": "Raphael Guerreiro",
         "marker": {
          "color": "#FF6692",
          "symbol": "circle"
         },
         "mode": "markers+text",
         "name": "Raphael Guerreiro",
         "orientation": "v",
         "showlegend": true,
         "text": [
          "Guerreiro"
         ],
         "textposition": "top center",
         "type": "scatter",
         "x": [
          2
         ],
         "xaxis": "x",
         "y": [
          5
         ],
         "yaxis": "y"
        },
        {
         "hovertemplate": "Player=Wilfred Ndidi<br>Assists=%{x}<br>Goals=%{y}<br>Name=%{text}<extra></extra>",
         "legendgroup": "Wilfred Ndidi",
         "marker": {
          "color": "#B6E880",
          "symbol": "circle"
         },
         "mode": "markers+text",
         "name": "Wilfred Ndidi",
         "orientation": "v",
         "showlegend": true,
         "text": [
          "Ndidi"
         ],
         "textposition": "top center",
         "type": "scatter",
         "x": [
          1
         ],
         "xaxis": "x",
         "y": [
          2
         ],
         "yaxis": "y"
        },
        {
         "hovertemplate": "Player=Achraf Hakimi<br>Assists=%{x}<br>Goals=%{y}<br>Name=%{text}<extra></extra>",
         "legendgroup": "Achraf Hakimi",
         "marker": {
          "color": "#FF97FF",
          "symbol": "circle"
         },
         "mode": "markers+text",
         "name": "Achraf Hakimi",
         "orientation": "v",
         "showlegend": true,
         "text": [
          " Hakimi"
         ],
         "textposition": "top center",
         "type": "scatter",
         "x": [
          10
         ],
         "xaxis": "x",
         "y": [
          3
         ],
         "yaxis": "y"
        },
        {
         "hovertemplate": "Player=Mikel Merino<br>Assists=%{x}<br>Goals=%{y}<br>Name=%{text}<extra></extra>",
         "legendgroup": "Mikel Merino",
         "marker": {
          "color": "#FECB52",
          "symbol": "circle"
         },
         "mode": "markers+text",
         "name": "Mikel Merino",
         "orientation": "v",
         "showlegend": true,
         "text": [
          "Merino"
         ],
         "textposition": "top center",
         "type": "scatter",
         "x": [
          1
         ],
         "xaxis": "x",
         "y": [
          3
         ],
         "yaxis": "y"
        },
        {
         "hovertemplate": "Player=Wissam Ben Yedder<br>Assists=%{x}<br>Goals=%{y}<br>Name=%{text}<extra></extra>",
         "legendgroup": "Wissam Ben Yedder",
         "marker": {
          "color": "#636efa",
          "symbol": "circle"
         },
         "mode": "markers+text",
         "name": "Wissam Ben Yedder",
         "orientation": "v",
         "showlegend": true,
         "text": [
          "Ben Yedder"
         ],
         "textposition": "top center",
         "type": "scatter",
         "x": [
          4
         ],
         "xaxis": "x",
         "y": [
          18
         ],
         "yaxis": "y"
        },
        {
         "hovertemplate": "Player=James Maddison<br>Assists=%{x}<br>Goals=%{y}<br>Name=%{text}<extra></extra>",
         "legendgroup": "James Maddison",
         "marker": {
          "color": "#EF553B",
          "symbol": "circle"
         },
         "mode": "markers+text",
         "name": "James Maddison",
         "orientation": "v",
         "showlegend": true,
         "text": [
          "Maddison"
         ],
         "textposition": "top center",
         "type": "scatter",
         "x": [
          3
         ],
         "xaxis": "x",
         "y": [
          6
         ],
         "yaxis": "y"
        },
        {
         "hovertemplate": "Player=Joshua Kimmich<br>Assists=%{x}<br>Goals=%{y}<br>Name=%{text}<extra></extra>",
         "legendgroup": "Joshua Kimmich",
         "marker": {
          "color": "#00cc96",
          "symbol": "circle"
         },
         "mode": "markers+text",
         "name": "Joshua Kimmich",
         "orientation": "v",
         "showlegend": true,
         "text": [
          "kimmich"
         ],
         "textposition": "top center",
         "type": "scatter",
         "x": [
          4
         ],
         "xaxis": "x",
         "y": [
          2
         ],
         "yaxis": "y"
        },
        {
         "hovertemplate": "Player=Marcus Rashford<br>Assists=%{x}<br>Goals=%{y}<br>Name=%{text}<extra></extra>",
         "legendgroup": "Marcus Rashford",
         "marker": {
          "color": "#ab63fa",
          "symbol": "circle"
         },
         "mode": "markers+text",
         "name": "Marcus Rashford",
         "orientation": "v",
         "showlegend": true,
         "text": [
          "Rashford"
         ],
         "textposition": "top center",
         "type": "scatter",
         "x": [
          4
         ],
         "xaxis": "x",
         "y": [
          14
         ],
         "yaxis": "y"
        },
        {
         "hovertemplate": "Player=Idrissa Gueye<br>Assists=%{x}<br>Goals=%{y}<br>Name=%{text}<extra></extra>",
         "legendgroup": "Idrissa Gueye",
         "marker": {
          "color": "#FFA15A",
          "symbol": "circle"
         },
         "mode": "markers+text",
         "name": "Idrissa Gueye",
         "orientation": "v",
         "showlegend": true,
         "text": [
          "Gueye"
         ],
         "textposition": "top center",
         "type": "scatter",
         "x": [
          2
         ],
         "xaxis": "x",
         "y": [
          1
         ],
         "yaxis": "y"
        },
        {
         "hovertemplate": "Player=Thomas Müller<br>Assists=%{x}<br>Goals=%{y}<br>Name=%{text}<extra></extra>",
         "legendgroup": "Thomas Müller",
         "marker": {
          "color": "#19d3f3",
          "symbol": "circle"
         },
         "mode": "markers+text",
         "name": "Thomas Müller",
         "orientation": "v",
         "showlegend": true,
         "text": [
          "Müller"
         ],
         "textposition": "top center",
         "type": "scatter",
         "x": [
          16
         ],
         "xaxis": "x",
         "y": [
          6
         ],
         "yaxis": "y"
        },
        {
         "hovertemplate": "Player=Jack Grealish<br>Assists=%{x}<br>Goals=%{y}<br>Name=%{text}<extra></extra>",
         "legendgroup": "Jack Grealish",
         "marker": {
          "color": "#FF6692",
          "symbol": "circle"
         },
         "mode": "markers+text",
         "name": "Jack Grealish",
         "orientation": "v",
         "showlegend": true,
         "text": [
          "Grealish"
         ],
         "textposition": "top center",
         "type": "scatter",
         "x": [
          6
         ],
         "xaxis": "x",
         "y": [
          7
         ],
         "yaxis": "y"
        },
        {
         "hovertemplate": "Player=Marcus Thuram<br>Assists=%{x}<br>Goals=%{y}<br>Name=%{text}<extra></extra>",
         "legendgroup": "Marcus Thuram",
         "marker": {
          "color": "#B6E880",
          "symbol": "circle"
         },
         "mode": "markers+text",
         "name": "Marcus Thuram",
         "orientation": "v",
         "showlegend": true,
         "text": [
          "Thuram"
         ],
         "textposition": "top center",
         "type": "scatter",
         "x": [
          8
         ],
         "xaxis": "x",
         "y": [
          6
         ],
         "yaxis": "y"
        },
        {
         "hovertemplate": "Player=Sergej Milinkovic-Savic<br>Assists=%{x}<br>Goals=%{y}<br>Name=%{text}<extra></extra>",
         "legendgroup": "Sergej Milinkovic-Savic",
         "marker": {
          "color": "#FF97FF",
          "symbol": "circle"
         },
         "mode": "markers+text",
         "name": "Sergej Milinkovic-Savic",
         "orientation": "v",
         "showlegend": true,
         "text": [
          "Milinkovic-Savic"
         ],
         "textposition": "top center",
         "type": "scatter",
         "x": [
          4
         ],
         "xaxis": "x",
         "y": [
          4
         ],
         "yaxis": "y"
        },
        {
         "hovertemplate": "Player=Gerard Moreno<br>Assists=%{x}<br>Goals=%{y}<br>Name=%{text}<extra></extra>",
         "legendgroup": "Gerard Moreno",
         "marker": {
          "color": "#FECB52",
          "symbol": "circle"
         },
         "mode": "markers+text",
         "name": "Gerard Moreno",
         "orientation": "v",
         "showlegend": true,
         "text": [
          " Moreno"
         ],
         "textposition": "top center",
         "type": "scatter",
         "x": [
          3
         ],
         "xaxis": "x",
         "y": [
          11
         ],
         "yaxis": "y"
        }
       ],
       "layout": {
        "legend": {
         "title": {
          "text": "Player"
         },
         "tracegroupgap": 0
        },
        "template": {
         "data": {
          "bar": [
           {
            "error_x": {
             "color": "#2a3f5f"
            },
            "error_y": {
             "color": "#2a3f5f"
            },
            "marker": {
             "line": {
              "color": "#E5ECF6",
              "width": 0.5
             },
             "pattern": {
              "fillmode": "overlay",
              "size": 10,
              "solidity": 0.2
             }
            },
            "type": "bar"
           }
          ],
          "barpolar": [
           {
            "marker": {
             "line": {
              "color": "#E5ECF6",
              "width": 0.5
             },
             "pattern": {
              "fillmode": "overlay",
              "size": 10,
              "solidity": 0.2
             }
            },
            "type": "barpolar"
           }
          ],
          "carpet": [
           {
            "aaxis": {
             "endlinecolor": "#2a3f5f",
             "gridcolor": "white",
             "linecolor": "white",
             "minorgridcolor": "white",
             "startlinecolor": "#2a3f5f"
            },
            "baxis": {
             "endlinecolor": "#2a3f5f",
             "gridcolor": "white",
             "linecolor": "white",
             "minorgridcolor": "white",
             "startlinecolor": "#2a3f5f"
            },
            "type": "carpet"
           }
          ],
          "choropleth": [
           {
            "colorbar": {
             "outlinewidth": 0,
             "ticks": ""
            },
            "type": "choropleth"
           }
          ],
          "contour": [
           {
            "colorbar": {
             "outlinewidth": 0,
             "ticks": ""
            },
            "colorscale": [
             [
              0,
              "#0d0887"
             ],
             [
              0.1111111111111111,
              "#46039f"
             ],
             [
              0.2222222222222222,
              "#7201a8"
             ],
             [
              0.3333333333333333,
              "#9c179e"
             ],
             [
              0.4444444444444444,
              "#bd3786"
             ],
             [
              0.5555555555555556,
              "#d8576b"
             ],
             [
              0.6666666666666666,
              "#ed7953"
             ],
             [
              0.7777777777777778,
              "#fb9f3a"
             ],
             [
              0.8888888888888888,
              "#fdca26"
             ],
             [
              1,
              "#f0f921"
             ]
            ],
            "type": "contour"
           }
          ],
          "contourcarpet": [
           {
            "colorbar": {
             "outlinewidth": 0,
             "ticks": ""
            },
            "type": "contourcarpet"
           }
          ],
          "heatmap": [
           {
            "colorbar": {
             "outlinewidth": 0,
             "ticks": ""
            },
            "colorscale": [
             [
              0,
              "#0d0887"
             ],
             [
              0.1111111111111111,
              "#46039f"
             ],
             [
              0.2222222222222222,
              "#7201a8"
             ],
             [
              0.3333333333333333,
              "#9c179e"
             ],
             [
              0.4444444444444444,
              "#bd3786"
             ],
             [
              0.5555555555555556,
              "#d8576b"
             ],
             [
              0.6666666666666666,
              "#ed7953"
             ],
             [
              0.7777777777777778,
              "#fb9f3a"
             ],
             [
              0.8888888888888888,
              "#fdca26"
             ],
             [
              1,
              "#f0f921"
             ]
            ],
            "type": "heatmap"
           }
          ],
          "heatmapgl": [
           {
            "colorbar": {
             "outlinewidth": 0,
             "ticks": ""
            },
            "colorscale": [
             [
              0,
              "#0d0887"
             ],
             [
              0.1111111111111111,
              "#46039f"
             ],
             [
              0.2222222222222222,
              "#7201a8"
             ],
             [
              0.3333333333333333,
              "#9c179e"
             ],
             [
              0.4444444444444444,
              "#bd3786"
             ],
             [
              0.5555555555555556,
              "#d8576b"
             ],
             [
              0.6666666666666666,
              "#ed7953"
             ],
             [
              0.7777777777777778,
              "#fb9f3a"
             ],
             [
              0.8888888888888888,
              "#fdca26"
             ],
             [
              1,
              "#f0f921"
             ]
            ],
            "type": "heatmapgl"
           }
          ],
          "histogram": [
           {
            "marker": {
             "pattern": {
              "fillmode": "overlay",
              "size": 10,
              "solidity": 0.2
             }
            },
            "type": "histogram"
           }
          ],
          "histogram2d": [
           {
            "colorbar": {
             "outlinewidth": 0,
             "ticks": ""
            },
            "colorscale": [
             [
              0,
              "#0d0887"
             ],
             [
              0.1111111111111111,
              "#46039f"
             ],
             [
              0.2222222222222222,
              "#7201a8"
             ],
             [
              0.3333333333333333,
              "#9c179e"
             ],
             [
              0.4444444444444444,
              "#bd3786"
             ],
             [
              0.5555555555555556,
              "#d8576b"
             ],
             [
              0.6666666666666666,
              "#ed7953"
             ],
             [
              0.7777777777777778,
              "#fb9f3a"
             ],
             [
              0.8888888888888888,
              "#fdca26"
             ],
             [
              1,
              "#f0f921"
             ]
            ],
            "type": "histogram2d"
           }
          ],
          "histogram2dcontour": [
           {
            "colorbar": {
             "outlinewidth": 0,
             "ticks": ""
            },
            "colorscale": [
             [
              0,
              "#0d0887"
             ],
             [
              0.1111111111111111,
              "#46039f"
             ],
             [
              0.2222222222222222,
              "#7201a8"
             ],
             [
              0.3333333333333333,
              "#9c179e"
             ],
             [
              0.4444444444444444,
              "#bd3786"
             ],
             [
              0.5555555555555556,
              "#d8576b"
             ],
             [
              0.6666666666666666,
              "#ed7953"
             ],
             [
              0.7777777777777778,
              "#fb9f3a"
             ],
             [
              0.8888888888888888,
              "#fdca26"
             ],
             [
              1,
              "#f0f921"
             ]
            ],
            "type": "histogram2dcontour"
           }
          ],
          "mesh3d": [
           {
            "colorbar": {
             "outlinewidth": 0,
             "ticks": ""
            },
            "type": "mesh3d"
           }
          ],
          "parcoords": [
           {
            "line": {
             "colorbar": {
              "outlinewidth": 0,
              "ticks": ""
             }
            },
            "type": "parcoords"
           }
          ],
          "pie": [
           {
            "automargin": true,
            "type": "pie"
           }
          ],
          "scatter": [
           {
            "fillpattern": {
             "fillmode": "overlay",
             "size": 10,
             "solidity": 0.2
            },
            "type": "scatter"
           }
          ],
          "scatter3d": [
           {
            "line": {
             "colorbar": {
              "outlinewidth": 0,
              "ticks": ""
             }
            },
            "marker": {
             "colorbar": {
              "outlinewidth": 0,
              "ticks": ""
             }
            },
            "type": "scatter3d"
           }
          ],
          "scattercarpet": [
           {
            "marker": {
             "colorbar": {
              "outlinewidth": 0,
              "ticks": ""
             }
            },
            "type": "scattercarpet"
           }
          ],
          "scattergeo": [
           {
            "marker": {
             "colorbar": {
              "outlinewidth": 0,
              "ticks": ""
             }
            },
            "type": "scattergeo"
           }
          ],
          "scattergl": [
           {
            "marker": {
             "colorbar": {
              "outlinewidth": 0,
              "ticks": ""
             }
            },
            "type": "scattergl"
           }
          ],
          "scattermapbox": [
           {
            "marker": {
             "colorbar": {
              "outlinewidth": 0,
              "ticks": ""
             }
            },
            "type": "scattermapbox"
           }
          ],
          "scatterpolar": [
           {
            "marker": {
             "colorbar": {
              "outlinewidth": 0,
              "ticks": ""
             }
            },
            "type": "scatterpolar"
           }
          ],
          "scatterpolargl": [
           {
            "marker": {
             "colorbar": {
              "outlinewidth": 0,
              "ticks": ""
             }
            },
            "type": "scatterpolargl"
           }
          ],
          "scatterternary": [
           {
            "marker": {
             "colorbar": {
              "outlinewidth": 0,
              "ticks": ""
             }
            },
            "type": "scatterternary"
           }
          ],
          "surface": [
           {
            "colorbar": {
             "outlinewidth": 0,
             "ticks": ""
            },
            "colorscale": [
             [
              0,
              "#0d0887"
             ],
             [
              0.1111111111111111,
              "#46039f"
             ],
             [
              0.2222222222222222,
              "#7201a8"
             ],
             [
              0.3333333333333333,
              "#9c179e"
             ],
             [
              0.4444444444444444,
              "#bd3786"
             ],
             [
              0.5555555555555556,
              "#d8576b"
             ],
             [
              0.6666666666666666,
              "#ed7953"
             ],
             [
              0.7777777777777778,
              "#fb9f3a"
             ],
             [
              0.8888888888888888,
              "#fdca26"
             ],
             [
              1,
              "#f0f921"
             ]
            ],
            "type": "surface"
           }
          ],
          "table": [
           {
            "cells": {
             "fill": {
              "color": "#EBF0F8"
             },
             "line": {
              "color": "white"
             }
            },
            "header": {
             "fill": {
              "color": "#C8D4E3"
             },
             "line": {
              "color": "white"
             }
            },
            "type": "table"
           }
          ]
         },
         "layout": {
          "annotationdefaults": {
           "arrowcolor": "#2a3f5f",
           "arrowhead": 0,
           "arrowwidth": 1
          },
          "autotypenumbers": "strict",
          "coloraxis": {
           "colorbar": {
            "outlinewidth": 0,
            "ticks": ""
           }
          },
          "colorscale": {
           "diverging": [
            [
             0,
             "#8e0152"
            ],
            [
             0.1,
             "#c51b7d"
            ],
            [
             0.2,
             "#de77ae"
            ],
            [
             0.3,
             "#f1b6da"
            ],
            [
             0.4,
             "#fde0ef"
            ],
            [
             0.5,
             "#f7f7f7"
            ],
            [
             0.6,
             "#e6f5d0"
            ],
            [
             0.7,
             "#b8e186"
            ],
            [
             0.8,
             "#7fbc41"
            ],
            [
             0.9,
             "#4d9221"
            ],
            [
             1,
             "#276419"
            ]
           ],
           "sequential": [
            [
             0,
             "#0d0887"
            ],
            [
             0.1111111111111111,
             "#46039f"
            ],
            [
             0.2222222222222222,
             "#7201a8"
            ],
            [
             0.3333333333333333,
             "#9c179e"
            ],
            [
             0.4444444444444444,
             "#bd3786"
            ],
            [
             0.5555555555555556,
             "#d8576b"
            ],
            [
             0.6666666666666666,
             "#ed7953"
            ],
            [
             0.7777777777777778,
             "#fb9f3a"
            ],
            [
             0.8888888888888888,
             "#fdca26"
            ],
            [
             1,
             "#f0f921"
            ]
           ],
           "sequentialminus": [
            [
             0,
             "#0d0887"
            ],
            [
             0.1111111111111111,
             "#46039f"
            ],
            [
             0.2222222222222222,
             "#7201a8"
            ],
            [
             0.3333333333333333,
             "#9c179e"
            ],
            [
             0.4444444444444444,
             "#bd3786"
            ],
            [
             0.5555555555555556,
             "#d8576b"
            ],
            [
             0.6666666666666666,
             "#ed7953"
            ],
            [
             0.7777777777777778,
             "#fb9f3a"
            ],
            [
             0.8888888888888888,
             "#fdca26"
            ],
            [
             1,
             "#f0f921"
            ]
           ]
          },
          "colorway": [
           "#636efa",
           "#EF553B",
           "#00cc96",
           "#ab63fa",
           "#FFA15A",
           "#19d3f3",
           "#FF6692",
           "#B6E880",
           "#FF97FF",
           "#FECB52"
          ],
          "font": {
           "color": "#2a3f5f"
          },
          "geo": {
           "bgcolor": "white",
           "lakecolor": "white",
           "landcolor": "#E5ECF6",
           "showlakes": true,
           "showland": true,
           "subunitcolor": "white"
          },
          "hoverlabel": {
           "align": "left"
          },
          "hovermode": "closest",
          "mapbox": {
           "style": "light"
          },
          "paper_bgcolor": "white",
          "plot_bgcolor": "#E5ECF6",
          "polar": {
           "angularaxis": {
            "gridcolor": "white",
            "linecolor": "white",
            "ticks": ""
           },
           "bgcolor": "#E5ECF6",
           "radialaxis": {
            "gridcolor": "white",
            "linecolor": "white",
            "ticks": ""
           }
          },
          "scene": {
           "xaxis": {
            "backgroundcolor": "#E5ECF6",
            "gridcolor": "white",
            "gridwidth": 2,
            "linecolor": "white",
            "showbackground": true,
            "ticks": "",
            "zerolinecolor": "white"
           },
           "yaxis": {
            "backgroundcolor": "#E5ECF6",
            "gridcolor": "white",
            "gridwidth": 2,
            "linecolor": "white",
            "showbackground": true,
            "ticks": "",
            "zerolinecolor": "white"
           },
           "zaxis": {
            "backgroundcolor": "#E5ECF6",
            "gridcolor": "white",
            "gridwidth": 2,
            "linecolor": "white",
            "showbackground": true,
            "ticks": "",
            "zerolinecolor": "white"
           }
          },
          "shapedefaults": {
           "line": {
            "color": "#2a3f5f"
           }
          },
          "ternary": {
           "aaxis": {
            "gridcolor": "white",
            "linecolor": "white",
            "ticks": ""
           },
           "baxis": {
            "gridcolor": "white",
            "linecolor": "white",
            "ticks": ""
           },
           "bgcolor": "#E5ECF6",
           "caxis": {
            "gridcolor": "white",
            "linecolor": "white",
            "ticks": ""
           }
          },
          "title": {
           "x": 0.05
          },
          "xaxis": {
           "automargin": true,
           "gridcolor": "white",
           "linecolor": "white",
           "ticks": "",
           "title": {
            "standoff": 15
           },
           "zerolinecolor": "white",
           "zerolinewidth": 2
          },
          "yaxis": {
           "automargin": true,
           "gridcolor": "white",
           "linecolor": "white",
           "ticks": "",
           "title": {
            "standoff": 15
           },
           "zerolinecolor": "white",
           "zerolinewidth": 2
          }
         }
        },
        "title": {
         "text": "Goals Vs Assists"
        },
        "xaxis": {
         "anchor": "y",
         "domain": [
          0,
          1
         ],
         "title": {
          "text": "Assists"
         }
        },
        "yaxis": {
         "anchor": "x",
         "domain": [
          0,
          1
         ],
         "title": {
          "text": "Goals"
         }
        }
       }
      }
     },
     "metadata": {},
     "output_type": "display_data"
    },
    {
     "data": {
      "image/png": "[encoded data removed]",
      "text/plain": [
       "<Figure size 1000x500 with 1 Axes>"
      ]
     },
     "metadata": {},
     "output_type": "display_data"
    },
    {
     "data": {
      "image/png": "[encoded data removed]",
      "text/plain": [
       "<Figure size 1000x500 with 1 Axes>"
      ]
     },
     "metadata": {},
     "output_type": "display_data"
    }
   ],
   "source": [
    "fig = px.scatter(top50,x=\"Assists\",y=\"Goals\",color=\"Player\",text=\"Name\",title=\"Goals Vs Assists\")\n",
    "fig.update_traces(textposition='top center')\n",
    "fig.show()\n",
    "\n",
    "_ = sns.displot(top50['Goals'],  kind= \"hist\", color = 'blue', kde = True, aspect=2,)\n",
    "_ = plt.title('Goals Distribution', fontsize = 20)\n",
    "\n",
    "_ = sns.displot(top50['Assists'], kind = \"hist\", color = 'red', kde = True, aspect=2)\n",
    "_ = plt.title('Assists Distribution', fontsize = 20)"
   ]
  },
  {
   "cell_type": "markdown",
   "metadata": {},
   "source": [
    "We are able to observe 4 regions of Players: \n",
    "1. those with few assists/goals (e.g: Mikel Merino)\n",
    "2. those with lots of assists/goals (e.g: Lionel Messi)\n",
    "3. those with lots of assists but few goals (e.g: Thomas Muller)\n",
    "4. those with lots of goals but few assists (e.g: Robert Lewandowski)\n",
    "\n",
    "If we represent the distribution of Goals we obtain that most players have between 0 and 7-8 goals, being 5 the highest count of goals across all Players.\n",
    "On the other hand, representing the distribution of Assists we obtain that most players have between 2 and 5 assists, being 3 the highest count of assists across all Players.\n",
    "\n",
    "Let's plot now the numbers of dribbles/key passes and shots per game for this group of players to further understand each players roles:"
   ]
  },
  {
   "cell_type": "code",
   "execution_count": 6,
   "metadata": {},
   "outputs": [
    {
     "data": {
      "application/vnd.plotly.v1+json": {
       "config": {
        "plotlyServerURL": "https://plot.ly"
       },
       "data": [
        {
         "hovertemplate": "Player=Lionel Messi<br>Dribble=%{x}<br>Key Pass=%{y}<br>Shot per Game=%{z}<br>Name=%{text}<extra></extra>",
         "legendgroup": "Lionel Messi",
         "marker": {
          "color": "#636efa",
          "symbol": "circle"
         },
         "mode": "markers+text",
         "name": "Lionel Messi",
         "scene": "scene",
         "showlegend": true,
         "text": [
          "Messi"
         ],
         "textposition": "top center",
         "type": "scatter3d",
         "x": [
          5.4
         ],
         "y": [
          2.5
         ],
         "z": [
          4.8
         ]
        },
        {
         "hovertemplate": "Player=Neymar<br>Dribble=%{x}<br>Key Pass=%{y}<br>Shot per Game=%{z}<br>Name=%{text}<extra></extra>",
         "legendgroup": "Neymar",
         "marker": {
          "color": "#EF553B",
          "symbol": "circle"
         },
         "mode": "markers+text",
         "name": "Neymar",
         "scene": "scene",
         "showlegend": true,
         "text": [
          "Neymar"
         ],
         "textposition": "top center",
         "type": "scatter3d",
         "x": [
          6
         ],
         "y": [
          2.6
         ],
         "z": [
          4.7
         ]
        },
        {
         "hovertemplate": "Player=Robert Lewandowski<br>Dribble=%{x}<br>Key Pass=%{y}<br>Shot per Game=%{z}<br>Name=%{text}<extra></extra>",
         "legendgroup": "Robert Lewandowski",
         "marker": {
          "color": "#00cc96",
          "symbol": "circle"
         },
         "mode": "markers+text",
         "name": "Robert Lewandowski",
         "scene": "scene",
         "showlegend": true,
         "text": [
          " Lewandowski"
         ],
         "textposition": "top center",
         "type": "scatter3d",
         "x": [
          2.1
         ],
         "y": [
          1.2
         ],
         "z": [
          4.7
         ]
        },
        {
         "hovertemplate": "Player=Kylian Mbappé<br>Dribble=%{x}<br>Key Pass=%{y}<br>Shot per Game=%{z}<br>Name=%{text}<extra></extra>",
         "legendgroup": "Kylian Mbappé",
         "marker": {
          "color": "#ab63fa",
          "symbol": "circle"
         },
         "mode": "markers+text",
         "name": "Kylian Mbappé",
         "scene": "scene",
         "showlegend": true,
         "text": [
          "Mbappé"
         ],
         "textposition": "top center",
         "type": "scatter3d",
         "x": [
          2.8
         ],
         "y": [
          2
         ],
         "z": [
          4.4
         ]
        },
        {
         "hovertemplate": "Player=Josip Ilicic<br>Dribble=%{x}<br>Key Pass=%{y}<br>Shot per Game=%{z}<br>Name=%{text}<extra></extra>",
         "legendgroup": "Josip Ilicic",
         "marker": {
          "color": "#FFA15A",
          "symbol": "circle"
         },
         "mode": "markers+text",
         "name": "Josip Ilicic",
         "scene": "scene",
         "showlegend": true,
         "text": [
          " Ilicic"
         ],
         "textposition": "top center",
         "type": "scatter3d",
         "x": [
          2.6
         ],
         "y": [
          2.5
         ],
         "z": [
          3.6
         ]
        },
        {
         "hovertemplate": "Player=Kevin De Bruyne<br>Dribble=%{x}<br>Key Pass=%{y}<br>Shot per Game=%{z}<br>Name=%{text}<extra></extra>",
         "legendgroup": "Kevin De Bruyne",
         "marker": {
          "color": "#19d3f3",
          "symbol": "circle"
         },
         "mode": "markers+text",
         "name": "Kevin De Bruyne",
         "scene": "scene",
         "showlegend": true,
         "text": [
          "De Bruyne"
         ],
         "textposition": "top center",
         "type": "scatter3d",
         "x": [
          1.4
         ],
         "y": [
          3.7
         ],
         "z": [
          2.9
         ]
        },
        {
         "hovertemplate": "Player=Cristiano Ronaldo<br>Dribble=%{x}<br>Key Pass=%{y}<br>Shot per Game=%{z}<br>Name=%{text}<extra></extra>",
         "legendgroup": "Cristiano Ronaldo",
         "marker": {
          "color": "#FF6692",
          "symbol": "circle"
         },
         "mode": "markers+text",
         "name": "Cristiano Ronaldo",
         "scene": "scene",
         "showlegend": true,
         "text": [
          "Ronaldo"
         ],
         "textposition": "top center",
         "type": "scatter3d",
         "x": [
          1.8
         ],
         "y": [
          1.7
         ],
         "z": [
          5.9
         ]
        },
        {
         "hovertemplate": "Player=Jadon Sancho<br>Dribble=%{x}<br>Key Pass=%{y}<br>Shot per Game=%{z}<br>Name=%{text}<extra></extra>",
         "legendgroup": "Jadon Sancho",
         "marker": {
          "color": "#B6E880",
          "symbol": "circle"
         },
         "mode": "markers+text",
         "name": "Jadon Sancho",
         "scene": "scene",
         "showlegend": true,
         "text": [
          "Sancho"
         ],
         "textposition": "top center",
         "type": "scatter3d",
         "x": [
          2.6
         ],
         "y": [
          2.3
         ],
         "z": [
          2
         ]
        },
        {
         "hovertemplate": "Player=Ángel Di María<br>Dribble=%{x}<br>Key Pass=%{y}<br>Shot per Game=%{z}<br>Name=%{text}<extra></extra>",
         "legendgroup": "Ángel Di María",
         "marker": {
          "color": "#FF97FF",
          "symbol": "circle"
         },
         "mode": "markers+text",
         "name": "Ángel Di María",
         "scene": "scene",
         "showlegend": true,
         "text": [
          "Di María"
         ],
         "textposition": "top center",
         "type": "scatter3d",
         "x": [
          2.6
         ],
         "y": [
          3
         ],
         "z": [
          2.8
         ]
        },
        {
         "hovertemplate": "Player=Dimitri Payet<br>Dribble=%{x}<br>Key Pass=%{y}<br>Shot per Game=%{z}<br>Name=%{text}<extra></extra>",
         "legendgroup": "Dimitri Payet",
         "marker": {
          "color": "#FECB52",
          "symbol": "circle"
         },
         "mode": "markers+text",
         "name": "Dimitri Payet",
         "scene": "scene",
         "showlegend": true,
         "text": [
          "Payet"
         ],
         "textposition": "top center",
         "type": "scatter3d",
         "x": [
          2.3
         ],
         "y": [
          4
         ],
         "z": [
          2.9
         ]
        },
        {
         "hovertemplate": "Player=Ciro Immobile<br>Dribble=%{x}<br>Key Pass=%{y}<br>Shot per Game=%{z}<br>Name=%{text}<extra></extra>",
         "legendgroup": "Ciro Immobile",
         "marker": {
          "color": "#636efa",
          "symbol": "circle"
         },
         "mode": "markers+text",
         "name": "Ciro Immobile",
         "scene": "scene",
         "showlegend": true,
         "text": [
          "Immobile"
         ],
         "textposition": "top center",
         "type": "scatter3d",
         "x": [
          0.7
         ],
         "y": [
          1.8
         ],
         "z": [
          3.9
         ]
        },
        {
         "hovertemplate": "Player=Luis Alberto<br>Dribble=%{x}<br>Key Pass=%{y}<br>Shot per Game=%{z}<br>Name=%{text}<extra></extra>",
         "legendgroup": "Luis Alberto",
         "marker": {
          "color": "#EF553B",
          "symbol": "circle"
         },
         "mode": "markers+text",
         "name": "Luis Alberto",
         "scene": "scene",
         "showlegend": true,
         "text": [
          "Alberto"
         ],
         "textposition": "top center",
         "type": "scatter3d",
         "x": [
          2.1
         ],
         "y": [
          3
         ],
         "z": [
          2.8
         ]
        },
        {
         "hovertemplate": "Player=Adama Traoré<br>Dribble=%{x}<br>Key Pass=%{y}<br>Shot per Game=%{z}<br>Name=%{text}<extra></extra>",
         "legendgroup": "Adama Traoré",
         "marker": {
          "color": "#00cc96",
          "symbol": "circle"
         },
         "mode": "markers+text",
         "name": "Adama Traoré",
         "scene": "scene",
         "showlegend": true,
         "text": [
          "Traoré"
         ],
         "textposition": "top center",
         "type": "scatter3d",
         "x": [
          5.2
         ],
         "y": [
          1.4
         ],
         "z": [
          1.2
         ]
        },
        {
         "hovertemplate": "Player=Serge Gnabry<br>Dribble=%{x}<br>Key Pass=%{y}<br>Shot per Game=%{z}<br>Name=%{text}<extra></extra>",
         "legendgroup": "Serge Gnabry",
         "marker": {
          "color": "#ab63fa",
          "symbol": "circle"
         },
         "mode": "markers+text",
         "name": "Serge Gnabry",
         "scene": "scene",
         "showlegend": true,
         "text": [
          "Gnabry"
         ],
         "textposition": "top center",
         "type": "scatter3d",
         "x": [
          1.8
         ],
         "y": [
          1.9
         ],
         "z": [
          3.3
         ]
        },
        {
         "hovertemplate": "Player=Riyad Mahrez<br>Dribble=%{x}<br>Key Pass=%{y}<br>Shot per Game=%{z}<br>Name=%{text}<extra></extra>",
         "legendgroup": "Riyad Mahrez",
         "marker": {
          "color": "#FFA15A",
          "symbol": "circle"
         },
         "mode": "markers+text",
         "name": "Riyad Mahrez",
         "scene": "scene",
         "showlegend": true,
         "text": [
          "Mahrez"
         ],
         "textposition": "top center",
         "type": "scatter3d",
         "x": [
          1.7
         ],
         "y": [
          2
         ],
         "z": [
          2.3
         ]
        },
        {
         "hovertemplate": "Player=Timo Werner<br>Dribble=%{x}<br>Key Pass=%{y}<br>Shot per Game=%{z}<br>Name=%{text}<extra></extra>",
         "legendgroup": "Timo Werner",
         "marker": {
          "color": "#19d3f3",
          "symbol": "circle"
         },
         "mode": "markers+text",
         "name": "Timo Werner",
         "scene": "scene",
         "showlegend": true,
         "text": [
          "Werner"
         ],
         "textposition": "top center",
         "type": "scatter3d",
         "x": [
          1.8
         ],
         "y": [
          1.4
         ],
         "z": [
          3.8
         ]
        },
        {
         "hovertemplate": "Player=Duván Zapata<br>Dribble=%{x}<br>Key Pass=%{y}<br>Shot per Game=%{z}<br>Name=%{text}<extra></extra>",
         "legendgroup": "Duván Zapata",
         "marker": {
          "color": "#FF6692",
          "symbol": "circle"
         },
         "mode": "markers+text",
         "name": "Duván Zapata",
         "scene": "scene",
         "showlegend": true,
         "text": [
          "Zapata"
         ],
         "textposition": "top center",
         "type": "scatter3d",
         "x": [
          0.7
         ],
         "y": [
          1.3
         ],
         "z": [
          3.5
         ]
        },
        {
         "hovertemplate": "Player=Luis Suárez<br>Dribble=%{x}<br>Key Pass=%{y}<br>Shot per Game=%{z}<br>Name=%{text}<extra></extra>",
         "legendgroup": "Luis Suárez",
         "marker": {
          "color": "#B6E880",
          "symbol": "circle"
         },
         "mode": "markers+text",
         "name": "Luis Suárez",
         "scene": "scene",
         "showlegend": true,
         "text": [
          "Suárez"
         ],
         "textposition": "top center",
         "type": "scatter3d",
         "x": [
          1.1
         ],
         "y": [
          1.1
         ],
         "z": [
          3.1
         ]
        },
        {
         "hovertemplate": "Player=Filip Kostic<br>Dribble=%{x}<br>Key Pass=%{y}<br>Shot per Game=%{z}<br>Name=%{text}<extra></extra>",
         "legendgroup": "Filip Kostic",
         "marker": {
          "color": "#FF97FF",
          "symbol": "circle"
         },
         "mode": "markers+text",
         "name": "Filip Kostic",
         "scene": "scene",
         "showlegend": true,
         "text": [
          "Kostic"
         ],
         "textposition": "top center",
         "type": "scatter3d",
         "x": [
          2.9
         ],
         "y": [
          2.6
         ],
         "z": [
          2.7
         ]
        },
        {
         "hovertemplate": "Player=Thiago<br>Dribble=%{x}<br>Key Pass=%{y}<br>Shot per Game=%{z}<br>Name=%{text}<extra></extra>",
         "legendgroup": "Thiago",
         "marker": {
          "color": "#FECB52",
          "symbol": "circle"
         },
         "mode": "markers+text",
         "name": "Thiago",
         "scene": "scene",
         "showlegend": true,
         "text": [
          "Thiago"
         ],
         "textposition": "top center",
         "type": "scatter3d",
         "x": [
          3
         ],
         "y": [
          0.9
         ],
         "z": [
          0.8
         ]
        },
        {
         "hovertemplate": "Player=Casemiro<br>Dribble=%{x}<br>Key Pass=%{y}<br>Shot per Game=%{z}<br>Name=%{text}<extra></extra>",
         "legendgroup": "Casemiro",
         "marker": {
          "color": "#636efa",
          "symbol": "circle"
         },
         "mode": "markers+text",
         "name": "Casemiro",
         "scene": "scene",
         "showlegend": true,
         "text": [
          "Casemiro"
         ],
         "textposition": "top center",
         "type": "scatter3d",
         "x": [
          0.8
         ],
         "y": [
          0.4
         ],
         "z": [
          1.4
         ]
        },
        {
         "hovertemplate": "Player=Alphonso Davies<br>Dribble=%{x}<br>Key Pass=%{y}<br>Shot per Game=%{z}<br>Name=%{text}<extra></extra>",
         "legendgroup": "Alphonso Davies",
         "marker": {
          "color": "#EF553B",
          "symbol": "circle"
         },
         "mode": "markers+text",
         "name": "Alphonso Davies",
         "scene": "scene",
         "showlegend": true,
         "text": [
          "Davies"
         ],
         "textposition": "top center",
         "type": "scatter3d",
         "x": [
          3
         ],
         "y": [
          1.3
         ],
         "z": [
          0.5
         ]
        },
        {
         "hovertemplate": "Player=Christopher Nkunku<br>Dribble=%{x}<br>Key Pass=%{y}<br>Shot per Game=%{z}<br>Name=%{text}<extra></extra>",
         "legendgroup": "Christopher Nkunku",
         "marker": {
          "color": "#00cc96",
          "symbol": "circle"
         },
         "mode": "markers+text",
         "name": "Christopher Nkunku",
         "scene": "scene",
         "showlegend": true,
         "text": [
          "Nkunku"
         ],
         "textposition": "top center",
         "type": "scatter3d",
         "x": [
          1.8
         ],
         "y": [
          2.8
         ],
         "z": [
          1.7
         ]
        },
        {
         "hovertemplate": "Player=Alejandro Gómez<br>Dribble=%{x}<br>Key Pass=%{y}<br>Shot per Game=%{z}<br>Name=%{text}<extra></extra>",
         "legendgroup": "Alejandro Gómez",
         "marker": {
          "color": "#ab63fa",
          "symbol": "circle"
         },
         "mode": "markers+text",
         "name": "Alejandro Gómez",
         "scene": "scene",
         "showlegend": true,
         "text": [
          " Gómez"
         ],
         "textposition": "top center",
         "type": "scatter3d",
         "x": [
          1.8
         ],
         "y": [
          2.7
         ],
         "z": [
          2.9
         ]
        },
        {
         "hovertemplate": "Player=Edin Dzeko<br>Dribble=%{x}<br>Key Pass=%{y}<br>Shot per Game=%{z}<br>Name=%{text}<extra></extra>",
         "legendgroup": "Edin Dzeko",
         "marker": {
          "color": "#FFA15A",
          "symbol": "circle"
         },
         "mode": "markers+text",
         "name": "Edin Dzeko",
         "scene": "scene",
         "showlegend": true,
         "text": [
          "Dzeko"
         ],
         "textposition": "top center",
         "type": "scatter3d",
         "x": [
          1.2
         ],
         "y": [
          1.4
         ],
         "z": [
          3.7
         ]
        },
        {
         "hovertemplate": "Player=Marco Reus<br>Dribble=%{x}<br>Key Pass=%{y}<br>Shot per Game=%{z}<br>Name=%{text}<extra></extra>",
         "legendgroup": "Marco Reus",
         "marker": {
          "color": "#19d3f3",
          "symbol": "circle"
         },
         "mode": "markers+text",
         "name": "Marco Reus",
         "scene": "scene",
         "showlegend": true,
         "text": [
          "Reus"
         ],
         "textposition": "top center",
         "type": "scatter3d",
         "x": [
          1.4
         ],
         "y": [
          1.2
         ],
         "z": [
          2.5
         ]
        },
        {
         "hovertemplate": "Player=Ricardo Pereira<br>Dribble=%{x}<br>Key Pass=%{y}<br>Shot per Game=%{z}<br>Name=%{text}<extra></extra>",
         "legendgroup": "Ricardo Pereira",
         "marker": {
          "color": "#FF6692",
          "symbol": "circle"
         },
         "mode": "markers+text",
         "name": "Ricardo Pereira",
         "scene": "scene",
         "showlegend": true,
         "text": [
          "Pereira"
         ],
         "textposition": "top center",
         "type": "scatter3d",
         "x": [
          2.1
         ],
         "y": [
          1
         ],
         "z": [
          0.6
         ]
        },
        {
         "hovertemplate": "Player=Sadio Mané<br>Dribble=%{x}<br>Key Pass=%{y}<br>Shot per Game=%{z}<br>Name=%{text}<extra></extra>",
         "legendgroup": "Sadio Mané",
         "marker": {
          "color": "#B6E880",
          "symbol": "circle"
         },
         "mode": "markers+text",
         "name": "Sadio Mané",
         "scene": "scene",
         "showlegend": true,
         "text": [
          "Mané"
         ],
         "textposition": "top center",
         "type": "scatter3d",
         "x": [
          1.9
         ],
         "y": [
          1.6
         ],
         "z": [
          2.3
         ]
        },
        {
         "hovertemplate": "Player=Domenico Berardi<br>Dribble=%{x}<br>Key Pass=%{y}<br>Shot per Game=%{z}<br>Name=%{text}<extra></extra>",
         "legendgroup": "Domenico Berardi",
         "marker": {
          "color": "#FF97FF",
          "symbol": "circle"
         },
         "mode": "markers+text",
         "name": "Domenico Berardi",
         "scene": "scene",
         "showlegend": true,
         "text": [
          "Berardi"
         ],
         "textposition": "top center",
         "type": "scatter3d",
         "x": [
          1.4
         ],
         "y": [
          1.7
         ],
         "z": [
          4.1
         ]
        },
        {
         "hovertemplate": "Player=Mohamed Salah<br>Dribble=%{x}<br>Key Pass=%{y}<br>Shot per Game=%{z}<br>Name=%{text}<extra></extra>",
         "legendgroup": "Mohamed Salah",
         "marker": {
          "color": "#FECB52",
          "symbol": "circle"
         },
         "mode": "markers+text",
         "name": "Mohamed Salah",
         "scene": "scene",
         "showlegend": true,
         "text": [
          "Salah"
         ],
         "textposition": "top center",
         "type": "scatter3d",
         "x": [
          1.7
         ],
         "y": [
          1.8
         ],
         "z": [
          3.8
         ]
        },
        {
         "hovertemplate": "Player=Téji Savanier<br>Dribble=%{x}<br>Key Pass=%{y}<br>Shot per Game=%{z}<br>Name=%{text}<extra></extra>",
         "legendgroup": "Téji Savanier",
         "marker": {
          "color": "#636efa",
          "symbol": "circle"
         },
         "mode": "markers+text",
         "name": "Téji Savanier",
         "scene": "scene",
         "showlegend": true,
         "text": [
          "Savanier"
         ],
         "textposition": "top center",
         "type": "scatter3d",
         "x": [
          1.7
         ],
         "y": [
          1.5
         ],
         "z": [
          1.6
         ]
        },
        {
         "hovertemplate": "Player=Romelu Lukaku<br>Dribble=%{x}<br>Key Pass=%{y}<br>Shot per Game=%{z}<br>Name=%{text}<extra></extra>",
         "legendgroup": "Romelu Lukaku",
         "marker": {
          "color": "#EF553B",
          "symbol": "circle"
         },
         "mode": "markers+text",
         "name": "Romelu Lukaku",
         "scene": "scene",
         "showlegend": true,
         "text": [
          "Lukaku"
         ],
         "textposition": "top center",
         "type": "scatter3d",
         "x": [
          0.6
         ],
         "y": [
          1.4
         ],
         "z": [
          2.9
         ]
        },
        {
         "hovertemplate": "Player=Suat Serdar<br>Dribble=%{x}<br>Key Pass=%{y}<br>Shot per Game=%{z}<br>Name=%{text}<extra></extra>",
         "legendgroup": "Suat Serdar",
         "marker": {
          "color": "#00cc96",
          "symbol": "circle"
         },
         "mode": "markers+text",
         "name": "Suat Serdar",
         "scene": "scene",
         "showlegend": true,
         "text": [
          "Serdar"
         ],
         "textposition": "top center",
         "type": "scatter3d",
         "x": [
          2.7
         ],
         "y": [
          0.6
         ],
         "z": [
          1.8
         ]
        },
        {
         "hovertemplate": "Player=Nabil Fekir<br>Dribble=%{x}<br>Key Pass=%{y}<br>Shot per Game=%{z}<br>Name=%{text}<extra></extra>",
         "legendgroup": "Nabil Fekir",
         "marker": {
          "color": "#ab63fa",
          "symbol": "circle"
         },
         "mode": "markers+text",
         "name": "Nabil Fekir",
         "scene": "scene",
         "showlegend": true,
         "text": [
          "Fekir"
         ],
         "textposition": "top center",
         "type": "scatter3d",
         "x": [
          3.3
         ],
         "y": [
          1.1
         ],
         "z": [
          3.3
         ]
        },
        {
         "hovertemplate": "Player=Karim Benzema<br>Dribble=%{x}<br>Key Pass=%{y}<br>Shot per Game=%{z}<br>Name=%{text}<extra></extra>",
         "legendgroup": "Karim Benzema",
         "marker": {
          "color": "#FFA15A",
          "symbol": "circle"
         },
         "mode": "markers+text",
         "name": "Karim Benzema",
         "scene": "scene",
         "showlegend": true,
         "text": [
          "Benzema"
         ],
         "textposition": "top center",
         "type": "scatter3d",
         "x": [
          1
         ],
         "y": [
          1.7
         ],
         "z": [
          3.7
         ]
        },
        {
         "hovertemplate": "Player=Paulo Dybala<br>Dribble=%{x}<br>Key Pass=%{y}<br>Shot per Game=%{z}<br>Name=%{text}<extra></extra>",
         "legendgroup": "Paulo Dybala",
         "marker": {
          "color": "#19d3f3",
          "symbol": "circle"
         },
         "mode": "markers+text",
         "name": "Paulo Dybala",
         "scene": "scene",
         "showlegend": true,
         "text": [
          "Dybala"
         ],
         "textposition": "top center",
         "type": "scatter3d",
         "x": [
          1.9
         ],
         "y": [
          2
         ],
         "z": [
          3.1
         ]
        },
        {
         "hovertemplate": "Player=Raphael Guerreiro<br>Dribble=%{x}<br>Key Pass=%{y}<br>Shot per Game=%{z}<br>Name=%{text}<extra></extra>",
         "legendgroup": "Raphael Guerreiro",
         "marker": {
          "color": "#FF6692",
          "symbol": "circle"
         },
         "mode": "markers+text",
         "name": "Raphael Guerreiro",
         "scene": "scene",
         "showlegend": true,
         "text": [
          "Guerreiro"
         ],
         "textposition": "top center",
         "type": "scatter3d",
         "x": [
          1.5
         ],
         "y": [
          1.2
         ],
         "z": [
          1.4
         ]
        },
        {
         "hovertemplate": "Player=Wilfred Ndidi<br>Dribble=%{x}<br>Key Pass=%{y}<br>Shot per Game=%{z}<br>Name=%{text}<extra></extra>",
         "legendgroup": "Wilfred Ndidi",
         "marker": {
          "color": "#B6E880",
          "symbol": "circle"
         },
         "mode": "markers+text",
         "name": "Wilfred Ndidi",
         "scene": "scene",
         "showlegend": true,
         "text": [
          "Ndidi"
         ],
         "textposition": "top center",
         "type": "scatter3d",
         "x": [
          0.7
         ],
         "y": [
          0.5
         ],
         "z": [
          0.8
         ]
        },
        {
         "hovertemplate": "Player=Achraf Hakimi<br>Dribble=%{x}<br>Key Pass=%{y}<br>Shot per Game=%{z}<br>Name=%{text}<extra></extra>",
         "legendgroup": "Achraf Hakimi",
         "marker": {
          "color": "#FF97FF",
          "symbol": "circle"
         },
         "mode": "markers+text",
         "name": "Achraf Hakimi",
         "scene": "scene",
         "showlegend": true,
         "text": [
          " Hakimi"
         ],
         "textposition": "top center",
         "type": "scatter3d",
         "x": [
          2.4
         ],
         "y": [
          1.2
         ],
         "z": [
          1
         ]
        },
        {
         "hovertemplate": "Player=Mikel Merino<br>Dribble=%{x}<br>Key Pass=%{y}<br>Shot per Game=%{z}<br>Name=%{text}<extra></extra>",
         "legendgroup": "Mikel Merino",
         "marker": {
          "color": "#FECB52",
          "symbol": "circle"
         },
         "mode": "markers+text",
         "name": "Mikel Merino",
         "scene": "scene",
         "showlegend": true,
         "text": [
          "Merino"
         ],
         "textposition": "top center",
         "type": "scatter3d",
         "x": [
          1
         ],
         "y": [
          1
         ],
         "z": [
          1.1
         ]
        },
        {
         "hovertemplate": "Player=Wissam Ben Yedder<br>Dribble=%{x}<br>Key Pass=%{y}<br>Shot per Game=%{z}<br>Name=%{text}<extra></extra>",
         "legendgroup": "Wissam Ben Yedder",
         "marker": {
          "color": "#636efa",
          "symbol": "circle"
         },
         "mode": "markers+text",
         "name": "Wissam Ben Yedder",
         "scene": "scene",
         "showlegend": true,
         "text": [
          "Ben Yedder"
         ],
         "textposition": "top center",
         "type": "scatter3d",
         "x": [
          1.3
         ],
         "y": [
          1.7
         ],
         "z": [
          2.5
         ]
        },
        {
         "hovertemplate": "Player=James Maddison<br>Dribble=%{x}<br>Key Pass=%{y}<br>Shot per Game=%{z}<br>Name=%{text}<extra></extra>",
         "legendgroup": "James Maddison",
         "marker": {
          "color": "#EF553B",
          "symbol": "circle"
         },
         "mode": "markers+text",
         "name": "James Maddison",
         "scene": "scene",
         "showlegend": true,
         "text": [
          "Maddison"
         ],
         "textposition": "top center",
         "type": "scatter3d",
         "x": [
          1.6
         ],
         "y": [
          2.7
         ],
         "z": [
          2.2
         ]
        },
        {
         "hovertemplate": "Player=Joshua Kimmich<br>Dribble=%{x}<br>Key Pass=%{y}<br>Shot per Game=%{z}<br>Name=%{text}<extra></extra>",
         "legendgroup": "Joshua Kimmich",
         "marker": {
          "color": "#00cc96",
          "symbol": "circle"
         },
         "mode": "markers+text",
         "name": "Joshua Kimmich",
         "scene": "scene",
         "showlegend": true,
         "text": [
          "kimmich"
         ],
         "textposition": "top center",
         "type": "scatter3d",
         "x": [
          0.8
         ],
         "y": [
          2.3
         ],
         "z": [
          0.7
         ]
        },
        {
         "hovertemplate": "Player=Marcus Rashford<br>Dribble=%{x}<br>Key Pass=%{y}<br>Shot per Game=%{z}<br>Name=%{text}<extra></extra>",
         "legendgroup": "Marcus Rashford",
         "marker": {
          "color": "#ab63fa",
          "symbol": "circle"
         },
         "mode": "markers+text",
         "name": "Marcus Rashford",
         "scene": "scene",
         "showlegend": true,
         "text": [
          "Rashford"
         ],
         "textposition": "top center",
         "type": "scatter3d",
         "x": [
          2
         ],
         "y": [
          1.1
         ],
         "z": [
          3.4
         ]
        },
        {
         "hovertemplate": "Player=Idrissa Gueye<br>Dribble=%{x}<br>Key Pass=%{y}<br>Shot per Game=%{z}<br>Name=%{text}<extra></extra>",
         "legendgroup": "Idrissa Gueye",
         "marker": {
          "color": "#FFA15A",
          "symbol": "circle"
         },
         "mode": "markers+text",
         "name": "Idrissa Gueye",
         "scene": "scene",
         "showlegend": true,
         "text": [
          "Gueye"
         ],
         "textposition": "top center",
         "type": "scatter3d",
         "x": [
          1.1
         ],
         "y": [
          1.2
         ],
         "z": [
          0.6
         ]
        },
        {
         "hovertemplate": "Player=Thomas Müller<br>Dribble=%{x}<br>Key Pass=%{y}<br>Shot per Game=%{z}<br>Name=%{text}<extra></extra>",
         "legendgroup": "Thomas Müller",
         "marker": {
          "color": "#19d3f3",
          "symbol": "circle"
         },
         "mode": "markers+text",
         "name": "Thomas Müller",
         "scene": "scene",
         "showlegend": true,
         "text": [
          "Müller"
         ],
         "textposition": "top center",
         "type": "scatter3d",
         "x": [
          0.3
         ],
         "y": [
          2.4
         ],
         "z": [
          1.5
         ]
        },
        {
         "hovertemplate": "Player=Jack Grealish<br>Dribble=%{x}<br>Key Pass=%{y}<br>Shot per Game=%{z}<br>Name=%{text}<extra></extra>",
         "legendgroup": "Jack Grealish",
         "marker": {
          "color": "#FF6692",
          "symbol": "circle"
         },
         "mode": "markers+text",
         "name": "Jack Grealish",
         "scene": "scene",
         "showlegend": true,
         "text": [
          "Grealish"
         ],
         "textposition": "top center",
         "type": "scatter3d",
         "x": [
          2.2
         ],
         "y": [
          2.7
         ],
         "z": [
          2.1
         ]
        },
        {
         "hovertemplate": "Player=Marcus Thuram<br>Dribble=%{x}<br>Key Pass=%{y}<br>Shot per Game=%{z}<br>Name=%{text}<extra></extra>",
         "legendgroup": "Marcus Thuram",
         "marker": {
          "color": "#B6E880",
          "symbol": "circle"
         },
         "mode": "markers+text",
         "name": "Marcus Thuram",
         "scene": "scene",
         "showlegend": true,
         "text": [
          "Thuram"
         ],
         "textposition": "top center",
         "type": "scatter3d",
         "x": [
          2.3
         ],
         "y": [
          1
         ],
         "z": [
          1.8
         ]
        },
        {
         "hovertemplate": "Player=Sergej Milinkovic-Savic<br>Dribble=%{x}<br>Key Pass=%{y}<br>Shot per Game=%{z}<br>Name=%{text}<extra></extra>",
         "legendgroup": "Sergej Milinkovic-Savic",
         "marker": {
          "color": "#FF97FF",
          "symbol": "circle"
         },
         "mode": "markers+text",
         "name": "Sergej Milinkovic-Savic",
         "scene": "scene",
         "showlegend": true,
         "text": [
          "Milinkovic-Savic"
         ],
         "textposition": "top center",
         "type": "scatter3d",
         "x": [
          1.2
         ],
         "y": [
          1.2
         ],
         "z": [
          2
         ]
        },
        {
         "hovertemplate": "Player=Gerard Moreno<br>Dribble=%{x}<br>Key Pass=%{y}<br>Shot per Game=%{z}<br>Name=%{text}<extra></extra>",
         "legendgroup": "Gerard Moreno",
         "marker": {
          "color": "#FECB52",
          "symbol": "circle"
         },
         "mode": "markers+text",
         "name": "Gerard Moreno",
         "scene": "scene",
         "showlegend": true,
         "text": [
          " Moreno"
         ],
         "textposition": "top center",
         "type": "scatter3d",
         "x": [
          1.9
         ],
         "y": [
          1.6
         ],
         "z": [
          2.8
         ]
        }
       ],
       "layout": {
        "legend": {
         "title": {
          "text": "Player"
         },
         "tracegroupgap": 0
        },
        "scene": {
         "domain": {
          "x": [
           0,
           1
          ],
          "y": [
           0,
           1
          ]
         },
         "xaxis": {
          "title": {
           "text": "Dribble"
          }
         },
         "yaxis": {
          "title": {
           "text": "Key Pass"
          }
         },
         "zaxis": {
          "title": {
           "text": "Shot per Game"
          }
         }
        },
        "template": {
         "data": {
          "bar": [
           {
            "error_x": {
             "color": "#2a3f5f"
            },
            "error_y": {
             "color": "#2a3f5f"
            },
            "marker": {
             "line": {
              "color": "#E5ECF6",
              "width": 0.5
             },
             "pattern": {
              "fillmode": "overlay",
              "size": 10,
              "solidity": 0.2
             }
            },
            "type": "bar"
           }
          ],
          "barpolar": [
           {
            "marker": {
             "line": {
              "color": "#E5ECF6",
              "width": 0.5
             },
             "pattern": {
              "fillmode": "overlay",
              "size": 10,
              "solidity": 0.2
             }
            },
            "type": "barpolar"
           }
          ],
          "carpet": [
           {
            "aaxis": {
             "endlinecolor": "#2a3f5f",
             "gridcolor": "white",
             "linecolor": "white",
             "minorgridcolor": "white",
             "startlinecolor": "#2a3f5f"
            },
            "baxis": {
             "endlinecolor": "#2a3f5f",
             "gridcolor": "white",
             "linecolor": "white",
             "minorgridcolor": "white",
             "startlinecolor": "#2a3f5f"
            },
            "type": "carpet"
           }
          ],
          "choropleth": [
           {
            "colorbar": {
             "outlinewidth": 0,
             "ticks": ""
            },
            "type": "choropleth"
           }
          ],
          "contour": [
           {
            "colorbar": {
             "outlinewidth": 0,
             "ticks": ""
            },
            "colorscale": [
             [
              0,
              "#0d0887"
             ],
             [
              0.1111111111111111,
              "#46039f"
             ],
             [
              0.2222222222222222,
              "#7201a8"
             ],
             [
              0.3333333333333333,
              "#9c179e"
             ],
             [
              0.4444444444444444,
              "#bd3786"
             ],
             [
              0.5555555555555556,
              "#d8576b"
             ],
             [
              0.6666666666666666,
              "#ed7953"
             ],
             [
              0.7777777777777778,
              "#fb9f3a"
             ],
             [
              0.8888888888888888,
              "#fdca26"
             ],
             [
              1,
              "#f0f921"
             ]
            ],
            "type": "contour"
           }
          ],
          "contourcarpet": [
           {
            "colorbar": {
             "outlinewidth": 0,
             "ticks": ""
            },
            "type": "contourcarpet"
           }
          ],
          "heatmap": [
           {
            "colorbar": {
             "outlinewidth": 0,
             "ticks": ""
            },
            "colorscale": [
             [
              0,
              "#0d0887"
             ],
             [
              0.1111111111111111,
              "#46039f"
             ],
             [
              0.2222222222222222,
              "#7201a8"
             ],
             [
              0.3333333333333333,
              "#9c179e"
             ],
             [
              0.4444444444444444,
              "#bd3786"
             ],
             [
              0.5555555555555556,
              "#d8576b"
             ],
             [
              0.6666666666666666,
              "#ed7953"
             ],
             [
              0.7777777777777778,
              "#fb9f3a"
             ],
             [
              0.8888888888888888,
              "#fdca26"
             ],
             [
              1,
              "#f0f921"
             ]
            ],
            "type": "heatmap"
           }
          ],
          "heatmapgl": [
           {
            "colorbar": {
             "outlinewidth": 0,
             "ticks": ""
            },
            "colorscale": [
             [
              0,
              "#0d0887"
             ],
             [
              0.1111111111111111,
              "#46039f"
             ],
             [
              0.2222222222222222,
              "#7201a8"
             ],
             [
              0.3333333333333333,
              "#9c179e"
             ],
             [
              0.4444444444444444,
              "#bd3786"
             ],
             [
              0.5555555555555556,
              "#d8576b"
             ],
             [
              0.6666666666666666,
              "#ed7953"
             ],
             [
              0.7777777777777778,
              "#fb9f3a"
             ],
             [
              0.8888888888888888,
              "#fdca26"
             ],
             [
              1,
              "#f0f921"
             ]
            ],
            "type": "heatmapgl"
           }
          ],
          "histogram": [
           {
            "marker": {
             "pattern": {
              "fillmode": "overlay",
              "size": 10,
              "solidity": 0.2
             }
            },
            "type": "histogram"
           }
          ],
          "histogram2d": [
           {
            "colorbar": {
             "outlinewidth": 0,
             "ticks": ""
            },
            "colorscale": [
             [
              0,
              "#0d0887"
             ],
             [
              0.1111111111111111,
              "#46039f"
             ],
             [
              0.2222222222222222,
              "#7201a8"
             ],
             [
              0.3333333333333333,
              "#9c179e"
             ],
             [
              0.4444444444444444,
              "#bd3786"
             ],
             [
              0.5555555555555556,
              "#d8576b"
             ],
             [
              0.6666666666666666,
              "#ed7953"
             ],
             [
              0.7777777777777778,
              "#fb9f3a"
             ],
             [
              0.8888888888888888,
              "#fdca26"
             ],
             [
              1,
              "#f0f921"
             ]
            ],
            "type": "histogram2d"
           }
          ],
          "histogram2dcontour": [
           {
            "colorbar": {
             "outlinewidth": 0,
             "ticks": ""
            },
            "colorscale": [
             [
              0,
              "#0d0887"
             ],
             [
              0.1111111111111111,
              "#46039f"
             ],
             [
              0.2222222222222222,
              "#7201a8"
             ],
             [
              0.3333333333333333,
              "#9c179e"
             ],
             [
              0.4444444444444444,
              "#bd3786"
             ],
             [
              0.5555555555555556,
              "#d8576b"
             ],
             [
              0.6666666666666666,
              "#ed7953"
             ],
             [
              0.7777777777777778,
              "#fb9f3a"
             ],
             [
              0.8888888888888888,
              "#fdca26"
             ],
             [
              1,
              "#f0f921"
             ]
            ],
            "type": "histogram2dcontour"
           }
          ],
          "mesh3d": [
           {
            "colorbar": {
             "outlinewidth": 0,
             "ticks": ""
            },
            "type": "mesh3d"
           }
          ],
          "parcoords": [
           {
            "line": {
             "colorbar": {
              "outlinewidth": 0,
              "ticks": ""
             }
            },
            "type": "parcoords"
           }
          ],
          "pie": [
           {
            "automargin": true,
            "type": "pie"
           }
          ],
          "scatter": [
           {
            "fillpattern": {
             "fillmode": "overlay",
             "size": 10,
             "solidity": 0.2
            },
            "type": "scatter"
           }
          ],
          "scatter3d": [
           {
            "line": {
             "colorbar": {
              "outlinewidth": 0,
              "ticks": ""
             }
            },
            "marker": {
             "colorbar": {
              "outlinewidth": 0,
              "ticks": ""
             }
            },
            "type": "scatter3d"
           }
          ],
          "scattercarpet": [
           {
            "marker": {
             "colorbar": {
              "outlinewidth": 0,
              "ticks": ""
             }
            },
            "type": "scattercarpet"
           }
          ],
          "scattergeo": [
           {
            "marker": {
             "colorbar": {
              "outlinewidth": 0,
              "ticks": ""
             }
            },
            "type": "scattergeo"
           }
          ],
          "scattergl": [
           {
            "marker": {
             "colorbar": {
              "outlinewidth": 0,
              "ticks": ""
             }
            },
            "type": "scattergl"
           }
          ],
          "scattermapbox": [
           {
            "marker": {
             "colorbar": {
              "outlinewidth": 0,
              "ticks": ""
             }
            },
            "type": "scattermapbox"
           }
          ],
          "scatterpolar": [
           {
            "marker": {
             "colorbar": {
              "outlinewidth": 0,
              "ticks": ""
             }
            },
            "type": "scatterpolar"
           }
          ],
          "scatterpolargl": [
           {
            "marker": {
             "colorbar": {
              "outlinewidth": 0,
              "ticks": ""
             }
            },
            "type": "scatterpolargl"
           }
          ],
          "scatterternary": [
           {
            "marker": {
             "colorbar": {
              "outlinewidth": 0,
              "ticks": ""
             }
            },
            "type": "scatterternary"
           }
          ],
          "surface": [
           {
            "colorbar": {
             "outlinewidth": 0,
             "ticks": ""
            },
            "colorscale": [
             [
              0,
              "#0d0887"
             ],
             [
              0.1111111111111111,
              "#46039f"
             ],
             [
              0.2222222222222222,
              "#7201a8"
             ],
             [
              0.3333333333333333,
              "#9c179e"
             ],
             [
              0.4444444444444444,
              "#bd3786"
             ],
             [
              0.5555555555555556,
              "#d8576b"
             ],
             [
              0.6666666666666666,
              "#ed7953"
             ],
             [
              0.7777777777777778,
              "#fb9f3a"
             ],
             [
              0.8888888888888888,
              "#fdca26"
             ],
             [
              1,
              "#f0f921"
             ]
            ],
            "type": "surface"
           }
          ],
          "table": [
           {
            "cells": {
             "fill": {
              "color": "#EBF0F8"
             },
             "line": {
              "color": "white"
             }
            },
            "header": {
             "fill": {
              "color": "#C8D4E3"
             },
             "line": {
              "color": "white"
             }
            },
            "type": "table"
           }
          ]
         },
         "layout": {
          "annotationdefaults": {
           "arrowcolor": "#2a3f5f",
           "arrowhead": 0,
           "arrowwidth": 1
          },
          "autotypenumbers": "strict",
          "coloraxis": {
           "colorbar": {
            "outlinewidth": 0,
            "ticks": ""
           }
          },
          "colorscale": {
           "diverging": [
            [
             0,
             "#8e0152"
            ],
            [
             0.1,
             "#c51b7d"
            ],
            [
             0.2,
             "#de77ae"
            ],
            [
             0.3,
             "#f1b6da"
            ],
            [
             0.4,
             "#fde0ef"
            ],
            [
             0.5,
             "#f7f7f7"
            ],
            [
             0.6,
             "#e6f5d0"
            ],
            [
             0.7,
             "#b8e186"
            ],
            [
             0.8,
             "#7fbc41"
            ],
            [
             0.9,
             "#4d9221"
            ],
            [
             1,
             "#276419"
            ]
           ],
           "sequential": [
            [
             0,
             "#0d0887"
            ],
            [
             0.1111111111111111,
             "#46039f"
            ],
            [
             0.2222222222222222,
             "#7201a8"
            ],
            [
             0.3333333333333333,
             "#9c179e"
            ],
            [
             0.4444444444444444,
             "#bd3786"
            ],
            [
             0.5555555555555556,
             "#d8576b"
            ],
            [
             0.6666666666666666,
             "#ed7953"
            ],
            [
             0.7777777777777778,
             "#fb9f3a"
            ],
            [
             0.8888888888888888,
             "#fdca26"
            ],
            [
             1,
             "#f0f921"
            ]
           ],
           "sequentialminus": [
            [
             0,
             "#0d0887"
            ],
            [
             0.1111111111111111,
             "#46039f"
            ],
            [
             0.2222222222222222,
             "#7201a8"
            ],
            [
             0.3333333333333333,
             "#9c179e"
            ],
            [
             0.4444444444444444,
             "#bd3786"
            ],
            [
             0.5555555555555556,
             "#d8576b"
            ],
            [
             0.6666666666666666,
             "#ed7953"
            ],
            [
             0.7777777777777778,
             "#fb9f3a"
            ],
            [
             0.8888888888888888,
             "#fdca26"
            ],
            [
             1,
             "#f0f921"
            ]
           ]
          },
          "colorway": [
           "#636efa",
           "#EF553B",
           "#00cc96",
           "#ab63fa",
           "#FFA15A",
           "#19d3f3",
           "#FF6692",
           "#B6E880",
           "#FF97FF",
           "#FECB52"
          ],
          "font": {
           "color": "#2a3f5f"
          },
          "geo": {
           "bgcolor": "white",
           "lakecolor": "white",
           "landcolor": "#E5ECF6",
           "showlakes": true,
           "showland": true,
           "subunitcolor": "white"
          },
          "hoverlabel": {
           "align": "left"
          },
          "hovermode": "closest",
          "mapbox": {
           "style": "light"
          },
          "paper_bgcolor": "white",
          "plot_bgcolor": "#E5ECF6",
          "polar": {
           "angularaxis": {
            "gridcolor": "white",
            "linecolor": "white",
            "ticks": ""
           },
           "bgcolor": "#E5ECF6",
           "radialaxis": {
            "gridcolor": "white",
            "linecolor": "white",
            "ticks": ""
           }
          },
          "scene": {
           "xaxis": {
            "backgroundcolor": "#E5ECF6",
            "gridcolor": "white",
            "gridwidth": 2,
            "linecolor": "white",
            "showbackground": true,
            "ticks": "",
            "zerolinecolor": "white"
           },
           "yaxis": {
            "backgroundcolor": "#E5ECF6",
            "gridcolor": "white",
            "gridwidth": 2,
            "linecolor": "white",
            "showbackground": true,
            "ticks": "",
            "zerolinecolor": "white"
           },
           "zaxis": {
            "backgroundcolor": "#E5ECF6",
            "gridcolor": "white",
            "gridwidth": 2,
            "linecolor": "white",
            "showbackground": true,
            "ticks": "",
            "zerolinecolor": "white"
           }
          },
          "shapedefaults": {
           "line": {
            "color": "#2a3f5f"
           }
          },
          "ternary": {
           "aaxis": {
            "gridcolor": "white",
            "linecolor": "white",
            "ticks": ""
           },
           "baxis": {
            "gridcolor": "white",
            "linecolor": "white",
            "ticks": ""
           },
           "bgcolor": "#E5ECF6",
           "caxis": {
            "gridcolor": "white",
            "linecolor": "white",
            "ticks": ""
           }
          },
          "title": {
           "x": 0.05
          },
          "xaxis": {
           "automargin": true,
           "gridcolor": "white",
           "linecolor": "white",
           "ticks": "",
           "title": {
            "standoff": 15
           },
           "zerolinecolor": "white",
           "zerolinewidth": 2
          },
          "yaxis": {
           "automargin": true,
           "gridcolor": "white",
           "linecolor": "white",
           "ticks": "",
           "title": {
            "standoff": 15
           },
           "zerolinecolor": "white",
           "zerolinewidth": 2
          }
         }
        },
        "title": {
         "text": "Dribbling per Game VS Key Pass per Game VS Shot per Game"
        }
       }
      }
     },
     "metadata": {},
     "output_type": "display_data"
    }
   ],
   "source": [
    "fig = px.scatter_3d(top50, x=\"Dribble\",y=\"Key Pass\",z=\"Shot per Game\",color=\"Player\",text=\"Name\",\n",
    "                    title=\"Dribbling per Game VS Key Pass per Game VS Shot per Game\")\n",
    "fig.update_traces(textposition='top center')\n",
    "fig.show()"
   ]
  },
  {
   "cell_type": "markdown",
   "metadata": {},
   "source": [
    "From this 3D plot, we can observe some key aspects:\n",
    "\n",
    "1. Neymar and Messi exceed as offensive players with most dribbles per game, and a high number of key passes and shots made.\n",
    "2. Ronaldo tops the chart in number of shots made per game, being more of a striker.\n",
    "3. Kevin De Bruyne has the highest amount of key passes per game out of the chart."
   ]
  },
  {
   "cell_type": "markdown",
   "metadata": {},
   "source": [
    "### 1.3 K-mean Clustering Players on the basis of Goals and Assists"
   ]
  },
  {
   "cell_type": "markdown",
   "metadata": {},
   "source": [
    "Let's cluster the Players based on the numbers of Goals and Assists. To obtain the number of clusters we should use we can use the Elbow Method which links the WCSS (Within-Cluster Sum of Squares) to the Number of Clusters for the K-mean method of clustering."
   ]
  },
  {
   "cell_type": "code",
   "execution_count": 7,
   "metadata": {},
   "outputs": [
    {
     "data": {
      "image/png": "[encoded data removed]",
      "text/plain": [
       "<Figure size 1000x600 with 1 Axes>"
      ]
     },
     "metadata": {},
     "output_type": "display_data"
    }
   ],
   "source": [
    "X= top50.iloc[:, [8,9]].values ## grab only the Goals and Assists\n",
    "wcss=[]\n",
    "for i in range(1,7):\n",
    "    kmeans = KMeans(n_clusters= i, init='k-means++',random_state=0, n_init='auto')\n",
    "    kmeans.fit(X)\n",
    "    wcss.append(kmeans.inertia_)    \n",
    "fig=plt.figure(figsize=(10,6)) \n",
    "plt.plot(range(1,7), wcss)\n",
    "plt.title('Elbow Method')\n",
    "plt.xlabel('Number of Clusters')\n",
    "plt.ylabel('WCSS')\n",
    "plt.show() "
   ]
  },
  {
   "cell_type": "markdown",
   "metadata": {},
   "source": [
    "Let's try applying 2 and 4 clusters for our task and see how well the data is separated:"
   ]
  },
  {
   "cell_type": "markdown",
   "metadata": {},
   "source": [
    "### 1.4 K-Mean of 2 Clusters "
   ]
  },
  {
   "cell_type": "code",
   "execution_count": 8,
   "metadata": {},
   "outputs": [
    {
     "name": "stderr",
     "output_type": "stream",
     "text": [
      "c:\\Users\\danni\\.virtualenvs\\notebookdata-nHLWBBIB\\lib\\site-packages\\sklearn\\cluster\\_kmeans.py:1416: FutureWarning:\n",
      "\n",
      "The default value of `n_init` will change from 10 to 'auto' in 1.4. Set the value of `n_init` explicitly to suppress the warning\n",
      "\n"
     ]
    }
   ],
   "source": [
    "kmeans2 = KMeans(n_clusters=2 , init='k-means++', random_state=0)\n",
    "y_kmeans= kmeans2.fit_predict(X)"
   ]
  },
  {
   "cell_type": "code",
   "execution_count": 9,
   "metadata": {},
   "outputs": [
    {
     "data": {
      "image/png": "[encoded data removed]",
      "text/plain": [
       "<Figure size 1000x600 with 1 Axes>"
      ]
     },
     "metadata": {},
     "output_type": "display_data"
    }
   ],
   "source": [
    "fig=plt.figure(figsize=(10,6))\n",
    "plt.scatter(X[y_kmeans == 0, 0], X[y_kmeans == 0, 1], s = 100, c = 'red', label='Bad Passers')\n",
    "plt.scatter(X[y_kmeans == 1, 0], X[y_kmeans == 1, 1], s = 100, c = 'blue', label='Good Passers')\n",
    "plt.title('Player Cluster', fontsize = 15)\n",
    "plt.xlabel('Assists')\n",
    "plt.ylabel('Goals')\n",
    "_ = plt.legend()"
   ]
  },
  {
   "cell_type": "markdown",
   "metadata": {},
   "source": [
    "We can see that the K-mean method separates the Players in two clusters: those above 11-12 assists. With this approach we can't really cluster the Players in different categories apart from: good passers and bad passers. Let's see with 4 clusters:"
   ]
  },
  {
   "cell_type": "markdown",
   "metadata": {},
   "source": [
    "### 1.5 K-Mean of 4 Clusters"
   ]
  },
  {
   "cell_type": "code",
   "execution_count": 10,
   "metadata": {},
   "outputs": [
    {
     "name": "stderr",
     "output_type": "stream",
     "text": [
      "c:\\Users\\danni\\.virtualenvs\\notebookdata-nHLWBBIB\\lib\\site-packages\\sklearn\\cluster\\_kmeans.py:1416: FutureWarning:\n",
      "\n",
      "The default value of `n_init` will change from 10 to 'auto' in 1.4. Set the value of `n_init` explicitly to suppress the warning\n",
      "\n"
     ]
    }
   ],
   "source": [
    "kmeans4 = KMeans(n_clusters=4 , init='k-means++', random_state=0)\n",
    "y_kmeans= kmeans4.fit_predict(X)"
   ]
  },
  {
   "cell_type": "code",
   "execution_count": 11,
   "metadata": {},
   "outputs": [
    {
     "data": {
      "image/png": "[encoded data removed]",
      "text/plain": [
       "<Figure size 1000x600 with 1 Axes>"
      ]
     },
     "metadata": {},
     "output_type": "display_data"
    }
   ],
   "source": [
    "fig=plt.figure(figsize=(10,6))\n",
    "plt.scatter(X[y_kmeans == 0, 0], X[y_kmeans == 0, 1], s = 100, c = 'green', label='All Rounder')\n",
    "plt.scatter(X[y_kmeans == 1, 0], X[y_kmeans == 1, 1], s = 100, c = 'blue', label = 'Assist Magician')\n",
    "plt.scatter(X[y_kmeans == 2, 0], X[y_kmeans == 2, 1], s = 100, c = 'red', label = 'Goal Unicorn')\n",
    "plt.scatter(X[y_kmeans == 3, 0], X[y_kmeans == 3, 1], s = 100, c = 'yellow', label = 'Contributer')\n",
    "plt.title('Player Cluster', fontsize = 15)\n",
    "plt.xlabel('Assists')\n",
    "plt.ylabel('Goals')\n",
    "_ = plt.legend()"
   ]
  },
  {
   "cell_type": "markdown",
   "metadata": {},
   "source": [
    "This time, using a 4 cluster K-mean, we see we have some distinct groups. They have been categorised as:\n",
    "\n",
    "1. Contributer: those players with a lower impact with few assists/goals.\n",
    "2. All Rounder: those players with an average contribution through goals and assists.\n",
    "3. Assist Magician: those players with more contribution through assists than goals.\n",
    "4. Goal Unicorn: those players with more contribution through goals than assists.\n",
    "\n",
    "With this clustering, it is interesting to see in which category falls each player:"
   ]
  },
  {
   "cell_type": "code",
   "execution_count": 12,
   "metadata": {},
   "outputs": [
    {
     "data": {
      "application/vnd.plotly.v1+json": {
       "config": {
        "plotlyServerURL": "https://plot.ly"
       },
       "data": [
        {
         "hovertemplate": "Category=Goal Unicorn<br>Assists=%{x}<br>Goals=%{y}<br>Name=%{text}<extra></extra>",
         "legendgroup": "Goal Unicorn",
         "marker": {
          "color": "#636efa",
          "symbol": "circle"
         },
         "mode": "markers+text",
         "name": "Goal Unicorn",
         "orientation": "v",
         "showlegend": true,
         "text": [
          "Messi",
          " Lewandowski",
          "Mbappé",
          "Ronaldo",
          "Immobile",
          "Werner",
          "Lukaku",
          "Ben Yedder"
         ],
         "textposition": "top center",
         "type": "scatter",
         "x": [
          12,
          3,
          5,
          3,
          7,
          7,
          2,
          4
         ],
         "xaxis": "x",
         "y": [
          19,
          25,
          18,
          21,
          27,
          21,
          17,
          18
         ],
         "yaxis": "y"
        },
        {
         "hovertemplate": "Category=All Rounder<br>Assists=%{x}<br>Goals=%{y}<br>Name=%{text}<extra></extra>",
         "legendgroup": "All Rounder",
         "marker": {
          "color": "#EF553B",
          "symbol": "circle"
         },
         "mode": "markers+text",
         "name": "All Rounder",
         "orientation": "v",
         "showlegend": true,
         "text": [
          "Neymar",
          " Ilicic",
          "Payet",
          "Gnabry",
          "Zapata",
          "Suárez",
          "Dzeko",
          "Reus",
          "Mané",
          "Berardi",
          "Salah",
          "Benzema",
          "Rashford",
          " Moreno"
         ],
         "textposition": "top center",
         "type": "scatter",
         "x": [
          6,
          5,
          4,
          9,
          5,
          7,
          4,
          5,
          7,
          5,
          6,
          6,
          4,
          3
         ],
         "xaxis": "x",
         "y": [
          13,
          15,
          9,
          11,
          11,
          11,
          12,
          11,
          14,
          9,
          16,
          14,
          14,
          11
         ],
         "yaxis": "y"
        },
        {
         "hovertemplate": "Category=Assist Magician<br>Assists=%{x}<br>Goals=%{y}<br>Name=%{text}<extra></extra>",
         "legendgroup": "Assist Magician",
         "marker": {
          "color": "#00cc96",
          "symbol": "circle"
         },
         "mode": "markers+text",
         "name": "Assist Magician",
         "orientation": "v",
         "showlegend": true,
         "text": [
          "De Bruyne",
          "Sancho",
          "Di María",
          "Alberto",
          "Mahrez",
          "Kostic",
          "Nkunku",
          " Gómez",
          " Hakimi",
          "Müller",
          "Thuram"
         ],
         "textposition": "top center",
         "type": "scatter",
         "x": [
          16,
          15,
          14,
          12,
          8,
          8,
          12,
          10,
          10,
          16,
          8
         ],
         "xaxis": "x",
         "y": [
          8,
          14,
          8,
          4,
          7,
          4,
          4,
          6,
          3,
          6,
          6
         ],
         "yaxis": "y"
        },
        {
         "hovertemplate": "Category=Contributer<br>Assists=%{x}<br>Goals=%{y}<br>Name=%{text}<extra></extra>",
         "legendgroup": "Contributer",
         "marker": {
          "color": "#ab63fa",
          "symbol": "circle"
         },
         "mode": "markers+text",
         "name": "Contributer",
         "orientation": "v",
         "showlegend": true,
         "text": [
          "Traoré",
          "Thiago",
          "Casemiro",
          "Davies",
          "Pereira",
          "Savanier",
          "Serdar",
          "Fekir",
          "Dybala",
          "Guerreiro",
          "Ndidi",
          "Merino",
          "Maddison",
          "kimmich",
          "Gueye",
          "Grealish",
          "Milinkovic-Savic"
         ],
         "textposition": "top center",
         "type": "scatter",
         "x": [
          7,
          0,
          2,
          4,
          2,
          2,
          0,
          3,
          4,
          2,
          1,
          1,
          3,
          4,
          2,
          6,
          4
         ],
         "xaxis": "x",
         "y": [
          4,
          3,
          3,
          1,
          3,
          6,
          7,
          7,
          7,
          5,
          2,
          3,
          6,
          2,
          1,
          7,
          4
         ],
         "yaxis": "y"
        }
       ],
       "layout": {
        "legend": {
         "title": {
          "text": "Category"
         },
         "tracegroupgap": 0
        },
        "template": {
         "data": {
          "bar": [
           {
            "error_x": {
             "color": "#2a3f5f"
            },
            "error_y": {
             "color": "#2a3f5f"
            },
            "marker": {
             "line": {
              "color": "#E5ECF6",
              "width": 0.5
             },
             "pattern": {
              "fillmode": "overlay",
              "size": 10,
              "solidity": 0.2
             }
            },
            "type": "bar"
           }
          ],
          "barpolar": [
           {
            "marker": {
             "line": {
              "color": "#E5ECF6",
              "width": 0.5
             },
             "pattern": {
              "fillmode": "overlay",
              "size": 10,
              "solidity": 0.2
             }
            },
            "type": "barpolar"
           }
          ],
          "carpet": [
           {
            "aaxis": {
             "endlinecolor": "#2a3f5f",
             "gridcolor": "white",
             "linecolor": "white",
             "minorgridcolor": "white",
             "startlinecolor": "#2a3f5f"
            },
            "baxis": {
             "endlinecolor": "#2a3f5f",
             "gridcolor": "white",
             "linecolor": "white",
             "minorgridcolor": "white",
             "startlinecolor": "#2a3f5f"
            },
            "type": "carpet"
           }
          ],
          "choropleth": [
           {
            "colorbar": {
             "outlinewidth": 0,
             "ticks": ""
            },
            "type": "choropleth"
           }
          ],
          "contour": [
           {
            "colorbar": {
             "outlinewidth": 0,
             "ticks": ""
            },
            "colorscale": [
             [
              0,
              "#0d0887"
             ],
             [
              0.1111111111111111,
              "#46039f"
             ],
             [
              0.2222222222222222,
              "#7201a8"
             ],
             [
              0.3333333333333333,
              "#9c179e"
             ],
             [
              0.4444444444444444,
              "#bd3786"
             ],
             [
              0.5555555555555556,
              "#d8576b"
             ],
             [
              0.6666666666666666,
              "#ed7953"
             ],
             [
              0.7777777777777778,
              "#fb9f3a"
             ],
             [
              0.8888888888888888,
              "#fdca26"
             ],
             [
              1,
              "#f0f921"
             ]
            ],
            "type": "contour"
           }
          ],
          "contourcarpet": [
           {
            "colorbar": {
             "outlinewidth": 0,
             "ticks": ""
            },
            "type": "contourcarpet"
           }
          ],
          "heatmap": [
           {
            "colorbar": {
             "outlinewidth": 0,
             "ticks": ""
            },
            "colorscale": [
             [
              0,
              "#0d0887"
             ],
             [
              0.1111111111111111,
              "#46039f"
             ],
             [
              0.2222222222222222,
              "#7201a8"
             ],
             [
              0.3333333333333333,
              "#9c179e"
             ],
             [
              0.4444444444444444,
              "#bd3786"
             ],
             [
              0.5555555555555556,
              "#d8576b"
             ],
             [
              0.6666666666666666,
              "#ed7953"
             ],
             [
              0.7777777777777778,
              "#fb9f3a"
             ],
             [
              0.8888888888888888,
              "#fdca26"
             ],
             [
              1,
              "#f0f921"
             ]
            ],
            "type": "heatmap"
           }
          ],
          "heatmapgl": [
           {
            "colorbar": {
             "outlinewidth": 0,
             "ticks": ""
            },
            "colorscale": [
             [
              0,
              "#0d0887"
             ],
             [
              0.1111111111111111,
              "#46039f"
             ],
             [
              0.2222222222222222,
              "#7201a8"
             ],
             [
              0.3333333333333333,
              "#9c179e"
             ],
             [
              0.4444444444444444,
              "#bd3786"
             ],
             [
              0.5555555555555556,
              "#d8576b"
             ],
             [
              0.6666666666666666,
              "#ed7953"
             ],
             [
              0.7777777777777778,
              "#fb9f3a"
             ],
             [
              0.8888888888888888,
              "#fdca26"
             ],
             [
              1,
              "#f0f921"
             ]
            ],
            "type": "heatmapgl"
           }
          ],
          "histogram": [
           {
            "marker": {
             "pattern": {
              "fillmode": "overlay",
              "size": 10,
              "solidity": 0.2
             }
            },
            "type": "histogram"
           }
          ],
          "histogram2d": [
           {
            "colorbar": {
             "outlinewidth": 0,
             "ticks": ""
            },
            "colorscale": [
             [
              0,
              "#0d0887"
             ],
             [
              0.1111111111111111,
              "#46039f"
             ],
             [
              0.2222222222222222,
              "#7201a8"
             ],
             [
              0.3333333333333333,
              "#9c179e"
             ],
             [
              0.4444444444444444,
              "#bd3786"
             ],
             [
              0.5555555555555556,
              "#d8576b"
             ],
             [
              0.6666666666666666,
              "#ed7953"
             ],
             [
              0.7777777777777778,
              "#fb9f3a"
             ],
             [
              0.8888888888888888,
              "#fdca26"
             ],
             [
              1,
              "#f0f921"
             ]
            ],
            "type": "histogram2d"
           }
          ],
          "histogram2dcontour": [
           {
            "colorbar": {
             "outlinewidth": 0,
             "ticks": ""
            },
            "colorscale": [
             [
              0,
              "#0d0887"
             ],
             [
              0.1111111111111111,
              "#46039f"
             ],
             [
              0.2222222222222222,
              "#7201a8"
             ],
             [
              0.3333333333333333,
              "#9c179e"
             ],
             [
              0.4444444444444444,
              "#bd3786"
             ],
             [
              0.5555555555555556,
              "#d8576b"
             ],
             [
              0.6666666666666666,
              "#ed7953"
             ],
             [
              0.7777777777777778,
              "#fb9f3a"
             ],
             [
              0.8888888888888888,
              "#fdca26"
             ],
             [
              1,
              "#f0f921"
             ]
            ],
            "type": "histogram2dcontour"
           }
          ],
          "mesh3d": [
           {
            "colorbar": {
             "outlinewidth": 0,
             "ticks": ""
            },
            "type": "mesh3d"
           }
          ],
          "parcoords": [
           {
            "line": {
             "colorbar": {
              "outlinewidth": 0,
              "ticks": ""
             }
            },
            "type": "parcoords"
           }
          ],
          "pie": [
           {
            "automargin": true,
            "type": "pie"
           }
          ],
          "scatter": [
           {
            "fillpattern": {
             "fillmode": "overlay",
             "size": 10,
             "solidity": 0.2
            },
            "type": "scatter"
           }
          ],
          "scatter3d": [
           {
            "line": {
             "colorbar": {
              "outlinewidth": 0,
              "ticks": ""
             }
            },
            "marker": {
             "colorbar": {
              "outlinewidth": 0,
              "ticks": ""
             }
            },
            "type": "scatter3d"
           }
          ],
          "scattercarpet": [
           {
            "marker": {
             "colorbar": {
              "outlinewidth": 0,
              "ticks": ""
             }
            },
            "type": "scattercarpet"
           }
          ],
          "scattergeo": [
           {
            "marker": {
             "colorbar": {
              "outlinewidth": 0,
              "ticks": ""
             }
            },
            "type": "scattergeo"
           }
          ],
          "scattergl": [
           {
            "marker": {
             "colorbar": {
              "outlinewidth": 0,
              "ticks": ""
             }
            },
            "type": "scattergl"
           }
          ],
          "scattermapbox": [
           {
            "marker": {
             "colorbar": {
              "outlinewidth": 0,
              "ticks": ""
             }
            },
            "type": "scattermapbox"
           }
          ],
          "scatterpolar": [
           {
            "marker": {
             "colorbar": {
              "outlinewidth": 0,
              "ticks": ""
             }
            },
            "type": "scatterpolar"
           }
          ],
          "scatterpolargl": [
           {
            "marker": {
             "colorbar": {
              "outlinewidth": 0,
              "ticks": ""
             }
            },
            "type": "scatterpolargl"
           }
          ],
          "scatterternary": [
           {
            "marker": {
             "colorbar": {
              "outlinewidth": 0,
              "ticks": ""
             }
            },
            "type": "scatterternary"
           }
          ],
          "surface": [
           {
            "colorbar": {
             "outlinewidth": 0,
             "ticks": ""
            },
            "colorscale": [
             [
              0,
              "#0d0887"
             ],
             [
              0.1111111111111111,
              "#46039f"
             ],
             [
              0.2222222222222222,
              "#7201a8"
             ],
             [
              0.3333333333333333,
              "#9c179e"
             ],
             [
              0.4444444444444444,
              "#bd3786"
             ],
             [
              0.5555555555555556,
              "#d8576b"
             ],
             [
              0.6666666666666666,
              "#ed7953"
             ],
             [
              0.7777777777777778,
              "#fb9f3a"
             ],
             [
              0.8888888888888888,
              "#fdca26"
             ],
             [
              1,
              "#f0f921"
             ]
            ],
            "type": "surface"
           }
          ],
          "table": [
           {
            "cells": {
             "fill": {
              "color": "#EBF0F8"
             },
             "line": {
              "color": "white"
             }
            },
            "header": {
             "fill": {
              "color": "#C8D4E3"
             },
             "line": {
              "color": "white"
             }
            },
            "type": "table"
           }
          ]
         },
         "layout": {
          "annotationdefaults": {
           "arrowcolor": "#2a3f5f",
           "arrowhead": 0,
           "arrowwidth": 1
          },
          "autotypenumbers": "strict",
          "coloraxis": {
           "colorbar": {
            "outlinewidth": 0,
            "ticks": ""
           }
          },
          "colorscale": {
           "diverging": [
            [
             0,
             "#8e0152"
            ],
            [
             0.1,
             "#c51b7d"
            ],
            [
             0.2,
             "#de77ae"
            ],
            [
             0.3,
             "#f1b6da"
            ],
            [
             0.4,
             "#fde0ef"
            ],
            [
             0.5,
             "#f7f7f7"
            ],
            [
             0.6,
             "#e6f5d0"
            ],
            [
             0.7,
             "#b8e186"
            ],
            [
             0.8,
             "#7fbc41"
            ],
            [
             0.9,
             "#4d9221"
            ],
            [
             1,
             "#276419"
            ]
           ],
           "sequential": [
            [
             0,
             "#0d0887"
            ],
            [
             0.1111111111111111,
             "#46039f"
            ],
            [
             0.2222222222222222,
             "#7201a8"
            ],
            [
             0.3333333333333333,
             "#9c179e"
            ],
            [
             0.4444444444444444,
             "#bd3786"
            ],
            [
             0.5555555555555556,
             "#d8576b"
            ],
            [
             0.6666666666666666,
             "#ed7953"
            ],
            [
             0.7777777777777778,
             "#fb9f3a"
            ],
            [
             0.8888888888888888,
             "#fdca26"
            ],
            [
             1,
             "#f0f921"
            ]
           ],
           "sequentialminus": [
            [
             0,
             "#0d0887"
            ],
            [
             0.1111111111111111,
             "#46039f"
            ],
            [
             0.2222222222222222,
             "#7201a8"
            ],
            [
             0.3333333333333333,
             "#9c179e"
            ],
            [
             0.4444444444444444,
             "#bd3786"
            ],
            [
             0.5555555555555556,
             "#d8576b"
            ],
            [
             0.6666666666666666,
             "#ed7953"
            ],
            [
             0.7777777777777778,
             "#fb9f3a"
            ],
            [
             0.8888888888888888,
             "#fdca26"
            ],
            [
             1,
             "#f0f921"
            ]
           ]
          },
          "colorway": [
           "#636efa",
           "#EF553B",
           "#00cc96",
           "#ab63fa",
           "#FFA15A",
           "#19d3f3",
           "#FF6692",
           "#B6E880",
           "#FF97FF",
           "#FECB52"
          ],
          "font": {
           "color": "#2a3f5f"
          },
          "geo": {
           "bgcolor": "white",
           "lakecolor": "white",
           "landcolor": "#E5ECF6",
           "showlakes": true,
           "showland": true,
           "subunitcolor": "white"
          },
          "hoverlabel": {
           "align": "left"
          },
          "hovermode": "closest",
          "mapbox": {
           "style": "light"
          },
          "paper_bgcolor": "white",
          "plot_bgcolor": "#E5ECF6",
          "polar": {
           "angularaxis": {
            "gridcolor": "white",
            "linecolor": "white",
            "ticks": ""
           },
           "bgcolor": "#E5ECF6",
           "radialaxis": {
            "gridcolor": "white",
            "linecolor": "white",
            "ticks": ""
           }
          },
          "scene": {
           "xaxis": {
            "backgroundcolor": "#E5ECF6",
            "gridcolor": "white",
            "gridwidth": 2,
            "linecolor": "white",
            "showbackground": true,
            "ticks": "",
            "zerolinecolor": "white"
           },
           "yaxis": {
            "backgroundcolor": "#E5ECF6",
            "gridcolor": "white",
            "gridwidth": 2,
            "linecolor": "white",
            "showbackground": true,
            "ticks": "",
            "zerolinecolor": "white"
           },
           "zaxis": {
            "backgroundcolor": "#E5ECF6",
            "gridcolor": "white",
            "gridwidth": 2,
            "linecolor": "white",
            "showbackground": true,
            "ticks": "",
            "zerolinecolor": "white"
           }
          },
          "shapedefaults": {
           "line": {
            "color": "#2a3f5f"
           }
          },
          "ternary": {
           "aaxis": {
            "gridcolor": "white",
            "linecolor": "white",
            "ticks": ""
           },
           "baxis": {
            "gridcolor": "white",
            "linecolor": "white",
            "ticks": ""
           },
           "bgcolor": "#E5ECF6",
           "caxis": {
            "gridcolor": "white",
            "linecolor": "white",
            "ticks": ""
           }
          },
          "title": {
           "x": 0.05
          },
          "xaxis": {
           "automargin": true,
           "gridcolor": "white",
           "linecolor": "white",
           "ticks": "",
           "title": {
            "standoff": 15
           },
           "zerolinecolor": "white",
           "zerolinewidth": 2
          },
          "yaxis": {
           "automargin": true,
           "gridcolor": "white",
           "linecolor": "white",
           "ticks": "",
           "title": {
            "standoff": 15
           },
           "zerolinecolor": "white",
           "zerolinewidth": 2
          }
         }
        },
        "title": {
         "text": "K-mean Clustering"
        },
        "xaxis": {
         "anchor": "y",
         "domain": [
          0,
          1
         ],
         "title": {
          "text": "Assists"
         }
        },
        "yaxis": {
         "anchor": "x",
         "domain": [
          0,
          1
         ],
         "title": {
          "text": "Goals"
         }
        }
       }
      }
     },
     "metadata": {},
     "output_type": "display_data"
    }
   ],
   "source": [
    "labels = kmeans4.labels_\n",
    "top50[\"label\"]=labels\n",
    "top50.loc[top50['label'] == 3, 'Category'] = 'Contributer'\n",
    "top50.loc[top50['label'] == 2, 'Category'] = 'Assist Magician'\n",
    "top50.loc[top50['label'] == 1, 'Category'] = 'Goal Unicorn'\n",
    "top50.loc[top50['label'] == 0, 'Category'] = 'All Rounder'\n",
    "\n",
    "fig = px.scatter(top50,x=\"Assists\",y=\"Goals\",color=\"Category\",text=\"Name\",title=\"K-mean Clustering\")\n",
    "fig.update_traces(textposition='top center')\n",
    "fig.show()"
   ]
  }
 ],
 "metadata": {
  "kernelspec": {
   "display_name": "Python 3",
   "language": "python",
   "name": "python3"
  },
  "language_info": {
   "codemirror_mode": {
    "name": "ipython",
    "version": 3
   },
   "file_extension": ".py",
   "mimetype": "text/x-python",
   "name": "python",
   "nbconvert_exporter": "python",
   "pygments_lexer": "ipython3",
   "version": "3.10.11"
  }
 },
 "nbformat": 4,
 "nbformat_minor": 2
}
